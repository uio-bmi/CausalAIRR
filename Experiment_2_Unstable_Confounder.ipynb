{
 "cells": [
  {
   "cell_type": "markdown",
   "metadata": {
    "collapsed": true
   },
   "source": [
    "# Experiment 2: Unstable Confounder\n",
    "\n",
    "In this experiment, we use a simplified causal graph consisting of three nodes: immune state, sex, and AIRR (same as Experiment 1). Here we change the distribution of the confounder between the training and test, and show how it influences the prediction performance.\n",
    "\n",
    "The set up is the same as in Experiment 1, except we change the p value in the binomial distribution of the confounder between training and test.\n",
    "\n",
    "Immune state is a binary variable and can have values `True` or `False` to indicate if an individual is diseased or healthy. Confounder (sex) also in this setting has two values. AIRR is a set of sequences simulated based on the values of the immune state and the confounder for the given individual.\n",
    "\n",
    "Steps:\n",
    "\n",
    "1. Simulate training and test dataset from a causal graph to include: confounder (sex, implemented by creating repertoires with different OLGA models), immune state (implemented by implanting a signal in the repertoire)\n",
    "\n",
    "2. Train an ML model (here: logistic regression on repertoires represented by the k-mer frequencies) on the train set and assess its performance on the test set in the presence of confounder where the confounder distribution changes between training and test.\n",
    "\n",
    "Software used: \n",
    "\n",
    "- DagSim for simulation of the causal graph; \n",
    "- immuneML v2.1 for implanting signal in AIRRs and for training and assessing machine learning classifiers; \n",
    "- OLGA for simulation of naive AIRRs"
   ]
  },
  {
   "cell_type": "markdown",
   "metadata": {},
   "source": [
    "## Step 1: AIRR simulation from a causal graph"
   ]
  },
  {
   "cell_type": "code",
   "execution_count": 1,
   "metadata": {},
   "outputs": [],
   "source": [
    "import os\n",
    "import yaml\n",
    "import dagsim.baseDS as ds\n",
    "import numpy as np\n",
    "from pathlib import Path\n",
    "from util.repertoire_util import make_olga_repertoire, load_iml_repertoire, make_AIRR_dataset, make_dataset\n",
    "from util.implanting import make_immune_signal, make_repertoire_without_signal, make_repertoire_with_signal\n",
    "from immuneML.util.PathBuilder import PathBuilder\n",
    "from immuneML.simulation.implants.Signal import Signal"
   ]
  },
  {
   "cell_type": "code",
   "execution_count": 2,
   "metadata": {},
   "outputs": [],
   "source": [
    "# remove results from the previous run\n",
    "\n",
    "import shutil\n",
    "\n",
    "if Path(\"./experiment2/\").is_dir():\n",
    "    shutil.rmtree(\"./experiment2/\")"
   ]
  },
  {
   "cell_type": "code",
   "execution_count": 3,
   "metadata": {},
   "outputs": [],
   "source": [
    "result_path = PathBuilder.build(\"./experiment2/data/\")\n",
    "\n",
    "train_example_count = 200\n",
    "test_example_count = 50\n",
    "\n",
    "# immune state: two binomial distributions depending on the confounder value with probability of success p\n",
    "immune_state_p_conf0 = 0.3 # for confounder = 0\n",
    "immune_state_p_conf1 = 0.5 # for confounder = 1\n",
    "\n",
    "# confounder: binomial distribution with probability of success p\n",
    "confounder_p_train = 0.5\n",
    "confounder_p_test = 0.25\n",
    "\n",
    "# other parameters\n",
    "repertoire_implanting_rate = 0.01 # percentage of repertoire sequences to include immune state signal\n",
    "sequence_count = 2000 # number of sequences in one repertoire"
   ]
  },
  {
   "cell_type": "code",
   "execution_count": 4,
   "metadata": {},
   "outputs": [],
   "source": [
    "# define functions to create immune state, confounder, and AIRR\n",
    "\n",
    "def get_immune_state(confounder: bool, p_conf0: float, p_conf1: float) -> bool:\n",
    "    return np.random.binomial(n=1, p=p_conf1) if confounder else np.random.binomial(n=1, p=p_conf0)\n",
    "    \n",
    "def get_confounder(p) -> bool:\n",
    "    return np.random.binomial(n=1, p=p)\n",
    "\n",
    "def get_repertoire(immune_state: bool, confounder: bool, confounder_name: str, path: Path, sequence_count: int, signal: Signal, seed: int, repertoire_implanting_rate: float) -> str:\n",
    "        \n",
    "    PathBuilder.build(path)    \n",
    "\n",
    "    # make olga repertoire by using one of two Olga models based on confounder value\n",
    "    naive_repertoire = make_olga_repertoire(confounder=confounder, confounder_name=confounder_name, path=path, sequence_count=sequence_count, seed=seed)\n",
    "    \n",
    "    # implant a signal in the repertoire based on the immune state\n",
    "    if immune_state:\n",
    "        repertoire = make_repertoire_with_signal(repertoire=naive_repertoire, signal=signal, result_path=path / \"immuneML_with_signal/\", repertoire_implanting_rate=repertoire_implanting_rate)\n",
    "    else:\n",
    "        repertoire = make_repertoire_without_signal(repertoire=naive_repertoire, signal_name=signal.id, result_path=path / \"immuneML_with_signal/\")\n",
    "\n",
    "    return repertoire.data_filename\n",
    "    "
   ]
  },
  {
   "cell_type": "code",
   "execution_count": 5,
   "metadata": {},
   "outputs": [],
   "source": [
    "# define the immune signal that will represent the immune state\n",
    "\n",
    "signal = make_immune_signal()\n",
    "\n",
    "# define nodes of the causal graph\n",
    "\n",
    "index_node = ds.Generic(name=\"index\", function=np.arange, size_field=\"stop\")\n",
    "\n",
    "confounder_node = ds.Generic(name=\"sex\", function=get_confounder, arguments={\"p\": confounder_p_train})\n",
    "\n",
    "immune_state_node = ds.Generic(name=\"immune_state\", function=get_immune_state, \n",
    "                               arguments={\"confounder\": confounder_node, \"p_conf0\": immune_state_p_conf0,\n",
    "                                         \"p_conf1\": immune_state_p_conf1})\n",
    "\n",
    "repertoire_node = ds.Generic(name=\"repertoire\", function=get_repertoire, \n",
    "                             arguments={\"immune_state\": immune_state_node, \"confounder\": confounder_node, \"confounder_name\": confounder_node.name,\n",
    "                                        \"path\": result_path / \"train\", \"sequence_count\": sequence_count, \"signal\": signal, \n",
    "                                        \"seed\": index_node, 'repertoire_implanting_rate': repertoire_implanting_rate})\n"
   ]
  },
  {
   "cell_type": "code",
   "execution_count": 6,
   "metadata": {},
   "outputs": [
    {
     "data": {
      "image/svg+xml": [
       "<?xml version=\"1.0\" encoding=\"UTF-8\" standalone=\"no\"?>\n",
       "<!DOCTYPE svg PUBLIC \"-//W3C//DTD SVG 1.1//EN\"\n",
       " \"http://www.w3.org/Graphics/SVG/1.1/DTD/svg11.dtd\">\n",
       "<!-- Generated by graphviz version 2.48.0 (0)\n",
       " -->\n",
       "<!-- Title: G Pages: 1 -->\n",
       "<svg width=\"226pt\" height=\"188pt\"\n",
       " viewBox=\"0.00 0.00 225.78 188.00\" xmlns=\"http://www.w3.org/2000/svg\" xmlns:xlink=\"http://www.w3.org/1999/xlink\">\n",
       "<g id=\"graph0\" class=\"graph\" transform=\"scale(1 1) rotate(0) translate(4 184)\">\n",
       "<title>G</title>\n",
       "<polygon fill=\"white\" stroke=\"transparent\" points=\"-4,4 -4,-184 221.78,-184 221.78,4 -4,4\"/>\n",
       "<!-- index -->\n",
       "<g id=\"node1\" class=\"node\">\n",
       "<title>index</title>\n",
       "<ellipse fill=\"none\" stroke=\"black\" cx=\"31.2\" cy=\"-90\" rx=\"31.4\" ry=\"18\"/>\n",
       "<text text-anchor=\"middle\" x=\"31.2\" y=\"-86.3\" font-family=\"Times,serif\" font-size=\"14.00\">index</text>\n",
       "</g>\n",
       "<!-- repertoire -->\n",
       "<g id=\"node4\" class=\"node\">\n",
       "<title>repertoire</title>\n",
       "<ellipse fill=\"none\" stroke=\"black\" cx=\"142.2\" cy=\"-18\" rx=\"46.29\" ry=\"18\"/>\n",
       "<text text-anchor=\"middle\" x=\"142.2\" y=\"-14.3\" font-family=\"Times,serif\" font-size=\"14.00\">repertoire</text>\n",
       "</g>\n",
       "<!-- index&#45;&gt;repertoire -->\n",
       "<g id=\"edge1\" class=\"edge\">\n",
       "<title>index&#45;&gt;repertoire</title>\n",
       "<path fill=\"none\" stroke=\"black\" d=\"M51.56,-76.16C67.98,-65.8 91.38,-51.05 110.29,-39.12\"/>\n",
       "<polygon fill=\"black\" stroke=\"black\" points=\"112.3,-41.99 118.89,-33.7 108.57,-36.07 112.3,-41.99\"/>\n",
       "</g>\n",
       "<!-- sex -->\n",
       "<g id=\"node2\" class=\"node\">\n",
       "<title>sex</title>\n",
       "<ellipse fill=\"none\" stroke=\"black\" cx=\"187.2\" cy=\"-162\" rx=\"27\" ry=\"18\"/>\n",
       "<text text-anchor=\"middle\" x=\"187.2\" y=\"-158.3\" font-family=\"Times,serif\" font-size=\"14.00\">sex</text>\n",
       "</g>\n",
       "<!-- immune_state -->\n",
       "<g id=\"node3\" class=\"node\">\n",
       "<title>immune_state</title>\n",
       "<ellipse fill=\"none\" stroke=\"black\" cx=\"142.2\" cy=\"-90\" rx=\"61.99\" ry=\"18\"/>\n",
       "<text text-anchor=\"middle\" x=\"142.2\" y=\"-86.3\" font-family=\"Times,serif\" font-size=\"14.00\">immune_state</text>\n",
       "</g>\n",
       "<!-- sex&#45;&gt;immune_state -->\n",
       "<g id=\"edge2\" class=\"edge\">\n",
       "<title>sex&#45;&gt;immune_state</title>\n",
       "<path fill=\"none\" stroke=\"black\" d=\"M176.99,-145.12C171.51,-136.59 164.62,-125.89 158.43,-116.25\"/>\n",
       "<polygon fill=\"black\" stroke=\"black\" points=\"161.35,-114.32 153,-107.8 155.46,-118.1 161.35,-114.32\"/>\n",
       "</g>\n",
       "<!-- sex&#45;&gt;repertoire -->\n",
       "<g id=\"edge3\" class=\"edge\">\n",
       "<title>sex&#45;&gt;repertoire</title>\n",
       "<path fill=\"none\" stroke=\"black\" d=\"M198.39,-145.58C210.15,-127.32 225.39,-96.32 213.2,-72 206.03,-57.7 192.96,-46.27 179.98,-37.74\"/>\n",
       "<polygon fill=\"black\" stroke=\"black\" points=\"181.44,-34.53 171.08,-32.3 177.79,-40.5 181.44,-34.53\"/>\n",
       "</g>\n",
       "<!-- immune_state&#45;&gt;repertoire -->\n",
       "<g id=\"edge4\" class=\"edge\">\n",
       "<title>immune_state&#45;&gt;repertoire</title>\n",
       "<path fill=\"none\" stroke=\"black\" d=\"M142.2,-71.7C142.2,-63.98 142.2,-54.71 142.2,-46.11\"/>\n",
       "<polygon fill=\"black\" stroke=\"black\" points=\"145.7,-46.1 142.2,-36.1 138.7,-46.1 145.7,-46.1\"/>\n",
       "</g>\n",
       "</g>\n",
       "</svg>\n"
      ],
      "text/plain": [
       "<graphviz.files.Source at 0x7fd86756a820>"
      ]
     },
     "execution_count": 6,
     "metadata": {},
     "output_type": "execute_result"
    }
   ],
   "source": [
    "# make a causal graph using DagSim and show it graphically\n",
    "\n",
    "graph = ds.Graph(name=\"graph_experiment_2\", list_nodes=[index_node, confounder_node, immune_state_node, repertoire_node])\n",
    "graph.draw()"
   ]
  },
  {
   "cell_type": "code",
   "execution_count": 7,
   "metadata": {},
   "outputs": [],
   "source": [
    "# simulate a dataset using the graph\n",
    "\n",
    "study_cohort_data = graph.simulate(num_samples=train_example_count, csv_name=str(result_path / \"train/study_cohort\"))\n"
   ]
  },
  {
   "cell_type": "code",
   "execution_count": 8,
   "metadata": {},
   "outputs": [],
   "source": [
    "# make an AIRR dataset from the generated repertoires to be used for training\n",
    "\n",
    "repertoires = [load_iml_repertoire(filepath=filepath) for filepath in study_cohort_data[\"repertoire\"]]\n",
    "\n",
    "train_dataset = make_dataset(repertoires=repertoires, path=result_path / 'train', dataset_name=\"experiment2_train\", \n",
    "                             signal_names=[signal.id, confounder_node.name])"
   ]
  },
  {
   "cell_type": "code",
   "execution_count": 9,
   "metadata": {},
   "outputs": [],
   "source": [
    "# make a test dataset\n",
    "\n",
    "repertoire_node.additional_parameters['path'] = result_path / 'test' # update result_path: to be removed with DagSim update\n",
    "confounder_node.additional_parameters['p'] = confounder_p_test # update the confounder distribution parameter for test\n",
    "\n",
    "test_data = graph.simulate(num_samples=test_example_count, csv_name=str(result_path / \"test/test_cohort\"))\n",
    "\n",
    "test_repertoires = [load_iml_repertoire(filepath=filepath) for filepath in test_data[\"repertoire\"]]\n",
    "\n",
    "test_dataset = make_dataset(repertoires=test_repertoires, path=result_path / 'test', \n",
    "                            dataset_name=\"experiment2_test\", signal_names=[signal.id, confounder_node.name])\n"
   ]
  },
  {
   "cell_type": "code",
   "execution_count": 10,
   "metadata": {},
   "outputs": [],
   "source": [
    "# merge datasets (but the distinction between train and test will be kept)\n",
    "\n",
    "dataset = make_AIRR_dataset(train_dataset, test_dataset, result_path / 'full_dataset')"
   ]
  },
  {
   "cell_type": "markdown",
   "metadata": {},
   "source": [
    "## Step 2: train an ML model and assess performance"
   ]
  },
  {
   "cell_type": "code",
   "execution_count": 11,
   "metadata": {},
   "outputs": [],
   "source": [
    "specs = {\n",
    "    \"definitions\": {\n",
    "        \"datasets\": {\n",
    "            \"dataset1\": {\n",
    "                \"format\": 'AIRR',\n",
    "                \"params\": {\n",
    "                    \"path\": str(result_path / 'full_dataset'),\n",
    "                    \"metadata_file\": str(result_path / 'full_dataset/metadata.csv')\n",
    "                }\n",
    "            }\n",
    "        },\n",
    "        \"encodings\": {\n",
    "            \"kmer_frequency\": {\n",
    "                \"KmerFrequency\": {\"k\": 3}\n",
    "            }\n",
    "        },\n",
    "        \"ml_methods\": {\n",
    "            \"logistic_regression\": {\n",
    "                \"LogisticRegression\": {\n",
    "                    \"penalty\": \"l1\",\n",
    "                    \"C\": [0.01, 0.1, 1, 10, 100],\n",
    "                },\n",
    "                \"model_selection_cv\": True,\n",
    "                \"model_selection_n_folds\": 5\n",
    "            }\n",
    "        },\n",
    "        \"reports\": {\n",
    "            \"training_performance\": { # report that will allow for comparison of train/test performance\n",
    "                \"TrainingPerformance\": {\n",
    "                    \"metrics\": [\"log_loss\", \"balanced_accuracy\", \"auc\"]\n",
    "                }\n",
    "            },\n",
    "            \"motif_recovery\": { # to check how much coefficients overlap with the immune state signal that was implanted\n",
    "                \"MotifSeedRecovery\": {\n",
    "                    \"implanted_motifs_per_label\": {\n",
    "                        \"immune_state\": {\n",
    "                            \"seeds\": [\"ADR\", \"ATS\"],\n",
    "                            \"hamming_distance\": True,\n",
    "                            \"gap_sizes\": [0] # no gaps\n",
    "                        }\n",
    "                    }\n",
    "                }\n",
    "            },\n",
    "            \"coefficients\": {\n",
    "                \"Coefficients\": { # show top 25 logistic regression coefficients and what k-mers they correspond to\n",
    "                    \"coefs_to_plot\": ['n_largest'],\n",
    "                    \"n_largest\": [25]\n",
    "                }\n",
    "            },\n",
    "            \"feature_comparison\": {\n",
    "                \"FeatureComparison\": {\n",
    "                    \"comparison_label\": \"immune_state\",\n",
    "#                     \"color_grouping_label\": \"sex\",\n",
    "                    \"show_error_bar\": False\n",
    "                }\n",
    "            }\n",
    "        }\n",
    "    },\n",
    "    \"instructions\": {\n",
    "        'train_ml': {\n",
    "            \"type\": \"TrainMLModel\",\n",
    "            \"assessment\": { # ensure here that train and test dataset are fixed, as per simulation\n",
    "                \"split_strategy\": \"manual\",\n",
    "                \"split_count\": 1,\n",
    "                \"manual_config\": {\n",
    "                    \"train_metadata_path\": str(result_path / \"train/experiment2_train_metadata.csv\"),\n",
    "                    \"test_metadata_path\": str(result_path / \"test/experiment2_test_metadata.csv\")\n",
    "                },\n",
    "                \"reports\": {\n",
    "                    \"models\": [\"training_performance\", \"coefficients\", \"motif_recovery\"],\n",
    "                    \"encoding\": [\"feature_comparison\"]\n",
    "                }\n",
    "            },\n",
    "            \"selection\": {\n",
    "                \"split_strategy\": \"random\",\n",
    "                \"train_percentage\": 0.7,\n",
    "                \"split_count\": 1,\n",
    "                \"reports\": {\n",
    "                    \"models\": [\"training_performance\", \"coefficients\", \"motif_recovery\"],\n",
    "                    \"encoding\": [\"feature_comparison\"]\n",
    "                }\n",
    "            },\n",
    "            \"settings\": [\n",
    "                {\"encoding\": \"kmer_frequency\", \"ml_method\": \"logistic_regression\"}\n",
    "            ],\n",
    "            \"dataset\": \"dataset1\",\n",
    "            \"refit_optimal_model\": False,\n",
    "            \"labels\": [\"immune_state\"],\n",
    "            \"optimization_metric\": \"log_loss\",\n",
    "            \"metrics\": ['balanced_accuracy', 'auc']\n",
    "        }\n",
    "    }\n",
    "}\n",
    "\n",
    "ml_result_path = PathBuilder.build(\"./experiment2/ml_result/\")\n",
    "specification_path = ml_result_path / \"specs.yaml\"\n",
    "\n",
    "with open(specification_path, \"w\") as file:\n",
    "    yaml.dump(specs, file)"
   ]
  },
  {
   "cell_type": "code",
   "execution_count": 12,
   "metadata": {},
   "outputs": [
    {
     "name": "stdout",
     "output_type": "stream",
     "text": [
      "2021-11-07 15:02:19.997253: Setting temporary cache path to experiment2/ml_result/result/cache\n",
      "2021-11-07 15:02:19.997295: ImmuneML: parsing the specification...\n",
      "\n",
      "2021-11-07 15:02:59.797700: Full specification is available at experiment2/ml_result/result/full_specs.yaml.\n",
      "\n",
      "2021-11-07 15:02:59.797785: ImmuneML: starting the analysis...\n",
      "\n",
      "2021-11-07 15:02:59.797823: Instruction 1/1 has started.\n",
      "2021-11-07 15:02:59.861258: Training ML model: running outer CV loop: started split 1/1.\n",
      "\n",
      "2021-11-07 15:02:59.903602: Hyperparameter optimization: running the inner loop of nested CV: selection for label immune_state (label 1 / 1).\n",
      "\n",
      "2021-11-07 15:02:59.904352: Evaluating hyperparameter setting: kmer_frequency_logistic_regression...\n",
      "2021-11-07 15:02:59.904616: Encoding started...\n",
      "2021-11-07 15:03:17.419863: Encoding finished.\n",
      "2021-11-07 15:03:17.420177: ML model training started...\n",
      "2021-11-07 15:04:10.428516: ML model training finished.\n",
      "2021-11-07 15:04:16.698070: Encoding started...\n"
     ]
    },
    {
     "name": "stderr",
     "output_type": "stream",
     "text": [
      "WARNING:root:KmerSequenceEncoder: Sequence length 2 is less than 3. Ignoring sequence...\n"
     ]
    },
    {
     "name": "stdout",
     "output_type": "stream",
     "text": [
      "2021-11-07 15:04:27.018896: Encoding finished.\n",
      "2021-11-07 15:04:31.529363: Completed hyperparameter setting kmer_frequency_logistic_regression.\n",
      "\n",
      "2021-11-07 15:04:31.530196: Hyperparameter optimization: running the inner loop of nested CV: completed selection for label immune_state (label 1 / 1).\n",
      "\n",
      "2021-11-07 15:04:31.530224: Training ML model: running the inner loop of nested CV: retrain models for label immune_state (label 1 / 1).\n",
      "\n",
      "2021-11-07 15:04:31.530712: Evaluating hyperparameter setting: kmer_frequency_logistic_regression...\n",
      "2021-11-07 15:04:31.530930: Encoding started...\n"
     ]
    },
    {
     "name": "stderr",
     "output_type": "stream",
     "text": [
      "WARNING:root:KmerSequenceEncoder: Sequence length 2 is less than 3. Ignoring sequence...\n"
     ]
    },
    {
     "name": "stdout",
     "output_type": "stream",
     "text": [
      "2021-11-07 15:04:46.430855: Encoding finished.\n",
      "2021-11-07 15:04:46.431116: ML model training started...\n",
      "2021-11-07 15:05:52.381983: ML model training finished.\n",
      "2021-11-07 15:05:59.666515: Encoding started...\n",
      "2021-11-07 15:06:09.166310: Encoding finished.\n",
      "2021-11-07 15:06:13.448657: Completed hyperparameter setting kmer_frequency_logistic_regression.\n",
      "\n",
      "2021-11-07 15:06:13.449818: Training ML model: running the inner loop of nested CV: completed retraining models for label immune_state (label 1 / 1).\n",
      "\n",
      "2021-11-07 15:06:13.449877: Training ML model: running outer CV loop: finished split 1/1.\n",
      "\n",
      "Performances (log_loss) -----------------------------------------------\n",
      "\n",
      "\n",
      "Label: immune_state\n",
      "Performance (log_loss) per assessment split:\n",
      "Split 1: 0.4768340410363062\n",
      "Average performance (log_loss): 0.4768340410363062\n",
      "------------------------------\n",
      "2021-11-07 15:06:13.907678: Instruction 1/1 has finished.\n",
      "2021-11-07 15:06:13.916343: Generating HTML reports...\n",
      "2021-11-07 15:06:14.238850: HTML reports are generated.\n",
      "2021-11-07 15:06:14.273114: ImmuneML: finished analysis.\n",
      "\n"
     ]
    },
    {
     "name": "stderr",
     "output_type": "stream",
     "text": [
      "/Users/milenpa/PycharmProjects/CausalAIRR/venv/lib/python3.8/site-packages/sklearn/linear_model/_sag.py:352: ConvergenceWarning: The max_iter was reached which means the coef_ did not converge\n",
      "  warnings.warn(\n",
      "/Users/milenpa/PycharmProjects/CausalAIRR/venv/lib/python3.8/site-packages/sklearn/linear_model/_sag.py:352: ConvergenceWarning: The max_iter was reached which means the coef_ did not converge\n",
      "  warnings.warn(\n",
      "/Users/milenpa/PycharmProjects/CausalAIRR/venv/lib/python3.8/site-packages/sklearn/linear_model/_sag.py:352: ConvergenceWarning: The max_iter was reached which means the coef_ did not converge\n",
      "  warnings.warn(\n",
      "/Users/milenpa/PycharmProjects/CausalAIRR/venv/lib/python3.8/site-packages/sklearn/linear_model/_sag.py:352: ConvergenceWarning: The max_iter was reached which means the coef_ did not converge\n",
      "  warnings.warn(\n",
      "/Users/milenpa/PycharmProjects/CausalAIRR/venv/lib/python3.8/site-packages/sklearn/linear_model/_sag.py:352: ConvergenceWarning: The max_iter was reached which means the coef_ did not converge\n",
      "  warnings.warn(\n",
      "/Users/milenpa/PycharmProjects/CausalAIRR/venv/lib/python3.8/site-packages/sklearn/linear_model/_sag.py:352: ConvergenceWarning: The max_iter was reached which means the coef_ did not converge\n",
      "  warnings.warn(\n",
      "/Users/milenpa/PycharmProjects/CausalAIRR/venv/lib/python3.8/site-packages/sklearn/linear_model/_sag.py:352: ConvergenceWarning: The max_iter was reached which means the coef_ did not converge\n",
      "  warnings.warn(\n",
      "/Users/milenpa/PycharmProjects/CausalAIRR/venv/lib/python3.8/site-packages/sklearn/linear_model/_sag.py:352: ConvergenceWarning: The max_iter was reached which means the coef_ did not converge\n",
      "  warnings.warn(\n",
      "/Users/milenpa/PycharmProjects/CausalAIRR/venv/lib/python3.8/site-packages/sklearn/linear_model/_sag.py:352: ConvergenceWarning: The max_iter was reached which means the coef_ did not converge\n",
      "  warnings.warn(\n",
      "/Users/milenpa/PycharmProjects/CausalAIRR/venv/lib/python3.8/site-packages/sklearn/linear_model/_sag.py:352: ConvergenceWarning: The max_iter was reached which means the coef_ did not converge\n",
      "  warnings.warn(\n",
      "/Users/milenpa/PycharmProjects/CausalAIRR/venv/lib/python3.8/site-packages/sklearn/linear_model/_sag.py:352: ConvergenceWarning: The max_iter was reached which means the coef_ did not converge\n",
      "  warnings.warn(\n",
      "/Users/milenpa/PycharmProjects/CausalAIRR/venv/lib/python3.8/site-packages/sklearn/linear_model/_sag.py:352: ConvergenceWarning: The max_iter was reached which means the coef_ did not converge\n",
      "  warnings.warn(\n",
      "/Users/milenpa/PycharmProjects/CausalAIRR/venv/lib/python3.8/site-packages/sklearn/linear_model/_sag.py:352: ConvergenceWarning: The max_iter was reached which means the coef_ did not converge\n",
      "  warnings.warn(\n",
      "/Users/milenpa/PycharmProjects/CausalAIRR/venv/lib/python3.8/site-packages/sklearn/linear_model/_sag.py:352: ConvergenceWarning: The max_iter was reached which means the coef_ did not converge\n",
      "  warnings.warn(\n",
      "/Users/milenpa/PycharmProjects/CausalAIRR/venv/lib/python3.8/site-packages/sklearn/linear_model/_sag.py:352: ConvergenceWarning: The max_iter was reached which means the coef_ did not converge\n",
      "  warnings.warn(\n",
      "/Users/milenpa/PycharmProjects/CausalAIRR/venv/lib/python3.8/site-packages/sklearn/linear_model/_sag.py:352: ConvergenceWarning: The max_iter was reached which means the coef_ did not converge\n",
      "  warnings.warn(\n",
      "/Users/milenpa/PycharmProjects/CausalAIRR/venv/lib/python3.8/site-packages/sklearn/linear_model/_sag.py:352: ConvergenceWarning: The max_iter was reached which means the coef_ did not converge\n",
      "  warnings.warn(\n",
      "/Users/milenpa/PycharmProjects/CausalAIRR/venv/lib/python3.8/site-packages/sklearn/linear_model/_sag.py:352: ConvergenceWarning: The max_iter was reached which means the coef_ did not converge\n",
      "  warnings.warn(\n",
      "/Users/milenpa/PycharmProjects/CausalAIRR/venv/lib/python3.8/site-packages/sklearn/linear_model/_sag.py:352: ConvergenceWarning: The max_iter was reached which means the coef_ did not converge\n",
      "  warnings.warn(\n",
      "/Users/milenpa/PycharmProjects/CausalAIRR/venv/lib/python3.8/site-packages/sklearn/linear_model/_sag.py:352: ConvergenceWarning: The max_iter was reached which means the coef_ did not converge\n",
      "  warnings.warn(\n",
      "/Users/milenpa/PycharmProjects/CausalAIRR/venv/lib/python3.8/site-packages/sklearn/linear_model/_sag.py:352: ConvergenceWarning: The max_iter was reached which means the coef_ did not converge\n",
      "  warnings.warn(\n",
      "/Users/milenpa/PycharmProjects/CausalAIRR/venv/lib/python3.8/site-packages/sklearn/linear_model/_sag.py:352: ConvergenceWarning: The max_iter was reached which means the coef_ did not converge\n",
      "  warnings.warn(\n",
      "/Users/milenpa/PycharmProjects/CausalAIRR/venv/lib/python3.8/site-packages/sklearn/linear_model/_sag.py:352: ConvergenceWarning: The max_iter was reached which means the coef_ did not converge\n",
      "  warnings.warn(\n",
      "/Users/milenpa/PycharmProjects/CausalAIRR/venv/lib/python3.8/site-packages/sklearn/linear_model/_sag.py:352: ConvergenceWarning: The max_iter was reached which means the coef_ did not converge\n",
      "  warnings.warn(\n",
      "/Users/milenpa/PycharmProjects/CausalAIRR/venv/lib/python3.8/site-packages/sklearn/linear_model/_sag.py:352: ConvergenceWarning: The max_iter was reached which means the coef_ did not converge\n",
      "  warnings.warn(\n",
      "/Users/milenpa/PycharmProjects/CausalAIRR/venv/lib/python3.8/site-packages/sklearn/linear_model/_sag.py:352: ConvergenceWarning: The max_iter was reached which means the coef_ did not converge\n",
      "  warnings.warn(\n",
      "/Users/milenpa/PycharmProjects/CausalAIRR/venv/lib/python3.8/site-packages/sklearn/linear_model/_sag.py:352: ConvergenceWarning: The max_iter was reached which means the coef_ did not converge\n",
      "  warnings.warn(\n",
      "/Users/milenpa/PycharmProjects/CausalAIRR/venv/lib/python3.8/site-packages/sklearn/linear_model/_sag.py:352: ConvergenceWarning: The max_iter was reached which means the coef_ did not converge\n",
      "  warnings.warn(\n",
      "/Users/milenpa/PycharmProjects/CausalAIRR/venv/lib/python3.8/site-packages/sklearn/linear_model/_sag.py:352: ConvergenceWarning: The max_iter was reached which means the coef_ did not converge\n",
      "  warnings.warn(\n",
      "/Users/milenpa/PycharmProjects/CausalAIRR/venv/lib/python3.8/site-packages/sklearn/linear_model/_sag.py:352: ConvergenceWarning: The max_iter was reached which means the coef_ did not converge\n",
      "  warnings.warn(\n",
      "/Users/milenpa/PycharmProjects/CausalAIRR/venv/lib/python3.8/site-packages/sklearn/linear_model/_sag.py:352: ConvergenceWarning: The max_iter was reached which means the coef_ did not converge\n",
      "  warnings.warn(\n",
      "/Users/milenpa/PycharmProjects/CausalAIRR/venv/lib/python3.8/site-packages/sklearn/linear_model/_sag.py:352: ConvergenceWarning: The max_iter was reached which means the coef_ did not converge\n",
      "  warnings.warn(\n",
      "/Users/milenpa/PycharmProjects/CausalAIRR/venv/lib/python3.8/site-packages/sklearn/linear_model/_sag.py:352: ConvergenceWarning: The max_iter was reached which means the coef_ did not converge\n",
      "  warnings.warn(\n",
      "/Users/milenpa/PycharmProjects/CausalAIRR/venv/lib/python3.8/site-packages/sklearn/linear_model/_sag.py:352: ConvergenceWarning: The max_iter was reached which means the coef_ did not converge\n",
      "  warnings.warn(\n",
      "/Users/milenpa/PycharmProjects/CausalAIRR/venv/lib/python3.8/site-packages/sklearn/linear_model/_sag.py:352: ConvergenceWarning: The max_iter was reached which means the coef_ did not converge\n",
      "  warnings.warn(\n",
      "/Users/milenpa/PycharmProjects/CausalAIRR/venv/lib/python3.8/site-packages/sklearn/linear_model/_sag.py:352: ConvergenceWarning: The max_iter was reached which means the coef_ did not converge\n",
      "  warnings.warn(\n",
      "/Users/milenpa/PycharmProjects/CausalAIRR/venv/lib/python3.8/site-packages/sklearn/linear_model/_sag.py:352: ConvergenceWarning: The max_iter was reached which means the coef_ did not converge\n",
      "  warnings.warn(\n",
      "/Users/milenpa/PycharmProjects/CausalAIRR/venv/lib/python3.8/site-packages/sklearn/linear_model/_sag.py:352: ConvergenceWarning: The max_iter was reached which means the coef_ did not converge\n",
      "  warnings.warn(\n",
      "/Users/milenpa/PycharmProjects/CausalAIRR/venv/lib/python3.8/site-packages/sklearn/linear_model/_sag.py:352: ConvergenceWarning: The max_iter was reached which means the coef_ did not converge\n",
      "  warnings.warn(\n",
      "/Users/milenpa/PycharmProjects/CausalAIRR/venv/lib/python3.8/site-packages/sklearn/linear_model/_sag.py:352: ConvergenceWarning: The max_iter was reached which means the coef_ did not converge\n",
      "  warnings.warn(\n"
     ]
    },
    {
     "data": {
      "text/plain": [
       "0"
      ]
     },
     "execution_count": 12,
     "metadata": {},
     "output_type": "execute_result"
    }
   ],
   "source": [
    "# run immuneML with the specs file\n",
    "\n",
    "output_path = ml_result_path / \"result/\"\n",
    "\n",
    "os.system(f\"immune-ml {specification_path} {output_path}\")\n"
   ]
  },
  {
   "cell_type": "code",
   "execution_count": null,
   "metadata": {},
   "outputs": [],
   "source": []
  }
 ],
 "metadata": {
  "kernelspec": {
   "display_name": "Python 3 (ipykernel)",
   "language": "python",
   "name": "python3"
  },
  "language_info": {
   "codemirror_mode": {
    "name": "ipython",
    "version": 3
   },
   "file_extension": ".py",
   "mimetype": "text/x-python",
   "name": "python",
   "nbconvert_exporter": "python",
   "pygments_lexer": "ipython3",
   "version": "3.8.3"
  },
  "varInspector": {
   "cols": {
    "lenName": 16,
    "lenType": 16,
    "lenVar": 40
   },
   "kernels_config": {
    "python": {
     "delete_cmd_postfix": "",
     "delete_cmd_prefix": "del ",
     "library": "var_list.py",
     "varRefreshCmd": "print(var_dic_list())"
    },
    "r": {
     "delete_cmd_postfix": ") ",
     "delete_cmd_prefix": "rm(",
     "library": "var_list.r",
     "varRefreshCmd": "cat(var_dic_list()) "
    }
   },
   "types_to_exclude": [
    "module",
    "function",
    "builtin_function_or_method",
    "instance",
    "_Feature"
   ],
   "window_display": false
  }
 },
 "nbformat": 4,
 "nbformat_minor": 1
}
