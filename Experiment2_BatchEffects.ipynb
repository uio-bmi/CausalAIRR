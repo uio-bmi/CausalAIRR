{
 "cells": [
  {
   "cell_type": "markdown",
   "metadata": {
    "collapsed": true
   },
   "source": [
    "# Experiment 2: influence of an experimental protocol on the immune state prediction"
   ]
  },
  {
   "cell_type": "code",
   "execution_count": 1,
   "metadata": {},
   "outputs": [],
   "source": [
    "from util.implanting import make_immune_signal, make_exp_protocol_signal\n",
    "\n",
    "# make immune state signal:\n",
    "\n",
    "immune_state_signal = make_immune_signal()\n",
    "\n",
    "# make experimental protocol signal (two signals for two experimental protocols):\n",
    "\n",
    "exp_protocol1_signal = make_exp_protocol_signal(protocol_id=1)\n",
    "exp_protocol2_signal = make_exp_protocol_signal(protocol_id=2)\n"
   ]
  },
  {
   "cell_type": "code",
   "execution_count": 2,
   "metadata": {},
   "outputs": [],
   "source": [
    "import os\n",
    "import dagsim.baseDS as ds\n",
    "import numpy as np\n",
    "import uuid\n",
    "from pathlib import Path\n",
    "from util.load_repertoire import load_olga_repertoire, load_iml_repertoire\n",
    "from util.implanting import make_immune_signal, make_repertoire_with_signal\n",
    "from immuneML.util.PathBuilder import PathBuilder\n",
    "from util.implanting import make_repertoire_without_signal\n",
    "from util.implanting import make_AIRR_dataset\n",
    "\n",
    "# os.chdir(\"./simData\")\n",
    "result_path = PathBuilder.build(\"./data/implanted/\")"
   ]
  },
  {
   "cell_type": "code",
   "execution_count": 3,
   "metadata": {
    "pycharm": {
     "name": "#%%\n"
    }
   },
   "outputs": [],
   "source": [
    "def get_state():\n",
    "    return np.random.binomial(n=1, p=0.5)\n",
    "\n",
    "def get_protocol(state):\n",
    "    return np.random.binomial(n=1, p=0.5) if state==1 else np.random.binomial(n=1, p=0.2)\n",
    "\n",
    "def generate_repertoire(state, protocol, seed, exp: str):\n",
    "    uid = str(uuid.uuid4())\n",
    "    # path = \"healthy\" if state==1 else \"disease\"\n",
    "\n",
    "    PathBuilder.build('./data/olga/')\n",
    "\n",
    "    os.system(\"olga-generate_sequences --humanTRB -n 1000 -o ./data/olga/\" + uid + \".tsv --seed=\" + str(seed))\n",
    "\n",
    "    rep = load_olga_repertoire(filepath=Path(\"./data/olga/\" + uid + \".tsv\"), result_path=Path(\"./data/\" + exp + \"/immuneML_format/\"))\n",
    "\n",
    "    if state == 0:\n",
    "        rep = make_repertoire_without_signal(repertoire=rep, signal_name=immune_state_signal.id, path=result_path)\n",
    "    else:\n",
    "        rep = make_repertoire_with_signal(rep, immune_state_signal, result_path)\n",
    "\n",
    "    if protocol == 0:\n",
    "        make_repertoire_with_signal(rep, exp_protocol1_signal, result_path)\n",
    "    else:\n",
    "        make_repertoire_with_signal(rep, exp_protocol2_signal, result_path)\n",
    "\n",
    "    return uid"
   ]
  },
  {
   "cell_type": "markdown",
   "source": [
    "## Exp2a"
   ],
   "metadata": {
    "collapsed": false,
    "pycharm": {
     "name": "#%% md\n"
    }
   }
  },
  {
   "cell_type": "code",
   "execution_count": 4,
   "metadata": {
    "pycharm": {
     "name": "#%%\n"
    }
   },
   "outputs": [],
   "source": [
    "exp = \"Exp2a\"\n",
    "\n",
    "Index = ds.Generic(name=\"index\", function=np.arange, size_field=\"stop\")\n",
    "ImmuneState = ds.Generic(name=\"state\", function=get_state)\n",
    "Protocol = ds.Generic(name=\"protocol\", function=get_protocol, arguments={\"state\": ImmuneState})\n",
    "Repertoire = ds.Generic(name=\"repertoire\", function=generate_repertoire, arguments={\"state\": ImmuneState, \"protocol\": Protocol, \"seed\": Index, \"exp\": exp})"
   ]
  },
  {
   "cell_type": "code",
   "execution_count": 5,
   "outputs": [
    {
     "name": "stdout",
     "output_type": "stream",
     "text": [
      "Starting sequence generation... \n",
      "Completed generating all 1000 sequences in 0.10 seconds.\n",
      "Starting sequence generation... \n",
      "Completed generating all 1000 sequences in 0.08 seconds.\n",
      "Starting sequence generation... \n",
      "Completed generating all 1000 sequences in 0.08 seconds.\n",
      "Starting sequence generation... \n",
      "Completed generating all 1000 sequences in 0.09 seconds.\n",
      "Starting sequence generation... \n",
      "Completed generating all 1000 sequences in 0.10 seconds.\n",
      "Starting sequence generation... \n",
      "Completed generating all 1000 sequences in 0.08 seconds.\n",
      "Starting sequence generation... \n",
      "Completed generating all 1000 sequences in 0.08 seconds.\n",
      "Starting sequence generation... \n",
      "Completed generating all 1000 sequences in 0.08 seconds.\n",
      "Starting sequence generation... \n",
      "Completed generating all 1000 sequences in 0.08 seconds.\n",
      "Starting sequence generation... \n",
      "Completed generating all 1000 sequences in 0.10 seconds.\n"
     ]
    }
   ],
   "source": [
    "CAIRR_graph_a = ds.Graph(name=\"CAIRR_graph_2a\", list_nodes=[Index, Protocol, ImmuneState, Repertoire])\n",
    "CAIRR_data_a = CAIRR_graph_a.simulate(num_samples=10, csv_name=\"CAIRR_data_2a\")\n"
   ],
   "metadata": {
    "collapsed": false,
    "pycharm": {
     "name": "#%%\n"
    }
   }
  },
  {
   "cell_type": "code",
   "execution_count": 6,
   "metadata": {
    "pycharm": {
     "name": "#%%\n"
    }
   },
   "outputs": [
    {
     "name": "stdout",
     "output_type": "stream",
     "text": [
      "Dataset id: e05deba6b9d74cde8445bca244f45c2a, dataset name: Exp2a, number of repertoires: 10\n"
     ]
    }
   ],
   "source": [
    "dataset = make_AIRR_dataset(repertoires=[load_iml_repertoire(filepath=Path(\"./data/\" + exp + \"/immuneML_format/repertoires/\"), identifier=id) for id in CAIRR_data_a[\"repertoire\"]],\n",
    "                            path=Path(\"./data/exported/\"),\n",
    "                            dataset_name=exp, signal_names=[immune_state_signal.id])\n",
    "\n",
    "print(f\"Dataset id: {dataset.identifier}, dataset name: {dataset.name}, number of repertoires: {dataset.get_example_count()}\")\n"
   ]
  },
  {
   "cell_type": "markdown",
   "source": [
    "## Exp2b"
   ],
   "metadata": {
    "collapsed": false,
    "pycharm": {
     "name": "#%% md\n"
    }
   }
  },
  {
   "cell_type": "code",
   "execution_count": 7,
   "outputs": [],
   "source": [
    "exp = \"Exp2b\"\n",
    "\n",
    "Protocol = ds.Generic(name=\"protocol\", function=get_protocol, arguments={\"state\": None})\n",
    "Repertoire = ds.Generic(name=\"repertoire\", function=generate_repertoire, arguments={\"state\": ImmuneState, \"protocol\": Protocol, \"seed\": Index, \"exp\": exp})"
   ],
   "metadata": {
    "collapsed": false,
    "pycharm": {
     "name": "#%%\n"
    }
   }
  },
  {
   "cell_type": "code",
   "execution_count": 8,
   "outputs": [
    {
     "name": "stdout",
     "output_type": "stream",
     "text": [
      "Starting sequence generation... \n",
      "Completed generating all 1000 sequences in 0.08 seconds.\n",
      "Starting sequence generation... \n",
      "Completed generating all 1000 sequences in 0.08 seconds.\n",
      "Starting sequence generation... \n",
      "Completed generating all 1000 sequences in 0.08 seconds.\n",
      "Starting sequence generation... \n",
      "Completed generating all 1000 sequences in 0.08 seconds.\n",
      "Starting sequence generation... \n",
      "Completed generating all 1000 sequences in 0.08 seconds.\n",
      "Starting sequence generation... \n",
      "Completed generating all 1000 sequences in 0.08 seconds.\n",
      "Starting sequence generation... \n",
      "Completed generating all 1000 sequences in 0.08 seconds.\n",
      "Starting sequence generation... \n",
      "Completed generating all 1000 sequences in 0.08 seconds.\n",
      "Starting sequence generation... \n",
      "Completed generating all 1000 sequences in 0.07 seconds.\n",
      "Starting sequence generation... \n",
      "Completed generating all 1000 sequences in 0.08 seconds.\n"
     ]
    }
   ],
   "source": [
    "CAIRR_graph_b = ds.Graph(name=\"CAIRR_graph_2b\", list_nodes=[Index, Protocol, ImmuneState, Repertoire])\n",
    "CAIRR_data_b = CAIRR_graph_b.simulate(num_samples=10, csv_name=\"CAIRR_data_2b\")\n"
   ],
   "metadata": {
    "collapsed": false,
    "pycharm": {
     "name": "#%%\n"
    }
   }
  },
  {
   "cell_type": "code",
   "execution_count": 9,
   "outputs": [
    {
     "name": "stdout",
     "output_type": "stream",
     "text": [
      "Dataset id: 37904b13104e4d7981f53c3b6c3e042a, dataset name: Exp2b, number of repertoires: 10\n"
     ]
    }
   ],
   "source": [
    "dataset = make_AIRR_dataset(repertoires=[load_iml_repertoire(filepath=Path(\"./data/\" + exp + \"/immuneML_format/repertoires/\"), identifier=id) for id in CAIRR_data_b[\"repertoire\"]],\n",
    "                            path=Path(\"./data/exported/\"),\n",
    "                            dataset_name=exp, signal_names=[immune_state_signal.id])\n",
    "\n",
    "print(f\"Dataset id: {dataset.identifier}, dataset name: {dataset.name}, number of repertoires: {dataset.get_example_count()}\")\n",
    "\n"
   ],
   "metadata": {
    "collapsed": false,
    "pycharm": {
     "name": "#%%\n"
    }
   }
  }
 ],
 "metadata": {
  "kernelspec": {
   "display_name": "Python 3 (ipykernel)",
   "language": "python",
   "name": "python3"
  },
  "language_info": {
   "codemirror_mode": {
    "name": "ipython",
    "version": 3
   },
   "file_extension": ".py",
   "mimetype": "text/x-python",
   "name": "python",
   "nbconvert_exporter": "python",
   "pygments_lexer": "ipython3",
   "version": "3.8.10"
  },
  "varInspector": {
   "cols": {
    "lenName": 16,
    "lenType": 16,
    "lenVar": 40
   },
   "kernels_config": {
    "python": {
     "delete_cmd_postfix": "",
     "delete_cmd_prefix": "del ",
     "library": "var_list.py",
     "varRefreshCmd": "print(var_dic_list())"
    },
    "r": {
     "delete_cmd_postfix": ") ",
     "delete_cmd_prefix": "rm(",
     "library": "var_list.r",
     "varRefreshCmd": "cat(var_dic_list()) "
    }
   },
   "types_to_exclude": [
    "module",
    "function",
    "builtin_function_or_method",
    "instance",
    "_Feature"
   ],
   "window_display": false
  }
 },
 "nbformat": 4,
 "nbformat_minor": 1
}