{
 "cells": [
  {
   "cell_type": "markdown",
   "source": [
    "# OLGA\n",
    "\n",
    "OLGA is used to simulate repertoires and confounders.\n",
    "\n",
    "OLGA repository: https://github.com/statbiophys/OLGA/tree/master/olga\n",
    "\n",
    "Running OLGA from the command line with the default model to simulate TCRbeta:\n",
    "\n",
    "```\n",
    "olga-generate_sequences --humanTRB -n 1000 -o rep_1.tsv --seed=1\n",
    "```\n",
    "\n",
    "Running OLGA from the command line with the custom model:\n",
    "\n",
    "```\n",
    "olga-generate_sequences -n 1000 -o rep_1.tsv --seed=1 --set_custom_model_VDJ ./path_to_model_folder/\n",
    "```\n",
    "\n",
    "The custom model is located under ./olga_model_removed_TRBV5_1/."
   ],
   "metadata": {
    "collapsed": false
   }
  },
  {
   "cell_type": "markdown",
   "source": [
    "# immuneML\n",
    "\n",
    "immuneML is used to load the repertoire and implant signals in the repertoires, to simulate the immune state.\n"
   ],
   "metadata": {
    "collapsed": false
   }
  },
  {
   "cell_type": "code",
   "execution_count": 1,
   "outputs": [],
   "source": [
    "import os\n",
    "import dagsim.baseDS as ds\n",
    "import numpy as np\n",
    "import uuid\n",
    "from pathlib import Path\n",
    "from util.load_repertoire import load_olga_repertoire, load_iml_repertoire\n",
    "from util.implanting import make_immune_signal, make_repertoire_with_signal\n",
    "from immuneML.util.PathBuilder import PathBuilder\n",
    "from util.implanting import make_repertoire_without_signal\n",
    "from util.implanting import make_AIRR_dataset\n",
    "\n",
    "# os.chdir(\"./simData\")\n",
    "result_path = PathBuilder.build(\"./data/implanted/\")\n",
    "signal = make_immune_signal()"
   ],
   "metadata": {
    "collapsed": false,
    "pycharm": {
     "name": "#%%\n"
    }
   }
  },
  {
   "cell_type": "code",
   "execution_count": 2,
   "outputs": [],
   "source": [
    "def get_state(location, age):\n",
    "    if location == 0 and age==0:\n",
    "        return bool(np.random.binomial(1, 0.8))\n",
    "    elif location == 0 and age==1:\n",
    "        return bool(np.random.binomial(1, 0.2))\n",
    "    elif location == 1 and age==0:\n",
    "        return bool(np.random.binomial(1, 0.3))\n",
    "    else:\n",
    "        return bool(np.random.binomial(1, 0.9))\n",
    "\n",
    "\n",
    "def select(location, age):\n",
    "    if location == 0 and age==0:\n",
    "        return bool(np.random.binomial(1, 0.8))\n",
    "    elif location == 0 and age==1:\n",
    "        return bool(np.random.binomial(1, 0.2))\n",
    "    elif location == 1 and age==0:\n",
    "        return bool(np.random.binomial(1, 0.3))\n",
    "    else:\n",
    "        return bool(np.random.binomial(1, 0.9))\n",
    "\n",
    "\n",
    "def generate_repertoire(state, location, age, seed):\n",
    "    uid = str(uuid.uuid4())\n",
    "    # path = \"healthy\" if state==1 else \"disease\"\n",
    "\n",
    "    PathBuilder.build('./data/olga/')\n",
    "\n",
    "    if age==0:\n",
    "        num_seq = \"1000\"\n",
    "    else:\n",
    "        num_seq = \"800\"\n",
    "\n",
    "    if location==1:\n",
    "        os.system(\"olga-generate_sequences --humanTRB -n \" + num_seq + \" -o ./data/olga/\" + uid + \".tsv --seed=\" + str(seed))\n",
    "    else:\n",
    "        os.system(\"olga-generate_sequences -n \" + num_seq + \" -o ./data/olga/\" + uid + \".tsv --seed=\" + str(seed) + \" --set_custom_model_VDJ ./olga_model_removed_TRBV5_1\")\n",
    "\n",
    "\n",
    "    rep = load_olga_repertoire(filepath=Path(\"./data/olga/\" + uid + \".tsv\"), result_path=Path(\"./data/Exp3/immuneML_format/\"))\n",
    "\n",
    "    if state==0:\n",
    "        make_repertoire_without_signal(repertoire=rep, signal_name=signal.id, path=result_path)\n",
    "    else:\n",
    "        make_repertoire_with_signal(rep, signal, result_path)\n",
    "\n",
    "    return uid"
   ],
   "metadata": {
    "collapsed": false,
    "pycharm": {
     "name": "#%%\n"
    }
   }
  },
  {
   "cell_type": "code",
   "execution_count": 3,
   "outputs": [],
   "source": [
    "Index = ds.Generic(name=\"index\", function=np.arange, size_field=\"stop\")\n",
    "Location = ds.Generic(name=\"location\", function=np.random.binomial, arguments={\"n\": 1, \"p\":0.5})\n",
    "Age = ds.Generic(name=\"age\", function=np.random.binomial, arguments={\"n\": 1, \"p\":0.5})\n",
    "ImmuneState = ds.Generic(name=\"state\", function=get_state, arguments={\"location\": Location, \"age\": Age})\n",
    "Repertoire = ds.Generic(name=\"repertoire\", function=generate_repertoire, arguments={\"state\": ImmuneState, \"location\": Location, \"age\": Age, \"seed\": Index})\n",
    "Selection = ds.Selection(name=\"S\", function=select, arguments={\"location\": Location, \"age\": Age})"
   ],
   "metadata": {
    "collapsed": false,
    "pycharm": {
     "name": "#%%\n"
    }
   }
  },
  {
   "cell_type": "code",
   "execution_count": 1,
   "outputs": [
    {
     "ename": "NameError",
     "evalue": "name 'ds' is not defined",
     "output_type": "error",
     "traceback": [
      "\u001B[0;31m---------------------------------------------------------------------------\u001B[0m",
      "\u001B[0;31mNameError\u001B[0m                                 Traceback (most recent call last)",
      "\u001B[0;32m/tmp/ipykernel_63897/3806212134.py\u001B[0m in \u001B[0;36m<module>\u001B[0;34m\u001B[0m\n\u001B[0;32m----> 1\u001B[0;31m \u001B[0mCAIRR_graph\u001B[0m \u001B[0;34m=\u001B[0m \u001B[0mds\u001B[0m\u001B[0;34m.\u001B[0m\u001B[0mGraph\u001B[0m\u001B[0;34m(\u001B[0m\u001B[0mname\u001B[0m\u001B[0;34m=\u001B[0m\u001B[0;34m\"CAIRR_graph_3\"\u001B[0m\u001B[0;34m,\u001B[0m \u001B[0mlist_nodes\u001B[0m\u001B[0;34m=\u001B[0m\u001B[0;34m[\u001B[0m\u001B[0mLocation\u001B[0m\u001B[0;34m,\u001B[0m \u001B[0mAge\u001B[0m\u001B[0;34m,\u001B[0m \u001B[0mImmuneState\u001B[0m\u001B[0;34m,\u001B[0m \u001B[0mRepertoire\u001B[0m\u001B[0;34m,\u001B[0m \u001B[0mIndex\u001B[0m\u001B[0;34m,\u001B[0m \u001B[0mSelection\u001B[0m\u001B[0;34m]\u001B[0m\u001B[0;34m)\u001B[0m\u001B[0;34m\u001B[0m\u001B[0;34m\u001B[0m\u001B[0m\n\u001B[0m\u001B[1;32m      2\u001B[0m \u001B[0mCAIRR_data\u001B[0m \u001B[0;34m=\u001B[0m \u001B[0mCAIRR_graph\u001B[0m\u001B[0;34m.\u001B[0m\u001B[0msimulate\u001B[0m\u001B[0;34m(\u001B[0m\u001B[0mnum_samples\u001B[0m\u001B[0;34m=\u001B[0m\u001B[0;36m10\u001B[0m\u001B[0;34m,\u001B[0m \u001B[0mcsv_name\u001B[0m\u001B[0;34m=\u001B[0m\u001B[0;34m\"CAIRR_data_Exp3_tr\"\u001B[0m\u001B[0;34m)\u001B[0m\u001B[0;34m\u001B[0m\u001B[0;34m\u001B[0m\u001B[0m\n\u001B[1;32m      3\u001B[0m \u001B[0mCAIRR_graph\u001B[0m\u001B[0;34m.\u001B[0m\u001B[0mdraw\u001B[0m\u001B[0;34m(\u001B[0m\u001B[0;34m)\u001B[0m\u001B[0;34m\u001B[0m\u001B[0;34m\u001B[0m\u001B[0m\n\u001B[1;32m      4\u001B[0m \u001B[0;34m\u001B[0m\u001B[0m\n",
      "\u001B[0;31mNameError\u001B[0m: name 'ds' is not defined"
     ]
    }
   ],
   "source": [
    "CAIRR_graph = ds.Graph(name=\"CAIRR_graph_3\", list_nodes=[Location, Age, ImmuneState, Repertoire, Index, Selection])\n",
    "CAIRR_data = CAIRR_graph.simulate(num_samples=10, csv_name=\"CAIRR_data_Exp3_tr\")\n",
    "CAIRR_graph.draw()"
   ],
   "metadata": {
    "collapsed": false,
    "pycharm": {
     "name": "#%%\n"
    }
   }
  },
  {
   "cell_type": "code",
   "execution_count": null,
   "outputs": [],
   "source": [
    "dataset = make_AIRR_dataset(repertoires=[load_iml_repertoire(filepath=Path(\"./data/Exp3/immuneML_format/repertoires/\"), identifier=id) for id in CAIRR_data[\"repertoire\"]],\n",
    "                            path=Path(\"./data/exported/\"),\n",
    "                            dataset_name=\"Exp3_tr\", signal_names=[signal.id])\n",
    "\n",
    "print(f\"Dataset id: {dataset.identifier}, dataset name: {dataset.name}, number of repertoires: {dataset.get_example_count()}\")"
   ],
   "metadata": {
    "collapsed": false,
    "pycharm": {
     "name": "#%%\n"
    }
   }
  }
 ],
 "metadata": {
  "kernelspec": {
   "display_name": "Python 3",
   "language": "python",
   "name": "python3"
  },
  "language_info": {
   "codemirror_mode": {
    "name": "ipython",
    "version": 2
   },
   "file_extension": ".py",
   "mimetype": "text/x-python",
   "name": "python",
   "nbconvert_exporter": "python",
   "pygments_lexer": "ipython2",
   "version": "2.7.6"
  }
 },
 "nbformat": 4,
 "nbformat_minor": 0
}