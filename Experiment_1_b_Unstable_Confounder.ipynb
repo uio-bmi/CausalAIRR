{
 "cells": [
  {
   "cell_type": "markdown",
   "metadata": {
    "collapsed": true
   },
   "source": [
    "# Experiment 1b: confounder distribution changes but does not influence the performance\n",
    "\n",
    "In this experiment, we use a simplified causal graph consisting of three nodes: immune state, confounder, and AIRR, to show if the distribution of a confounder changes in between the source and target populations, it is still possible that the prediction performance remains the same.\n",
    "\n",
    "Immune state is a binary variable and can have values `True` or `False` to indicate if an individual is diseased or healthy. Confounder also in this setting has two values: `C1` and `C2`. AIRR is a set of sequences simulated based on the values of the immune state and the confounder for the given individual.\n",
    "\n",
    "Steps:\n",
    "\n",
    "1. Simulate training and test dataset from a causal graph to include: confounder (implemented by implanting 3-mer `ADR` in the repertoire), immune state (implemented by implanting a signal in the repertoire but the exact 3-mer depends on the value of the confounder; it is either `QPR` or `EQY`)\n",
    "\n",
    "2. Train an ML model (here: logistic regression on repertoires represented by the k-mer frequencies) on the train set and assess its performance on the test set in the presence of confounder with slightly different distributions across train and test sets.\n",
    "\n",
    "Software used: \n",
    "\n",
    "- DagSim for simulation of the causal graph; \n",
    "- immuneML v2.1 for implanting signal in AIRRs and for training and assessing machine learning classifiers; \n",
    "- OLGA for simulation of naive AIRRs"
   ]
  },
  {
   "cell_type": "code",
   "execution_count": 1,
   "metadata": {},
   "outputs": [],
   "source": [
    "import os\n",
    "import yaml\n",
    "import dagsim.base as ds\n",
    "import numpy as np\n",
    "from pathlib import Path\n",
    "from util.dataset_util import make_AIRR_dataset, make_dataset, setup_path\n",
    "from util.implanting import make_immune_state_signals, make_confounding_signal\n",
    "from util.experiment1 import get_immune_state, get_confounder, get_repertoire\n",
    "from immuneML.simulation.implants.Signal import Signal"
   ]
  },
  {
   "cell_type": "markdown",
   "metadata": {},
   "source": [
    "## Step 1: AIRR simulation from a causal graph"
   ]
  },
  {
   "cell_type": "code",
   "execution_count": 9,
   "metadata": {},
   "outputs": [
    {
     "name": "stdout",
     "output_type": "stream",
     "text": [
      "Removing experiment1b...\n"
     ]
    }
   ],
   "source": [
    "result_path = setup_path('./experiment1b/')\n",
    "data_path = setup_path(\"./experiment1b/data/\")\n",
    "\n",
    "train_example_count = 200\n",
    "test_example_count = 100\n",
    "\n",
    "# immune state: two binomial distributions depending on the confounder value with probability of success p\n",
    "immune_state_p_conf1 = 0.8 # for confounder = C1\n",
    "immune_state_p_conf2 = 0.2 # for confounder = C2\n",
    "\n",
    "# confounder: binomial distribution with probability of success p\n",
    "confounder_p_train = 0.4\n",
    "confounder_p_test = 0.5\n",
    "\n",
    "# other parameters\n",
    "immune_state_implanting_rate = 0.02 # percentage of repertoire sequences to include immune state signal\n",
    "confounding_implanting_rate = 0.2\n",
    "sequence_count = 500 # number of sequences in one repertoire"
   ]
  },
  {
   "cell_type": "code",
   "execution_count": 10,
   "metadata": {},
   "outputs": [
    {
     "name": "stderr",
     "output_type": "stream",
     "text": [
      "/opt/anaconda3/lib/python3.8/subprocess.py:942: ResourceWarning:\n",
      "\n",
      "subprocess 16466 is still running\n",
      "\n"
     ]
    }
   ],
   "source": [
    "immune_state_signal_name = \"immune_state\"\n",
    "immune_state_signals = make_immune_state_signals(signal_name=immune_state_signal_name)\n",
    "confounding_signal = make_confounding_signal()\n",
    "\n",
    "# define nodes of the causal graph\n",
    "\n",
    "index_node = ds.Node(name=\"index\", function=np.arange, size_field=\"stop\")\n",
    "\n",
    "confounder_node = ds.Node(name=\"confounder\", function=get_confounder, kwargs={\"p\": confounder_p_train})\n",
    "\n",
    "immune_state_node = ds.Node(name=\"immune_state\", function=get_immune_state, \n",
    "                               kwargs={\"confounder\": confounder_node, \"p_conf1\": immune_state_p_conf1,\n",
    "                                         \"p_conf2\": immune_state_p_conf2})\n",
    "\n",
    "repertoire_node = ds.Node(name=\"repertoire\", function=get_repertoire, \n",
    "                             kwargs={\"immune_state\": immune_state_node, \"confounder\": confounder_node, \n",
    "                                        \"path\": data_path / \"train\", \"sequence_count\": sequence_count, \n",
    "                                        \"immune_state_signals\": immune_state_signals, \n",
    "                                        \"confounding_signal\": confounding_signal, \"seed\": index_node, \n",
    "                                        'immune_state_implanting_rate': immune_state_implanting_rate, \n",
    "                                        'confounding_implanting_rate': confounding_implanting_rate})\n",
    "\n",
    "# make a causal graph using DagSim and show it graphically\n",
    "\n",
    "graph = ds.Graph(name=\"graph_experiment_1b\", \n",
    "                 list_nodes=[index_node, confounder_node, immune_state_node, repertoire_node])\n",
    "graph.draw()\n"
   ]
  },
  {
   "cell_type": "code",
   "execution_count": 11,
   "metadata": {},
   "outputs": [
    {
     "name": "stdout",
     "output_type": "stream",
     "text": [
      "Simulation started\n",
      "Simulation finished in 213.2542 seconds\n",
      "Simulation started\n",
      "Simulation finished in 118.9263 seconds\n"
     ]
    }
   ],
   "source": [
    "# simulate a dataset using the graph\n",
    "\n",
    "study_cohort_data = graph.simulate(num_samples=train_example_count, \n",
    "                                   csv_name=str(data_path / \"train/study_cohort\"))\n",
    "\n",
    "# make an AIRR dataset from the generated repertoires to be used for training\n",
    "\n",
    "train_dataset = make_dataset(repertoire_paths=study_cohort_data[\"repertoire\"], path=data_path / 'train', \n",
    "                             dataset_name=\"experiment1b_train\", \n",
    "                             signal_names=[immune_state_signal_name, confounder_node.name])\n",
    "\n",
    "# make a test dataset\n",
    "\n",
    "repertoire_node.additional_parameters['path'] = data_path / 'test' # update result_path: to be removed with DagSim update\n",
    "confounder_node.additional_parameters['p'] = confounder_p_test # update the confounder distribution parameter for test\n",
    "\n",
    "test_data = graph.simulate(num_samples=test_example_count, csv_name=str(data_path / \"test/test_cohort\"))\n",
    "\n",
    "test_dataset = make_dataset(repertoire_paths=test_data[\"repertoire\"], path=data_path / 'test', \n",
    "                            dataset_name=\"experiment1b_test\", \n",
    "                            signal_names=[immune_state_signal_name, confounder_node.name])\n",
    "\n",
    "# merge datasets (but the distinction between train and test will be kept)\n",
    "\n",
    "dataset = make_AIRR_dataset(train_dataset, test_dataset, data_path / 'full_dataset')"
   ]
  },
  {
   "cell_type": "markdown",
   "metadata": {},
   "source": [
    "## Step 2: train an ML model and assess performance"
   ]
  },
  {
   "cell_type": "code",
   "execution_count": 12,
   "metadata": {},
   "outputs": [],
   "source": [
    "specs = {\n",
    "    \"definitions\": {\n",
    "        \"datasets\": {\n",
    "            \"dataset1\": {\n",
    "                \"format\": 'AIRR',\n",
    "                \"params\": {\n",
    "                    \"path\": str(data_path / 'full_dataset'),\n",
    "                    \"metadata_file\": str(data_path / 'full_dataset/metadata.csv')\n",
    "                }\n",
    "            }\n",
    "        },\n",
    "        \"encodings\": {\n",
    "            \"kmer_frequency\": {\n",
    "                \"KmerFrequency\": {\"k\": 3}\n",
    "            }\n",
    "        },\n",
    "        \"ml_methods\": {\n",
    "            \"logistic_regression\": {\n",
    "                \"LogisticRegression\": {\n",
    "                    \"penalty\": \"l1\",\n",
    "                    \"C\": [0.001, 0.01, 0.1, 1, 10, 100, 1000],\n",
    "                    \"show_warnings\": False\n",
    "                },\n",
    "                \"model_selection_cv\": True,\n",
    "                \"model_selection_n_folds\": 3\n",
    "            }\n",
    "        },\n",
    "        \"reports\": {\n",
    "            \"motif_recovery\": { # to check how much coefficients overlap with the immune state signal that was implanted\n",
    "                \"MotifSeedRecovery\": {\n",
    "                    \"implanted_motifs_per_label\": {\n",
    "                        \"immune_state\": {\n",
    "                            \"seeds\": [\"EQY\", \"QPR\"],\n",
    "                            \"hamming_distance\": False,\n",
    "                            \"gap_sizes\": [0] # no gaps\n",
    "                        },\n",
    "                        \"confounder\": {\n",
    "                            \"seeds\": [\"ADR\"],\n",
    "                            \"hamming_distance\": False,\n",
    "                            \"gap_sizes\": [0] # no gaps\n",
    "                        }\n",
    "                    }\n",
    "                }\n",
    "            },\n",
    "            \"coefficients\": {\n",
    "                \"Coefficients\": { # show top 25 logistic regression coefficients and what k-mers they correspond to\n",
    "                    \"coefs_to_plot\": ['n_largest'],\n",
    "                    \"n_largest\": [25]\n",
    "                }\n",
    "            },\n",
    "            \"feature_comparison_with_confounder\": {\n",
    "                \"FeatureComparison\": {\n",
    "                    \"comparison_label\": \"immune_state\",\n",
    "                    \"color_grouping_label\": \"confounder\",\n",
    "                    \"show_error_bar\": False,\n",
    "                    \"log_scale\": True\n",
    "                }\n",
    "            },\n",
    "            \"feature_comparison_no_confounder\": {\n",
    "                \"FeatureComparison\": {\n",
    "                    \"comparison_label\": \"immune_state\",\n",
    "                    \"show_error_bar\": False,\n",
    "                    \"log_scale\": True\n",
    "                }\n",
    "            }, \n",
    "            \"training_performance\": {\n",
    "                \"TrainingPerformance\": {\n",
    "                    \"metrics\": [\"balanced_accuracy\", \"log_loss\", \"auc\"]\n",
    "                }\n",
    "            }\n",
    "        }\n",
    "    },\n",
    "    \"instructions\": {\n",
    "        'train_ml': {\n",
    "            \"type\": \"TrainMLModel\",\n",
    "            \"assessment\": { # ensure here that train and test dataset are fixed, as per simulation\n",
    "                \"split_strategy\": \"manual\",\n",
    "                \"split_count\": 1,\n",
    "                \"manual_config\": {\n",
    "                    \"train_metadata_path\": str(data_path / \"train/experiment1b_train_metadata.csv\"),\n",
    "                    \"test_metadata_path\": str(data_path / \"test/experiment1b_test_metadata.csv\")\n",
    "                },\n",
    "                \"reports\": {\n",
    "                    \"models\": [\"coefficients\", \"motif_recovery\", \"training_performance\"],\n",
    "                    \"encoding\": [\"feature_comparison_with_confounder\", \"feature_comparison_no_confounder\"]\n",
    "                }\n",
    "            },\n",
    "            \"selection\": {\n",
    "                \"split_strategy\": \"k_fold\",\n",
    "                \"split_count\": 5,\n",
    "                \"reports\": {\n",
    "                    \"models\": [\"coefficients\", \"motif_recovery\", \"training_performance\"],\n",
    "                    \"encoding\": [\"feature_comparison_with_confounder\", \"feature_comparison_no_confounder\"]\n",
    "                }\n",
    "            },\n",
    "            \"settings\": [\n",
    "                {\"encoding\": \"kmer_frequency\", \"ml_method\": \"logistic_regression\"}\n",
    "            ],\n",
    "            \"dataset\": \"dataset1\",\n",
    "            \"refit_optimal_model\": False,\n",
    "            \"labels\": [\"immune_state\"],\n",
    "            \"optimization_metric\": \"balanced_accuracy\",\n",
    "            \"metrics\": ['log_loss', 'auc']\n",
    "        }\n",
    "    }\n",
    "}\n",
    "\n",
    "ml_result_path = setup_path(\"./experiment1b/ml_result/\")\n",
    "specification_path = ml_result_path / \"specs.yaml\"\n",
    "\n",
    "with open(specification_path, \"w\") as file:\n",
    "    yaml.dump(specs, file)"
   ]
  },
  {
   "cell_type": "code",
   "execution_count": 13,
   "metadata": {},
   "outputs": [
    {
     "name": "stdout",
     "output_type": "stream",
     "text": [
      "2022-01-04 15:01:57.660099: Setting temporary cache path to experiment1b/ml_result/result/cache\n",
      "2022-01-04 15:01:57.660895: ImmuneML: parsing the specification...\n",
      "\n",
      "2022-01-04 15:02:19.126723: Full specification is available at experiment1b/ml_result/result/full_specs.yaml.\n",
      "\n",
      "2022-01-04 15:02:19.128032: ImmuneML: starting the analysis...\n",
      "\n",
      "2022-01-04 15:02:19.128574: Instruction 1/1 has started.\n",
      "2022-01-04 15:02:19.234606: Training ML model: running outer CV loop: started split 1/1.\n",
      "\n",
      "2022-01-04 15:02:19.351248: Hyperparameter optimization: running the inner loop of nested CV: selection for label immune_state (label 1 / 1).\n",
      "\n",
      "2022-01-04 15:02:19.353400: Evaluating hyperparameter setting: kmer_frequency_logistic_regression...\n",
      "2022-01-04 15:02:19.355802: Encoding started...\n",
      "2022-01-04 15:02:26.822154: Encoding finished.\n",
      "2022-01-04 15:02:26.822827: ML model training started...\n",
      "2022-01-04 15:02:56.859840: ML model training finished.\n",
      "       immune_state_x  confounder feature  valuemean_x  valuestd_x  \\\n",
      "0               False       False     AAA     0.377302    0.616238   \n",
      "1               False       False     AAC     0.388924    0.978892   \n",
      "2               False       False     AAD     0.030015    0.042423   \n",
      "3               False       False     AAE     0.724855    1.038667   \n",
      "4               False       False     AAF     0.379499    0.756681   \n",
      "...               ...         ...     ...          ...         ...   \n",
      "15509           False        True     YYS     0.439206    1.009869   \n",
      "15510           False        True     YYT     0.432652    1.289288   \n",
      "15511           False        True     YYV     0.000000    0.000000   \n",
      "15512           False        True     YYW     0.301641    1.382295   \n",
      "15513           False        True     YYY     0.000000    0.000000   \n",
      "\n",
      "       immune_state_y  valuemean_y  valuestd_y  \n",
      "0                True     0.707169    1.099082  \n",
      "1                True     0.430451    1.104062  \n",
      "2                True     0.044373    0.064076  \n",
      "3                True     0.668483    1.004426  \n",
      "4                True     0.447767    0.906609  \n",
      "...               ...          ...         ...  \n",
      "15509            True     0.510894    1.429493  \n",
      "15510            True     0.394270    1.043145  \n",
      "15511            True     0.000000    0.000000  \n",
      "15512            True     0.401680    1.555699  \n",
      "15513            True     0.989492    1.713926  \n",
      "\n",
      "[15514 rows x 8 columns]\n",
      "      immune_state_x feature  valuemean_x  valuestd_x  immune_state_y  \\\n",
      "0              False     AAA     0.468618    0.737436            True   \n",
      "1              False     AAC     0.315000    0.915165            True   \n",
      "2              False     AAD     1.411425    1.001701            True   \n",
      "3              False     AAE     0.792605    0.958836            True   \n",
      "4              False     AAF     0.727020    0.988396            True   \n",
      "...              ...     ...          ...         ...             ...   \n",
      "7752           False     YYS     0.408435    0.967469            True   \n",
      "7753           False     YYT     0.288434    1.072275            True   \n",
      "7754           False     YYV     0.000000    0.000000            True   \n",
      "7755           False     YYW     0.201094    1.137561            True   \n",
      "7756           False     YYY     0.114741    0.649088            True   \n",
      "\n",
      "      valuemean_y  valuestd_y  \n",
      "0        0.731845    1.136539  \n",
      "1        0.389519    1.054412  \n",
      "2        0.372750    0.743361  \n",
      "3        0.755445    1.027641  \n",
      "4        0.517856    0.999077  \n",
      "...           ...         ...  \n",
      "7752     0.330761    1.021005  \n",
      "7753     0.343823    0.945291  \n",
      "7754     0.235273    1.295876  \n",
      "7755     0.131049    0.889673  \n",
      "7756     0.403822    1.171255  \n",
      "\n",
      "[7757 rows x 7 columns]\n",
      "2022-01-04 15:03:11.919775: Encoding started...\n",
      "2022-01-04 15:03:14.605508: Encoding finished.\n",
      "       immune_state_x  confounder feature  valuemean_x  valuestd_x  \\\n",
      "0               False       False     AAA     0.552005    0.676111   \n",
      "1               False       False     AAC     0.000000    0.000000   \n",
      "2               False       False     AAD     0.057252    0.082531   \n",
      "3               False       False     AAE     0.589987    1.179974   \n",
      "4               False       False     AAF     0.276943    0.553886   \n",
      "...               ...         ...     ...          ...         ...   \n",
      "15509           False        True     YYS     0.465721    1.042136   \n",
      "15510           False        True     YYT     0.000000    0.000000   \n",
      "15511           False        True     YYV     0.000000    0.000000   \n",
      "15512           False        True     YYW     0.000000    0.000000   \n",
      "15513           False        True     YYY     0.000000    0.000000   \n",
      "\n",
      "       immune_state_y  valuemean_y  valuestd_y  \n",
      "0                True     0.293768    0.730411  \n",
      "1                True     0.149935    0.636119  \n",
      "2                True     0.038201    0.059358  \n",
      "3                True     0.374537    0.626755  \n",
      "4                True     0.370147    0.773890  \n",
      "...               ...          ...         ...  \n",
      "15509            True     0.000000    0.000000  \n",
      "15510            True     2.402047    2.664140  \n",
      "15511            True     2.053736    3.557175  \n",
      "15512            True     0.000000    0.000000  \n",
      "15513            True     0.988864    1.712762  \n",
      "\n",
      "[15514 rows x 8 columns]\n",
      "      immune_state_x feature  valuemean_x  valuestd_x  immune_state_y  \\\n",
      "0              False     AAA     0.426855    0.662194            True   \n",
      "1              False     AAC     0.360488    0.987249            True   \n",
      "2              False     AAD     1.406686    0.913697            True   \n",
      "3              False     AAE     0.723565    1.301923            True   \n",
      "4              False     AAF     0.349090    0.629961            True   \n",
      "...              ...     ...          ...         ...             ...   \n",
      "7752           False     YYS     0.328744    0.900917            True   \n",
      "7753           False     YYT     0.000000    0.000000            True   \n",
      "7754           False     YYV     0.447393    1.789570            True   \n",
      "7755           False     YYW     0.351732    1.406927            True   \n",
      "7756           False     YYY     0.000000    0.000000            True   \n",
      "\n",
      "      valuemean_y  valuestd_y  \n",
      "0        0.309313    0.720042  \n",
      "1        0.123859    0.580951  \n",
      "2        0.372314    0.750776  \n",
      "3        0.447627    0.678045  \n",
      "4        0.372357    0.755809  \n",
      "...           ...         ...  \n",
      "7752     0.106672    0.500337  \n",
      "7753     0.417747    1.436422  \n",
      "7754     0.357171    1.675283  \n",
      "7755     0.267370    1.254077  \n",
      "7756     0.327138    1.061582  \n",
      "\n",
      "[7757 rows x 7 columns]\n",
      "2022-01-04 15:03:22.967506: Completed hyperparameter setting kmer_frequency_logistic_regression.\n",
      "\n",
      "2022-01-04 15:03:22.970614: Evaluating hyperparameter setting: kmer_frequency_logistic_regression...\n",
      "2022-01-04 15:03:22.972176: Encoding started...\n",
      "2022-01-04 15:03:27.091500: Encoding finished.\n",
      "2022-01-04 15:03:27.092044: ML model training started...\n",
      "2022-01-04 15:03:54.148515: ML model training finished.\n",
      "       immune_state_x  confounder feature  valuemean_x  valuestd_x  \\\n",
      "0               False       False     AAA     0.389948    0.636877   \n",
      "1               False       False     AAC     0.401736    1.011138   \n",
      "2               False       False     AAD     0.039618    0.056226   \n",
      "3               False       False     AAE     0.585299    1.022221   \n",
      "4               False       False     AAF     0.475083    0.837264   \n",
      "...               ...         ...     ...          ...         ...   \n",
      "15521           False        True     YYS     0.421743    0.995783   \n",
      "15522           False        True     YYT     0.393120    1.200742   \n",
      "15523           False        True     YYV     0.000000    0.000000   \n",
      "15524           False        True     YYW     0.133159    0.893259   \n",
      "15525           False        True     YYY     0.000000    0.000000   \n",
      "\n",
      "       immune_state_y  valuemean_y  valuestd_y  \n",
      "0                True     0.692755    1.119904  \n",
      "1                True     0.343688    1.047785  \n",
      "2                True     0.038940    0.062100  \n",
      "3                True     0.596798    0.928584  \n",
      "4                True     0.435860    0.905806  \n",
      "...               ...          ...         ...  \n",
      "15521            True     0.510410    1.428140  \n",
      "15522            True     0.758261    1.700653  \n",
      "15523            True     0.431078    1.669557  \n",
      "15524            True     0.371033    1.437004  \n",
      "15525            True     1.127126    1.952313  \n",
      "\n",
      "[15526 rows x 8 columns]\n"
     ]
    },
    {
     "name": "stdout",
     "output_type": "stream",
     "text": [
      "      immune_state_x feature  valuemean_x  valuestd_x  immune_state_y  \\\n",
      "0              False     AAA     0.469096    0.753738            True   \n",
      "1              False     AAC     0.362096    0.992309            True   \n",
      "2              False     AAD     1.418734    0.985237            True   \n",
      "3              False     AAE     0.757363    1.043764            True   \n",
      "4              False     AAF     0.707518    1.010754            True   \n",
      "...              ...     ...          ...         ...             ...   \n",
      "7758           False     YYS     0.397421    0.958271            True   \n",
      "7759           False     YYT     0.265934    1.004563            True   \n",
      "7760           False     YYV     0.093907    0.768661            True   \n",
      "7761           False     YYW     0.171302    0.985408            True   \n",
      "7762           False     YYY     0.063119    0.516649            True   \n",
      "\n",
      "      valuemean_y  valuestd_y  \n",
      "0        0.707854    1.137975  \n",
      "1        0.318043    1.005236  \n",
      "2        0.373401    0.746496  \n",
      "3        0.660617    0.964319  \n",
      "4        0.466661    0.979470  \n",
      "...           ...         ...  \n",
      "7758     0.337206    1.029009  \n",
      "7759     0.309751    0.996205  \n",
      "7760     0.208746    1.138779  \n",
      "7761     0.185424    1.010608  \n",
      "7762     0.377594    1.224666  \n",
      "\n",
      "[7763 rows x 7 columns]\n",
      "2022-01-04 15:04:09.185495: Encoding started...\n",
      "2022-01-04 15:04:11.834816: Encoding finished.\n",
      "       immune_state_x  confounder feature  valuemean_x  valuestd_x  \\\n",
      "0               False       False     AAA     0.566307    0.693651   \n",
      "1               False       False     AAC     0.000000    0.000000   \n",
      "2               False       False     AAD     0.014632    0.029264   \n",
      "3               False       False     AAE     1.131495    1.038861   \n",
      "4               False       False     AAF     0.000000    0.000000   \n",
      "...               ...         ...     ...          ...         ...   \n",
      "15521           False        True     YYS     0.549002    1.098033   \n",
      "15522           False        True     YYT     0.000000    0.000000   \n",
      "15523           False        True     YYV     0.000000    0.000000   \n",
      "15524           False        True     YYW     0.613427    1.840282   \n",
      "15525           False        True     YYY     0.000000    0.000000   \n",
      "\n",
      "       immune_state_y  valuemean_y  valuestd_y  \n",
      "0                True     0.476765    0.919534  \n",
      "1                True     0.547789    1.129883  \n",
      "2                True     0.058062    0.064426  \n",
      "3                True     0.607801    0.941516  \n",
      "4                True     0.568045    1.080182  \n",
      "...               ...          ...         ...  \n",
      "15521            True     0.000000    0.000000  \n",
      "15522            True     0.746840    1.293564  \n",
      "15523            True     0.000000    0.000000  \n",
      "15524            True     0.000000    0.000000  \n",
      "15525            True     1.134754    1.965451  \n",
      "\n",
      "[15526 rows x 8 columns]\n",
      "      immune_state_x feature  valuemean_x  valuestd_x  immune_state_y  \\\n",
      "0              False     AAA     0.499616    0.707675            True   \n",
      "1              False     AAC     0.212160    0.793830            True   \n",
      "2              False     AAD     1.357786    0.967921            True   \n",
      "3              False     AAE     0.791449    0.896519            True   \n",
      "4              False     AAF     0.652314    0.994629            True   \n",
      "...              ...     ...          ...         ...             ...   \n",
      "7758           False     YYS     0.366001    0.933147            True   \n",
      "7759           False     YYT     0.000000    0.000000            True   \n",
      "7760           False     YYV     0.000000    0.000000            True   \n",
      "7761           False     YYW     0.408951    1.530156            True   \n",
      "7762           False     YYY     0.289801    1.084335            True   \n",
      "\n",
      "      valuemean_y  valuestd_y  \n",
      "0        0.527411    1.012818  \n",
      "1        0.460142    1.054848  \n",
      "2        0.366571    0.731779  \n",
      "3        0.758798    0.929715  \n",
      "4        0.741330    1.166841  \n",
      "...           ...         ...  \n",
      "7758     0.099609    0.487982  \n",
      "7759     0.453246    1.039252  \n",
      "7760     0.250437    1.226886  \n",
      "7761     0.000000    0.000000  \n",
      "7762     0.685923    1.572758  \n",
      "\n",
      "[7763 rows x 7 columns]\n",
      "2022-01-04 15:04:20.308073: Completed hyperparameter setting kmer_frequency_logistic_regression.\n",
      "\n",
      "2022-01-04 15:04:20.310450: Evaluating hyperparameter setting: kmer_frequency_logistic_regression...\n",
      "2022-01-04 15:04:20.312111: Encoding started...\n",
      "2022-01-04 15:04:23.783012: Encoding finished.\n",
      "2022-01-04 15:04:23.783885: ML model training started...\n",
      "2022-01-04 15:04:51.644290: ML model training finished.\n",
      "       immune_state_x  confounder feature  valuemean_x  valuestd_x  \\\n",
      "0               False       False     AAA     0.505770    0.689318   \n",
      "1               False       False     AAC     0.150355    0.655383   \n",
      "2               False       False     AAD     0.025609    0.052439   \n",
      "3               False       False     AAE     0.842497    1.124921   \n",
      "4               False       False     AAF     0.385805    0.836053   \n",
      "...               ...         ...     ...          ...         ...   \n",
      "15509           False        True     YYS     0.655364    1.311082   \n",
      "15510           False        True     YYT     0.329749    1.128155   \n",
      "15511           False        True     YYV     0.000000    0.000000   \n",
      "15512           False        True     YYW     0.149934    0.994550   \n",
      "15513           False        True     YYY     0.000000    0.000000   \n",
      "\n",
      "       immune_state_y  valuemean_y  valuestd_y  \n",
      "0                True     0.648514    1.076198  \n",
      "1                True     0.407888    1.108069  \n",
      "2                True     0.049515    0.068159  \n",
      "3                True     0.545324    0.878549  \n",
      "4                True     0.475076    0.997646  \n",
      "...               ...          ...         ...  \n",
      "15509            True     0.192985    0.771941  \n",
      "15510            True     0.870604    1.694683  \n",
      "15511            True     0.365685    1.462739  \n",
      "15512            True     0.384090    1.536362  \n",
      "15513            True     1.012254    1.824905  \n",
      "\n",
      "[15514 rows x 8 columns]\n",
      "      immune_state_x feature  valuemean_x  valuestd_x  immune_state_y  \\\n",
      "0              False     AAA     0.471710    0.763249            True   \n",
      "1              False     AAC     0.290524    0.911239            True   \n",
      "2              False     AAD     1.443833    0.976068            True   \n",
      "3              False     AAE     0.898427    1.090415            True   \n",
      "4              False     AAF     0.636504    0.994933            True   \n",
      "...              ...     ...          ...         ...             ...   \n",
      "7752           False     YYS     0.546038    1.210983            True   \n",
      "7753           False     YYT     0.228287    0.950940            True   \n",
      "7754           False     YYV     0.088547    0.708375            True   \n",
      "7755           False     YYW     0.197261    1.108693            True   \n",
      "7756           False     YYY     0.063564    0.508512            True   \n",
      "\n",
      "      valuemean_y  valuestd_y  \n",
      "0        0.665359    1.127116  \n",
      "1        0.368045    1.055287  \n",
      "2        0.399921    0.767883  \n",
      "3        0.639456    0.918387  \n",
      "4        0.497113    0.999511  \n",
      "...           ...         ...  \n",
      "7752     0.225253    0.799390  \n",
      "7753     0.354305    1.029095  \n",
      "7754     0.241607    1.153846  \n",
      "7755     0.134497    0.917376  \n",
      "7756     0.391033    1.209843  \n",
      "\n",
      "[7757 rows x 7 columns]\n",
      "2022-01-04 15:05:07.129761: Encoding started...\n",
      "2022-01-04 15:05:09.832300: Encoding finished.\n",
      "       immune_state_x  confounder feature  valuemean_x  valuestd_x  \\\n",
      "0               False       False     AAA     0.212576    0.520703   \n",
      "1               False       False     AAC     0.836769    1.323130   \n",
      "2               False       False     AAD     0.063553    0.047682   \n",
      "3               False       False     AAE     0.433697    1.062337   \n",
      "4               False       False     AAF     0.432194    0.683387   \n",
      "...               ...         ...     ...          ...         ...   \n",
      "15509           False        True     YYS     0.000000    0.000000   \n",
      "15510           False        True     YYT     0.260281    0.823082   \n",
      "15511           False        True     YYV     0.000000    0.000000   \n",
      "15512           False        True     YYW     0.612474    1.936813   \n",
      "15513           False        True     YYY     0.000000    0.000000   \n",
      "\n",
      "       immune_state_y  valuemean_y  valuestd_y  \n",
      "0                True     0.691448    1.199976  \n",
      "1                True     0.311605    0.908476  \n",
      "2                True     0.019525    0.032677  \n",
      "3                True     1.043393    1.315473  \n",
      "4                True     0.486673    0.870817  \n",
      "...               ...          ...         ...  \n",
      "15509            True     2.131849    3.014890  \n",
      "15510            True     0.000000    0.000000  \n",
      "15511            True     0.000000    0.000000  \n",
      "15512            True     0.000000    0.000000  \n",
      "15513            True     1.415543    2.001880  \n",
      "\n",
      "[15514 rows x 8 columns]\n"
     ]
    },
    {
     "name": "stdout",
     "output_type": "stream",
     "text": [
      "      immune_state_x feature  valuemean_x  valuestd_x  immune_state_y  \\\n",
      "0              False     AAA     0.522117    0.738967            True   \n",
      "1              False     AAC     0.500199    1.119301            True   \n",
      "2              False     AAD     1.361811    1.058935            True   \n",
      "3              False     AAE     0.533155    1.054417            True   \n",
      "4              False     AAF     1.007083    1.125659            True   \n",
      "...              ...     ...          ...         ...             ...   \n",
      "7752           False     YYS     0.168490    0.694704            True   \n",
      "7753           False     YYT     0.159061    0.655824            True   \n",
      "7754           False     YYV     0.000000    0.000000            True   \n",
      "7755           False     YYW     0.374290    1.543236            True   \n",
      "7756           False     YYY     0.226638    0.934452            True   \n",
      "\n",
      "      valuemean_y  valuestd_y  \n",
      "0        0.746528    1.159573  \n",
      "1        0.269113    0.851010  \n",
      "2        0.276871    0.676330  \n",
      "3        1.127951    1.334724  \n",
      "4        0.724702    1.259597  \n",
      "...           ...         ...  \n",
      "7752     0.832257    1.899625  \n",
      "7753     0.242195    0.766216  \n",
      "7754     0.000000    0.000000  \n",
      "7755     0.272084    1.246845  \n",
      "7756     0.553115    1.392877  \n",
      "\n",
      "[7757 rows x 7 columns]\n",
      "2022-01-04 15:05:18.329376: Completed hyperparameter setting kmer_frequency_logistic_regression.\n",
      "\n",
      "2022-01-04 15:05:18.332090: Evaluating hyperparameter setting: kmer_frequency_logistic_regression...\n",
      "2022-01-04 15:05:18.333344: Encoding started...\n",
      "2022-01-04 15:05:21.809318: Encoding finished.\n",
      "2022-01-04 15:05:21.810208: ML model training started...\n",
      "2022-01-04 15:05:49.233115: ML model training finished.\n",
      "       immune_state_x  confounder feature  valuemean_x  valuestd_x  \\\n",
      "0               False       False     AAA     0.463856    0.679108   \n",
      "1               False       False     AAC     0.433863    1.092000   \n",
      "2               False       False     AAD     0.039701    0.056283   \n",
      "3               False       False     AAE     0.758061    1.081318   \n",
      "4               False       False     AAF     0.269322    0.571336   \n",
      "...               ...         ...     ...          ...         ...   \n",
      "15519           False        True     YYS     0.424810    1.040902   \n",
      "15520           False        True     YYT     0.226053    1.075866   \n",
      "15521           False        True     YYV     0.000000    0.000000   \n",
      "15522           False        True     YYW     0.289805    1.296049   \n",
      "15523           False        True     YYY     0.000000    0.000000   \n",
      "\n",
      "       immune_state_y  valuemean_y  valuestd_y  \n",
      "0                True     0.558626    1.097738  \n",
      "1                True     0.322048    0.952921  \n",
      "2                True     0.037059    0.057255  \n",
      "3                True     0.621618    0.933219  \n",
      "4                True     0.425063    0.867476  \n",
      "...               ...          ...         ...  \n",
      "15519            True     0.486904    1.455228  \n",
      "15520            True     0.878906    1.773303  \n",
      "15521            True     0.433241    1.786297  \n",
      "15522            True     0.000000    0.000000  \n",
      "15523            True     1.025809    1.654128  \n",
      "\n",
      "[15524 rows x 8 columns]\n",
      "      immune_state_x feature  valuemean_x  valuestd_x  immune_state_y  \\\n",
      "0              False     AAA     0.505734    0.724697            True   \n",
      "1              False     AAC     0.415661    1.100500            True   \n",
      "2              False     AAD     1.378936    1.002965            True   \n",
      "3              False     AAE     0.802705    1.055727            True   \n",
      "4              False     AAF     0.708641    0.992533            True   \n",
      "...              ...     ...          ...         ...             ...   \n",
      "7757           False     YYS     0.365401    0.967499            True   \n",
      "7758           False     YYT     0.148348    0.878139            True   \n",
      "7759           False     YYV     0.112811    0.895411            True   \n",
      "7760           False     YYW     0.275867    1.245472            True   \n",
      "7761           False     YYY     0.110417    0.614789            True   \n",
      "\n",
      "      valuemean_y  valuestd_y  \n",
      "0        0.603250    1.145748  \n",
      "1        0.296985    0.923922  \n",
      "2        0.404510    0.785008  \n",
      "3        0.709866    0.959260  \n",
      "4        0.517066    0.997617  \n",
      "...           ...         ...  \n",
      "7757     0.286972    1.019887  \n",
      "7758     0.345352    1.066329  \n",
      "7759     0.154971    1.063695  \n",
      "7760     0.115030    0.788788  \n",
      "7761     0.442114    1.170761  \n",
      "\n",
      "[7762 rows x 7 columns]\n",
      "2022-01-04 15:06:04.715129: Encoding started...\n",
      "2022-01-04 15:06:07.800106: Encoding finished.\n",
      "       immune_state_x  confounder feature  valuemean_x  valuestd_x  \\\n",
      "0               False       False     AAA     0.285453    0.570906   \n",
      "1               False       False     AAC     0.000000    0.000000   \n",
      "2               False       False     AAD     0.014316    0.028632   \n",
      "3               False       False     AAE     0.287805    0.575609   \n",
      "4               False       False     AAF     0.914498    1.233533   \n",
      "...               ...         ...     ...          ...         ...   \n",
      "15519           False        True     YYS     0.633561    1.213312   \n",
      "15520           False        True     YYT     0.673397    1.289726   \n",
      "15521           False        True     YYV     0.000000    0.000000   \n",
      "15522           False        True     YYW     0.000000    0.000000   \n",
      "15523           False        True     YYY     0.000000    0.000000   \n",
      "\n",
      "       immune_state_y  valuemean_y  valuestd_y  \n",
      "0                True     1.068748    1.034688  \n",
      "1                True     0.816473    1.698621  \n",
      "2                True     0.067854    0.078231  \n",
      "3                True     0.438137    0.793256  \n",
      "4                True     0.636651    1.225402  \n",
      "...               ...          ...         ...  \n",
      "15519            True     0.000000    0.000000  \n",
      "15520            True     0.000000    0.000000  \n",
      "15521            True     0.000000    0.000000  \n",
      "15522            True     2.947034    2.947034  \n",
      "15523            True     0.000000    0.000000  \n",
      "\n",
      "[15524 rows x 8 columns]\n",
      "      immune_state_x feature  valuemean_x  valuestd_x  immune_state_y  \\\n",
      "0              False     AAA     0.410063    0.865141            True   \n",
      "1              False     AAC     0.180328    0.765065            True   \n",
      "2              False     AAD     1.506221    0.904045            True   \n",
      "3              False     AAE     0.556377    0.728829            True   \n",
      "4              False     AAF     0.673474    1.076558            True   \n",
      "...              ...     ...          ...         ...             ...   \n",
      "7757           False     YYS     0.605720    1.174771            True   \n",
      "7758           False     YYT     0.496187    1.146118            True   \n",
      "7759           False     YYV     0.000000    0.000000            True   \n",
      "7760           False     YYW     0.000000    0.000000            True   \n",
      "7761           False     YYY     0.000000    0.000000            True   \n",
      "\n",
      "      valuemean_y  valuestd_y  \n",
      "0        1.043690    1.018037  \n",
      "1        0.738714    1.633390  \n",
      "2        0.223577    0.486252  \n",
      "3        0.466782    0.793171  \n",
      "4        0.576017    1.180476  \n",
      "...           ...         ...  \n",
      "7757     0.400797    0.982021  \n",
      "7758     0.405740    0.993998  \n",
      "7759     0.662637    2.042509  \n",
      "7760     0.280670    1.255194  \n",
      "7761     0.000000    0.000000  \n",
      "\n",
      "[7762 rows x 7 columns]\n",
      "2022-01-04 15:06:17.856189: Completed hyperparameter setting kmer_frequency_logistic_regression.\n",
      "\n",
      "2022-01-04 15:06:17.858371: Evaluating hyperparameter setting: kmer_frequency_logistic_regression...\n",
      "2022-01-04 15:06:17.859421: Encoding started...\n",
      "2022-01-04 15:06:21.846767: Encoding finished.\n",
      "2022-01-04 15:06:21.847087: ML model training started...\n",
      "2022-01-04 15:06:46.961634: ML model training finished.\n",
      "       immune_state_x  confounder feature  valuemean_x  valuestd_x  \\\n",
      "0               False       False     AAA     0.424484    0.693300   \n",
      "1               False       False     AAC     0.261949    0.828396   \n",
      "2               False       False     AAD     0.040543    0.057615   \n",
      "3               False       False     AAE     0.595964    1.039282   \n",
      "4               False       False     AAF     0.382489    0.762116   \n",
      "...               ...         ...     ...          ...         ...   \n",
      "15517           False        True     YYS     0.426536    1.019905   \n",
      "15518           False        True     YYT     0.273496    0.896904   \n",
      "15519           False        True     YYV     0.000000    0.000000   \n",
      "15520           False        True     YYW     0.236160    1.120205   \n",
      "15521           False        True     YYY     0.000000    0.000000   \n",
      "\n",
      "       immune_state_y  valuemean_y  valuestd_y  \n",
      "0                True     0.681288    1.110392  \n",
      "1                True     0.439163    1.126250  \n",
      "2                True     0.047326    0.065360  \n",
      "3                True     0.611253    0.973095  \n",
      "4                True     0.486635    0.949651  \n",
      "...               ...          ...         ...  \n",
      "15517            True     0.430429    1.491050  \n",
      "15518            True     1.003681    1.983280  \n",
      "15519            True     0.478203    1.656545  \n",
      "15520            True     0.413444    1.432214  \n",
      "15521            True     0.957738    1.748630  \n",
      "\n",
      "[15522 rows x 8 columns]\n"
     ]
    },
    {
     "name": "stdout",
     "output_type": "stream",
     "text": [
      "      immune_state_x feature  valuemean_x  valuestd_x  immune_state_y  \\\n",
      "0              False     AAA     0.504864    0.819573            True   \n",
      "1              False     AAC     0.309793    0.922649            True   \n",
      "2              False     AAD     1.442588    0.985329            True   \n",
      "3              False     AAE     0.646015    1.017244            True   \n",
      "4              False     AAF     0.631754    0.938444            True   \n",
      "...              ...     ...          ...         ...             ...   \n",
      "7756           False     YYS     0.365937    0.945923            True   \n",
      "7757           False     YYT     0.186295    0.751129            True   \n",
      "7758           False     YYV     0.083414    0.687847            True   \n",
      "7759           False     YYW     0.233335    1.095767            True   \n",
      "7760           False     YYY     0.115307    0.667404            True   \n",
      "\n",
      "      valuemean_y  valuestd_y  \n",
      "0        0.698887    1.110269  \n",
      "1        0.376426    1.053969  \n",
      "2        0.320315    0.692045  \n",
      "3        0.697548    0.986143  \n",
      "4        0.569098    1.043448  \n",
      "...           ...         ...  \n",
      "7756     0.321672    1.038723  \n",
      "7757     0.402943    1.144642  \n",
      "7758     0.252227    1.177796  \n",
      "7759     0.169723    0.919822  \n",
      "7760     0.389981    1.178119  \n",
      "\n",
      "[7761 rows x 7 columns]\n",
      "2022-01-04 15:07:02.337234: Encoding started...\n",
      "2022-01-04 15:07:04.965499: Encoding finished.\n",
      "       immune_state_x  confounder feature  valuemean_x  valuestd_x  \\\n",
      "0               False       False     AAA     0.627144    0.768125   \n",
      "1               False       False     AAC     0.591718    1.183436   \n",
      "2               False       False     AAD     0.015423    0.030845   \n",
      "3               False       False     AAE     1.159206    1.072321   \n",
      "4               False       False     AAF     0.275144    0.550287   \n",
      "...               ...         ...     ...          ...         ...   \n",
      "15517           False        True     YYS     0.639507    1.196588   \n",
      "15518           False        True     YYT     0.735859    2.081323   \n",
      "15519           False        True     YYV     0.000000    0.000000   \n",
      "15520           False        True     YYW     0.000000    0.000000   \n",
      "15521           False        True     YYY     0.000000    0.000000   \n",
      "\n",
      "       immune_state_y  valuemean_y  valuestd_y  \n",
      "0                True     0.808628    1.444466  \n",
      "1                True     0.151169    0.641357  \n",
      "2                True     0.031309    0.060382  \n",
      "3                True     0.611219    0.849582  \n",
      "4                True     0.223466    0.516343  \n",
      "...               ...          ...         ...  \n",
      "15517            True     0.410061    1.004440  \n",
      "15518            True     0.462394    1.132630  \n",
      "15519            True     0.000000    0.000000  \n",
      "15520            True     0.000000    0.000000  \n",
      "15521            True     1.191181    1.883496  \n",
      "\n",
      "[15522 rows x 8 columns]\n",
      "      immune_state_x feature  valuemean_x  valuestd_x  immune_state_y  \\\n",
      "0              False     AAA     0.587881    0.789988            True   \n",
      "1              False     AAC     0.433003    1.060990            True   \n",
      "2              False     AAD     1.450582    1.111296            True   \n",
      "3              False     AAE     1.433818    0.887763            True   \n",
      "4              False     AAF     0.760098    0.965549            True   \n",
      "...              ...     ...          ...         ...             ...   \n",
      "7756           False     YYS     0.604076    1.157476            True   \n",
      "7757           False     YYT     0.473052    1.705613            True   \n",
      "7758           False     YYV     0.000000    0.000000            True   \n",
      "7759           False     YYW     0.000000    0.000000            True   \n",
      "7760           False     YYY     0.000000    0.000000            True   \n",
      "\n",
      "      valuemean_y  valuestd_y  \n",
      "0        0.846580    1.534129  \n",
      "1        0.229635    0.796095  \n",
      "2        0.595699    0.938694  \n",
      "3        0.687525    0.945029  \n",
      "4        0.222642    0.522785  \n",
      "...           ...         ...  \n",
      "7756     0.210378    0.729739  \n",
      "7757     0.239600    0.830686  \n",
      "7758     0.000000    0.000000  \n",
      "7759     0.000000    0.000000  \n",
      "7760     0.472973    1.310064  \n",
      "\n",
      "[7761 rows x 7 columns]\n",
      "2022-01-04 15:07:12.582827: Completed hyperparameter setting kmer_frequency_logistic_regression.\n",
      "\n",
      "2022-01-04 15:07:12.584366: Hyperparameter optimization: running the inner loop of nested CV: completed selection for label immune_state (label 1 / 1).\n",
      "\n",
      "2022-01-04 15:07:12.585331: Training ML model: running the inner loop of nested CV: retrain models for label immune_state (label 1 / 1).\n",
      "\n",
      "2022-01-04 15:07:12.587636: Evaluating hyperparameter setting: kmer_frequency_logistic_regression...\n",
      "2022-01-04 15:07:12.589501: Encoding started...\n",
      "2022-01-04 15:07:16.159945: Encoding finished.\n",
      "2022-01-04 15:07:16.160467: ML model training started...\n",
      "2022-01-04 15:07:45.188530: ML model training finished.\n",
      "       immune_state_x  confounder feature  valuemean_x  valuestd_x  \\\n",
      "0               False       False     AAA     0.429736    0.662366   \n",
      "1               False       False     AAC     0.329092    0.930926   \n",
      "2               False       False     AAD     0.035270    0.053609   \n",
      "3               False       False     AAE     0.697287    1.063580   \n",
      "4               False       False     AAF     0.378164    0.760010   \n",
      "...               ...         ...     ...          ...         ...   \n",
      "15645           False        True     YYS     0.467817    1.069339   \n",
      "15646           False        True     YYT     0.332247    1.130363   \n",
      "15647           False        True     YYV     0.000000    0.000000   \n",
      "15648           False        True     YYW     0.220744    1.147021   \n",
      "15649           False        True     YYY     0.000000    0.000000   \n",
      "\n",
      "       immune_state_y  valuemean_y  valuestd_y  \n",
      "0                True     0.656891    1.101615  \n",
      "1                True     0.389950    1.075128  \n",
      "2                True     0.043423    0.063607  \n",
      "3                True     0.608644    0.946121  \n",
      "4                True     0.453749    0.925959  \n",
      "...               ...          ...         ...  \n",
      "15645            True     0.429780    1.361540  \n",
      "15646            True     0.777809    1.674410  \n",
      "15647            True     0.346407    1.509955  \n",
      "15648            True     0.299298    1.304610  \n",
      "15649            True     1.022457    1.771009  \n",
      "\n",
      "[15650 rows x 8 columns]\n",
      "      immune_state_x feature  valuemean_x  valuestd_x  immune_state_y  \\\n",
      "0              False     AAA     0.482617    0.758295            True   \n",
      "1              False     AAC     0.336792    0.966362            True   \n",
      "2              False     AAD     1.418926    0.990232            True   \n",
      "3              False     AAE     0.775581    1.034905            True   \n",
      "4              False     AAF     0.681430    0.984799            True   \n",
      "...              ...     ...          ...         ...             ...   \n",
      "7820           False     YYS     0.412322    1.003965            True   \n",
      "7821           False     YYT     0.224167    0.941438            True   \n",
      "7822           False     YYV     0.077280    0.699804            True   \n",
      "7823           False     YYW     0.216035    1.116945            True   \n",
      "7824           False     YYY     0.094292    0.600081            True   \n",
      "\n",
      "      valuemean_y  valuestd_y  \n",
      "0        0.680588    1.133677  \n",
      "1        0.350271    1.023156  \n",
      "2        0.374903    0.749298  \n",
      "3        0.692360    0.973005  \n",
      "4        0.513217    1.004819  \n",
      "...           ...         ...  \n",
      "7820     0.301486    0.994618  \n",
      "7821     0.350244    1.036368  \n",
      "7822     0.218630    1.163485  \n",
      "7823     0.147018    0.906863  \n",
      "7824     0.401750    1.189419  \n",
      "\n",
      "[7825 rows x 7 columns]\n",
      "2022-01-04 15:08:01.490052: Encoding started...\n",
      "2022-01-04 15:08:05.212690: Encoding finished.\n",
      "       immune_state_x  confounder feature  valuemean_x  valuestd_x  \\\n",
      "0               False       False     AAA     0.358918    0.621666   \n",
      "1               False       False     AAC     0.000000    0.000000   \n",
      "2               False       False     AAD     0.027797    0.035897   \n",
      "3               False       False     AAE     0.360656    0.624725   \n",
      "4               False       False     AAF     0.000000    0.000000   \n",
      "...               ...         ...     ...          ...         ...   \n",
      "15645           False        True     YYS     0.271449    0.836832   \n",
      "15646           False        True     YYT     0.368672    1.003167   \n",
      "15647           False        True     YYV     0.000000    0.000000   \n",
      "15648           False        True     YYW     0.286375    1.280707   \n",
      "15649           False        True     YYY     0.295165    1.064878   \n",
      "\n",
      "       immune_state_y  valuemean_y  valuestd_y  \n",
      "0                True     0.417089    0.733028  \n",
      "1                True     0.066964    0.428782  \n",
      "2                True     0.040327    0.058479  \n",
      "3                True     0.692555    0.965474  \n",
      "4                True     0.390026    0.802203  \n",
      "...               ...          ...         ...  \n",
      "15645            True     0.000000    0.000000  \n",
      "15646            True     0.772621    1.338359  \n",
      "15647            True     0.839381    2.220794  \n",
      "15648            True     0.000000    0.000000  \n",
      "15649            True     0.000000    0.000000  \n",
      "\n",
      "[15650 rows x 8 columns]\n"
     ]
    },
    {
     "name": "stdout",
     "output_type": "stream",
     "text": [
      "      immune_state_x feature  valuemean_x  valuestd_x  immune_state_y  \\\n",
      "0              False     AAA     0.468056    0.901521            True   \n",
      "1              False     AAC     0.197391    0.781363            True   \n",
      "2              False     AAD     1.827229    0.846663            True   \n",
      "3              False     AAE     0.775130    1.400711            True   \n",
      "4              False     AAF     0.573712    0.891588            True   \n",
      "...              ...     ...          ...         ...             ...   \n",
      "7820           False     YYS     0.388112    0.962768            True   \n",
      "7821           False     YYT     0.479254    1.099571            True   \n",
      "7822           False     YYV     0.130804    0.915630            True   \n",
      "7823           False     YYW     0.240555    1.178473            True   \n",
      "7824           False     YYY     0.399598    1.419881            True   \n",
      "\n",
      "      valuemean_y  valuestd_y  \n",
      "0        0.443617    0.801196  \n",
      "1        0.183652    0.728230  \n",
      "2        0.359026    0.741428  \n",
      "3        0.612648    0.926443  \n",
      "4        0.484048    0.823873  \n",
      "...           ...         ...  \n",
      "7820     0.271062    1.235122  \n",
      "7821     0.518236    1.107326  \n",
      "7822     0.384659    1.523433  \n",
      "7823     0.000000    0.000000  \n",
      "7824     0.149889    0.734666  \n",
      "\n",
      "[7825 rows x 7 columns]\n",
      "2022-01-04 15:08:16.244724: Completed hyperparameter setting kmer_frequency_logistic_regression.\n",
      "\n",
      "2022-01-04 15:08:16.246418: Training ML model: running the inner loop of nested CV: completed retraining models for label immune_state (label 1 / 1).\n",
      "\n",
      "2022-01-04 15:08:16.247162: Training ML model: running outer CV loop: finished split 1/1.\n",
      "\n",
      "Performances (balanced_accuracy) -----------------------------------------------\n",
      "\n",
      "\n",
      "Label: immune_state\n",
      "Performance (balanced_accuracy) per assessment split:\n",
      "Split 1: 0.9199999999999999\n",
      "Average performance (balanced_accuracy): 0.9199999999999999\n",
      "------------------------------\n",
      "2022-01-04 15:08:16.638186: Instruction 1/1 has finished.\n",
      "2022-01-04 15:08:16.653085: Generating HTML reports...\n",
      "2022-01-04 15:08:18.274547: HTML reports are generated.\n",
      "2022-01-04 15:08:18.355275: ImmuneML: finished analysis.\n",
      "\n",
      "The results are located under ./experiment1b/\n"
     ]
    }
   ],
   "source": [
    "# run immuneML with the specs file\n",
    "\n",
    "from immuneML.app.ImmuneMLApp import ImmuneMLApp\n",
    "\n",
    "output_path = ml_result_path / \"result/\"\n",
    "\n",
    "app = ImmuneMLApp(specification_path = specification_path, result_path = output_path)\n",
    "result = app.run()\n",
    "\n",
    "print(\"The results are located under ./experiment1b/\")"
   ]
  },
  {
   "cell_type": "code",
   "execution_count": 14,
   "metadata": {
    "scrolled": false
   },
   "outputs": [
    {
     "data": {
      "application/vnd.plotly.v1+json": {
       "config": {
        "plotlyServerURL": "https://plot.ly"
       },
       "data": [
        {
         "error_y": {
          "array": [
           0.03561228854083495,
           0.03594736948039894,
           0.039961874341837116
          ],
          "type": "data"
         },
         "marker": {
          "color": "rgb(0, 147, 146)"
         },
         "name": "validation",
         "type": "bar",
         "x": [
          "AUC",
          "balanced_accuracy",
          "log_loss"
         ],
         "y": [
          0.9581297278214226,
          0.9302288283798582,
          0.3065240114598883
         ]
        },
        {
         "marker": {
          "color": "rgb(114, 170, 161)"
         },
         "name": "test",
         "type": "bar",
         "x": [
          "AUC",
          "balanced_accuracy",
          "log_loss"
         ],
         "y": [
          0.958,
          0.9199999999999999,
          0.28519017786481465
         ]
        }
       ],
       "layout": {
        "barmode": "group",
        "template": {
         "data": {
          "bar": [
           {
            "error_x": {
             "color": "#2a3f5f"
            },
            "error_y": {
             "color": "#2a3f5f"
            },
            "marker": {
             "line": {
              "color": "white",
              "width": 0.5
             },
             "pattern": {
              "fillmode": "overlay",
              "size": 10,
              "solidity": 0.2
             }
            },
            "type": "bar"
           }
          ],
          "barpolar": [
           {
            "marker": {
             "line": {
              "color": "white",
              "width": 0.5
             },
             "pattern": {
              "fillmode": "overlay",
              "size": 10,
              "solidity": 0.2
             }
            },
            "type": "barpolar"
           }
          ],
          "carpet": [
           {
            "aaxis": {
             "endlinecolor": "#2a3f5f",
             "gridcolor": "#C8D4E3",
             "linecolor": "#C8D4E3",
             "minorgridcolor": "#C8D4E3",
             "startlinecolor": "#2a3f5f"
            },
            "baxis": {
             "endlinecolor": "#2a3f5f",
             "gridcolor": "#C8D4E3",
             "linecolor": "#C8D4E3",
             "minorgridcolor": "#C8D4E3",
             "startlinecolor": "#2a3f5f"
            },
            "type": "carpet"
           }
          ],
          "choropleth": [
           {
            "colorbar": {
             "outlinewidth": 0,
             "ticks": ""
            },
            "type": "choropleth"
           }
          ],
          "contour": [
           {
            "colorbar": {
             "outlinewidth": 0,
             "ticks": ""
            },
            "colorscale": [
             [
              0,
              "#0d0887"
             ],
             [
              0.1111111111111111,
              "#46039f"
             ],
             [
              0.2222222222222222,
              "#7201a8"
             ],
             [
              0.3333333333333333,
              "#9c179e"
             ],
             [
              0.4444444444444444,
              "#bd3786"
             ],
             [
              0.5555555555555556,
              "#d8576b"
             ],
             [
              0.6666666666666666,
              "#ed7953"
             ],
             [
              0.7777777777777778,
              "#fb9f3a"
             ],
             [
              0.8888888888888888,
              "#fdca26"
             ],
             [
              1,
              "#f0f921"
             ]
            ],
            "type": "contour"
           }
          ],
          "contourcarpet": [
           {
            "colorbar": {
             "outlinewidth": 0,
             "ticks": ""
            },
            "type": "contourcarpet"
           }
          ],
          "heatmap": [
           {
            "colorbar": {
             "outlinewidth": 0,
             "ticks": ""
            },
            "colorscale": [
             [
              0,
              "#0d0887"
             ],
             [
              0.1111111111111111,
              "#46039f"
             ],
             [
              0.2222222222222222,
              "#7201a8"
             ],
             [
              0.3333333333333333,
              "#9c179e"
             ],
             [
              0.4444444444444444,
              "#bd3786"
             ],
             [
              0.5555555555555556,
              "#d8576b"
             ],
             [
              0.6666666666666666,
              "#ed7953"
             ],
             [
              0.7777777777777778,
              "#fb9f3a"
             ],
             [
              0.8888888888888888,
              "#fdca26"
             ],
             [
              1,
              "#f0f921"
             ]
            ],
            "type": "heatmap"
           }
          ],
          "heatmapgl": [
           {
            "colorbar": {
             "outlinewidth": 0,
             "ticks": ""
            },
            "colorscale": [
             [
              0,
              "#0d0887"
             ],
             [
              0.1111111111111111,
              "#46039f"
             ],
             [
              0.2222222222222222,
              "#7201a8"
             ],
             [
              0.3333333333333333,
              "#9c179e"
             ],
             [
              0.4444444444444444,
              "#bd3786"
             ],
             [
              0.5555555555555556,
              "#d8576b"
             ],
             [
              0.6666666666666666,
              "#ed7953"
             ],
             [
              0.7777777777777778,
              "#fb9f3a"
             ],
             [
              0.8888888888888888,
              "#fdca26"
             ],
             [
              1,
              "#f0f921"
             ]
            ],
            "type": "heatmapgl"
           }
          ],
          "histogram": [
           {
            "marker": {
             "pattern": {
              "fillmode": "overlay",
              "size": 10,
              "solidity": 0.2
             }
            },
            "type": "histogram"
           }
          ],
          "histogram2d": [
           {
            "colorbar": {
             "outlinewidth": 0,
             "ticks": ""
            },
            "colorscale": [
             [
              0,
              "#0d0887"
             ],
             [
              0.1111111111111111,
              "#46039f"
             ],
             [
              0.2222222222222222,
              "#7201a8"
             ],
             [
              0.3333333333333333,
              "#9c179e"
             ],
             [
              0.4444444444444444,
              "#bd3786"
             ],
             [
              0.5555555555555556,
              "#d8576b"
             ],
             [
              0.6666666666666666,
              "#ed7953"
             ],
             [
              0.7777777777777778,
              "#fb9f3a"
             ],
             [
              0.8888888888888888,
              "#fdca26"
             ],
             [
              1,
              "#f0f921"
             ]
            ],
            "type": "histogram2d"
           }
          ],
          "histogram2dcontour": [
           {
            "colorbar": {
             "outlinewidth": 0,
             "ticks": ""
            },
            "colorscale": [
             [
              0,
              "#0d0887"
             ],
             [
              0.1111111111111111,
              "#46039f"
             ],
             [
              0.2222222222222222,
              "#7201a8"
             ],
             [
              0.3333333333333333,
              "#9c179e"
             ],
             [
              0.4444444444444444,
              "#bd3786"
             ],
             [
              0.5555555555555556,
              "#d8576b"
             ],
             [
              0.6666666666666666,
              "#ed7953"
             ],
             [
              0.7777777777777778,
              "#fb9f3a"
             ],
             [
              0.8888888888888888,
              "#fdca26"
             ],
             [
              1,
              "#f0f921"
             ]
            ],
            "type": "histogram2dcontour"
           }
          ],
          "mesh3d": [
           {
            "colorbar": {
             "outlinewidth": 0,
             "ticks": ""
            },
            "type": "mesh3d"
           }
          ],
          "parcoords": [
           {
            "line": {
             "colorbar": {
              "outlinewidth": 0,
              "ticks": ""
             }
            },
            "type": "parcoords"
           }
          ],
          "pie": [
           {
            "automargin": true,
            "type": "pie"
           }
          ],
          "scatter": [
           {
            "marker": {
             "colorbar": {
              "outlinewidth": 0,
              "ticks": ""
             }
            },
            "type": "scatter"
           }
          ],
          "scatter3d": [
           {
            "line": {
             "colorbar": {
              "outlinewidth": 0,
              "ticks": ""
             }
            },
            "marker": {
             "colorbar": {
              "outlinewidth": 0,
              "ticks": ""
             }
            },
            "type": "scatter3d"
           }
          ],
          "scattercarpet": [
           {
            "marker": {
             "colorbar": {
              "outlinewidth": 0,
              "ticks": ""
             }
            },
            "type": "scattercarpet"
           }
          ],
          "scattergeo": [
           {
            "marker": {
             "colorbar": {
              "outlinewidth": 0,
              "ticks": ""
             }
            },
            "type": "scattergeo"
           }
          ],
          "scattergl": [
           {
            "marker": {
             "colorbar": {
              "outlinewidth": 0,
              "ticks": ""
             }
            },
            "type": "scattergl"
           }
          ],
          "scattermapbox": [
           {
            "marker": {
             "colorbar": {
              "outlinewidth": 0,
              "ticks": ""
             }
            },
            "type": "scattermapbox"
           }
          ],
          "scatterpolar": [
           {
            "marker": {
             "colorbar": {
              "outlinewidth": 0,
              "ticks": ""
             }
            },
            "type": "scatterpolar"
           }
          ],
          "scatterpolargl": [
           {
            "marker": {
             "colorbar": {
              "outlinewidth": 0,
              "ticks": ""
             }
            },
            "type": "scatterpolargl"
           }
          ],
          "scatterternary": [
           {
            "marker": {
             "colorbar": {
              "outlinewidth": 0,
              "ticks": ""
             }
            },
            "type": "scatterternary"
           }
          ],
          "surface": [
           {
            "colorbar": {
             "outlinewidth": 0,
             "ticks": ""
            },
            "colorscale": [
             [
              0,
              "#0d0887"
             ],
             [
              0.1111111111111111,
              "#46039f"
             ],
             [
              0.2222222222222222,
              "#7201a8"
             ],
             [
              0.3333333333333333,
              "#9c179e"
             ],
             [
              0.4444444444444444,
              "#bd3786"
             ],
             [
              0.5555555555555556,
              "#d8576b"
             ],
             [
              0.6666666666666666,
              "#ed7953"
             ],
             [
              0.7777777777777778,
              "#fb9f3a"
             ],
             [
              0.8888888888888888,
              "#fdca26"
             ],
             [
              1,
              "#f0f921"
             ]
            ],
            "type": "surface"
           }
          ],
          "table": [
           {
            "cells": {
             "fill": {
              "color": "#EBF0F8"
             },
             "line": {
              "color": "white"
             }
            },
            "header": {
             "fill": {
              "color": "#C8D4E3"
             },
             "line": {
              "color": "white"
             }
            },
            "type": "table"
           }
          ]
         },
         "layout": {
          "annotationdefaults": {
           "arrowcolor": "#2a3f5f",
           "arrowhead": 0,
           "arrowwidth": 1
          },
          "autotypenumbers": "strict",
          "coloraxis": {
           "colorbar": {
            "outlinewidth": 0,
            "ticks": ""
           }
          },
          "colorscale": {
           "diverging": [
            [
             0,
             "#8e0152"
            ],
            [
             0.1,
             "#c51b7d"
            ],
            [
             0.2,
             "#de77ae"
            ],
            [
             0.3,
             "#f1b6da"
            ],
            [
             0.4,
             "#fde0ef"
            ],
            [
             0.5,
             "#f7f7f7"
            ],
            [
             0.6,
             "#e6f5d0"
            ],
            [
             0.7,
             "#b8e186"
            ],
            [
             0.8,
             "#7fbc41"
            ],
            [
             0.9,
             "#4d9221"
            ],
            [
             1,
             "#276419"
            ]
           ],
           "sequential": [
            [
             0,
             "#0d0887"
            ],
            [
             0.1111111111111111,
             "#46039f"
            ],
            [
             0.2222222222222222,
             "#7201a8"
            ],
            [
             0.3333333333333333,
             "#9c179e"
            ],
            [
             0.4444444444444444,
             "#bd3786"
            ],
            [
             0.5555555555555556,
             "#d8576b"
            ],
            [
             0.6666666666666666,
             "#ed7953"
            ],
            [
             0.7777777777777778,
             "#fb9f3a"
            ],
            [
             0.8888888888888888,
             "#fdca26"
            ],
            [
             1,
             "#f0f921"
            ]
           ],
           "sequentialminus": [
            [
             0,
             "#0d0887"
            ],
            [
             0.1111111111111111,
             "#46039f"
            ],
            [
             0.2222222222222222,
             "#7201a8"
            ],
            [
             0.3333333333333333,
             "#9c179e"
            ],
            [
             0.4444444444444444,
             "#bd3786"
            ],
            [
             0.5555555555555556,
             "#d8576b"
            ],
            [
             0.6666666666666666,
             "#ed7953"
            ],
            [
             0.7777777777777778,
             "#fb9f3a"
            ],
            [
             0.8888888888888888,
             "#fdca26"
            ],
            [
             1,
             "#f0f921"
            ]
           ]
          },
          "colorway": [
           "#636efa",
           "#EF553B",
           "#00cc96",
           "#ab63fa",
           "#FFA15A",
           "#19d3f3",
           "#FF6692",
           "#B6E880",
           "#FF97FF",
           "#FECB52"
          ],
          "font": {
           "color": "#2a3f5f"
          },
          "geo": {
           "bgcolor": "white",
           "lakecolor": "white",
           "landcolor": "white",
           "showlakes": true,
           "showland": true,
           "subunitcolor": "#C8D4E3"
          },
          "hoverlabel": {
           "align": "left"
          },
          "hovermode": "closest",
          "mapbox": {
           "style": "light"
          },
          "paper_bgcolor": "white",
          "plot_bgcolor": "white",
          "polar": {
           "angularaxis": {
            "gridcolor": "#EBF0F8",
            "linecolor": "#EBF0F8",
            "ticks": ""
           },
           "bgcolor": "white",
           "radialaxis": {
            "gridcolor": "#EBF0F8",
            "linecolor": "#EBF0F8",
            "ticks": ""
           }
          },
          "scene": {
           "xaxis": {
            "backgroundcolor": "white",
            "gridcolor": "#DFE8F3",
            "gridwidth": 2,
            "linecolor": "#EBF0F8",
            "showbackground": true,
            "ticks": "",
            "zerolinecolor": "#EBF0F8"
           },
           "yaxis": {
            "backgroundcolor": "white",
            "gridcolor": "#DFE8F3",
            "gridwidth": 2,
            "linecolor": "#EBF0F8",
            "showbackground": true,
            "ticks": "",
            "zerolinecolor": "#EBF0F8"
           },
           "zaxis": {
            "backgroundcolor": "white",
            "gridcolor": "#DFE8F3",
            "gridwidth": 2,
            "linecolor": "#EBF0F8",
            "showbackground": true,
            "ticks": "",
            "zerolinecolor": "#EBF0F8"
           }
          },
          "shapedefaults": {
           "line": {
            "color": "#2a3f5f"
           }
          },
          "ternary": {
           "aaxis": {
            "gridcolor": "#DFE8F3",
            "linecolor": "#A2B1C6",
            "ticks": ""
           },
           "baxis": {
            "gridcolor": "#DFE8F3",
            "linecolor": "#A2B1C6",
            "ticks": ""
           },
           "bgcolor": "white",
           "caxis": {
            "gridcolor": "#DFE8F3",
            "linecolor": "#A2B1C6",
            "ticks": ""
           }
          },
          "title": {
           "x": 0.05
          },
          "xaxis": {
           "automargin": true,
           "gridcolor": "#EBF0F8",
           "linecolor": "#EBF0F8",
           "ticks": "",
           "title": {
            "standoff": 15
           },
           "zerolinecolor": "#EBF0F8",
           "zerolinewidth": 2
          },
          "yaxis": {
           "automargin": true,
           "gridcolor": "#EBF0F8",
           "linecolor": "#EBF0F8",
           "ticks": "",
           "title": {
            "standoff": 15
           },
           "zerolinecolor": "#EBF0F8",
           "zerolinewidth": 2
          }
         }
        },
        "xaxis": {
         "linecolor": "black",
         "linewidth": 1,
         "showline": true
        },
        "yaxis": {
         "linecolor": "black",
         "linewidth": 1,
         "showline": true
        }
       }
      },
      "text/html": [
       "<div>                            <div id=\"0109f1ef-25a9-48c4-bfe8-8af7f2055951\" class=\"plotly-graph-div\" style=\"height:525px; width:100%;\"></div>            <script type=\"text/javascript\">                require([\"plotly\"], function(Plotly) {                    window.PLOTLYENV=window.PLOTLYENV || {};                                    if (document.getElementById(\"0109f1ef-25a9-48c4-bfe8-8af7f2055951\")) {                    Plotly.newPlot(                        \"0109f1ef-25a9-48c4-bfe8-8af7f2055951\",                        [{\"error_y\":{\"array\":[0.03561228854083495,0.03594736948039894,0.039961874341837116],\"type\":\"data\"},\"marker\":{\"color\":\"rgb(0, 147, 146)\"},\"name\":\"validation\",\"type\":\"bar\",\"x\":[\"AUC\",\"balanced_accuracy\",\"log_loss\"],\"y\":[0.9581297278214226,0.9302288283798582,0.3065240114598883]},{\"marker\":{\"color\":\"rgb(114, 170, 161)\"},\"name\":\"test\",\"type\":\"bar\",\"x\":[\"AUC\",\"balanced_accuracy\",\"log_loss\"],\"y\":[0.958,0.9199999999999999,0.28519017786481465]}],                        {\"barmode\":\"group\",\"template\":{\"data\":{\"bar\":[{\"error_x\":{\"color\":\"#2a3f5f\"},\"error_y\":{\"color\":\"#2a3f5f\"},\"marker\":{\"line\":{\"color\":\"white\",\"width\":0.5},\"pattern\":{\"fillmode\":\"overlay\",\"size\":10,\"solidity\":0.2}},\"type\":\"bar\"}],\"barpolar\":[{\"marker\":{\"line\":{\"color\":\"white\",\"width\":0.5},\"pattern\":{\"fillmode\":\"overlay\",\"size\":10,\"solidity\":0.2}},\"type\":\"barpolar\"}],\"carpet\":[{\"aaxis\":{\"endlinecolor\":\"#2a3f5f\",\"gridcolor\":\"#C8D4E3\",\"linecolor\":\"#C8D4E3\",\"minorgridcolor\":\"#C8D4E3\",\"startlinecolor\":\"#2a3f5f\"},\"baxis\":{\"endlinecolor\":\"#2a3f5f\",\"gridcolor\":\"#C8D4E3\",\"linecolor\":\"#C8D4E3\",\"minorgridcolor\":\"#C8D4E3\",\"startlinecolor\":\"#2a3f5f\"},\"type\":\"carpet\"}],\"choropleth\":[{\"colorbar\":{\"outlinewidth\":0,\"ticks\":\"\"},\"type\":\"choropleth\"}],\"contour\":[{\"colorbar\":{\"outlinewidth\":0,\"ticks\":\"\"},\"colorscale\":[[0.0,\"#0d0887\"],[0.1111111111111111,\"#46039f\"],[0.2222222222222222,\"#7201a8\"],[0.3333333333333333,\"#9c179e\"],[0.4444444444444444,\"#bd3786\"],[0.5555555555555556,\"#d8576b\"],[0.6666666666666666,\"#ed7953\"],[0.7777777777777778,\"#fb9f3a\"],[0.8888888888888888,\"#fdca26\"],[1.0,\"#f0f921\"]],\"type\":\"contour\"}],\"contourcarpet\":[{\"colorbar\":{\"outlinewidth\":0,\"ticks\":\"\"},\"type\":\"contourcarpet\"}],\"heatmap\":[{\"colorbar\":{\"outlinewidth\":0,\"ticks\":\"\"},\"colorscale\":[[0.0,\"#0d0887\"],[0.1111111111111111,\"#46039f\"],[0.2222222222222222,\"#7201a8\"],[0.3333333333333333,\"#9c179e\"],[0.4444444444444444,\"#bd3786\"],[0.5555555555555556,\"#d8576b\"],[0.6666666666666666,\"#ed7953\"],[0.7777777777777778,\"#fb9f3a\"],[0.8888888888888888,\"#fdca26\"],[1.0,\"#f0f921\"]],\"type\":\"heatmap\"}],\"heatmapgl\":[{\"colorbar\":{\"outlinewidth\":0,\"ticks\":\"\"},\"colorscale\":[[0.0,\"#0d0887\"],[0.1111111111111111,\"#46039f\"],[0.2222222222222222,\"#7201a8\"],[0.3333333333333333,\"#9c179e\"],[0.4444444444444444,\"#bd3786\"],[0.5555555555555556,\"#d8576b\"],[0.6666666666666666,\"#ed7953\"],[0.7777777777777778,\"#fb9f3a\"],[0.8888888888888888,\"#fdca26\"],[1.0,\"#f0f921\"]],\"type\":\"heatmapgl\"}],\"histogram\":[{\"marker\":{\"pattern\":{\"fillmode\":\"overlay\",\"size\":10,\"solidity\":0.2}},\"type\":\"histogram\"}],\"histogram2d\":[{\"colorbar\":{\"outlinewidth\":0,\"ticks\":\"\"},\"colorscale\":[[0.0,\"#0d0887\"],[0.1111111111111111,\"#46039f\"],[0.2222222222222222,\"#7201a8\"],[0.3333333333333333,\"#9c179e\"],[0.4444444444444444,\"#bd3786\"],[0.5555555555555556,\"#d8576b\"],[0.6666666666666666,\"#ed7953\"],[0.7777777777777778,\"#fb9f3a\"],[0.8888888888888888,\"#fdca26\"],[1.0,\"#f0f921\"]],\"type\":\"histogram2d\"}],\"histogram2dcontour\":[{\"colorbar\":{\"outlinewidth\":0,\"ticks\":\"\"},\"colorscale\":[[0.0,\"#0d0887\"],[0.1111111111111111,\"#46039f\"],[0.2222222222222222,\"#7201a8\"],[0.3333333333333333,\"#9c179e\"],[0.4444444444444444,\"#bd3786\"],[0.5555555555555556,\"#d8576b\"],[0.6666666666666666,\"#ed7953\"],[0.7777777777777778,\"#fb9f3a\"],[0.8888888888888888,\"#fdca26\"],[1.0,\"#f0f921\"]],\"type\":\"histogram2dcontour\"}],\"mesh3d\":[{\"colorbar\":{\"outlinewidth\":0,\"ticks\":\"\"},\"type\":\"mesh3d\"}],\"parcoords\":[{\"line\":{\"colorbar\":{\"outlinewidth\":0,\"ticks\":\"\"}},\"type\":\"parcoords\"}],\"pie\":[{\"automargin\":true,\"type\":\"pie\"}],\"scatter\":[{\"marker\":{\"colorbar\":{\"outlinewidth\":0,\"ticks\":\"\"}},\"type\":\"scatter\"}],\"scatter3d\":[{\"line\":{\"colorbar\":{\"outlinewidth\":0,\"ticks\":\"\"}},\"marker\":{\"colorbar\":{\"outlinewidth\":0,\"ticks\":\"\"}},\"type\":\"scatter3d\"}],\"scattercarpet\":[{\"marker\":{\"colorbar\":{\"outlinewidth\":0,\"ticks\":\"\"}},\"type\":\"scattercarpet\"}],\"scattergeo\":[{\"marker\":{\"colorbar\":{\"outlinewidth\":0,\"ticks\":\"\"}},\"type\":\"scattergeo\"}],\"scattergl\":[{\"marker\":{\"colorbar\":{\"outlinewidth\":0,\"ticks\":\"\"}},\"type\":\"scattergl\"}],\"scattermapbox\":[{\"marker\":{\"colorbar\":{\"outlinewidth\":0,\"ticks\":\"\"}},\"type\":\"scattermapbox\"}],\"scatterpolar\":[{\"marker\":{\"colorbar\":{\"outlinewidth\":0,\"ticks\":\"\"}},\"type\":\"scatterpolar\"}],\"scatterpolargl\":[{\"marker\":{\"colorbar\":{\"outlinewidth\":0,\"ticks\":\"\"}},\"type\":\"scatterpolargl\"}],\"scatterternary\":[{\"marker\":{\"colorbar\":{\"outlinewidth\":0,\"ticks\":\"\"}},\"type\":\"scatterternary\"}],\"surface\":[{\"colorbar\":{\"outlinewidth\":0,\"ticks\":\"\"},\"colorscale\":[[0.0,\"#0d0887\"],[0.1111111111111111,\"#46039f\"],[0.2222222222222222,\"#7201a8\"],[0.3333333333333333,\"#9c179e\"],[0.4444444444444444,\"#bd3786\"],[0.5555555555555556,\"#d8576b\"],[0.6666666666666666,\"#ed7953\"],[0.7777777777777778,\"#fb9f3a\"],[0.8888888888888888,\"#fdca26\"],[1.0,\"#f0f921\"]],\"type\":\"surface\"}],\"table\":[{\"cells\":{\"fill\":{\"color\":\"#EBF0F8\"},\"line\":{\"color\":\"white\"}},\"header\":{\"fill\":{\"color\":\"#C8D4E3\"},\"line\":{\"color\":\"white\"}},\"type\":\"table\"}]},\"layout\":{\"annotationdefaults\":{\"arrowcolor\":\"#2a3f5f\",\"arrowhead\":0,\"arrowwidth\":1},\"autotypenumbers\":\"strict\",\"coloraxis\":{\"colorbar\":{\"outlinewidth\":0,\"ticks\":\"\"}},\"colorscale\":{\"diverging\":[[0,\"#8e0152\"],[0.1,\"#c51b7d\"],[0.2,\"#de77ae\"],[0.3,\"#f1b6da\"],[0.4,\"#fde0ef\"],[0.5,\"#f7f7f7\"],[0.6,\"#e6f5d0\"],[0.7,\"#b8e186\"],[0.8,\"#7fbc41\"],[0.9,\"#4d9221\"],[1,\"#276419\"]],\"sequential\":[[0.0,\"#0d0887\"],[0.1111111111111111,\"#46039f\"],[0.2222222222222222,\"#7201a8\"],[0.3333333333333333,\"#9c179e\"],[0.4444444444444444,\"#bd3786\"],[0.5555555555555556,\"#d8576b\"],[0.6666666666666666,\"#ed7953\"],[0.7777777777777778,\"#fb9f3a\"],[0.8888888888888888,\"#fdca26\"],[1.0,\"#f0f921\"]],\"sequentialminus\":[[0.0,\"#0d0887\"],[0.1111111111111111,\"#46039f\"],[0.2222222222222222,\"#7201a8\"],[0.3333333333333333,\"#9c179e\"],[0.4444444444444444,\"#bd3786\"],[0.5555555555555556,\"#d8576b\"],[0.6666666666666666,\"#ed7953\"],[0.7777777777777778,\"#fb9f3a\"],[0.8888888888888888,\"#fdca26\"],[1.0,\"#f0f921\"]]},\"colorway\":[\"#636efa\",\"#EF553B\",\"#00cc96\",\"#ab63fa\",\"#FFA15A\",\"#19d3f3\",\"#FF6692\",\"#B6E880\",\"#FF97FF\",\"#FECB52\"],\"font\":{\"color\":\"#2a3f5f\"},\"geo\":{\"bgcolor\":\"white\",\"lakecolor\":\"white\",\"landcolor\":\"white\",\"showlakes\":true,\"showland\":true,\"subunitcolor\":\"#C8D4E3\"},\"hoverlabel\":{\"align\":\"left\"},\"hovermode\":\"closest\",\"mapbox\":{\"style\":\"light\"},\"paper_bgcolor\":\"white\",\"plot_bgcolor\":\"white\",\"polar\":{\"angularaxis\":{\"gridcolor\":\"#EBF0F8\",\"linecolor\":\"#EBF0F8\",\"ticks\":\"\"},\"bgcolor\":\"white\",\"radialaxis\":{\"gridcolor\":\"#EBF0F8\",\"linecolor\":\"#EBF0F8\",\"ticks\":\"\"}},\"scene\":{\"xaxis\":{\"backgroundcolor\":\"white\",\"gridcolor\":\"#DFE8F3\",\"gridwidth\":2,\"linecolor\":\"#EBF0F8\",\"showbackground\":true,\"ticks\":\"\",\"zerolinecolor\":\"#EBF0F8\"},\"yaxis\":{\"backgroundcolor\":\"white\",\"gridcolor\":\"#DFE8F3\",\"gridwidth\":2,\"linecolor\":\"#EBF0F8\",\"showbackground\":true,\"ticks\":\"\",\"zerolinecolor\":\"#EBF0F8\"},\"zaxis\":{\"backgroundcolor\":\"white\",\"gridcolor\":\"#DFE8F3\",\"gridwidth\":2,\"linecolor\":\"#EBF0F8\",\"showbackground\":true,\"ticks\":\"\",\"zerolinecolor\":\"#EBF0F8\"}},\"shapedefaults\":{\"line\":{\"color\":\"#2a3f5f\"}},\"ternary\":{\"aaxis\":{\"gridcolor\":\"#DFE8F3\",\"linecolor\":\"#A2B1C6\",\"ticks\":\"\"},\"baxis\":{\"gridcolor\":\"#DFE8F3\",\"linecolor\":\"#A2B1C6\",\"ticks\":\"\"},\"bgcolor\":\"white\",\"caxis\":{\"gridcolor\":\"#DFE8F3\",\"linecolor\":\"#A2B1C6\",\"ticks\":\"\"}},\"title\":{\"x\":0.05},\"xaxis\":{\"automargin\":true,\"gridcolor\":\"#EBF0F8\",\"linecolor\":\"#EBF0F8\",\"ticks\":\"\",\"title\":{\"standoff\":15},\"zerolinecolor\":\"#EBF0F8\",\"zerolinewidth\":2},\"yaxis\":{\"automargin\":true,\"gridcolor\":\"#EBF0F8\",\"linecolor\":\"#EBF0F8\",\"ticks\":\"\",\"title\":{\"standoff\":15},\"zerolinecolor\":\"#EBF0F8\",\"zerolinewidth\":2}}},\"xaxis\":{\"linecolor\":\"black\",\"linewidth\":1,\"showline\":true},\"yaxis\":{\"linecolor\":\"black\",\"linewidth\":1,\"showline\":true}},                        {\"responsive\": true}                    ).then(function(){\n",
       "                            \n",
       "var gd = document.getElementById('0109f1ef-25a9-48c4-bfe8-8af7f2055951');\n",
       "var x = new MutationObserver(function (mutations, observer) {{\n",
       "        var display = window.getComputedStyle(gd).display;\n",
       "        if (!display || display === 'none') {{\n",
       "            console.log([gd, 'removed!']);\n",
       "            Plotly.purge(gd);\n",
       "            observer.disconnect();\n",
       "        }}\n",
       "}});\n",
       "\n",
       "// Listen for the removal of the full notebook cells\n",
       "var notebookContainer = gd.closest('#notebook-container');\n",
       "if (notebookContainer) {{\n",
       "    x.observe(notebookContainer, {childList: true});\n",
       "}}\n",
       "\n",
       "// Listen for the clearing of the current output cell\n",
       "var outputEl = gd.closest('.output');\n",
       "if (outputEl) {{\n",
       "    x.observe(outputEl, {childList: true});\n",
       "}}\n",
       "\n",
       "                        })                };                });            </script>        </div>"
      ]
     },
     "metadata": {},
     "output_type": "display_data"
    }
   ],
   "source": [
    "from util.plotting import plot_validation_vs_test_performance\n",
    "\n",
    "plot_validation_vs_test_performance(iml_result=result, result_path=ml_result_path)"
   ]
  },
  {
   "cell_type": "code",
   "execution_count": 15,
   "metadata": {},
   "outputs": [
    {
     "data": {
      "text/html": [
       "\n",
       "        <iframe\n",
       "            width=\"700\"\n",
       "            height=\"600\"\n",
       "            src=\"experiment1b/ml_result/result/HTML_output/train_ml_split_1_immune_state_kmer_frequency_logistic_regression_optimal_reports_ml_method_coefficients_largest_25_coefficients.html\"\n",
       "            frameborder=\"0\"\n",
       "            allowfullscreen\n",
       "            \n",
       "        ></iframe>\n",
       "        "
      ],
      "text/plain": [
       "<IPython.lib.display.IFrame at 0x7fc84724f130>"
      ]
     },
     "execution_count": 15,
     "metadata": {},
     "output_type": "execute_result"
    }
   ],
   "source": [
    "# show what the model has learned\n",
    "\n",
    "from IPython.display import IFrame\n",
    "\n",
    "IFrame(src=str(ml_result_path / \"result/HTML_output/train_ml_split_1_immune_state_kmer_frequency_logistic_regression_optimal_reports_ml_method_coefficients_largest_25_coefficients.html\"),  width=700, height=600)\n"
   ]
  },
  {
   "cell_type": "code",
   "execution_count": null,
   "metadata": {},
   "outputs": [],
   "source": []
  }
 ],
 "metadata": {
  "kernelspec": {
   "display_name": "Python 3 (ipykernel)",
   "language": "python",
   "name": "python3"
  },
  "language_info": {
   "codemirror_mode": {
    "name": "ipython",
    "version": 3
   },
   "file_extension": ".py",
   "mimetype": "text/x-python",
   "name": "python",
   "nbconvert_exporter": "python",
   "pygments_lexer": "ipython3",
   "version": "3.8.3"
  },
  "varInspector": {
   "cols": {
    "lenName": 16,
    "lenType": 16,
    "lenVar": 40
   },
   "kernels_config": {
    "python": {
     "delete_cmd_postfix": "",
     "delete_cmd_prefix": "del ",
     "library": "var_list.py",
     "varRefreshCmd": "print(var_dic_list())"
    },
    "r": {
     "delete_cmd_postfix": ") ",
     "delete_cmd_prefix": "rm(",
     "library": "var_list.r",
     "varRefreshCmd": "cat(var_dic_list()) "
    }
   },
   "types_to_exclude": [
    "module",
    "function",
    "builtin_function_or_method",
    "instance",
    "_Feature"
   ],
   "window_display": false
  }
 },
 "nbformat": 4,
 "nbformat_minor": 1
}