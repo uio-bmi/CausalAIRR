{
 "cells": [
  {
   "cell_type": "code",
   "execution_count": 1,
   "metadata": {},
   "outputs": [],
   "source": [
    "from dagsim.baseDS import Graph, Generic\n",
    "import numpy as np\n",
    "\n",
    "from sklearn.linear_model import LogisticRegression\n",
    "import pandas as pd\n",
    "import matplotlib.pyplot as plt\n",
    "from sklearn.metrics import average_precision_score\n",
    "from sklearn.metrics import balanced_accuracy_score\n"
   ]
  },
  {
   "cell_type": "code",
   "execution_count": 2,
   "metadata": {
    "pycharm": {
     "name": "#%%\n"
    }
   },
   "outputs": [],
   "source": [
    "def sig_fun(x, conf):\n",
    "    z = np.exp(-(x + conf -1 + np.random.normal(scale=0.1)))\n",
    "    sig = 1 / (1 + z)\n",
    "    out = 1 if sig>0.5 else 0\n",
    "    return out\n",
    "\n",
    "def get_x(conf):\n",
    "    if conf:\n",
    "        return np.random.binomial(n=1, p=0.3)\n",
    "    else:\n",
    "        return np.random.binomial(n=1, p=0.6)"
   ]
  },
  {
   "cell_type": "code",
   "execution_count": 3,
   "metadata": {
    "pycharm": {
     "name": "#%%\n"
    }
   },
   "outputs": [],
   "source": [
    "def simulate_data(p1, p2):\n",
    "    conf = Generic(name=\"conf\", function=np.random.binomial, arguments={\"n\": 1, \"p\": p1})\n",
    "    X = Generic(name=\"X\", function=get_x, arguments={\"conf\": conf})\n",
    "    Y = Generic(name=\"Y\", arguments={\"x\": X, \"conf\": conf}, function=sig_fun)\n",
    "\n",
    "    listNodes = [X, conf, Y]\n",
    "    my_graph = Graph(\"Graph1\", listNodes)\n",
    "    train = my_graph.simulate(num_samples=1000)\n",
    "    test = my_graph.simulate(num_samples=150)\n",
    "\n",
    "    conf = Generic(name=\"conf\", function=np.random.binomial, arguments={\"n\": 1, \"p\": p2})\n",
    "    X = Generic(name=\"X\", function=get_x, arguments={\"conf\": conf})\n",
    "    Y = Generic(name=\"Y\", arguments={\"x\": X, \"conf\": conf}, function=sig_fun)\n",
    "    \n",
    "    listNodes = [X, conf, Y]\n",
    "    my_graph = Graph(\"Graph1\", listNodes)\n",
    "    ext = my_graph.simulate(num_samples=150)\n",
    "\n",
    "    return train, test, ext"
   ]
  },
  {
   "cell_type": "code",
   "execution_count": 4,
   "metadata": {
    "pycharm": {
     "name": "#%%\n"
    }
   },
   "outputs": [],
   "source": [
    "def evaluate(train, test, ext):\n",
    "    clf = LogisticRegression(random_state=1)\n",
    "\n",
    "    X_tr = pd.DataFrame.from_dict(train).to_numpy()[:, 0:2]\n",
    "    Y_tr = pd.DataFrame.from_dict(train).to_numpy()[:, 2]\n",
    "\n",
    "    X_te = pd.DataFrame.from_dict(test).to_numpy()[:, 0:2]\n",
    "    Y_te = pd.DataFrame.from_dict(test).to_numpy()[:, 2]\n",
    "\n",
    "    X_ex = pd.DataFrame.from_dict(ext).to_numpy()[:, 0:2]\n",
    "    Y_ex = pd.DataFrame.from_dict(ext).to_numpy()[:, 2]\n",
    "    \n",
    "    clf.fit(X_tr, Y_tr)\n",
    "\n",
    "    tr_bacc = balanced_accuracy_score(clf.predict(X_tr), Y_tr)\n",
    "    te_bacc = balanced_accuracy_score(clf.predict(X_te), Y_te)\n",
    "    ex_bacc = balanced_accuracy_score(clf.predict(X_ex), Y_ex)\n",
    "   \n",
    "    tr_auprc = average_precision_score(clf.predict(X_tr), Y_tr)\n",
    "    te_auprc = average_precision_score(clf.predict(X_te), Y_te)\n",
    "    ex_auprc = average_precision_score(clf.predict(X_ex), Y_ex)\n",
    "    \n",
    "    return (tr_bacc, te_bacc, ex_bacc), (tr_auprc, te_auprc, ex_auprc)"
   ]
  },
  {
   "cell_type": "code",
   "execution_count": 5,
   "metadata": {
    "pycharm": {
     "is_executing": true
    }
   },
   "outputs": [],
   "source": [
    "def run_learning(p1, p2):\n",
    "    tr_bacc_l = []\n",
    "    te_bacc_l = []\n",
    "    ex_bacc_l = []\n",
    "\n",
    "    tr_auprc_l = []\n",
    "    te_auprc_l = []\n",
    "    ex_auprc_l = []\n",
    "\n",
    "    for i in range(500):\n",
    "        train, test, ext = simulate_data(p1, p2)\n",
    "        bacc, auprc = evaluate(train, test, ext)\n",
    "        tr_bacc, te_bacc, ex_bacc = bacc\n",
    "\n",
    "        tr_bacc_l.append(tr_bacc)\n",
    "        te_bacc_l.append(te_bacc)\n",
    "        ex_bacc_l.append(ex_bacc)\n",
    "\n",
    "        tr_auprc, te_auprc, ex_auprc = auprc\n",
    "\n",
    "        tr_auprc_l.append(tr_auprc)\n",
    "        te_auprc_l.append(te_auprc)\n",
    "        ex_auprc_l.append(ex_auprc)\n",
    "\n",
    "    return tr_bacc_l, te_bacc_l, ex_bacc_l, tr_auprc_l, te_auprc_l, ex_auprc_l"
   ]
  },
  {
   "cell_type": "code",
   "execution_count": 6,
   "metadata": {
    "pycharm": {
     "is_executing": true
    },
    "scrolled": true
   },
   "outputs": [],
   "source": [
    "def plot_bacc(tr_bacc_l, te_bacc_l, ex_bacc_l):\n",
    "    offset = 0\n",
    "    mean = [a-offset for a in [np.mean(tr_bacc_l), np.mean(te_bacc_l), np.mean(ex_bacc_l)]]\n",
    "    std_dev = [np.std(tr_bacc_l), np.std(te_bacc_l), np.std(ex_bacc_l)]\n",
    "\n",
    "    plt.bar([\"train\", \"test\", \"ext\"], mean, yerr=std_dev, align='center',\n",
    "           alpha=0.5,\n",
    "           ecolor='black',\n",
    "           capsize=15, bottom=offset)"
   ]
  },
  {
   "cell_type": "code",
   "execution_count": 7,
   "metadata": {
    "scrolled": true
   },
   "outputs": [],
   "source": [
    "def plot_auprc(tr_auprc_l, te_auprc_l, ex_auprc_l):\n",
    "    offset = 0\n",
    "    mean = [a-offset for a in [np.mean(tr_auprc_l), np.mean(te_auprc_l), np.mean(ex_auprc_l)]]\n",
    "    std_dev = [np.std(tr_auprc_l), np.std(te_auprc_l), np.std(ex_auprc_l)]\n",
    "\n",
    "    plt.bar([\"train\", \"test\", \"ext\"], mean, yerr=std_dev, align='center',\n",
    "           alpha=0.5,\n",
    "           ecolor='black',\n",
    "           capsize=15, bottom=offset)"
   ]
  },
  {
   "cell_type": "code",
   "execution_count": 8,
   "metadata": {},
   "outputs": [
    {
     "data": {
      "image/png": "[encoded data removed]",
      "text/plain": [
       "<Figure size 640x800 with 6 Axes>"
      ]
     },
     "metadata": {
      "needs_background": "light"
     },
     "output_type": "display_data"
    }
   ],
   "source": [
    "probs = [(0.5,0.5), (0.8, 0.2), (0.2, 0.8)]\n",
    "\n",
    "plt.figure(figsize=(8, 10), dpi=80)\n",
    "\n",
    "for idx, prob in enumerate(probs):\n",
    "    tr_bacc_l, te_bacc_l, ex_bacc_l, tr_auprc_l, te_auprc_l, ex_auprc_l = run_learning(*prob)\n",
    "    plt.subplot(3,2,2*idx+1)\n",
    "    plt.title(str(idx) + \", bacc\")\n",
    "    plot_bacc(tr_bacc_l, te_bacc_l, ex_bacc_l)\n",
    "    plt.subplot(3,2,2*idx+2)\n",
    "    plt.title(str(idx) + \", auprc\")\n",
    "    plot_auprc(tr_auprc_l, te_auprc_l, ex_auprc_l)    "
   ]
  },
  {
   "cell_type": "code",
   "execution_count": null,
   "metadata": {},
   "outputs": [],
   "source": []
  }
 ],
 "metadata": {
  "kernelspec": {
   "display_name": "Python 3 (ipykernel)",
   "language": "python",
   "name": "python3"
  },
  "language_info": {
   "codemirror_mode": {
    "name": "ipython",
    "version": 3
   },
   "file_extension": ".py",
   "mimetype": "text/x-python",
   "name": "python",
   "nbconvert_exporter": "python",
   "pygments_lexer": "ipython3",
   "version": "3.8.10"
  }
 },
 "nbformat": 4,
 "nbformat_minor": 1
}