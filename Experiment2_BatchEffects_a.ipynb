{
 "cells": [
  {
   "cell_type": "markdown",
   "metadata": {
    "collapsed": true
   },
   "source": [
    "# Experiment 2: influence of an experimental protocol on the immune state prediction"
   ]
  },
  {
   "cell_type": "code",
   "execution_count": 2,
   "metadata": {},
   "outputs": [],
   "source": [
    "from util.implanting import make_immune_signal, make_exp_protocol_signal\n",
    "\n",
    "# make immune state signal:\n",
    "\n",
    "immune_state_signal = make_immune_signal()\n",
    "\n",
    "# make experimental protocol signal (two signals for two experimental protocols):\n",
    "\n",
    "exp_protocol1_signal = make_exp_protocol_signal(protocol_id=1)\n",
    "exp_protocol2_signal = make_exp_protocol_signal(protocol_id=2)\n"
   ]
  },
  {
   "cell_type": "code",
   "execution_count": 3,
   "metadata": {},
   "outputs": [],
   "source": [
    "import os\n",
    "import dagsim.baseDS as ds\n",
    "import numpy as np\n",
    "import uuid\n",
    "from pathlib import Path\n",
    "from util.load_repertoire import load_olga_repertoire, load_iml_repertoire\n",
    "from util.implanting import make_immune_signal, make_repertoire_with_signal\n",
    "from immuneML.util.PathBuilder import PathBuilder\n",
    "from util.implanting import make_repertoire_without_signal\n",
    "from util.implanting import make_AIRR_dataset\n",
    "\n",
    "# os.chdir(\"./simData\")\n",
    "result_path = PathBuilder.build(\"./data/implanted/\")"
   ]
  },
  {
   "cell_type": "code",
   "execution_count": 17,
   "metadata": {
    "pycharm": {
     "name": "#%%\n"
    }
   },
   "outputs": [],
   "source": [
    "def get_state():\n",
    "    return np.random.binomial(n=1, p=0.5)\n",
    "\n",
    "def get_protocol(state):\n",
    "    return np.random.binomial(n=1, p=0.5) if state==1 else np.random.binomial(n=1, p=0.2)\n",
    "\n",
    "def generate_repertoire(state, protocol, seed):\n",
    "    uid = str(uuid.uuid4())\n",
    "    # path = \"healthy\" if state==1 else \"disease\"\n",
    "\n",
    "    PathBuilder.build('./data/olga/')\n",
    "\n",
    "    os.system(\"olga-generate_sequences --humanTRB -n 1000 -o ./data/olga/\" + uid + \".tsv --seed=\" + str(seed))\n",
    "\n",
    "    rep = load_olga_repertoire(filepath=Path(\"./data/olga/\" + uid + \".tsv\"), result_path=Path(\"./data/Exp2a/immuneML_format/\"))\n",
    "\n",
    "    if state == 0:\n",
    "        rep = make_repertoire_without_signal(repertoire=rep, signal_name=immune_state_signal.id, path=result_path)\n",
    "    else:\n",
    "        rep = make_repertoire_with_signal(rep, immune_state_signal, result_path)\n",
    "\n",
    "    if protocol == 0:\n",
    "        make_repertoire_with_signal(rep, exp_protocol1_signal, result_path)\n",
    "    else:\n",
    "        make_repertoire_with_signal(rep, exp_protocol2_signal, result_path)\n",
    "\n",
    "    return uid"
   ]
  },
  {
   "cell_type": "code",
   "execution_count": 9,
   "metadata": {
    "pycharm": {
     "name": "#%%\n"
    }
   },
   "outputs": [],
   "source": [
    "Index = ds.Generic(name=\"index\", function=np.arange, size_field=\"stop\")\n",
    "ImmuneState = ds.Generic(name=\"state\", function=get_state)\n",
    "Protocol = ds.Generic(name=\"protocol\", function=get_protocol, arguments={\"state\": ImmuneState})\n",
    "Repertoire = ds.Generic(name=\"repertoire\", function=generate_repertoire, arguments={\"state\": ImmuneState, \"protocol\": Protocol, \"seed\": Index})"
   ]
  },
  {
   "cell_type": "code",
   "execution_count": null,
   "outputs": [],
   "source": [
    "CAIRR_graph = ds.Graph(name=\"CAIRR_graph_2a\", list_nodes=[Index, Protocol, ImmuneState, Repertoire])\n",
    "CAIRR_data = CAIRR_graph.simulate(num_samples=10, csv_name=\"CAIRR_data_2a\")\n"
   ],
   "metadata": {
    "collapsed": false,
    "pycharm": {
     "name": "#%%\n"
    }
   }
  },
  {
   "cell_type": "code",
   "execution_count": 10,
   "metadata": {
    "pycharm": {
     "name": "#%%\n"
    }
   },
   "outputs": [
    {
     "name": "stdout",
     "output_type": "stream",
     "text": [
      "Starting sequence generation... \n",
      "Completed generating all 1000 sequences in 0.07 seconds.\n"
     ]
    },
    {
     "ename": "AttributeError",
     "evalue": "'str' object has no attribute 'implant_to_repertoire'",
     "output_type": "error",
     "traceback": [
      "\u001B[0;31m---------------------------------------------------------------------------\u001B[0m",
      "\u001B[0;31mAttributeError\u001B[0m                            Traceback (most recent call last)",
      "\u001B[0;32m/tmp/ipykernel_43490/1017103279.py\u001B[0m in \u001B[0;36m<module>\u001B[0;34m\u001B[0m\n\u001B[1;32m      1\u001B[0m \u001B[0mCAIRR_graph\u001B[0m \u001B[0;34m=\u001B[0m \u001B[0mds\u001B[0m\u001B[0;34m.\u001B[0m\u001B[0mGraph\u001B[0m\u001B[0;34m(\u001B[0m\u001B[0mname\u001B[0m\u001B[0;34m=\u001B[0m\u001B[0;34m\"CAIRR_graph\"\u001B[0m\u001B[0;34m,\u001B[0m \u001B[0mlist_nodes\u001B[0m\u001B[0;34m=\u001B[0m\u001B[0;34m[\u001B[0m\u001B[0mIndex\u001B[0m\u001B[0;34m,\u001B[0m \u001B[0mMediator\u001B[0m\u001B[0;34m,\u001B[0m \u001B[0mImmuneState\u001B[0m\u001B[0;34m,\u001B[0m \u001B[0mRepertoire\u001B[0m\u001B[0;34m]\u001B[0m\u001B[0;34m)\u001B[0m\u001B[0;34m\u001B[0m\u001B[0;34m\u001B[0m\u001B[0m\n\u001B[0;32m----> 2\u001B[0;31m \u001B[0mCAIRR_data\u001B[0m \u001B[0;34m=\u001B[0m \u001B[0mCAIRR_graph\u001B[0m\u001B[0;34m.\u001B[0m\u001B[0msimulate\u001B[0m\u001B[0;34m(\u001B[0m\u001B[0mnum_samples\u001B[0m\u001B[0;34m=\u001B[0m\u001B[0;36m10\u001B[0m\u001B[0;34m,\u001B[0m \u001B[0mcsv_name\u001B[0m\u001B[0;34m=\u001B[0m\u001B[0;34m\"CAIRR_data\"\u001B[0m\u001B[0;34m)\u001B[0m\u001B[0;34m\u001B[0m\u001B[0;34m\u001B[0m\u001B[0m\n\u001B[0m",
      "\u001B[0;32m~/PycharmProjects/CausalAIRR/venv/lib/python3.8/site-packages/dagsim/baseDS.py\u001B[0m in \u001B[0;36msimulate\u001B[0;34m(self, num_samples, selection, stratify, csv_name)\u001B[0m\n\u001B[1;32m    293\u001B[0m             \u001B[0;32mreturn\u001B[0m \u001B[0moutput_dict\u001B[0m\u001B[0;34m\u001B[0m\u001B[0;34m\u001B[0m\u001B[0m\n\u001B[1;32m    294\u001B[0m \u001B[0;34m\u001B[0m\u001B[0m\n\u001B[0;32m--> 295\u001B[0;31m         \u001B[0moutput_dict\u001B[0m \u001B[0;34m=\u001B[0m \u001B[0mtraverse_graph\u001B[0m\u001B[0;34m(\u001B[0m\u001B[0mnum_samples\u001B[0m\u001B[0;34m)\u001B[0m\u001B[0;34m\u001B[0m\u001B[0;34m\u001B[0m\u001B[0m\n\u001B[0m\u001B[1;32m    296\u001B[0m \u001B[0;34m\u001B[0m\u001B[0m\n\u001B[1;32m    297\u001B[0m         \u001B[0mselectionNode\u001B[0m \u001B[0;34m=\u001B[0m \u001B[0mself\u001B[0m\u001B[0;34m.\u001B[0m\u001B[0mget_selection\u001B[0m\u001B[0;34m(\u001B[0m\u001B[0;34m)\u001B[0m\u001B[0;34m\u001B[0m\u001B[0;34m\u001B[0m\u001B[0m\n",
      "\u001B[0;32m~/PycharmProjects/CausalAIRR/venv/lib/python3.8/site-packages/dagsim/baseDS.py\u001B[0m in \u001B[0;36mtraverse_graph\u001B[0;34m(num_samples)\u001B[0m\n\u001B[1;32m    281\u001B[0m             \u001B[0;32mfor\u001B[0m \u001B[0mnode\u001B[0m \u001B[0;32min\u001B[0m \u001B[0mself\u001B[0m\u001B[0;34m.\u001B[0m\u001B[0mtop_order\u001B[0m\u001B[0;34m:\u001B[0m\u001B[0;34m\u001B[0m\u001B[0;34m\u001B[0m\u001B[0m\n\u001B[1;32m    282\u001B[0m                 \u001B[0mnode\u001B[0m \u001B[0;34m=\u001B[0m \u001B[0mself\u001B[0m\u001B[0;34m.\u001B[0m\u001B[0mget_node_by_name\u001B[0m\u001B[0;34m(\u001B[0m\u001B[0mnode\u001B[0m\u001B[0;34m)\u001B[0m\u001B[0;34m\u001B[0m\u001B[0;34m\u001B[0m\u001B[0m\n\u001B[0;32m--> 283\u001B[0;31m                 \u001B[0mnode\u001B[0m\u001B[0;34m.\u001B[0m\u001B[0mnode_simulate\u001B[0m\u001B[0;34m(\u001B[0m\u001B[0mnum_samples\u001B[0m\u001B[0;34m)\u001B[0m\u001B[0;34m\u001B[0m\u001B[0;34m\u001B[0m\u001B[0m\n\u001B[0m\u001B[1;32m    284\u001B[0m                 \u001B[0;32mif\u001B[0m \u001B[0mnode\u001B[0m\u001B[0;34m.\u001B[0m\u001B[0m__class__\u001B[0m\u001B[0;34m.\u001B[0m\u001B[0m__name__\u001B[0m \u001B[0;34m==\u001B[0m \u001B[0;34m\"Selection\"\u001B[0m\u001B[0;34m:\u001B[0m\u001B[0;34m\u001B[0m\u001B[0;34m\u001B[0m\u001B[0m\n\u001B[1;32m    285\u001B[0m                     \u001B[0;32massert\u001B[0m \u001B[0mall\u001B[0m\u001B[0;34m(\u001B[0m\u001B[0misinstance\u001B[0m\u001B[0;34m(\u001B[0m\u001B[0mx\u001B[0m\u001B[0;34m,\u001B[0m \u001B[0mbool\u001B[0m\u001B[0;34m)\u001B[0m \u001B[0;32mfor\u001B[0m \u001B[0mx\u001B[0m \u001B[0;32min\u001B[0m \u001B[0mnode\u001B[0m\u001B[0;34m.\u001B[0m\u001B[0moutput\u001B[0m\u001B[0;34m)\u001B[0m\u001B[0;34m,\u001B[0m \u001B[0;34m\"The selection node function should return \"\u001B[0m\u001B[0;31m \u001B[0m\u001B[0;31m\\\u001B[0m\u001B[0;34m\u001B[0m\u001B[0;34m\u001B[0m\u001B[0m\n",
      "\u001B[0;32m~/PycharmProjects/CausalAIRR/venv/lib/python3.8/site-packages/dagsim/baseDS.py\u001B[0m in \u001B[0;36mnode_simulate\u001B[0;34m(self, num_samples)\u001B[0m\n\u001B[1;32m     48\u001B[0m     \u001B[0;32mdef\u001B[0m \u001B[0mnode_simulate\u001B[0m\u001B[0;34m(\u001B[0m\u001B[0mself\u001B[0m\u001B[0;34m,\u001B[0m \u001B[0mnum_samples\u001B[0m\u001B[0;34m)\u001B[0m\u001B[0;34m:\u001B[0m\u001B[0;34m\u001B[0m\u001B[0;34m\u001B[0m\u001B[0m\n\u001B[1;32m     49\u001B[0m         \u001B[0;32mif\u001B[0m \u001B[0mself\u001B[0m\u001B[0;34m.\u001B[0m\u001B[0msize_field\u001B[0m \u001B[0;32mis\u001B[0m \u001B[0;32mNone\u001B[0m\u001B[0;34m:\u001B[0m\u001B[0;34m\u001B[0m\u001B[0;34m\u001B[0m\u001B[0m\n\u001B[0;32m---> 50\u001B[0;31m             \u001B[0mself\u001B[0m\u001B[0;34m.\u001B[0m\u001B[0moutput\u001B[0m \u001B[0;34m=\u001B[0m \u001B[0;34m[\u001B[0m\u001B[0mself\u001B[0m\u001B[0;34m.\u001B[0m\u001B[0mforward\u001B[0m\u001B[0;34m(\u001B[0m\u001B[0mi\u001B[0m\u001B[0;34m)\u001B[0m \u001B[0;32mfor\u001B[0m \u001B[0mi\u001B[0m \u001B[0;32min\u001B[0m \u001B[0mrange\u001B[0m\u001B[0;34m(\u001B[0m\u001B[0mnum_samples\u001B[0m\u001B[0;34m)\u001B[0m\u001B[0;34m]\u001B[0m\u001B[0;34m\u001B[0m\u001B[0;34m\u001B[0m\u001B[0m\n\u001B[0m\u001B[1;32m     51\u001B[0m         \u001B[0;32melse\u001B[0m\u001B[0;34m:\u001B[0m\u001B[0;34m\u001B[0m\u001B[0;34m\u001B[0m\u001B[0m\n\u001B[1;32m     52\u001B[0m             \u001B[0mself\u001B[0m\u001B[0;34m.\u001B[0m\u001B[0moutput\u001B[0m \u001B[0;34m=\u001B[0m \u001B[0mself\u001B[0m\u001B[0;34m.\u001B[0m\u001B[0mvectorize_forward\u001B[0m\u001B[0;34m(\u001B[0m\u001B[0mnum_samples\u001B[0m\u001B[0;34m)\u001B[0m\u001B[0;34m\u001B[0m\u001B[0;34m\u001B[0m\u001B[0m\n",
      "\u001B[0;32m~/PycharmProjects/CausalAIRR/venv/lib/python3.8/site-packages/dagsim/baseDS.py\u001B[0m in \u001B[0;36m<listcomp>\u001B[0;34m(.0)\u001B[0m\n\u001B[1;32m     48\u001B[0m     \u001B[0;32mdef\u001B[0m \u001B[0mnode_simulate\u001B[0m\u001B[0;34m(\u001B[0m\u001B[0mself\u001B[0m\u001B[0;34m,\u001B[0m \u001B[0mnum_samples\u001B[0m\u001B[0;34m)\u001B[0m\u001B[0;34m:\u001B[0m\u001B[0;34m\u001B[0m\u001B[0;34m\u001B[0m\u001B[0m\n\u001B[1;32m     49\u001B[0m         \u001B[0;32mif\u001B[0m \u001B[0mself\u001B[0m\u001B[0;34m.\u001B[0m\u001B[0msize_field\u001B[0m \u001B[0;32mis\u001B[0m \u001B[0;32mNone\u001B[0m\u001B[0;34m:\u001B[0m\u001B[0;34m\u001B[0m\u001B[0;34m\u001B[0m\u001B[0m\n\u001B[0;32m---> 50\u001B[0;31m             \u001B[0mself\u001B[0m\u001B[0;34m.\u001B[0m\u001B[0moutput\u001B[0m \u001B[0;34m=\u001B[0m \u001B[0;34m[\u001B[0m\u001B[0mself\u001B[0m\u001B[0;34m.\u001B[0m\u001B[0mforward\u001B[0m\u001B[0;34m(\u001B[0m\u001B[0mi\u001B[0m\u001B[0;34m)\u001B[0m \u001B[0;32mfor\u001B[0m \u001B[0mi\u001B[0m \u001B[0;32min\u001B[0m \u001B[0mrange\u001B[0m\u001B[0;34m(\u001B[0m\u001B[0mnum_samples\u001B[0m\u001B[0;34m)\u001B[0m\u001B[0;34m]\u001B[0m\u001B[0;34m\u001B[0m\u001B[0;34m\u001B[0m\u001B[0m\n\u001B[0m\u001B[1;32m     51\u001B[0m         \u001B[0;32melse\u001B[0m\u001B[0;34m:\u001B[0m\u001B[0;34m\u001B[0m\u001B[0;34m\u001B[0m\u001B[0m\n\u001B[1;32m     52\u001B[0m             \u001B[0mself\u001B[0m\u001B[0;34m.\u001B[0m\u001B[0moutput\u001B[0m \u001B[0;34m=\u001B[0m \u001B[0mself\u001B[0m\u001B[0;34m.\u001B[0m\u001B[0mvectorize_forward\u001B[0m\u001B[0;34m(\u001B[0m\u001B[0mnum_samples\u001B[0m\u001B[0;34m)\u001B[0m\u001B[0;34m\u001B[0m\u001B[0;34m\u001B[0m\u001B[0m\n",
      "\u001B[0;32m~/PycharmProjects/CausalAIRR/venv/lib/python3.8/site-packages/dagsim/baseDS.py\u001B[0m in \u001B[0;36mforward\u001B[0;34m(self, idx)\u001B[0m\n\u001B[1;32m     44\u001B[0m         \u001B[0mtemp_dict\u001B[0m \u001B[0;34m=\u001B[0m \u001B[0;34m{\u001B[0m\u001B[0;34m**\u001B[0m\u001B[0mtemp_dict\u001B[0m\u001B[0;34m,\u001B[0m \u001B[0;34m**\u001B[0m\u001B[0mself\u001B[0m\u001B[0;34m.\u001B[0m\u001B[0madditional_parameters\u001B[0m\u001B[0;34m}\u001B[0m\u001B[0;34m\u001B[0m\u001B[0;34m\u001B[0m\u001B[0m\n\u001B[1;32m     45\u001B[0m         \u001B[0;31m# print(str(self.name) + str(temp_dict))\u001B[0m\u001B[0;34m\u001B[0m\u001B[0;34m\u001B[0m\u001B[0;34m\u001B[0m\u001B[0m\n\u001B[0;32m---> 46\u001B[0;31m         \u001B[0;32mreturn\u001B[0m \u001B[0mself\u001B[0m\u001B[0;34m.\u001B[0m\u001B[0mfunction\u001B[0m\u001B[0;34m(\u001B[0m\u001B[0;34m**\u001B[0m\u001B[0mtemp_dict\u001B[0m\u001B[0;34m)\u001B[0m\u001B[0;34m\u001B[0m\u001B[0;34m\u001B[0m\u001B[0m\n\u001B[0m\u001B[1;32m     47\u001B[0m \u001B[0;34m\u001B[0m\u001B[0m\n\u001B[1;32m     48\u001B[0m     \u001B[0;32mdef\u001B[0m \u001B[0mnode_simulate\u001B[0m\u001B[0;34m(\u001B[0m\u001B[0mself\u001B[0m\u001B[0;34m,\u001B[0m \u001B[0mnum_samples\u001B[0m\u001B[0;34m)\u001B[0m\u001B[0;34m:\u001B[0m\u001B[0;34m\u001B[0m\u001B[0;34m\u001B[0m\u001B[0m\n",
      "\u001B[0;32m/tmp/ipykernel_43490/155820849.py\u001B[0m in \u001B[0;36mgenerate_repertoire\u001B[0;34m(state, mediator, seed)\u001B[0m\n\u001B[1;32m     23\u001B[0m         \u001B[0mmake_repertoire_without_signal\u001B[0m\u001B[0;34m(\u001B[0m\u001B[0mrepertoire\u001B[0m\u001B[0;34m=\u001B[0m\u001B[0mrep\u001B[0m\u001B[0;34m,\u001B[0m \u001B[0msignal_name\u001B[0m\u001B[0;34m=\u001B[0m\u001B[0mexp_protocol1_signal\u001B[0m\u001B[0;34m.\u001B[0m\u001B[0mid\u001B[0m\u001B[0;34m,\u001B[0m \u001B[0mpath\u001B[0m\u001B[0;34m=\u001B[0m\u001B[0mresult_path\u001B[0m\u001B[0;34m)\u001B[0m\u001B[0;34m\u001B[0m\u001B[0;34m\u001B[0m\u001B[0m\n\u001B[1;32m     24\u001B[0m     \u001B[0;32melse\u001B[0m\u001B[0;34m:\u001B[0m\u001B[0;34m\u001B[0m\u001B[0;34m\u001B[0m\u001B[0m\n\u001B[0;32m---> 25\u001B[0;31m         \u001B[0mmake_repertoire_with_signal\u001B[0m\u001B[0;34m(\u001B[0m\u001B[0mrep\u001B[0m\u001B[0;34m,\u001B[0m \u001B[0mexp_protocol2_signal\u001B[0m\u001B[0;34m.\u001B[0m\u001B[0mid\u001B[0m\u001B[0;34m,\u001B[0m \u001B[0mresult_path\u001B[0m\u001B[0;34m)\u001B[0m\u001B[0;34m\u001B[0m\u001B[0;34m\u001B[0m\u001B[0m\n\u001B[0m\u001B[1;32m     26\u001B[0m \u001B[0;34m\u001B[0m\u001B[0m\n\u001B[1;32m     27\u001B[0m     \u001B[0;32mreturn\u001B[0m \u001B[0muid\u001B[0m\u001B[0;34m\u001B[0m\u001B[0;34m\u001B[0m\u001B[0m\n",
      "\u001B[0;32m~/PycharmProjects/CausalAIRR/util/implanting.py\u001B[0m in \u001B[0;36mmake_repertoire_with_signal\u001B[0;34m(repertoire, signal, result_path)\u001B[0m\n\u001B[1;32m     61\u001B[0m \u001B[0;34m\u001B[0m\u001B[0m\n\u001B[1;32m     62\u001B[0m \u001B[0;32mdef\u001B[0m \u001B[0mmake_repertoire_with_signal\u001B[0m\u001B[0;34m(\u001B[0m\u001B[0mrepertoire\u001B[0m\u001B[0;34m:\u001B[0m \u001B[0mRepertoire\u001B[0m\u001B[0;34m,\u001B[0m \u001B[0msignal\u001B[0m\u001B[0;34m:\u001B[0m \u001B[0mSignal\u001B[0m\u001B[0;34m,\u001B[0m \u001B[0mresult_path\u001B[0m\u001B[0;34m:\u001B[0m \u001B[0mPath\u001B[0m\u001B[0;34m)\u001B[0m\u001B[0;34m:\u001B[0m\u001B[0;34m\u001B[0m\u001B[0;34m\u001B[0m\u001B[0m\n\u001B[0;32m---> 63\u001B[0;31m     \u001B[0mnew_repertoire\u001B[0m \u001B[0;34m=\u001B[0m \u001B[0msignal\u001B[0m\u001B[0;34m.\u001B[0m\u001B[0mimplant_to_repertoire\u001B[0m\u001B[0;34m(\u001B[0m\u001B[0mrepertoire\u001B[0m\u001B[0;34m=\u001B[0m\u001B[0mrepertoire\u001B[0m\u001B[0;34m,\u001B[0m \u001B[0mrepertoire_implanting_rate\u001B[0m\u001B[0;34m=\u001B[0m\u001B[0;36m0.5\u001B[0m\u001B[0;34m,\u001B[0m \u001B[0mpath\u001B[0m\u001B[0;34m=\u001B[0m\u001B[0mresult_path\u001B[0m\u001B[0;34m)\u001B[0m\u001B[0;34m\u001B[0m\u001B[0;34m\u001B[0m\u001B[0m\n\u001B[0m\u001B[1;32m     64\u001B[0m     \u001B[0mnew_repertoire\u001B[0m\u001B[0;34m.\u001B[0m\u001B[0mmetadata\u001B[0m\u001B[0;34m[\u001B[0m\u001B[0;34m'filename'\u001B[0m\u001B[0;34m]\u001B[0m \u001B[0;34m=\u001B[0m \u001B[0mnew_repertoire\u001B[0m\u001B[0;34m.\u001B[0m\u001B[0mdata_filename\u001B[0m\u001B[0;34m.\u001B[0m\u001B[0mname\u001B[0m\u001B[0;34m\u001B[0m\u001B[0;34m\u001B[0m\u001B[0m\n\u001B[1;32m     65\u001B[0m     \u001B[0;32mreturn\u001B[0m \u001B[0mnew_repertoire\u001B[0m\u001B[0;34m\u001B[0m\u001B[0;34m\u001B[0m\u001B[0m\n",
      "\u001B[0;31mAttributeError\u001B[0m: 'str' object has no attribute 'implant_to_repertoire'"
     ]
    }
   ],
   "source": [
    "dataset = make_AIRR_dataset(repertoires=[load_iml_repertoire(filepath=Path(\"./data/Exp2a/immuneML_format/repertoires/\"), identifier=id) for id in CAIRR_graph_a[\"repertoire\"]],\n",
    "                            path=Path(\"./data/exported/\"),\n",
    "                            dataset_name=\"Exp2a\", signal_names=[immune_state_signal.id])\n",
    "\n",
    "print(f\"Dataset id: {dataset.identifier}, dataset name: {dataset.name}, number of repertoires: {dataset.get_example_count()}\")"
   ]
  },
  {
   "cell_type": "code",
   "execution_count": null,
   "metadata": {
    "pycharm": {
     "name": "#%%"
    }
   },
   "outputs": [],
   "source": []
  }
 ],
 "metadata": {
  "kernelspec": {
   "display_name": "Python 3 (ipykernel)",
   "language": "python",
   "name": "python3"
  },
  "language_info": {
   "codemirror_mode": {
    "name": "ipython",
    "version": 3
   },
   "file_extension": ".py",
   "mimetype": "text/x-python",
   "name": "python",
   "nbconvert_exporter": "python",
   "pygments_lexer": "ipython3",
   "version": "3.8.10"
  },
  "varInspector": {
   "cols": {
    "lenName": 16,
    "lenType": 16,
    "lenVar": 40
   },
   "kernels_config": {
    "python": {
     "delete_cmd_postfix": "",
     "delete_cmd_prefix": "del ",
     "library": "var_list.py",
     "varRefreshCmd": "print(var_dic_list())"
    },
    "r": {
     "delete_cmd_postfix": ") ",
     "delete_cmd_prefix": "rm(",
     "library": "var_list.r",
     "varRefreshCmd": "cat(var_dic_list()) "
    }
   },
   "types_to_exclude": [
    "module",
    "function",
    "builtin_function_or_method",
    "instance",
    "_Feature"
   ],
   "window_display": false
  }
 },
 "nbformat": 4,
 "nbformat_minor": 1
}