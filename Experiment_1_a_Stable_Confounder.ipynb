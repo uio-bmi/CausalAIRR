{
 "cells": [
  {
   "cell_type": "markdown",
   "metadata": {
    "collapsed": true
   },
   "source": [
    "# Experiment 1a: the influence of a stable confounder on classification performance\n",
    "\n",
    "In this experiment, we use a simplified causal graph consisting of three nodes: immune state, confounder, and AIRR, to show if the distribution of a confounder is stable in the study cohort, and source and target populations, it does not influence the prediction task.\n",
    "\n",
    "Immune state is a binary variable and can have values `True` or `False` to indicate if an individual is diseased or healthy. Confounder also in this setting has two values: `C1` and `C2`. AIRR is a set of sequences simulated based on the values of the immune state and the confounder for the given individual.\n",
    "\n",
    "Steps:\n",
    "\n",
    "1. Simulate training and test dataset from a causal graph to include: confounder (implemented by implanting 3-mer `ADR` in the repertoire), immune state (implemented by implanting a signal in the repertoire but the exact 3-mer depends on the value of the confounder; it is either `QPR` or `EQY`)\n",
    "\n",
    "2. Train an ML model (here: logistic regression on repertoires represented by the k-mer frequencies) on the train set and assess its performance on the test set in the presence of confounder with stable distribution across train and test.\n",
    "\n",
    "Software used: \n",
    "\n",
    "- DagSim for simulation of the causal graph; \n",
    "- immuneML v2.1 for implanting signal in AIRRs and for training and assessing machine learning classifiers; \n",
    "- OLGA for simulation of naive AIRRs"
   ]
  },
  {
   "cell_type": "code",
   "execution_count": 9,
   "metadata": {},
   "outputs": [],
   "source": [
    "import yaml\n",
    "import dagsim.base as ds\n",
    "import numpy as np\n",
    "from util.dataset_util import make_AIRR_dataset, make_dataset, setup_path\n",
    "from util.implanting import make_immune_state_signals, make_confounding_signal\n",
    "from util.experiment1 import get_immune_state, get_confounder, get_repertoire"
   ]
  },
  {
   "cell_type": "markdown",
   "metadata": {},
   "source": [
    "## Step 1: AIRR simulation from a causal graph"
   ]
  },
  {
   "cell_type": "code",
   "execution_count": 10,
   "metadata": {},
   "outputs": [
    {
     "name": "stdout",
     "output_type": "stream",
     "text": [
      "Removing experiment1a...\n"
     ]
    }
   ],
   "source": [
    "result_path = setup_path('./experiment1a/')\n",
    "data_path = setup_path(\"./experiment1a/data/\")\n",
    "\n",
    "# how many repertoires to make for training and testing\n",
    "train_example_count = 200\n",
    "test_example_count = 100\n",
    "\n",
    "# immune state: two binomial distributions depending on the confounder value with probability of success p\n",
    "immune_state_p_conf1 = 0.8 # for confounder = C1\n",
    "immune_state_p_conf2 = 0.2 # for confounder = C2\n",
    "\n",
    "# confounder: binomial distribution with probability of success p\n",
    "confounder_p_train = 0.5\n",
    "confounder_p_test = 0.5\n",
    "\n",
    "# other parameters\n",
    "immune_state_implanting_rate = 0.02 # percentage of repertoire sequences to include immune state signal\n",
    "confounding_implanting_rate = 0.2\n",
    "sequence_count = 500 # number of sequences in one repertoire"
   ]
  },
  {
   "cell_type": "code",
   "execution_count": 11,
   "metadata": {},
   "outputs": [
    {
     "name": "stderr",
     "output_type": "stream",
     "text": [
      "/opt/anaconda3/lib/python3.8/subprocess.py:942: ResourceWarning:\n",
      "\n",
      "subprocess 7501 is still running\n",
      "\n"
     ]
    }
   ],
   "source": [
    "immune_state_signal_name = \"immune_state\"\n",
    "immune_state_signals = make_immune_state_signals(signal_name=immune_state_signal_name)\n",
    "confounding_signal = make_confounding_signal()\n",
    "\n",
    "# define nodes of the causal graph\n",
    "\n",
    "index_node = ds.Generic(name=\"index\", function=np.arange, size_field=\"stop\")\n",
    "\n",
    "confounder_node = ds.Generic(name=\"confounder\", function=get_confounder, arguments={\"p\": confounder_p_train})\n",
    "\n",
    "immune_state_node = ds.Generic(name=\"immune_state\", function=get_immune_state, \n",
    "                               arguments={\"confounder\": confounder_node, \"p_conf1\": immune_state_p_conf1,\n",
    "                                         \"p_conf2\": immune_state_p_conf2})\n",
    "\n",
    "repertoire_node = ds.Generic(name=\"repertoire\", function=get_repertoire, \n",
    "                             arguments={\"immune_state\": immune_state_node, \"confounder\": confounder_node, \n",
    "                                        \"path\": data_path / \"train\", \"sequence_count\": sequence_count, \n",
    "                                        \"immune_state_signals\": immune_state_signals, \n",
    "                                        \"confounding_signal\": confounding_signal, \"seed\": index_node, \n",
    "                                        'immune_state_implanting_rate': immune_state_implanting_rate, \n",
    "                                        'confounding_implanting_rate': confounding_implanting_rate})\n",
    "\n",
    "# make a causal graph using DagSim and show it graphically\n",
    "\n",
    "graph = ds.Graph(name=\"graph_experiment_1a\", \n",
    "                 list_nodes=[index_node, confounder_node, immune_state_node, repertoire_node])\n",
    "graph.draw()\n"
   ]
  },
  {
   "cell_type": "code",
   "execution_count": 12,
   "metadata": {},
   "outputs": [
    {
     "name": "stdout",
     "output_type": "stream",
     "text": [
      "Simulation started\n",
      "Simulation finished in 201.5333 seconds\n",
      "Simulation started\n",
      "Simulation finished in 101.0018 seconds\n"
     ]
    }
   ],
   "source": [
    "# simulate a dataset using the graph\n",
    "\n",
    "study_cohort_data = graph.simulate(num_samples=train_example_count, \n",
    "                                   csv_name=str(data_path / \"train/study_cohort\"))\n",
    "\n",
    "# make an AIRR dataset from the generated repertoires to be used for training\n",
    "\n",
    "train_dataset = make_dataset(repertoire_paths=study_cohort_data[\"repertoire\"], path=data_path / 'train', \n",
    "                             dataset_name=\"experiment1a_train\", \n",
    "                             signal_names=[immune_state_signal_name, confounder_node.name])\n",
    "\n",
    "# make a test dataset\n",
    "\n",
    "repertoire_node.additional_parameters['path'] = data_path / 'test' # update result_path: to be removed with DagSim update\n",
    "confounder_node.additional_parameters['p'] = confounder_p_test # update the confounder distribution parameter for test\n",
    "\n",
    "test_data = graph.simulate(num_samples=test_example_count, csv_name=str(data_path / \"test/test_cohort\"))\n",
    "\n",
    "test_dataset = make_dataset(repertoire_paths=test_data[\"repertoire\"], path=data_path / 'test', \n",
    "                            dataset_name=\"experiment1a_test\", \n",
    "                            signal_names=[immune_state_signal_name, confounder_node.name])\n",
    "\n",
    "# merge datasets (but the distinction between train and test will be kept)\n",
    "\n",
    "dataset = make_AIRR_dataset(train_dataset, test_dataset, data_path / 'full_dataset')"
   ]
  },
  {
   "cell_type": "markdown",
   "metadata": {},
   "source": [
    "## Step 2: train an ML model and assess performance"
   ]
  },
  {
   "cell_type": "code",
   "execution_count": 13,
   "metadata": {},
   "outputs": [],
   "source": [
    "specs = {\n",
    "    \"definitions\": {\n",
    "        \"datasets\": {\n",
    "            \"dataset1\": {\n",
    "                \"format\": 'AIRR',\n",
    "                \"params\": {\n",
    "                    \"path\": str(data_path / 'full_dataset'),\n",
    "                    \"metadata_file\": str(data_path / 'full_dataset/metadata.csv')\n",
    "                }\n",
    "            }\n",
    "        },\n",
    "        \"encodings\": {\n",
    "            \"kmer_frequency\": {\n",
    "                \"KmerFrequency\": {\"k\": 3}\n",
    "            }\n",
    "        },\n",
    "        \"ml_methods\": {\n",
    "            \"logistic_regression\": {\n",
    "                \"LogisticRegression\": {\n",
    "                    \"penalty\": \"l1\",\n",
    "                    \"C\": [0.001, 0.01, 0.1, 1, 10, 100, 1000],\n",
    "                    \"show_warnings\": False\n",
    "                },\n",
    "                \"model_selection_cv\": True,\n",
    "                \"model_selection_n_folds\": 5\n",
    "            }\n",
    "        },\n",
    "        \"reports\": {\n",
    "            \"motif_recovery\": { # to check how much coefficients overlap with the immune state signal that was implanted\n",
    "                \"MotifSeedRecovery\": {\n",
    "                    \"implanted_motifs_per_label\": {\n",
    "                        \"immune_state\": {\n",
    "                            \"seeds\": [\"EQY\", \"QPR\"],\n",
    "                            \"hamming_distance\": False,\n",
    "                            \"gap_sizes\": [0] # no gaps\n",
    "                        },\n",
    "                        \"confounder\": {\n",
    "                            \"seeds\": [\"ADR\"],\n",
    "                            \"hamming_distance\": False,\n",
    "                            \"gap_sizes\": [0] # no gaps\n",
    "                        }\n",
    "                    }\n",
    "                }\n",
    "            },\n",
    "            \"coefficients\": {\n",
    "                \"Coefficients\": { # show top 25 logistic regression coefficients and what k-mers they correspond to\n",
    "                    \"coefs_to_plot\": ['n_largest'],\n",
    "                    \"n_largest\": [25]\n",
    "                }\n",
    "            },\n",
    "            \"feature_comparison\": {\n",
    "                \"FeatureComparison\": {\n",
    "                    \"comparison_label\": \"immune_state\",\n",
    "                    \"color_grouping_label\": \"confounder\",\n",
    "                    \"show_error_bar\": False,\n",
    "                    \"keep_fraction\": 0.1,\n",
    "                    \"log_scale\": True\n",
    "                }\n",
    "            }, \n",
    "            \"training_performance\": {\n",
    "                \"TrainingPerformance\": {\n",
    "                    \"metrics\": [\"balanced_accuracy\", \"log_loss\", \"auc\"]\n",
    "                }\n",
    "            }\n",
    "        }\n",
    "    },\n",
    "    \"instructions\": {\n",
    "        'train_ml': {\n",
    "            \"type\": \"TrainMLModel\",\n",
    "            \"assessment\": { # ensure here that train and test dataset are fixed, as per simulation\n",
    "                \"split_strategy\": \"manual\",\n",
    "                \"split_count\": 1,\n",
    "                \"manual_config\": {\n",
    "                    \"train_metadata_path\": str(data_path / \"train/experiment1a_train_metadata.csv\"),\n",
    "                    \"test_metadata_path\": str(data_path / \"test/experiment1a_test_metadata.csv\")\n",
    "                },\n",
    "                \"reports\": {\n",
    "                    \"models\": [\"coefficients\", \"motif_recovery\", \"training_performance\"],\n",
    "                    \"encoding\": [\"feature_comparison\"]\n",
    "                }\n",
    "            },\n",
    "            \"selection\": {\n",
    "                \"split_strategy\": \"k_fold\",\n",
    "                \"split_count\": 5,\n",
    "                \"reports\": {\n",
    "                    \"models\": [\"coefficients\", \"motif_recovery\", \"training_performance\"],\n",
    "                    \"encoding\": [\"feature_comparison\"]\n",
    "                }\n",
    "            },\n",
    "            \"settings\": [\n",
    "                {\"encoding\": \"kmer_frequency\", \"ml_method\": \"logistic_regression\"}\n",
    "            ],\n",
    "            \"dataset\": \"dataset1\",\n",
    "            \"refit_optimal_model\": False,\n",
    "            \"labels\": [\"immune_state\"],\n",
    "            \"optimization_metric\": \"balanced_accuracy\",\n",
    "            \"metrics\": ['log_loss', 'auc']\n",
    "        }\n",
    "    }\n",
    "}\n",
    "\n",
    "ml_result_path = setup_path(\"./experiment1a/ml_result/\")\n",
    "specification_path = ml_result_path / \"specs.yaml\"\n",
    "\n",
    "with open(specification_path, \"w\") as file:\n",
    "    yaml.dump(specs, file)"
   ]
  },
  {
   "cell_type": "code",
   "execution_count": 14,
   "metadata": {},
   "outputs": [
    {
     "name": "stdout",
     "output_type": "stream",
     "text": [
      "2022-01-04 10:44:03.596881: Setting temporary cache path to experiment1a/ml_result/result/cache\n",
      "2022-01-04 10:44:03.597840: ImmuneML: parsing the specification...\n",
      "\n",
      "2022-01-04 10:44:25.261557: Full specification is available at experiment1a/ml_result/result/full_specs.yaml.\n",
      "\n",
      "2022-01-04 10:44:25.262666: ImmuneML: starting the analysis...\n",
      "\n",
      "2022-01-04 10:44:25.263442: Instruction 1/1 has started.\n",
      "2022-01-04 10:44:25.410154: Training ML model: running outer CV loop: started split 1/1.\n",
      "\n",
      "2022-01-04 10:44:25.546428: Hyperparameter optimization: running the inner loop of nested CV: selection for label immune_state (label 1 / 1).\n",
      "\n",
      "2022-01-04 10:44:25.548360: Evaluating hyperparameter setting: kmer_frequency_logistic_regression...\n",
      "2022-01-04 10:44:25.550528: Encoding started...\n",
      "2022-01-04 10:44:31.411898: Encoding finished.\n",
      "2022-01-04 10:44:31.412923: ML model training started...\n",
      "2022-01-04 10:45:24.229705: ML model training finished.\n",
      "       immune_state_x  confounder feature  valuemean_x  valuestd_x  \\\n",
      "5253            False       False     QPR     0.086463    0.153443   \n",
      "13134           False        True     QYA     0.244094    0.845656   \n",
      "13139           False        True     QYG     0.535098    0.899796   \n",
      "14027           False        True     TEQ     0.887923    0.869809   \n",
      "13398           False        True     RPF     0.555211    0.909525   \n",
      "...               ...         ...     ...          ...         ...   \n",
      "7173            False       False     WLL     0.000000    0.000000   \n",
      "9152            False        True     ENY     0.551351    0.857120   \n",
      "10960           False        True     KFW     0.102538    0.820307   \n",
      "1120            False       False     DVV     0.838815    1.258372   \n",
      "11602           False        True     LVL     0.735352    0.929894   \n",
      "\n",
      "       immune_state_y  valuemean_y  valuestd_y  \n",
      "5253             True     2.146833    0.326500  \n",
      "13134            True     2.096748    1.969641  \n",
      "13139            True     2.355137    1.467424  \n",
      "14027            True     2.532560    1.544978  \n",
      "13398            True     2.167498    1.766763  \n",
      "...               ...          ...         ...  \n",
      "7173             True     0.453475    1.462554  \n",
      "9152             True     1.004735    1.278162  \n",
      "10960            True     0.555900    1.843713  \n",
      "1120             True     0.385529    1.094351  \n",
      "11602            True     1.188629    1.075419  \n",
      "\n",
      "[1551 rows x 8 columns]\n",
      "2022-01-04 10:45:34.190730: Encoding started...\n",
      "2022-01-04 10:45:37.424575: Encoding finished.\n",
      "       immune_state_x  confounder feature  valuemean_x  valuestd_x  \\\n",
      "7197            False       False     WMT     5.458781    3.859956   \n",
      "15277           False        True     YIW     0.000000    0.000000   \n",
      "13143           False        True     QYL     0.000000    0.000000   \n",
      "7154            False       False     WKM     4.254608    6.016925   \n",
      "4070            False       False     MMF     4.165500    5.890906   \n",
      "...               ...         ...     ...          ...         ...   \n",
      "3832            False       False     LTS     2.671978    0.716971   \n",
      "6637            False       False     VDE     1.730407    0.492329   \n",
      "8913            False        True     DYR     1.140209    1.340522   \n",
      "10896           False        True     KCQ     0.000000    0.000000   \n",
      "13098           False        True     QVF     0.000000    0.000000   \n",
      "\n",
      "       immune_state_y  valuemean_y  valuestd_y  \n",
      "7197             True     0.000000    0.000000  \n",
      "15277            True     5.236449    6.760238  \n",
      "13143            True     4.383244    2.328299  \n",
      "7154             True     0.000000    0.000000  \n",
      "4070             True     0.000000    0.000000  \n",
      "...               ...          ...         ...  \n",
      "3832             True     1.795788    0.982873  \n",
      "6637             True     0.854755    0.767987  \n",
      "8913             True     0.264617    0.700110  \n",
      "10896            True     0.875321    2.315882  \n",
      "13098            True     0.875110    1.515736  \n",
      "\n",
      "[1551 rows x 8 columns]\n",
      "2022-01-04 10:45:43.247271: Completed hyperparameter setting kmer_frequency_logistic_regression.\n",
      "\n",
      "2022-01-04 10:45:43.249300: Evaluating hyperparameter setting: kmer_frequency_logistic_regression...\n",
      "2022-01-04 10:45:43.251099: Encoding started...\n",
      "2022-01-04 10:45:48.136312: Encoding finished.\n",
      "2022-01-04 10:45:48.136944: ML model training started...\n",
      "2022-01-04 10:46:41.298170: ML model training finished.\n",
      "       immune_state_x  confounder feature  valuemean_x  valuestd_x  \\\n",
      "13167           False        True     QYL     0.128362    0.578844   \n",
      "5267            False       False     QPR     0.144861    0.168259   \n",
      "13177           False        True     QYY     0.251408    0.665249   \n",
      "13158           False        True     QYA     0.193874    0.750968   \n",
      "12921           False        True     QHW     0.000000    0.000000   \n",
      "...               ...         ...     ...          ...         ...   \n",
      "12879           False        True     QFP     0.161585    0.728640   \n",
      "5654            False       False     RPE     1.074918    0.839201   \n",
      "5840            False       False     SCL     1.162904    1.229823   \n",
      "1147            False       False     DYI     0.527936    1.539324   \n",
      "7205            False       False     WMK     0.444459    1.885678   \n",
      "\n",
      "       immune_state_y  valuemean_y  valuestd_y  \n",
      "13167            True     2.266458    1.697978  \n",
      "5267             True     2.119263    0.331075  \n",
      "13177            True     2.023562    1.956375  \n",
      "13158            True     1.633689    1.875941  \n",
      "12921            True     1.300876    2.810568  \n",
      "...               ...          ...         ...  \n",
      "12879            True     0.606547    1.310569  \n",
      "5654             True     0.630053    0.769557  \n",
      "5840             True     0.718045    0.960890  \n",
      "1147             True     0.083109    0.638373  \n",
      "7205             True     0.000000    0.000000  \n",
      "\n",
      "[1553 rows x 8 columns]\n",
      "2022-01-04 10:46:49.543437: Encoding started...\n",
      "2022-01-04 10:46:52.330156: Encoding finished.\n",
      "       immune_state_x  confounder feature  valuemean_x  valuestd_x  \\\n",
      "10906           False        True     KCI     0.000000    0.000000   \n",
      "11847           False        True     MMT     0.000000    0.000000   \n",
      "9360            False        True     FCW     0.000000    0.000000   \n",
      "15179           False        True     YCK     0.000000    0.000000   \n",
      "10313           False        True     HMV     0.000000    0.000000   \n",
      "...               ...         ...     ...          ...         ...   \n",
      "15422           False        True     YRE     1.247159    1.220938   \n",
      "15140           False        True     WYI     0.875351    3.156122   \n",
      "15513           False        True     YWW     0.875217    3.155639   \n",
      "4057            False       False     MLF     0.000000    0.000000   \n",
      "13117           False        True     QTW     0.635535    1.557005   \n",
      "\n",
      "       immune_state_y  valuemean_y  valuestd_y  \n",
      "10906            True     4.700000    6.646804  \n",
      "11847            True     4.405232    6.229938  \n",
      "9360             True     4.273703    6.043929  \n",
      "15179            True     4.250453    6.011048  \n",
      "10313            True     4.179751    5.911060  \n",
      "...               ...          ...         ...  \n",
      "15422            True     2.122728    0.777451  \n",
      "15140            True     0.000000    0.000000  \n",
      "15513            True     0.000000    0.000000  \n",
      "4057             True     0.875208    3.031809  \n",
      "13117            True     1.510666    2.136404  \n",
      "\n",
      "[1553 rows x 8 columns]\n",
      "2022-01-04 10:46:57.434586: Completed hyperparameter setting kmer_frequency_logistic_regression.\n",
      "\n",
      "2022-01-04 10:46:57.437354: Evaluating hyperparameter setting: kmer_frequency_logistic_regression...\n",
      "2022-01-04 10:46:57.438378: Encoding started...\n",
      "2022-01-04 10:47:00.851488: Encoding finished.\n",
      "2022-01-04 10:47:00.852073: ML model training started...\n",
      "2022-01-04 10:47:49.246531: ML model training finished.\n",
      "       immune_state_x  confounder feature  valuemean_x  valuestd_x  \\\n",
      "13162           False        True     QYL     0.046788    0.368413   \n",
      "5262            False       False     QPR     0.085609    0.140163   \n",
      "13153           False        True     QYA     0.100605    0.555612   \n",
      "13172           False        True     QYY     0.280070    0.686095   \n",
      "13170           False        True     QYV     0.082550    0.649997   \n",
      "...               ...         ...     ...          ...         ...   \n",
      "14821           False        True     WDY     0.451051    0.930022   \n",
      "8053            False        True     ARI     0.719531    1.075906   \n",
      "153             False       False     AIQ     0.883413    1.390394   \n",
      "14724           False        True     VVS     0.749662    1.157757   \n",
      "1271            False       False     EGM     0.790337    1.207289   \n",
      "\n",
      "       immune_state_y  valuemean_y  valuestd_y  \n",
      "13162            True     2.145078    2.096350  \n",
      "5262             True     2.085684    0.318395  \n",
      "13153            True     2.058224    2.295849  \n",
      "13172            True     2.113673    2.033645  \n",
      "13170            True     1.515969    2.396994  \n",
      "...               ...          ...         ...  \n",
      "14821            True     0.000000    0.000000  \n",
      "8053             True     0.268497    0.700064  \n",
      "153              True     0.432638    0.908261  \n",
      "14724            True     0.298989    0.572569  \n",
      "1271             True     0.339702    0.890937  \n",
      "\n",
      "[1553 rows x 8 columns]\n",
      "2022-01-04 10:47:57.822101: Encoding started...\n"
     ]
    },
    {
     "name": "stdout",
     "output_type": "stream",
     "text": [
      "2022-01-04 10:48:00.572503: Encoding finished.\n",
      "       immune_state_x  confounder feature  valuemean_x  valuestd_x  \\\n",
      "9499            False        True     FKY     0.000000    0.000000   \n",
      "6805            False       False     VMC     2.761227    5.166271   \n",
      "417             False       False     CAY     2.668685    1.887951   \n",
      "2675            False       False     HVI     2.641805    4.942767   \n",
      "11814           False        True     MKR     0.000000    0.000000   \n",
      "...               ...         ...     ...          ...         ...   \n",
      "14453           False        True     VFE     0.814836    1.351441   \n",
      "2197            False       False     GPM     0.234247    0.662550   \n",
      "14543           False        True     VKQ     0.201435    0.753701   \n",
      "13790           False        True     SMV     0.277357    1.037774   \n",
      "10212           False        True     HGF     0.813807    2.075289   \n",
      "\n",
      "       immune_state_y  valuemean_y  valuestd_y  \n",
      "9499             True     3.132685    4.430489  \n",
      "6805             True     0.000000    0.000000  \n",
      "417              True     0.000000    0.000000  \n",
      "2675             True     0.000000    0.000000  \n",
      "11814            True     2.626717    3.715159  \n",
      "...               ...          ...         ...  \n",
      "14453            True     0.000000    0.000000  \n",
      "2197             True     1.048489    1.048743  \n",
      "14543            True     1.015586    1.436260  \n",
      "13790            True     1.091245    1.091568  \n",
      "10212            True     0.000000    0.000000  \n",
      "\n",
      "[1553 rows x 8 columns]\n",
      "2022-01-04 10:48:05.920141: Completed hyperparameter setting kmer_frequency_logistic_regression.\n",
      "\n",
      "2022-01-04 10:48:05.922072: Evaluating hyperparameter setting: kmer_frequency_logistic_regression...\n",
      "2022-01-04 10:48:05.923453: Encoding started...\n",
      "2022-01-04 10:48:09.620881: Encoding finished.\n",
      "2022-01-04 10:48:09.621910: ML model training started...\n",
      "2022-01-04 10:48:58.028842: ML model training finished.\n",
      "       immune_state_x  confounder feature  valuemean_x  valuestd_x  \\\n",
      "5249            False       False     QPR     0.096617    0.144777   \n",
      "13129           False        True     QYL     0.124430    0.565691   \n",
      "13120           False        True     QYA     0.211962    0.734336   \n",
      "13125           False        True     QYG     0.524148    0.881417   \n",
      "13138           False        True     QYY     0.273029    0.681128   \n",
      "...               ...         ...     ...          ...         ...   \n",
      "802             False       False     DCY     0.701487    1.308302   \n",
      "8514            False        True     DAG     0.912285    1.113952   \n",
      "898             False       False     DHS     0.302951    0.677501   \n",
      "2178            False       False     GNV     0.934975    1.106703   \n",
      "4924            False       False     PTF     0.097206    0.466183   \n",
      "\n",
      "       immune_state_y  valuemean_y  valuestd_y  \n",
      "5249             True     2.186905    0.320887  \n",
      "13129            True     1.996472    1.723159  \n",
      "13120            True     1.732428    1.833085  \n",
      "13125            True     2.022892    1.365291  \n",
      "13138            True     1.668957    1.845510  \n",
      "...               ...          ...         ...  \n",
      "802              True     0.286439    0.726449  \n",
      "8514             True     0.497404    1.105640  \n",
      "898              True     0.717808    1.227540  \n",
      "2178             True     0.520208    1.043491  \n",
      "4924             True     0.511968    0.988569  \n",
      "\n",
      "[1549 rows x 8 columns]\n",
      "2022-01-04 10:49:06.304727: Encoding started...\n",
      "2022-01-04 10:49:08.900310: Encoding finished.\n",
      "       immune_state_x  confounder feature  valuemean_x  valuestd_x  \\\n",
      "9446            False        True     FIM     0.000000    0.000000   \n",
      "10114           False        True     HCK     0.000000    0.000000   \n",
      "11926           False        True     MTW     0.000000    0.000000   \n",
      "8260            False        True     CHA     0.000000    0.000000   \n",
      "8226            False        True     CFH     0.000000    0.000000   \n",
      "...               ...         ...     ...          ...         ...   \n",
      "14242           False        True     TSH     1.130684    1.557185   \n",
      "11495           False        True     LPV     0.700699    0.886483   \n",
      "9801            False        True     GGR     2.498809    0.760932   \n",
      "8632            False        True     DHE     1.129476    1.343932   \n",
      "5667            False       False     RQS     1.481034    1.207038   \n",
      "\n",
      "       immune_state_y  valuemean_y  valuestd_y  \n",
      "9446             True    14.012803    0.000000  \n",
      "10114            True    13.670088    0.000000  \n",
      "11926            True    13.379444    0.000000  \n",
      "8260             True    13.068812    0.000000  \n",
      "8226             True    12.625648    0.000000  \n",
      "...               ...          ...         ...  \n",
      "14242            True     0.000000    0.000000  \n",
      "11495            True     1.830247    0.000000  \n",
      "9801             True     3.628347    0.000000  \n",
      "8632             True     0.000000    0.000000  \n",
      "5667             True     0.351693    0.861571  \n",
      "\n",
      "[1549 rows x 8 columns]\n",
      "2022-01-04 10:49:14.090844: Completed hyperparameter setting kmer_frequency_logistic_regression.\n",
      "\n",
      "2022-01-04 10:49:14.093727: Evaluating hyperparameter setting: kmer_frequency_logistic_regression...\n",
      "2022-01-04 10:49:14.095117: Encoding started...\n",
      "2022-01-04 10:49:17.538201: Encoding finished.\n",
      "2022-01-04 10:49:17.538742: ML model training started...\n",
      "2022-01-04 10:50:06.301405: ML model training finished.\n",
      "       immune_state_x  confounder feature  valuemean_x  valuestd_x  \\\n",
      "5258            False       False     QPR     0.109508    0.154544   \n",
      "13152           False        True     QYL     0.102099    0.525601   \n",
      "13148           False        True     QYG     0.443334    0.810053   \n",
      "13162           False        True     QYY     0.284367    0.689354   \n",
      "13143           False        True     QYA     0.209608    0.748537   \n",
      "...               ...         ...     ...          ...         ...   \n",
      "9173            False        True     EQA     0.274722    0.922807   \n",
      "6560            False       False     TWA     0.607161    1.365492   \n",
      "9632            False        True     FTN     0.351516    0.920632   \n",
      "2959            False       False     IPG     1.571346    0.769128   \n",
      "11000           False        True     KHN     0.319857    1.142235   \n",
      "\n",
      "       immune_state_y  valuemean_y  valuestd_y  \n",
      "5258             True     2.119433    0.331224  \n",
      "13152            True     2.024552    1.824567  \n",
      "13148            True     1.913706    1.516132  \n",
      "13162            True     1.739492    1.947271  \n",
      "13143            True     1.582621    1.962959  \n",
      "...               ...          ...         ...  \n",
      "9173             True     0.694490    1.397672  \n",
      "6560             True     0.187406    0.701504  \n",
      "9632             True     0.771150    1.243624  \n",
      "2959             True     1.151760    0.785203  \n",
      "11000            True     0.739435    1.653486  \n",
      "\n",
      "[1552 rows x 8 columns]\n",
      "2022-01-04 10:50:14.519301: Encoding started...\n",
      "2022-01-04 10:50:17.162178: Encoding finished.\n",
      "       immune_state_x  confounder feature  valuemean_x  valuestd_x  \\\n",
      "2863            False       False     IIH     7.225954    0.006271   \n",
      "14950           False        True     WMK     0.000000    0.000000   \n",
      "7931            False        True     AKM     0.000000    0.000000   \n",
      "15512           False        True     YYM     0.000000    0.000000   \n",
      "10619           False        True     IIC     0.604891    2.837192   \n",
      "...               ...         ...     ...          ...         ...   \n",
      "1561            False       False     FAP     1.337773    1.337773   \n",
      "1623            False       False     FES     0.000000    0.000000   \n",
      "2136            False       False     GLW     1.633016    1.633016   \n",
      "3664            False       False     LKD     1.650613    0.001432   \n",
      "8389            False        True     CPS     1.130653    1.491452   \n",
      "\n",
      "       immune_state_y  valuemean_y  valuestd_y  \n",
      "2863             True     0.000000    0.000000  \n",
      "14950            True     7.155222    7.155222  \n",
      "7931             True     7.134831    7.134831  \n",
      "15512            True     6.901830    6.901830  \n",
      "10619            True     7.171056    7.171056  \n",
      "...               ...          ...         ...  \n",
      "1561             True     0.205594    0.712197  \n",
      "1623             True     1.131859    1.698551  \n",
      "2136             True     0.501157    0.752288  \n",
      "3664             True     0.519453    1.029257  \n",
      "8389             True     0.000000    0.000000  \n",
      "\n",
      "[1552 rows x 8 columns]\n"
     ]
    },
    {
     "name": "stdout",
     "output_type": "stream",
     "text": [
      "2022-01-04 10:50:22.167368: Completed hyperparameter setting kmer_frequency_logistic_regression.\n",
      "\n",
      "2022-01-04 10:50:22.168706: Hyperparameter optimization: running the inner loop of nested CV: completed selection for label immune_state (label 1 / 1).\n",
      "\n",
      "2022-01-04 10:50:22.169262: Training ML model: running the inner loop of nested CV: retrain models for label immune_state (label 1 / 1).\n",
      "\n",
      "2022-01-04 10:50:22.171159: Evaluating hyperparameter setting: kmer_frequency_logistic_regression...\n",
      "2022-01-04 10:50:22.172812: Encoding started...\n",
      "2022-01-04 10:50:26.105506: Encoding finished.\n",
      "2022-01-04 10:50:26.105980: ML model training started...\n",
      "2022-01-04 10:51:26.239528: ML model training finished.\n",
      "       immune_state_x  confounder feature  valuemean_x  valuestd_x  \\\n",
      "5307            False       False     QPR     0.103194    0.153521   \n",
      "13262           False        True     QYL     0.112848    0.564267   \n",
      "13272           False        True     QYY     0.266143    0.694090   \n",
      "13253           False        True     QYA     0.192323    0.734943   \n",
      "13258           False        True     QYG     0.520139    0.896188   \n",
      "...               ...         ...     ...          ...         ...   \n",
      "15421           False        True     YKP     0.319442    1.017587   \n",
      "872             False       False     DGC     0.638019    1.398058   \n",
      "3692            False       False     LKG     1.385977    1.076628   \n",
      "11581           False        True     LNR     0.763591    0.969134   \n",
      "12140           False        True     NDK     0.000000    0.000000   \n",
      "\n",
      "       immune_state_y  valuemean_y  valuestd_y  \n",
      "5307             True     2.128456    0.326095  \n",
      "13262            True     2.064138    1.888189  \n",
      "13272            True     1.876053    1.963809  \n",
      "13253            True     1.791982    1.988322  \n",
      "13258            True     1.968933    1.436274  \n",
      "...               ...          ...         ...  \n",
      "15421            True     0.705043    1.410129  \n",
      "872              True     0.252483    0.931141  \n",
      "3692             True     1.000454    0.898314  \n",
      "11581            True     1.149104    1.362926  \n",
      "12140            True     0.385462    1.680192  \n",
      "\n",
      "[1564 rows x 8 columns]\n",
      "2022-01-04 10:51:36.007586: Encoding started...\n",
      "2022-01-04 10:51:40.479182: Encoding finished.\n",
      "       immune_state_x  confounder feature  valuemean_x  valuestd_x  \\\n",
      "11856           False        True     MHI     0.000000    0.000000   \n",
      "13263           False        True     QYM     0.000000    0.000000   \n",
      "13083           False        True     QML     0.000000    0.000000   \n",
      "11942           False        True     MNN     0.657775    2.246822   \n",
      "11043           False        True     KFK     0.266308    1.619885   \n",
      "...               ...         ...     ...          ...         ...   \n",
      "10885           False        True     ITI     0.000000    0.000000   \n",
      "5261            False       False     QMK     0.756040    2.000525   \n",
      "9426            False        True     FCY     0.597407    1.534946   \n",
      "12721           False        True     PPD     0.920376    0.963677   \n",
      "12444           False        True     NWE     0.597123    2.039610   \n",
      "\n",
      "       immune_state_y  valuemean_y  valuestd_y  \n",
      "11856            True     4.430015    7.004578  \n",
      "13263            True     4.230178    6.690075  \n",
      "13083            True     3.123901    4.940255  \n",
      "11942            True     3.592320    4.149166  \n",
      "11043            True     3.027585    4.788161  \n",
      "...               ...          ...         ...  \n",
      "10885            True     0.597720    1.464109  \n",
      "5261             True     0.158598    0.977664  \n",
      "9426             True     0.000000    0.000000  \n",
      "12721            True     0.322999    0.791182  \n",
      "12444            True     0.000000    0.000000  \n",
      "\n",
      "[1564 rows x 8 columns]\n",
      "2022-01-04 10:51:47.567953: Completed hyperparameter setting kmer_frequency_logistic_regression.\n",
      "\n",
      "2022-01-04 10:51:47.569107: Training ML model: running the inner loop of nested CV: completed retraining models for label immune_state (label 1 / 1).\n",
      "\n",
      "2022-01-04 10:51:47.569563: Training ML model: running outer CV loop: finished split 1/1.\n",
      "\n",
      "Performances (balanced_accuracy) -----------------------------------------------\n",
      "\n",
      "\n",
      "Label: immune_state\n",
      "Performance (balanced_accuracy) per assessment split:\n",
      "Split 1: 0.9347826086956521\n",
      "Average performance (balanced_accuracy): 0.9347826086956521\n",
      "------------------------------\n",
      "2022-01-04 10:51:48.078696: Instruction 1/1 has finished.\n",
      "2022-01-04 10:51:48.100208: Generating HTML reports...\n",
      "2022-01-04 10:51:49.226506: HTML reports are generated.\n",
      "2022-01-04 10:51:49.321449: ImmuneML: finished analysis.\n",
      "\n",
      "The results are located under ./experiment1a/\n"
     ]
    }
   ],
   "source": [
    "# run immuneML with the specs file\n",
    "\n",
    "from immuneML.app.ImmuneMLApp import ImmuneMLApp\n",
    "\n",
    "output_path = ml_result_path / \"result/\"\n",
    "\n",
    "app = ImmuneMLApp(specification_path = specification_path, result_path = output_path)\n",
    "result = app.run()\n",
    "\n",
    "print(\"The results are located under ./experiment1a/\")"
   ]
  },
  {
   "cell_type": "code",
   "execution_count": 15,
   "metadata": {},
   "outputs": [
    {
     "data": {
      "application/vnd.plotly.v1+json": {
       "config": {
        "plotlyServerURL": "https://plot.ly"
       },
       "data": [
        {
         "error_y": {
          "array": [
           0.029065931773548128,
           0.04969028502714562,
           0.05717938289225237
          ],
          "type": "data"
         },
         "marker": {
          "color": "rgb(0, 147, 146)"
         },
         "name": "validation",
         "type": "bar",
         "x": [
          "AUC",
          "balanced_accuracy",
          "log_loss"
         ],
         "y": [
          0.9578098484848485,
          0.8928712121212122,
          0.32063621849327784
         ]
        },
        {
         "marker": {
          "color": "rgb(114, 170, 161)"
         },
         "name": "test",
         "type": "bar",
         "x": [
          "AUC",
          "balanced_accuracy",
          "log_loss"
         ],
         "y": [
          0.9597423510466989,
          0.9347826086956521,
          0.2653509069061407
         ]
        }
       ],
       "layout": {
        "barmode": "group",
        "template": {
         "data": {
          "bar": [
           {
            "error_x": {
             "color": "#2a3f5f"
            },
            "error_y": {
             "color": "#2a3f5f"
            },
            "marker": {
             "line": {
              "color": "white",
              "width": 0.5
             },
             "pattern": {
              "fillmode": "overlay",
              "size": 10,
              "solidity": 0.2
             }
            },
            "type": "bar"
           }
          ],
          "barpolar": [
           {
            "marker": {
             "line": {
              "color": "white",
              "width": 0.5
             },
             "pattern": {
              "fillmode": "overlay",
              "size": 10,
              "solidity": 0.2
             }
            },
            "type": "barpolar"
           }
          ],
          "carpet": [
           {
            "aaxis": {
             "endlinecolor": "#2a3f5f",
             "gridcolor": "#C8D4E3",
             "linecolor": "#C8D4E3",
             "minorgridcolor": "#C8D4E3",
             "startlinecolor": "#2a3f5f"
            },
            "baxis": {
             "endlinecolor": "#2a3f5f",
             "gridcolor": "#C8D4E3",
             "linecolor": "#C8D4E3",
             "minorgridcolor": "#C8D4E3",
             "startlinecolor": "#2a3f5f"
            },
            "type": "carpet"
           }
          ],
          "choropleth": [
           {
            "colorbar": {
             "outlinewidth": 0,
             "ticks": ""
            },
            "type": "choropleth"
           }
          ],
          "contour": [
           {
            "colorbar": {
             "outlinewidth": 0,
             "ticks": ""
            },
            "colorscale": [
             [
              0,
              "#0d0887"
             ],
             [
              0.1111111111111111,
              "#46039f"
             ],
             [
              0.2222222222222222,
              "#7201a8"
             ],
             [
              0.3333333333333333,
              "#9c179e"
             ],
             [
              0.4444444444444444,
              "#bd3786"
             ],
             [
              0.5555555555555556,
              "#d8576b"
             ],
             [
              0.6666666666666666,
              "#ed7953"
             ],
             [
              0.7777777777777778,
              "#fb9f3a"
             ],
             [
              0.8888888888888888,
              "#fdca26"
             ],
             [
              1,
              "#f0f921"
             ]
            ],
            "type": "contour"
           }
          ],
          "contourcarpet": [
           {
            "colorbar": {
             "outlinewidth": 0,
             "ticks": ""
            },
            "type": "contourcarpet"
           }
          ],
          "heatmap": [
           {
            "colorbar": {
             "outlinewidth": 0,
             "ticks": ""
            },
            "colorscale": [
             [
              0,
              "#0d0887"
             ],
             [
              0.1111111111111111,
              "#46039f"
             ],
             [
              0.2222222222222222,
              "#7201a8"
             ],
             [
              0.3333333333333333,
              "#9c179e"
             ],
             [
              0.4444444444444444,
              "#bd3786"
             ],
             [
              0.5555555555555556,
              "#d8576b"
             ],
             [
              0.6666666666666666,
              "#ed7953"
             ],
             [
              0.7777777777777778,
              "#fb9f3a"
             ],
             [
              0.8888888888888888,
              "#fdca26"
             ],
             [
              1,
              "#f0f921"
             ]
            ],
            "type": "heatmap"
           }
          ],
          "heatmapgl": [
           {
            "colorbar": {
             "outlinewidth": 0,
             "ticks": ""
            },
            "colorscale": [
             [
              0,
              "#0d0887"
             ],
             [
              0.1111111111111111,
              "#46039f"
             ],
             [
              0.2222222222222222,
              "#7201a8"
             ],
             [
              0.3333333333333333,
              "#9c179e"
             ],
             [
              0.4444444444444444,
              "#bd3786"
             ],
             [
              0.5555555555555556,
              "#d8576b"
             ],
             [
              0.6666666666666666,
              "#ed7953"
             ],
             [
              0.7777777777777778,
              "#fb9f3a"
             ],
             [
              0.8888888888888888,
              "#fdca26"
             ],
             [
              1,
              "#f0f921"
             ]
            ],
            "type": "heatmapgl"
           }
          ],
          "histogram": [
           {
            "marker": {
             "pattern": {
              "fillmode": "overlay",
              "size": 10,
              "solidity": 0.2
             }
            },
            "type": "histogram"
           }
          ],
          "histogram2d": [
           {
            "colorbar": {
             "outlinewidth": 0,
             "ticks": ""
            },
            "colorscale": [
             [
              0,
              "#0d0887"
             ],
             [
              0.1111111111111111,
              "#46039f"
             ],
             [
              0.2222222222222222,
              "#7201a8"
             ],
             [
              0.3333333333333333,
              "#9c179e"
             ],
             [
              0.4444444444444444,
              "#bd3786"
             ],
             [
              0.5555555555555556,
              "#d8576b"
             ],
             [
              0.6666666666666666,
              "#ed7953"
             ],
             [
              0.7777777777777778,
              "#fb9f3a"
             ],
             [
              0.8888888888888888,
              "#fdca26"
             ],
             [
              1,
              "#f0f921"
             ]
            ],
            "type": "histogram2d"
           }
          ],
          "histogram2dcontour": [
           {
            "colorbar": {
             "outlinewidth": 0,
             "ticks": ""
            },
            "colorscale": [
             [
              0,
              "#0d0887"
             ],
             [
              0.1111111111111111,
              "#46039f"
             ],
             [
              0.2222222222222222,
              "#7201a8"
             ],
             [
              0.3333333333333333,
              "#9c179e"
             ],
             [
              0.4444444444444444,
              "#bd3786"
             ],
             [
              0.5555555555555556,
              "#d8576b"
             ],
             [
              0.6666666666666666,
              "#ed7953"
             ],
             [
              0.7777777777777778,
              "#fb9f3a"
             ],
             [
              0.8888888888888888,
              "#fdca26"
             ],
             [
              1,
              "#f0f921"
             ]
            ],
            "type": "histogram2dcontour"
           }
          ],
          "mesh3d": [
           {
            "colorbar": {
             "outlinewidth": 0,
             "ticks": ""
            },
            "type": "mesh3d"
           }
          ],
          "parcoords": [
           {
            "line": {
             "colorbar": {
              "outlinewidth": 0,
              "ticks": ""
             }
            },
            "type": "parcoords"
           }
          ],
          "pie": [
           {
            "automargin": true,
            "type": "pie"
           }
          ],
          "scatter": [
           {
            "marker": {
             "colorbar": {
              "outlinewidth": 0,
              "ticks": ""
             }
            },
            "type": "scatter"
           }
          ],
          "scatter3d": [
           {
            "line": {
             "colorbar": {
              "outlinewidth": 0,
              "ticks": ""
             }
            },
            "marker": {
             "colorbar": {
              "outlinewidth": 0,
              "ticks": ""
             }
            },
            "type": "scatter3d"
           }
          ],
          "scattercarpet": [
           {
            "marker": {
             "colorbar": {
              "outlinewidth": 0,
              "ticks": ""
             }
            },
            "type": "scattercarpet"
           }
          ],
          "scattergeo": [
           {
            "marker": {
             "colorbar": {
              "outlinewidth": 0,
              "ticks": ""
             }
            },
            "type": "scattergeo"
           }
          ],
          "scattergl": [
           {
            "marker": {
             "colorbar": {
              "outlinewidth": 0,
              "ticks": ""
             }
            },
            "type": "scattergl"
           }
          ],
          "scattermapbox": [
           {
            "marker": {
             "colorbar": {
              "outlinewidth": 0,
              "ticks": ""
             }
            },
            "type": "scattermapbox"
           }
          ],
          "scatterpolar": [
           {
            "marker": {
             "colorbar": {
              "outlinewidth": 0,
              "ticks": ""
             }
            },
            "type": "scatterpolar"
           }
          ],
          "scatterpolargl": [
           {
            "marker": {
             "colorbar": {
              "outlinewidth": 0,
              "ticks": ""
             }
            },
            "type": "scatterpolargl"
           }
          ],
          "scatterternary": [
           {
            "marker": {
             "colorbar": {
              "outlinewidth": 0,
              "ticks": ""
             }
            },
            "type": "scatterternary"
           }
          ],
          "surface": [
           {
            "colorbar": {
             "outlinewidth": 0,
             "ticks": ""
            },
            "colorscale": [
             [
              0,
              "#0d0887"
             ],
             [
              0.1111111111111111,
              "#46039f"
             ],
             [
              0.2222222222222222,
              "#7201a8"
             ],
             [
              0.3333333333333333,
              "#9c179e"
             ],
             [
              0.4444444444444444,
              "#bd3786"
             ],
             [
              0.5555555555555556,
              "#d8576b"
             ],
             [
              0.6666666666666666,
              "#ed7953"
             ],
             [
              0.7777777777777778,
              "#fb9f3a"
             ],
             [
              0.8888888888888888,
              "#fdca26"
             ],
             [
              1,
              "#f0f921"
             ]
            ],
            "type": "surface"
           }
          ],
          "table": [
           {
            "cells": {
             "fill": {
              "color": "#EBF0F8"
             },
             "line": {
              "color": "white"
             }
            },
            "header": {
             "fill": {
              "color": "#C8D4E3"
             },
             "line": {
              "color": "white"
             }
            },
            "type": "table"
           }
          ]
         },
         "layout": {
          "annotationdefaults": {
           "arrowcolor": "#2a3f5f",
           "arrowhead": 0,
           "arrowwidth": 1
          },
          "autotypenumbers": "strict",
          "coloraxis": {
           "colorbar": {
            "outlinewidth": 0,
            "ticks": ""
           }
          },
          "colorscale": {
           "diverging": [
            [
             0,
             "#8e0152"
            ],
            [
             0.1,
             "#c51b7d"
            ],
            [
             0.2,
             "#de77ae"
            ],
            [
             0.3,
             "#f1b6da"
            ],
            [
             0.4,
             "#fde0ef"
            ],
            [
             0.5,
             "#f7f7f7"
            ],
            [
             0.6,
             "#e6f5d0"
            ],
            [
             0.7,
             "#b8e186"
            ],
            [
             0.8,
             "#7fbc41"
            ],
            [
             0.9,
             "#4d9221"
            ],
            [
             1,
             "#276419"
            ]
           ],
           "sequential": [
            [
             0,
             "#0d0887"
            ],
            [
             0.1111111111111111,
             "#46039f"
            ],
            [
             0.2222222222222222,
             "#7201a8"
            ],
            [
             0.3333333333333333,
             "#9c179e"
            ],
            [
             0.4444444444444444,
             "#bd3786"
            ],
            [
             0.5555555555555556,
             "#d8576b"
            ],
            [
             0.6666666666666666,
             "#ed7953"
            ],
            [
             0.7777777777777778,
             "#fb9f3a"
            ],
            [
             0.8888888888888888,
             "#fdca26"
            ],
            [
             1,
             "#f0f921"
            ]
           ],
           "sequentialminus": [
            [
             0,
             "#0d0887"
            ],
            [
             0.1111111111111111,
             "#46039f"
            ],
            [
             0.2222222222222222,
             "#7201a8"
            ],
            [
             0.3333333333333333,
             "#9c179e"
            ],
            [
             0.4444444444444444,
             "#bd3786"
            ],
            [
             0.5555555555555556,
             "#d8576b"
            ],
            [
             0.6666666666666666,
             "#ed7953"
            ],
            [
             0.7777777777777778,
             "#fb9f3a"
            ],
            [
             0.8888888888888888,
             "#fdca26"
            ],
            [
             1,
             "#f0f921"
            ]
           ]
          },
          "colorway": [
           "#636efa",
           "#EF553B",
           "#00cc96",
           "#ab63fa",
           "#FFA15A",
           "#19d3f3",
           "#FF6692",
           "#B6E880",
           "#FF97FF",
           "#FECB52"
          ],
          "font": {
           "color": "#2a3f5f"
          },
          "geo": {
           "bgcolor": "white",
           "lakecolor": "white",
           "landcolor": "white",
           "showlakes": true,
           "showland": true,
           "subunitcolor": "#C8D4E3"
          },
          "hoverlabel": {
           "align": "left"
          },
          "hovermode": "closest",
          "mapbox": {
           "style": "light"
          },
          "paper_bgcolor": "white",
          "plot_bgcolor": "white",
          "polar": {
           "angularaxis": {
            "gridcolor": "#EBF0F8",
            "linecolor": "#EBF0F8",
            "ticks": ""
           },
           "bgcolor": "white",
           "radialaxis": {
            "gridcolor": "#EBF0F8",
            "linecolor": "#EBF0F8",
            "ticks": ""
           }
          },
          "scene": {
           "xaxis": {
            "backgroundcolor": "white",
            "gridcolor": "#DFE8F3",
            "gridwidth": 2,
            "linecolor": "#EBF0F8",
            "showbackground": true,
            "ticks": "",
            "zerolinecolor": "#EBF0F8"
           },
           "yaxis": {
            "backgroundcolor": "white",
            "gridcolor": "#DFE8F3",
            "gridwidth": 2,
            "linecolor": "#EBF0F8",
            "showbackground": true,
            "ticks": "",
            "zerolinecolor": "#EBF0F8"
           },
           "zaxis": {
            "backgroundcolor": "white",
            "gridcolor": "#DFE8F3",
            "gridwidth": 2,
            "linecolor": "#EBF0F8",
            "showbackground": true,
            "ticks": "",
            "zerolinecolor": "#EBF0F8"
           }
          },
          "shapedefaults": {
           "line": {
            "color": "#2a3f5f"
           }
          },
          "ternary": {
           "aaxis": {
            "gridcolor": "#DFE8F3",
            "linecolor": "#A2B1C6",
            "ticks": ""
           },
           "baxis": {
            "gridcolor": "#DFE8F3",
            "linecolor": "#A2B1C6",
            "ticks": ""
           },
           "bgcolor": "white",
           "caxis": {
            "gridcolor": "#DFE8F3",
            "linecolor": "#A2B1C6",
            "ticks": ""
           }
          },
          "title": {
           "x": 0.05
          },
          "xaxis": {
           "automargin": true,
           "gridcolor": "#EBF0F8",
           "linecolor": "#EBF0F8",
           "ticks": "",
           "title": {
            "standoff": 15
           },
           "zerolinecolor": "#EBF0F8",
           "zerolinewidth": 2
          },
          "yaxis": {
           "automargin": true,
           "gridcolor": "#EBF0F8",
           "linecolor": "#EBF0F8",
           "ticks": "",
           "title": {
            "standoff": 15
           },
           "zerolinecolor": "#EBF0F8",
           "zerolinewidth": 2
          }
         }
        },
        "xaxis": {
         "linecolor": "black",
         "linewidth": 1,
         "showline": true
        },
        "yaxis": {
         "linecolor": "black",
         "linewidth": 1,
         "showline": true
        }
       }
      },
      "text/html": [
       "<div>                            <div id=\"024735dd-e502-459b-b4a0-14821cdcb3c1\" class=\"plotly-graph-div\" style=\"height:525px; width:100%;\"></div>            <script type=\"text/javascript\">                require([\"plotly\"], function(Plotly) {                    window.PLOTLYENV=window.PLOTLYENV || {};                                    if (document.getElementById(\"024735dd-e502-459b-b4a0-14821cdcb3c1\")) {                    Plotly.newPlot(                        \"024735dd-e502-459b-b4a0-14821cdcb3c1\",                        [{\"error_y\":{\"array\":[0.029065931773548128,0.04969028502714562,0.05717938289225237],\"type\":\"data\"},\"marker\":{\"color\":\"rgb(0, 147, 146)\"},\"name\":\"validation\",\"type\":\"bar\",\"x\":[\"AUC\",\"balanced_accuracy\",\"log_loss\"],\"y\":[0.9578098484848485,0.8928712121212122,0.32063621849327784]},{\"marker\":{\"color\":\"rgb(114, 170, 161)\"},\"name\":\"test\",\"type\":\"bar\",\"x\":[\"AUC\",\"balanced_accuracy\",\"log_loss\"],\"y\":[0.9597423510466989,0.9347826086956521,0.2653509069061407]}],                        {\"barmode\":\"group\",\"template\":{\"data\":{\"bar\":[{\"error_x\":{\"color\":\"#2a3f5f\"},\"error_y\":{\"color\":\"#2a3f5f\"},\"marker\":{\"line\":{\"color\":\"white\",\"width\":0.5},\"pattern\":{\"fillmode\":\"overlay\",\"size\":10,\"solidity\":0.2}},\"type\":\"bar\"}],\"barpolar\":[{\"marker\":{\"line\":{\"color\":\"white\",\"width\":0.5},\"pattern\":{\"fillmode\":\"overlay\",\"size\":10,\"solidity\":0.2}},\"type\":\"barpolar\"}],\"carpet\":[{\"aaxis\":{\"endlinecolor\":\"#2a3f5f\",\"gridcolor\":\"#C8D4E3\",\"linecolor\":\"#C8D4E3\",\"minorgridcolor\":\"#C8D4E3\",\"startlinecolor\":\"#2a3f5f\"},\"baxis\":{\"endlinecolor\":\"#2a3f5f\",\"gridcolor\":\"#C8D4E3\",\"linecolor\":\"#C8D4E3\",\"minorgridcolor\":\"#C8D4E3\",\"startlinecolor\":\"#2a3f5f\"},\"type\":\"carpet\"}],\"choropleth\":[{\"colorbar\":{\"outlinewidth\":0,\"ticks\":\"\"},\"type\":\"choropleth\"}],\"contour\":[{\"colorbar\":{\"outlinewidth\":0,\"ticks\":\"\"},\"colorscale\":[[0.0,\"#0d0887\"],[0.1111111111111111,\"#46039f\"],[0.2222222222222222,\"#7201a8\"],[0.3333333333333333,\"#9c179e\"],[0.4444444444444444,\"#bd3786\"],[0.5555555555555556,\"#d8576b\"],[0.6666666666666666,\"#ed7953\"],[0.7777777777777778,\"#fb9f3a\"],[0.8888888888888888,\"#fdca26\"],[1.0,\"#f0f921\"]],\"type\":\"contour\"}],\"contourcarpet\":[{\"colorbar\":{\"outlinewidth\":0,\"ticks\":\"\"},\"type\":\"contourcarpet\"}],\"heatmap\":[{\"colorbar\":{\"outlinewidth\":0,\"ticks\":\"\"},\"colorscale\":[[0.0,\"#0d0887\"],[0.1111111111111111,\"#46039f\"],[0.2222222222222222,\"#7201a8\"],[0.3333333333333333,\"#9c179e\"],[0.4444444444444444,\"#bd3786\"],[0.5555555555555556,\"#d8576b\"],[0.6666666666666666,\"#ed7953\"],[0.7777777777777778,\"#fb9f3a\"],[0.8888888888888888,\"#fdca26\"],[1.0,\"#f0f921\"]],\"type\":\"heatmap\"}],\"heatmapgl\":[{\"colorbar\":{\"outlinewidth\":0,\"ticks\":\"\"},\"colorscale\":[[0.0,\"#0d0887\"],[0.1111111111111111,\"#46039f\"],[0.2222222222222222,\"#7201a8\"],[0.3333333333333333,\"#9c179e\"],[0.4444444444444444,\"#bd3786\"],[0.5555555555555556,\"#d8576b\"],[0.6666666666666666,\"#ed7953\"],[0.7777777777777778,\"#fb9f3a\"],[0.8888888888888888,\"#fdca26\"],[1.0,\"#f0f921\"]],\"type\":\"heatmapgl\"}],\"histogram\":[{\"marker\":{\"pattern\":{\"fillmode\":\"overlay\",\"size\":10,\"solidity\":0.2}},\"type\":\"histogram\"}],\"histogram2d\":[{\"colorbar\":{\"outlinewidth\":0,\"ticks\":\"\"},\"colorscale\":[[0.0,\"#0d0887\"],[0.1111111111111111,\"#46039f\"],[0.2222222222222222,\"#7201a8\"],[0.3333333333333333,\"#9c179e\"],[0.4444444444444444,\"#bd3786\"],[0.5555555555555556,\"#d8576b\"],[0.6666666666666666,\"#ed7953\"],[0.7777777777777778,\"#fb9f3a\"],[0.8888888888888888,\"#fdca26\"],[1.0,\"#f0f921\"]],\"type\":\"histogram2d\"}],\"histogram2dcontour\":[{\"colorbar\":{\"outlinewidth\":0,\"ticks\":\"\"},\"colorscale\":[[0.0,\"#0d0887\"],[0.1111111111111111,\"#46039f\"],[0.2222222222222222,\"#7201a8\"],[0.3333333333333333,\"#9c179e\"],[0.4444444444444444,\"#bd3786\"],[0.5555555555555556,\"#d8576b\"],[0.6666666666666666,\"#ed7953\"],[0.7777777777777778,\"#fb9f3a\"],[0.8888888888888888,\"#fdca26\"],[1.0,\"#f0f921\"]],\"type\":\"histogram2dcontour\"}],\"mesh3d\":[{\"colorbar\":{\"outlinewidth\":0,\"ticks\":\"\"},\"type\":\"mesh3d\"}],\"parcoords\":[{\"line\":{\"colorbar\":{\"outlinewidth\":0,\"ticks\":\"\"}},\"type\":\"parcoords\"}],\"pie\":[{\"automargin\":true,\"type\":\"pie\"}],\"scatter\":[{\"marker\":{\"colorbar\":{\"outlinewidth\":0,\"ticks\":\"\"}},\"type\":\"scatter\"}],\"scatter3d\":[{\"line\":{\"colorbar\":{\"outlinewidth\":0,\"ticks\":\"\"}},\"marker\":{\"colorbar\":{\"outlinewidth\":0,\"ticks\":\"\"}},\"type\":\"scatter3d\"}],\"scattercarpet\":[{\"marker\":{\"colorbar\":{\"outlinewidth\":0,\"ticks\":\"\"}},\"type\":\"scattercarpet\"}],\"scattergeo\":[{\"marker\":{\"colorbar\":{\"outlinewidth\":0,\"ticks\":\"\"}},\"type\":\"scattergeo\"}],\"scattergl\":[{\"marker\":{\"colorbar\":{\"outlinewidth\":0,\"ticks\":\"\"}},\"type\":\"scattergl\"}],\"scattermapbox\":[{\"marker\":{\"colorbar\":{\"outlinewidth\":0,\"ticks\":\"\"}},\"type\":\"scattermapbox\"}],\"scatterpolar\":[{\"marker\":{\"colorbar\":{\"outlinewidth\":0,\"ticks\":\"\"}},\"type\":\"scatterpolar\"}],\"scatterpolargl\":[{\"marker\":{\"colorbar\":{\"outlinewidth\":0,\"ticks\":\"\"}},\"type\":\"scatterpolargl\"}],\"scatterternary\":[{\"marker\":{\"colorbar\":{\"outlinewidth\":0,\"ticks\":\"\"}},\"type\":\"scatterternary\"}],\"surface\":[{\"colorbar\":{\"outlinewidth\":0,\"ticks\":\"\"},\"colorscale\":[[0.0,\"#0d0887\"],[0.1111111111111111,\"#46039f\"],[0.2222222222222222,\"#7201a8\"],[0.3333333333333333,\"#9c179e\"],[0.4444444444444444,\"#bd3786\"],[0.5555555555555556,\"#d8576b\"],[0.6666666666666666,\"#ed7953\"],[0.7777777777777778,\"#fb9f3a\"],[0.8888888888888888,\"#fdca26\"],[1.0,\"#f0f921\"]],\"type\":\"surface\"}],\"table\":[{\"cells\":{\"fill\":{\"color\":\"#EBF0F8\"},\"line\":{\"color\":\"white\"}},\"header\":{\"fill\":{\"color\":\"#C8D4E3\"},\"line\":{\"color\":\"white\"}},\"type\":\"table\"}]},\"layout\":{\"annotationdefaults\":{\"arrowcolor\":\"#2a3f5f\",\"arrowhead\":0,\"arrowwidth\":1},\"autotypenumbers\":\"strict\",\"coloraxis\":{\"colorbar\":{\"outlinewidth\":0,\"ticks\":\"\"}},\"colorscale\":{\"diverging\":[[0,\"#8e0152\"],[0.1,\"#c51b7d\"],[0.2,\"#de77ae\"],[0.3,\"#f1b6da\"],[0.4,\"#fde0ef\"],[0.5,\"#f7f7f7\"],[0.6,\"#e6f5d0\"],[0.7,\"#b8e186\"],[0.8,\"#7fbc41\"],[0.9,\"#4d9221\"],[1,\"#276419\"]],\"sequential\":[[0.0,\"#0d0887\"],[0.1111111111111111,\"#46039f\"],[0.2222222222222222,\"#7201a8\"],[0.3333333333333333,\"#9c179e\"],[0.4444444444444444,\"#bd3786\"],[0.5555555555555556,\"#d8576b\"],[0.6666666666666666,\"#ed7953\"],[0.7777777777777778,\"#fb9f3a\"],[0.8888888888888888,\"#fdca26\"],[1.0,\"#f0f921\"]],\"sequentialminus\":[[0.0,\"#0d0887\"],[0.1111111111111111,\"#46039f\"],[0.2222222222222222,\"#7201a8\"],[0.3333333333333333,\"#9c179e\"],[0.4444444444444444,\"#bd3786\"],[0.5555555555555556,\"#d8576b\"],[0.6666666666666666,\"#ed7953\"],[0.7777777777777778,\"#fb9f3a\"],[0.8888888888888888,\"#fdca26\"],[1.0,\"#f0f921\"]]},\"colorway\":[\"#636efa\",\"#EF553B\",\"#00cc96\",\"#ab63fa\",\"#FFA15A\",\"#19d3f3\",\"#FF6692\",\"#B6E880\",\"#FF97FF\",\"#FECB52\"],\"font\":{\"color\":\"#2a3f5f\"},\"geo\":{\"bgcolor\":\"white\",\"lakecolor\":\"white\",\"landcolor\":\"white\",\"showlakes\":true,\"showland\":true,\"subunitcolor\":\"#C8D4E3\"},\"hoverlabel\":{\"align\":\"left\"},\"hovermode\":\"closest\",\"mapbox\":{\"style\":\"light\"},\"paper_bgcolor\":\"white\",\"plot_bgcolor\":\"white\",\"polar\":{\"angularaxis\":{\"gridcolor\":\"#EBF0F8\",\"linecolor\":\"#EBF0F8\",\"ticks\":\"\"},\"bgcolor\":\"white\",\"radialaxis\":{\"gridcolor\":\"#EBF0F8\",\"linecolor\":\"#EBF0F8\",\"ticks\":\"\"}},\"scene\":{\"xaxis\":{\"backgroundcolor\":\"white\",\"gridcolor\":\"#DFE8F3\",\"gridwidth\":2,\"linecolor\":\"#EBF0F8\",\"showbackground\":true,\"ticks\":\"\",\"zerolinecolor\":\"#EBF0F8\"},\"yaxis\":{\"backgroundcolor\":\"white\",\"gridcolor\":\"#DFE8F3\",\"gridwidth\":2,\"linecolor\":\"#EBF0F8\",\"showbackground\":true,\"ticks\":\"\",\"zerolinecolor\":\"#EBF0F8\"},\"zaxis\":{\"backgroundcolor\":\"white\",\"gridcolor\":\"#DFE8F3\",\"gridwidth\":2,\"linecolor\":\"#EBF0F8\",\"showbackground\":true,\"ticks\":\"\",\"zerolinecolor\":\"#EBF0F8\"}},\"shapedefaults\":{\"line\":{\"color\":\"#2a3f5f\"}},\"ternary\":{\"aaxis\":{\"gridcolor\":\"#DFE8F3\",\"linecolor\":\"#A2B1C6\",\"ticks\":\"\"},\"baxis\":{\"gridcolor\":\"#DFE8F3\",\"linecolor\":\"#A2B1C6\",\"ticks\":\"\"},\"bgcolor\":\"white\",\"caxis\":{\"gridcolor\":\"#DFE8F3\",\"linecolor\":\"#A2B1C6\",\"ticks\":\"\"}},\"title\":{\"x\":0.05},\"xaxis\":{\"automargin\":true,\"gridcolor\":\"#EBF0F8\",\"linecolor\":\"#EBF0F8\",\"ticks\":\"\",\"title\":{\"standoff\":15},\"zerolinecolor\":\"#EBF0F8\",\"zerolinewidth\":2},\"yaxis\":{\"automargin\":true,\"gridcolor\":\"#EBF0F8\",\"linecolor\":\"#EBF0F8\",\"ticks\":\"\",\"title\":{\"standoff\":15},\"zerolinecolor\":\"#EBF0F8\",\"zerolinewidth\":2}}},\"xaxis\":{\"linecolor\":\"black\",\"linewidth\":1,\"showline\":true},\"yaxis\":{\"linecolor\":\"black\",\"linewidth\":1,\"showline\":true}},                        {\"responsive\": true}                    ).then(function(){\n",
       "                            \n",
       "var gd = document.getElementById('024735dd-e502-459b-b4a0-14821cdcb3c1');\n",
       "var x = new MutationObserver(function (mutations, observer) {{\n",
       "        var display = window.getComputedStyle(gd).display;\n",
       "        if (!display || display === 'none') {{\n",
       "            console.log([gd, 'removed!']);\n",
       "            Plotly.purge(gd);\n",
       "            observer.disconnect();\n",
       "        }}\n",
       "}});\n",
       "\n",
       "// Listen for the removal of the full notebook cells\n",
       "var notebookContainer = gd.closest('#notebook-container');\n",
       "if (notebookContainer) {{\n",
       "    x.observe(notebookContainer, {childList: true});\n",
       "}}\n",
       "\n",
       "// Listen for the clearing of the current output cell\n",
       "var outputEl = gd.closest('.output');\n",
       "if (outputEl) {{\n",
       "    x.observe(outputEl, {childList: true});\n",
       "}}\n",
       "\n",
       "                        })                };                });            </script>        </div>"
      ]
     },
     "metadata": {},
     "output_type": "display_data"
    }
   ],
   "source": [
    "from util.plotting import plot_validation_vs_test_performance\n",
    "\n",
    "plot_validation_vs_test_performance(iml_result=result, result_path=ml_result_path)"
   ]
  },
  {
   "cell_type": "code",
   "execution_count": 16,
   "metadata": {},
   "outputs": [
    {
     "data": {
      "text/html": [
       "\n",
       "        <iframe\n",
       "            width=\"700\"\n",
       "            height=\"600\"\n",
       "            src=\"experiment1a/ml_result/result/HTML_output/train_ml_split_1_immune_state_kmer_frequency_logistic_regression_optimal_reports_ml_method_coefficients_largest_25_coefficients.html\"\n",
       "            frameborder=\"0\"\n",
       "            allowfullscreen\n",
       "            \n",
       "        ></iframe>\n",
       "        "
      ],
      "text/plain": [
       "<IPython.lib.display.IFrame at 0x7fa2e5d165e0>"
      ]
     },
     "execution_count": 16,
     "metadata": {},
     "output_type": "execute_result"
    }
   ],
   "source": [
    "# show what the model has learned\n",
    "\n",
    "from IPython.display import IFrame\n",
    "\n",
    "\n",
    "IFrame(src=str(ml_result_path / \"result/HTML_output/train_ml_split_1_immune_state_kmer_frequency_logistic_regression_optimal_reports_ml_method_coefficients_largest_25_coefficients.html\"),  width=700, height=600)"
   ]
  },
  {
   "cell_type": "code",
   "execution_count": null,
   "metadata": {},
   "outputs": [],
   "source": []
  }
 ],
 "metadata": {
  "kernelspec": {
   "display_name": "Python 3 (ipykernel)",
   "language": "python",
   "name": "python3"
  },
  "language_info": {
   "codemirror_mode": {
    "name": "ipython",
    "version": 3
   },
   "file_extension": ".py",
   "mimetype": "text/x-python",
   "name": "python",
   "nbconvert_exporter": "python",
   "pygments_lexer": "ipython3",
   "version": "3.8.3"
  },
  "varInspector": {
   "cols": {
    "lenName": 16,
    "lenType": 16,
    "lenVar": 40
   },
   "kernels_config": {
    "python": {
     "delete_cmd_postfix": "",
     "delete_cmd_prefix": "del ",
     "library": "var_list.py",
     "varRefreshCmd": "print(var_dic_list())"
    },
    "r": {
     "delete_cmd_postfix": ") ",
     "delete_cmd_prefix": "rm(",
     "library": "var_list.r",
     "varRefreshCmd": "cat(var_dic_list()) "
    }
   },
   "types_to_exclude": [
    "module",
    "function",
    "builtin_function_or_method",
    "instance",
    "_Feature"
   ],
   "window_display": false
  }
 },
 "nbformat": 4,
 "nbformat_minor": 1
}