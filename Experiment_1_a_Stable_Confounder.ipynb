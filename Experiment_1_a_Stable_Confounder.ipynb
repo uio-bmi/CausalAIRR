{
 "cells": [
  {
   "cell_type": "markdown",
   "metadata": {
    "collapsed": true
   },
   "source": [
    "# Experiment 1a: the influence of a stable confounder on classification performance\n",
    "\n",
    "In this experiment, we use a simplified causal graph consisting of three nodes: immune state, confounder, and AIRR, to show if the distribution of a confounder is stable in the study cohort, and source and target populations, it does not influence the prediction task.\n",
    "\n",
    "Immune state is a binary variable and can have values `True` or `False` to indicate if an individual is diseased or healthy. Confounder also in this setting has two values: `C1` and `C2`. AIRR is a set of sequences simulated based on the values of the immune state and the confounder for the given individual.\n",
    "\n",
    "Steps:\n",
    "\n",
    "1. Simulate training and test dataset from a causal graph to include: confounder (implemented by implanting 3-mer `ADR` in the repertoire), immune state (implemented by implanting a signal in the repertoire but the exact 3-mer depends on the value of the confounder; it is either `QPR` or `EQY`)\n",
    "\n",
    "2. Train an ML model (here: logistic regression on repertoires represented by the k-mer frequencies) on the train set and assess its performance on the test set in the presence of confounder with stable distribution across train and test.\n",
    "\n",
    "Software used: \n",
    "\n",
    "- DagSim for simulation of the causal graph; \n",
    "- immuneML v2.1 for implanting signal in AIRRs and for training and assessing machine learning classifiers; \n",
    "- OLGA for simulation of naive AIRRs"
   ]
  },
  {
   "cell_type": "code",
   "execution_count": 2,
   "metadata": {},
   "outputs": [],
   "source": [
    "import yaml\n",
    "import dagsim.base as ds\n",
    "import numpy as np\n",
    "from util.dataset_util import make_AIRR_dataset, make_dataset, setup_path\n",
    "from util.implanting import make_immune_state_signals, make_confounding_signal\n",
    "from util.experiment1 import get_immune_state, get_confounder, get_repertoire"
   ]
  },
  {
   "cell_type": "markdown",
   "metadata": {},
   "source": [
    "## Step 1: AIRR simulation from a causal graph"
   ]
  },
  {
   "cell_type": "code",
   "execution_count": 3,
   "metadata": {},
   "outputs": [
    {
     "name": "stdout",
     "output_type": "stream",
     "text": [
      "Removing experiment1a...\n"
     ]
    }
   ],
   "source": [
    "result_path = setup_path('./experiment1a/')\n",
    "data_path = setup_path(\"./experiment1a/data/\")\n",
    "\n",
    "# how many repertoires to make for training and testing\n",
    "train_example_count = 200\n",
    "test_example_count = 100\n",
    "\n",
    "# immune state: two binomial distributions depending on the confounder value with probability of success p\n",
    "immune_state_p_conf1 = 0.8 # for confounder = C1\n",
    "immune_state_p_conf2 = 0.2 # for confounder = C2\n",
    "\n",
    "# confounder: binomial distribution with probability of success p\n",
    "confounder_p_train = 0.5\n",
    "confounder_p_test = 0.5\n",
    "\n",
    "# other parameters\n",
    "immune_state_implanting_rate = 0.02 # percentage of repertoire sequences to include immune state signal\n",
    "confounding_implanting_rate = 0.2\n",
    "sequence_count = 500 # number of sequences in one repertoire"
   ]
  },
  {
   "cell_type": "code",
   "execution_count": 4,
   "metadata": {},
   "outputs": [],
   "source": [
    "immune_state_signal_name = \"immune_state\"\n",
    "immune_state_signals = make_immune_state_signals(signal_name=immune_state_signal_name)\n",
    "confounding_signal = make_confounding_signal()\n",
    "\n",
    "# define nodes of the causal graph\n",
    "\n",
    "index_node = ds.Node(name=\"index\", function=np.arange, kwargs={\"start\": 0}, size_field=\"stop\")\n",
    "\n",
    "confounder_node = ds.Node(name=\"confounder\", function=get_confounder, kwargs={\"p\": confounder_p_train})\n",
    "\n",
    "immune_state_node = ds.Node(name=\"immune_state\", function=get_immune_state, \n",
    "                               kwargs={\"confounder\": confounder_node, \"p_conf1\": immune_state_p_conf1,\n",
    "                                         \"p_conf2\": immune_state_p_conf2})\n",
    "\n",
    "repertoire_node = ds.Node(name=\"repertoire\", function=get_repertoire, \n",
    "                             kwargs={\"immune_state\": immune_state_node, \"confounder\": confounder_node, \n",
    "                                        \"path\": data_path / \"train\", \"sequence_count\": sequence_count, \n",
    "                                        \"immune_state_signals\": immune_state_signals, \n",
    "                                        \"confounding_signal\": confounding_signal, \"seed\": index_node, \n",
    "                                        'immune_state_implanting_rate': immune_state_implanting_rate, \n",
    "                                        'confounding_implanting_rate': confounding_implanting_rate})\n",
    "\n",
    "# make a causal graph using DagSim and show it graphically\n",
    "\n",
    "graph = ds.Graph(name=\"graph_experiment_1a\", \n",
    "                 list_nodes=[index_node, confounder_node, immune_state_node, repertoire_node])\n",
    "graph.draw()\n"
   ]
  },
  {
   "cell_type": "code",
   "execution_count": 5,
   "metadata": {},
   "outputs": [
    {
     "name": "stdout",
     "output_type": "stream",
     "text": [
      "Simulation started\n",
      "Simulation finished in 97.1391 seconds\n"
     ]
    }
   ],
   "source": [
    "# simulate a dataset using the graph\n",
    "\n",
    "study_cohort_data = graph.simulate(num_samples=train_example_count, \n",
    "                                   csv_name=str(data_path / \"train/study_cohort\"))\n",
    "\n",
    "# make an AIRR dataset from the generated repertoires to be used for training\n",
    "\n",
    "train_dataset = make_dataset(repertoire_paths=study_cohort_data[\"repertoire\"], path=data_path / 'train', \n",
    "                             dataset_name=\"experiment1a_train\", \n",
    "                             signal_names=[immune_state_signal_name, confounder_node.name])"
   ]
  },
  {
   "cell_type": "code",
   "execution_count": 6,
   "metadata": {
    "pycharm": {
     "name": "#%%\n"
    }
   },
   "outputs": [
    {
     "name": "stdout",
     "output_type": "stream",
     "text": [
      "Simulation started\n",
      "Simulation finished in 45.4357 seconds\n"
     ]
    }
   ],
   "source": [
    "# make a test dataset\n",
    "confounder_node = ds.Node(name=\"confounder\", function=get_confounder, kwargs={\"p\": confounder_p_test})\n",
    "\n",
    "repertoire_node = ds.Node(name=\"repertoire\", function=get_repertoire,\n",
    "                             kwargs={\"immune_state\": immune_state_node, \"confounder\": confounder_node,\n",
    "                                        \"path\": data_path / \"test\", \"sequence_count\": sequence_count,\n",
    "                                        \"immune_state_signals\": immune_state_signals,\n",
    "                                        \"confounding_signal\": confounding_signal, \"seed\": index_node,\n",
    "                                        'immune_state_implanting_rate': immune_state_implanting_rate,\n",
    "                                        'confounding_implanting_rate': confounding_implanting_rate})\n",
    "\n",
    "graph = ds.Graph(name=\"graph_experiment_1a\",\n",
    "                 list_nodes=[index_node, confounder_node, immune_state_node, repertoire_node])\n",
    "\n",
    "test_data = graph.simulate(num_samples=test_example_count, csv_name=str(data_path / \"test/test_cohort\"))\n",
    "\n",
    "test_dataset = make_dataset(repertoire_paths=test_data[\"repertoire\"], path=data_path / 'test',\n",
    "                            dataset_name=\"experiment1a_test\",\n",
    "                            signal_names=[immune_state_signal_name, confounder_node.name])\n",
    "\n",
    "# merge datasets (but the distinction between train and test will be kept)\n",
    "\n",
    "dataset = make_AIRR_dataset(train_dataset, test_dataset, data_path / 'full_dataset')"
   ]
  },
  {
   "cell_type": "markdown",
   "metadata": {},
   "source": [
    "## Step 2: train an ML model and assess performance"
   ]
  },
  {
   "cell_type": "code",
   "execution_count": 7,
   "metadata": {},
   "outputs": [],
   "source": [
    "specs = {\n",
    "    \"definitions\": {\n",
    "        \"datasets\": {\n",
    "            \"dataset1\": {\n",
    "                \"format\": 'AIRR',\n",
    "                \"params\": {\n",
    "                    \"path\": str(data_path / 'full_dataset'),\n",
    "                    \"metadata_file\": str(data_path / 'full_dataset/metadata.csv')\n",
    "                }\n",
    "            }\n",
    "        },\n",
    "        \"encodings\": {\n",
    "            \"kmer_frequency\": {\n",
    "                \"KmerFrequency\": {\"k\": 3}\n",
    "            }\n",
    "        },\n",
    "        \"ml_methods\": {\n",
    "            \"logistic_regression\": {\n",
    "                \"LogisticRegression\": {\n",
    "                    \"penalty\": \"l1\",\n",
    "                    \"C\": [0.001, 0.01, 0.1, 1, 10, 100, 1000],\n",
    "                    \"show_warnings\": False\n",
    "                },\n",
    "                \"model_selection_cv\": True,\n",
    "                \"model_selection_n_folds\": 5\n",
    "            }\n",
    "        },\n",
    "        \"reports\": {\n",
    "            \"motif_recovery\": { # to check how much coefficients overlap with the immune state signal that was implanted\n",
    "                \"MotifSeedRecovery\": {\n",
    "                    \"implanted_motifs_per_label\": {\n",
    "                        \"immune_state\": {\n",
    "                            \"seeds\": [\"EQY\", \"QPR\"],\n",
    "                            \"hamming_distance\": False,\n",
    "                            \"gap_sizes\": [0] # no gaps\n",
    "                        },\n",
    "                        \"confounder\": {\n",
    "                            \"seeds\": [\"ADR\"],\n",
    "                            \"hamming_distance\": False,\n",
    "                            \"gap_sizes\": [0] # no gaps\n",
    "                        }\n",
    "                    }\n",
    "                }\n",
    "            },\n",
    "            \"coefficients\": {\n",
    "                \"Coefficients\": { # show top 25 logistic regression coefficients and what k-mers they correspond to\n",
    "                    \"coefs_to_plot\": ['n_largest'],\n",
    "                    \"n_largest\": [25]\n",
    "                }\n",
    "            },\n",
    "            \"feature_comparison\": {\n",
    "                \"FeatureComparison\": {\n",
    "                    \"comparison_label\": \"immune_state\",\n",
    "                    \"color_grouping_label\": \"confounder\",\n",
    "                    \"show_error_bar\": False,\n",
    "                    \"keep_fraction\": 0.1,\n",
    "                    \"log_scale\": True\n",
    "                }\n",
    "            }, \n",
    "            \"training_performance\": {\n",
    "                \"TrainingPerformance\": {\n",
    "                    \"metrics\": [\"balanced_accuracy\", \"log_loss\", \"auc\"]\n",
    "                }\n",
    "            }\n",
    "        }\n",
    "    },\n",
    "    \"instructions\": {\n",
    "        'train_ml': {\n",
    "            \"type\": \"TrainMLModel\",\n",
    "            \"assessment\": { # ensure here that train and test dataset are fixed, as per simulation\n",
    "                \"split_strategy\": \"manual\",\n",
    "                \"split_count\": 1,\n",
    "                \"manual_config\": {\n",
    "                    \"train_metadata_path\": str(data_path / \"train/experiment1a_train_metadata.csv\"),\n",
    "                    \"test_metadata_path\": str(data_path / \"test/experiment1a_test_metadata.csv\")\n",
    "                },\n",
    "                \"reports\": {\n",
    "                    \"models\": [\"coefficients\", \"motif_recovery\", \"training_performance\"],\n",
    "                    \"encoding\": [\"feature_comparison\"]\n",
    "                }\n",
    "            },\n",
    "            \"selection\": {\n",
    "                \"split_strategy\": \"k_fold\",\n",
    "                \"split_count\": 5,\n",
    "                \"reports\": {\n",
    "                    \"models\": [\"coefficients\", \"motif_recovery\", \"training_performance\"],\n",
    "                    \"encoding\": [\"feature_comparison\"]\n",
    "                }\n",
    "            },\n",
    "            \"settings\": [\n",
    "                {\"encoding\": \"kmer_frequency\", \"ml_method\": \"logistic_regression\"}\n",
    "            ],\n",
    "            \"dataset\": \"dataset1\",\n",
    "            \"refit_optimal_model\": False,\n",
    "            \"labels\": [\"immune_state\"],\n",
    "            \"optimization_metric\": \"balanced_accuracy\",\n",
    "            \"metrics\": ['log_loss', 'auc']\n",
    "        }\n",
    "    }\n",
    "}\n",
    "\n",
    "ml_result_path = setup_path(\"./experiment1a/ml_result/\")\n",
    "specification_path = ml_result_path / \"specs.yaml\"\n",
    "\n",
    "with open(specification_path, \"w\") as file:\n",
    "    yaml.dump(specs, file)"
   ]
  },
  {
   "cell_type": "code",
   "execution_count": null,
   "metadata": {
    "pycharm": {
     "is_executing": true
    }
   },
   "outputs": [
    {
     "name": "stdout",
     "output_type": "stream",
     "text": [
      "2022-01-19 10:45:29.403837: Setting temporary cache path to experiment1a/ml_result/result/cache\n",
      "2022-01-19 10:45:29.404165: ImmuneML: parsing the specification...\n",
      "\n",
      "2022-01-19 10:45:39.254663: Full specification is available at experiment1a/ml_result/result/full_specs.yaml.\n",
      "\n",
      "2022-01-19 10:45:39.255275: ImmuneML: starting the analysis...\n",
      "\n",
      "2022-01-19 10:45:39.255705: Instruction 1/1 has started.\n",
      "2022-01-19 10:45:39.301664: Training ML model: running outer CV loop: started split 1/1.\n",
      "\n",
      "2022-01-19 10:45:39.351578: Hyperparameter optimization: running the inner loop of nested CV: selection for label immune_state (label 1 / 1).\n",
      "\n",
      "2022-01-19 10:45:39.352370: Evaluating hyperparameter setting: kmer_frequency_logistic_regression...\n",
      "2022-01-19 10:45:39.352909: Encoding started...\n",
      "2022-01-19 10:45:41.270142: Encoding finished.\n",
      "2022-01-19 10:45:41.270296: ML model training started...\n",
      "2022-01-19 10:46:18.045588: ML model training finished.\n",
      "2022-01-19 10:46:22.806040: Encoding started...\n"
     ]
    }
   ],
   "source": [
    "# run immuneML with the specs file\n",
    "\n",
    "from immuneML.app.ImmuneMLApp import ImmuneMLApp\n",
    "\n",
    "output_path = ml_result_path / \"result/\"\n",
    "\n",
    "app = ImmuneMLApp(specification_path = specification_path, result_path = output_path)\n",
    "result = app.run()\n",
    "\n",
    "print(\"The results are located under ./experiment1a/\")"
   ]
  },
  {
   "cell_type": "code",
   "execution_count": 7,
   "metadata": {
    "pycharm": {
     "name": "#%%\n"
    }
   },
   "outputs": [
    {
     "ename": "NameError",
     "evalue": "name 'result' is not defined",
     "output_type": "error",
     "traceback": [
      "\u001B[0;31m---------------------------------------------------------------------------\u001B[0m",
      "\u001B[0;31mNameError\u001B[0m                                 Traceback (most recent call last)",
      "\u001B[0;32m/tmp/ipykernel_115445/2795055306.py\u001B[0m in \u001B[0;36m<module>\u001B[0;34m\u001B[0m\n\u001B[1;32m      1\u001B[0m \u001B[0;32mfrom\u001B[0m \u001B[0mutil\u001B[0m\u001B[0;34m.\u001B[0m\u001B[0mplotting\u001B[0m \u001B[0;32mimport\u001B[0m \u001B[0mplot_validation_vs_test_performance\u001B[0m\u001B[0;34m\u001B[0m\u001B[0;34m\u001B[0m\u001B[0m\n\u001B[1;32m      2\u001B[0m \u001B[0;34m\u001B[0m\u001B[0m\n\u001B[0;32m----> 3\u001B[0;31m \u001B[0mplot_validation_vs_test_performance\u001B[0m\u001B[0;34m(\u001B[0m\u001B[0miml_result\u001B[0m\u001B[0;34m=\u001B[0m\u001B[0mresult\u001B[0m\u001B[0;34m,\u001B[0m \u001B[0mresult_path\u001B[0m\u001B[0;34m=\u001B[0m\u001B[0mml_result_path\u001B[0m\u001B[0;34m)\u001B[0m\u001B[0;34m\u001B[0m\u001B[0;34m\u001B[0m\u001B[0m\n\u001B[0m",
      "\u001B[0;31mNameError\u001B[0m: name 'result' is not defined"
     ]
    }
   ],
   "source": [
    "from util.plotting import plot_validation_vs_test_performance\n",
    "\n",
    "plot_validation_vs_test_performance(iml_result=result, result_path=ml_result_path)"
   ]
  },
  {
   "cell_type": "code",
   "execution_count": null,
   "metadata": {
    "pycharm": {
     "is_executing": true
    }
   },
   "outputs": [],
   "source": [
    "# show what the model has learned\n",
    "\n",
    "from IPython.display import IFrame\n",
    "\n",
    "\n",
    "IFrame(src=str(ml_result_path / \"result/HTML_output/train_ml_split_1_immune_state_kmer_frequency_logistic_regression_optimal_reports_ml_method_coefficients_largest_25_coefficients.html\"),  width=700, height=600)"
   ]
  },
  {
   "cell_type": "code",
   "execution_count": null,
   "metadata": {
    "pycharm": {
     "is_executing": true
    }
   },
   "outputs": [],
   "source": []
  }
 ],
 "metadata": {
  "kernelspec": {
   "display_name": "Python 3 (ipykernel)",
   "language": "python",
   "name": "python3"
  },
  "language_info": {
   "codemirror_mode": {
    "name": "ipython",
    "version": 3
   },
   "file_extension": ".py",
   "mimetype": "text/x-python",
   "name": "python",
   "nbconvert_exporter": "python",
   "pygments_lexer": "ipython3",
   "version": "3.8.10"
  },
  "varInspector": {
   "cols": {
    "lenName": 16,
    "lenType": 16,
    "lenVar": 40
   },
   "kernels_config": {
    "python": {
     "delete_cmd_postfix": "",
     "delete_cmd_prefix": "del ",
     "library": "var_list.py",
     "varRefreshCmd": "print(var_dic_list())"
    },
    "r": {
     "delete_cmd_postfix": ") ",
     "delete_cmd_prefix": "rm(",
     "library": "var_list.r",
     "varRefreshCmd": "cat(var_dic_list()) "
    }
   },
   "types_to_exclude": [
    "module",
    "function",
    "builtin_function_or_method",
    "instance",
    "_Feature"
   ],
   "window_display": false
  }
 },
 "nbformat": 4,
 "nbformat_minor": 1
}