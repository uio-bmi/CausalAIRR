{
 "cells": [
  {
   "cell_type": "code",
   "execution_count": null,
   "metadata": {
    "collapsed": true
   },
   "outputs": [],
   "source": []
  },
  {
   "cell_type": "markdown",
   "source": [
    "# OLGA\n",
    "\n",
    "OLGA is used to simulate repertoires and confounders.\n",
    "\n",
    "OLGA repository: https://github.com/statbiophys/OLGA/tree/master/olga\n",
    "\n",
    "Running OLGA from the command line with the default model to simulate TCRbeta:\n",
    "\n",
    "```\n",
    "olga-generate_sequences --humanTRB -n 1000 -o rep_1.tsv --seed=1\n",
    "```\n",
    "\n",
    "Running OLGA from the command line with the custom model:\n",
    "\n",
    "```\n",
    "olga-generate_sequences -n 1000 -o rep_1.tsv --seed=1 --set_custom_model_VDJ ./path_to_model_folder/\n",
    "```\n",
    "\n",
    "The custom model is located under ./olga_model_removed_TRBV5_1/."
   ],
   "metadata": {
    "collapsed": false
   }
  },
  {
   "cell_type": "markdown",
   "source": [
    "# immuneML\n",
    "\n",
    "immuneML is used to load the repertoire and implant signals in the repertoires, to simulate the immune state.\n"
   ],
   "metadata": {
    "collapsed": false
   }
  },
  {
   "cell_type": "code",
   "execution_count": null,
   "outputs": [],
   "source": [
    "import os\n",
    "import dagsim.baseDS as ds\n",
    "import numpy as np\n",
    "import uuid\n",
    "from pathlib import Path\n",
    "from util.load_repertoire import load_olga_repertoire, load_iml_repertoire\n",
    "from util.implanting import make_immune_signal, make_repertoire_with_signal\n",
    "from immuneML.util.PathBuilder import PathBuilder\n",
    "from util.implanting import make_repertoire_without_signal\n",
    "from util.implanting import make_AIRR_dataset\n",
    "\n",
    "# os.chdir(\"./simData\")\n",
    "result_path = PathBuilder.build(\"./data/implanted/\")\n",
    "signal = make_immune_signal()"
   ],
   "metadata": {
    "collapsed": false,
    "pycharm": {
     "name": "#%%\n"
    }
   }
  },
  {
   "cell_type": "code",
   "execution_count": null,
   "outputs": [],
   "source": [
    "def get_state(confounder):\n",
    "    return np.random.binomial(n=1, p=0.5) if confounder==1 else np.random.binomial(n=1, p=0.2)\n",
    "\n",
    "def select(location):\n",
    "    pass\n",
    "\n",
    "def generate_repertoire(state, confounder, seed):\n",
    "    uid = str(uuid.uuid4())\n",
    "    # path = \"healthy\" if state==1 else \"disease\"\n",
    "\n",
    "    PathBuilder.build('./data/olga/')\n",
    "\n",
    "    if confounder==1:\n",
    "        os.system(\"olga-generate_sequences --humanTRB -n 1000 -o ./data/olga/\" + uid + \".tsv --seed=\" + str(seed))\n",
    "    else:\n",
    "        os.system(\"olga-generate_sequences -n 1000 -o ./data/olga/\" + uid + \".tsv --seed=\" + str(seed) + \" --set_custom_model_VDJ ./olga_model_removed_TRBV5_1\")\n",
    "\n",
    "    rep = load_olga_repertoire(filepath=Path(\"./data/olga/\" + uid + \".tsv\"), result_path=Path(\"./data/Exp1/immuneML_format/\"))\n",
    "\n",
    "    if state==0:\n",
    "        make_repertoire_without_signal(repertoire=rep, signal_name=signal.id, path=result_path)\n",
    "    else:\n",
    "        make_repertoire_with_signal(rep, signal, result_path)\n",
    "\n",
    "    return uid"
   ],
   "metadata": {
    "collapsed": false,
    "pycharm": {
     "name": "#%%\n"
    }
   }
  },
  {
   "cell_type": "code",
   "execution_count": null,
   "outputs": [],
   "source": [
    "Index = ds.Generic(name=\"index\", function=np.arange, size_field=\"stop\")\n",
    "Confounder = ds.Generic(name=\"location\", function=np.random.choice, arguments={\"a\": [1,2,3], \"p\":[0.5, 0.2, 0.3]})\n",
    "ImmuneState = ds.Generic(name=\"state\", function=get_state, arguments={\"confounder\": Confounder})\n",
    "Repertoire = ds.Generic(name=\"repertoire\", function=generate_repertoire, arguments={\"state\": ImmuneState, \"confounder\": Confounder, \"seed\": Index})\n",
    "Selection = ds.Selection(name=\"S\", function=)"
   ],
   "metadata": {
    "collapsed": false,
    "pycharm": {
     "name": "#%%\n"
    }
   }
  },
  {
   "cell_type": "code",
   "execution_count": null,
   "outputs": [],
   "source": [
    "CAIRR_graph = ds.Graph(name=\"CAIRR_graph_1\", list_nodes=[Confounder, ImmuneState, Repertoire])\n",
    "CAIRR_data = CAIRR_graph.simulate(num_samples=10, csv_name=\"CAIRR_data_!\")"
   ],
   "metadata": {
    "collapsed": false,
    "pycharm": {
     "name": "#%%\n"
    }
   }
  },
  {
   "cell_type": "code",
   "execution_count": null,
   "outputs": [],
   "source": [
    "dataset = make_AIRR_dataset(repertoires=[load_iml_repertoire(filepath=Path(\"./data/Exp1/immuneML_format/repertoires/\"), identifier=id) for id in CAIRR_data[\"repertoire\"]],\n",
    "                            path=Path(\"./data/exported/\"),\n",
    "                            dataset_name=\"Exp1\", signal_names=[signal.id])\n",
    "\n",
    "print(f\"Dataset id: {dataset.identifier}, dataset name: {dataset.name}, number of repertoires: {dataset.get_example_count()}\")"
   ],
   "metadata": {
    "collapsed": false,
    "pycharm": {
     "name": "#%%\n"
    }
   }
  },
  {
   "cell_type": "code",
   "execution_count": null,
   "outputs": [],
   "source": [
    "\n"
   ],
   "metadata": {
    "collapsed": false,
    "pycharm": {
     "name": "#%%\n"
    }
   }
  }
 ],
 "metadata": {
  "kernelspec": {
   "display_name": "Python 3",
   "language": "python",
   "name": "python3"
  },
  "language_info": {
   "codemirror_mode": {
    "name": "ipython",
    "version": 2
   },
   "file_extension": ".py",
   "mimetype": "text/x-python",
   "name": "python",
   "nbconvert_exporter": "python",
   "pygments_lexer": "ipython2",
   "version": "2.7.6"
  }
 },
 "nbformat": 4,
 "nbformat_minor": 0
}