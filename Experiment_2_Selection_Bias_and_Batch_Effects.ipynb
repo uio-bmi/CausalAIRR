{
 "cells": [
  {
   "cell_type": "markdown",
   "metadata": {
    "collapsed": true
   },
   "source": [
    "# Experiment 2: Selection Bias and Batch Effects\n",
    "\n",
    "In this experiment, we combine selection bias and batch effects. The AIRR data comes from 2 hospitals: `hospital1` that recruits mostly diseased and `hospital2` that recruits mostly healthy individuals. We explore two possible scenarios here:\n",
    "\n",
    "1. the performance of the ML model when there is a selection bias during training, but not in the test dataset.\n",
    "\n",
    "2. the performance of the ML model when there is no connection between the immune state and AIRR: we will show that ML models will in this case learn only a spurious correlation.\n",
    "\n",
    "Immune state is a binary variable and can have values `True` or `False` to indicate if an individual is diseased or healthy. AIRR is a set of sequences simulated based on the values of the immune state and the confounder for the given individual. Hospital is a binary variable (`hospital1` or `hospital2`). Each hospital has their own experimental protocol that influences the observed AIRR. The influence of the experimental protocol on AIRR is manifested via higher frequency of some k-mers in the sequenced AIRRs.\n",
    "\n",
    "Steps for each scenario:\n",
    "\n",
    "1. Simulate training and test dataset from a causal graph to include the variables as described above.\n",
    "\n",
    "2. Train an ML model (here: logistic regression on repertoires represented by the k-mer frequencies) on the train set which has selection bias and assess its performance on the test set when there is no selection bias.\n",
    "\n",
    "Software used: \n",
    "\n",
    "- DagSim for simulation of the causal graph; \n",
    "- immuneML v2.1 for implanting signal in AIRRs and for training and assessing machine learning classifiers; \n",
    "- OLGA for simulation of naive AIRRs"
   ]
  },
  {
   "cell_type": "code",
   "execution_count": 1,
   "metadata": {},
   "outputs": [],
   "source": [
    "import yaml\n",
    "import dagsim.base as ds\n",
    "from util.dataset_util import make_AIRR_dataset, make_dataset, setup_path\n",
    "from util.experiment2 import make_immune_state_signal\n",
    "from util.simulation import get_immune_state, get_hospital, get_exp_protocol, get_repertoire, get_selection, get_gen\n"
   ]
  },
  {
   "cell_type": "code",
   "execution_count": 70,
   "metadata": {},
   "outputs": [
    {
     "name": "stdout",
     "output_type": "stream",
     "text": [
      "Removing experiment2...\n"
     ]
    }
   ],
   "source": [
    "setup_path(\"./experiment2\") # remove results from the previous run\n",
    "\n",
    "train_example_count = 200\n",
    "test_example_count = 50"
   ]
  },
  {
   "cell_type": "markdown",
   "metadata": {},
   "source": [
    "## Scenario 1: immune state signal is stronger than the influence of the experimental protocol"
   ]
  },
  {
   "cell_type": "code",
   "execution_count": 71,
   "metadata": {},
   "outputs": [],
   "source": [
    "# define and build path, remove content if not empty\n",
    "\n",
    "scenario1_path = setup_path(\"./experiment2/scenario1/\")\n",
    "scenario1_data_path = setup_path(scenario1_path / \"data\")"
   ]
  },
  {
   "cell_type": "markdown",
   "metadata": {},
   "source": [
    "### Step 1: AIRR simulation from a causal graph"
   ]
  },
  {
   "cell_type": "code",
   "execution_count": 72,
   "metadata": {},
   "outputs": [
    {
     "name": "stderr",
     "output_type": "stream",
     "text": [
      "/home/ghadi/miniconda3/envs/CausalAIRR/lib/python3.8/subprocess.py:946: ResourceWarning:\n",
      "\n",
      "subprocess 191899 is still running\n",
      "\n"
     ]
    }
   ],
   "source": [
    "# define constants for the simulation\n",
    "\n",
    "p_immune_state = 0.5 # parameter of binomial distribution for the immune state\n",
    "p_hospital = 0.5 # parameter of binomial distribution for selecting between hospitals 1 and 2\n",
    "\n",
    "sequence_count = 2000\n",
    "immune_state_implanting_rate = 0.0015\n",
    "protocol_implanting_rate = 0.01\n",
    "\n",
    "immune_state_signal = make_immune_state_signal()\n",
    "\n",
    "\n",
    "# define nodes of the causal graph\n",
    "\n",
    "immune_state_node = ds.Node(name=\"immune_state\", function=get_immune_state, kwargs={\"p\": p_immune_state})\n",
    "\n",
    "hospital_node = ds.Node(name=\"hospital\", function=get_hospital, kwargs={\"p\": p_hospital})\n",
    "\n",
    "experimental_protocol_node = ds.Node(name=\"exp_protocol\", function=get_exp_protocol, kwargs={\"hospital\": hospital_node})\n",
    "\n",
    "repertoire_node = ds.Node(name=\"repertoire\", function=get_repertoire,\n",
    "                             kwargs={\"immune_state\": immune_state_node,\n",
    "                                        \"experimental_protocol_id\": experimental_protocol_node,\n",
    "                                        \"path\": scenario1_data_path / \"train\", \"sequence_count\": sequence_count, \n",
    "                                        \"immune_state_signal\": immune_state_signal, \n",
    "                                        'immune_state_implanting_rate': immune_state_implanting_rate, \n",
    "                                        \"protocol_implanting_rate\": protocol_implanting_rate})\n",
    "\n",
    "selection_node = ds.Selection(name=\"S\", function=get_selection,\n",
    "                              kwargs={\"hospital\": hospital_node, \"immune_state\": immune_state_node})\n",
    "\n",
    "# make a causal graph using DagSim and show it graphically\n",
    "\n",
    "graph = ds.Graph(name=\"graph_experiment_2_1\", \n",
    "                 list_nodes=[immune_state_node, hospital_node, experimental_protocol_node, repertoire_node, \n",
    "                             selection_node])\n",
    "graph.draw()"
   ]
  },
  {
   "cell_type": "code",
   "execution_count": 73,
   "metadata": {},
   "outputs": [
    {
     "name": "stdout",
     "output_type": "stream",
     "text": [
      "Simulation started\n",
      "Simulation finished in 295.0097 seconds\n"
     ]
    }
   ],
   "source": [
    "training_data_sc1 = graph.simulate(num_samples=train_example_count, selection=True,\n",
    "                                   csv_name=str(scenario1_data_path / \"train/study_cohort\"))\n",
    "\n",
    "# make an AIRR dataset from the generated repertoires to be used for training\n",
    "\n",
    "train_dataset = make_dataset(repertoire_paths=training_data_sc1[\"repertoire\"], path=scenario1_data_path / 'train', \n",
    "                             dataset_name=\"experiment2_sc1_train\", \n",
    "                             signal_names=[immune_state_signal.id, experimental_protocol_node.name])"
   ]
  },
  {
   "cell_type": "code",
   "execution_count": 74,
   "metadata": {
    "pycharm": {
     "name": "#%%\n"
    }
   },
   "outputs": [
    {
     "name": "stdout",
     "output_type": "stream",
     "text": [
      "Simulation started\n",
      "Simulation finished in 36.6201 seconds\n"
     ]
    }
   ],
   "source": [
    "# make a test dataset\n",
    "\n",
    "repertoire_node = ds.Node(name=\"repertoire\", function=get_repertoire,\n",
    "                             kwargs={\"immune_state\": immune_state_node,\n",
    "                                        \"experimental_protocol_id\": experimental_protocol_node,\n",
    "                                        \"path\": scenario1_data_path / \"test\", \"sequence_count\": sequence_count,\n",
    "                                        \"immune_state_signal\": immune_state_signal,\n",
    "                                        'immune_state_implanting_rate': immune_state_implanting_rate,\n",
    "                                        \"protocol_implanting_rate\": protocol_implanting_rate})\n",
    "\n",
    "graph = ds.Graph(name=\"graph_experiment_2_1\",\n",
    "                 list_nodes=[immune_state_node, hospital_node, experimental_protocol_node, repertoire_node,\n",
    "                             selection_node])\n",
    "\n",
    "\n",
    "test_data = graph.simulate(num_samples=test_example_count, csv_name=str(scenario1_data_path / \"test/test_cohort\"),\n",
    "                           selection=False)\n",
    "\n",
    "test_dataset = make_dataset(repertoire_paths=test_data[\"repertoire\"], path=scenario1_data_path / 'test',\n",
    "                            dataset_name=\"experiment2_sc1_test\",\n",
    "                            signal_names=[immune_state_signal.id, experimental_protocol_node.name])\n",
    "\n",
    "# merge datasets (but the distinction between train and test will be kept in the ML analysis part)\n",
    "\n",
    "dataset = make_AIRR_dataset(train_dataset, test_dataset, scenario1_data_path / 'full_dataset')"
   ]
  },
  {
   "cell_type": "markdown",
   "metadata": {},
   "source": [
    "### Step 2: Training an ML model"
   ]
  },
  {
   "cell_type": "code",
   "execution_count": 75,
   "metadata": {},
   "outputs": [],
   "source": [
    "specs = {\n",
    "    \"definitions\": {\n",
    "        \"datasets\": {\n",
    "            \"dataset1\": {\n",
    "                \"format\": 'AIRR',\n",
    "                \"params\": {\n",
    "                    \"path\": str(scenario1_data_path / 'full_dataset'),\n",
    "                    \"metadata_file\": str(scenario1_data_path / 'full_dataset/metadata.csv')\n",
    "                }\n",
    "            }\n",
    "        },\n",
    "        \"encodings\": {\n",
    "            \"kmer_frequency\": {\n",
    "                \"KmerFrequency\": {\"k\": 3}\n",
    "            }\n",
    "        },\n",
    "        \"ml_methods\": {\n",
    "            \"logistic_regression\": {\n",
    "                \"LogisticRegression\": {\n",
    "                    \"penalty\": \"l1\",\n",
    "                    \"C\": [0.01, 0.1, 1, 10, 100],\n",
    "                    \"max_iter\": 1500,\n",
    "                    \"show_warnings\": False\n",
    "                },\n",
    "                \"model_selection_cv\": True,\n",
    "                \"model_selection_n_folds\": 5\n",
    "            }\n",
    "        },\n",
    "        \"reports\": {\n",
    "            \"coefficients\": {\n",
    "                \"Coefficients\": { # show top 25 logistic regression coefficients and what k-mers they correspond to\n",
    "                    \"coefs_to_plot\": ['n_largest'],\n",
    "                    \"n_largest\": [25]\n",
    "                }\n",
    "            },\n",
    "            \"feature_comparison\": {\n",
    "                \"FeatureComparison\": {\n",
    "                    \"comparison_label\": \"immune_state\",\n",
    "                    \"color_grouping_label\": \"experimental_protocol\",\n",
    "                    \"show_error_bar\": False,\n",
    "                    \"keep_fraction\": 0.1\n",
    "                }\n",
    "            }\n",
    "        }\n",
    "    },\n",
    "    \"instructions\": {\n",
    "        'train_ml': {\n",
    "            \"type\": \"TrainMLModel\",\n",
    "            \"assessment\": { # ensure here that train and test dataset are fixed, as per simulation\n",
    "                \"split_strategy\": \"manual\",\n",
    "                \"split_count\": 1,\n",
    "                \"manual_config\": {\n",
    "                    \"train_metadata_path\": str(scenario1_data_path / \"train/experiment2_sc1_train_metadata.csv\"),\n",
    "                    \"test_metadata_path\": str(scenario1_data_path / \"test/experiment2_sc1_test_metadata.csv\")\n",
    "                },\n",
    "                \"reports\": {\n",
    "                    \"models\": [\"coefficients\"],\n",
    "                    \"encoding\": [\"feature_comparison\"]\n",
    "                }\n",
    "            },\n",
    "            \"selection\": {\n",
    "                \"split_strategy\": \"random\",\n",
    "                \"train_percentage\": 0.7,\n",
    "                \"split_count\": 5,\n",
    "                \"reports\": {\n",
    "                    \"models\": [\"coefficients\"],\n",
    "                    \"encoding\": [\"feature_comparison\"]\n",
    "                }\n",
    "            },\n",
    "            \"settings\": [\n",
    "                {\"encoding\": \"kmer_frequency\", \"ml_method\": \"logistic_regression\"}\n",
    "            ],\n",
    "            \"dataset\": \"dataset1\",\n",
    "            \"refit_optimal_model\": False,\n",
    "            \"labels\": [\"immune_state\"],\n",
    "            \"optimization_metric\": \"balanced_accuracy\",\n",
    "            \"metrics\": ['log_loss', 'auc']\n",
    "        }\n",
    "    }\n",
    "}\n",
    "\n",
    "scenario1_ml_result_path = setup_path(\"./experiment2/scenario1/ml_result/\")\n",
    "scenario1_specs_path = scenario1_ml_result_path / \"specs.yaml\"\n",
    "\n",
    "with open(scenario1_specs_path, \"w\") as file:\n",
    "    yaml.dump(specs, file)"
   ]
  },
  {
   "cell_type": "code",
   "execution_count": 76,
   "metadata": {},
   "outputs": [
    {
     "name": "stdout",
     "output_type": "stream",
     "text": [
      "2022-01-27 19:15:12.715675: Setting temporary cache path to experiment2/scenario1/ml_result/result/cache\n",
      "2022-01-27 19:15:12.716098: ImmuneML: parsing the specification...\n",
      "\n",
      "2022-01-27 19:15:30.936165: Full specification is available at experiment2/scenario1/ml_result/result/full_specs.yaml.\n",
      "\n",
      "2022-01-27 19:15:30.936714: ImmuneML: starting the analysis...\n",
      "\n",
      "2022-01-27 19:15:30.936987: Instruction 1/1 has started.\n",
      "2022-01-27 19:15:30.973691: Training ML model: running outer CV loop: started split 1/1.\n",
      "\n",
      "2022-01-27 19:15:31.017215: Hyperparameter optimization: running the inner loop of nested CV: selection for label immune_state (label 1 / 1).\n",
      "\n",
      "2022-01-27 19:15:31.017816: Evaluating hyperparameter setting: kmer_frequency_logistic_regression...\n",
      "2022-01-27 19:15:31.018498: Encoding started...\n",
      "2022-01-27 19:15:35.674985: Encoding finished.\n",
      "2022-01-27 19:15:35.675123: ML model training started...\n",
      "2022-01-27 19:16:36.117274: ML model training finished.\n",
      "2022-01-27 19:16:40.308058: Encoding started...\n",
      "2022-01-27 19:16:42.413842: Encoding finished.\n",
      "2022-01-27 19:16:45.482942: Completed hyperparameter setting kmer_frequency_logistic_regression.\n",
      "\n",
      "2022-01-27 19:16:45.483667: Evaluating hyperparameter setting: kmer_frequency_logistic_regression...\n",
      "2022-01-27 19:16:45.484070: Encoding started...\n",
      "2022-01-27 19:16:48.241373: Encoding finished.\n",
      "2022-01-27 19:16:48.241513: ML model training started...\n",
      "2022-01-27 19:17:47.019208: ML model training finished.\n",
      "2022-01-27 19:17:51.417631: Encoding started...\n",
      "2022-01-27 19:17:53.283099: Encoding finished.\n",
      "2022-01-27 19:17:56.483804: Completed hyperparameter setting kmer_frequency_logistic_regression.\n",
      "\n",
      "2022-01-27 19:17:56.484745: Evaluating hyperparameter setting: kmer_frequency_logistic_regression...\n",
      "2022-01-27 19:17:56.485268: Encoding started...\n",
      "2022-01-27 19:17:58.676104: Encoding finished.\n",
      "2022-01-27 19:17:58.676245: ML model training started...\n",
      "2022-01-27 19:19:00.351071: ML model training finished.\n",
      "2022-01-27 19:19:04.707072: Encoding started...\n",
      "2022-01-27 19:19:06.327048: Encoding finished.\n",
      "2022-01-27 19:19:09.517034: Completed hyperparameter setting kmer_frequency_logistic_regression.\n",
      "\n",
      "2022-01-27 19:19:09.518025: Evaluating hyperparameter setting: kmer_frequency_logistic_regression...\n",
      "2022-01-27 19:19:09.518378: Encoding started...\n",
      "2022-01-27 19:19:11.430474: Encoding finished.\n",
      "2022-01-27 19:19:11.430616: ML model training started...\n",
      "2022-01-27 19:20:10.824306: ML model training finished.\n",
      "2022-01-27 19:20:14.981799: Encoding started...\n",
      "2022-01-27 19:20:16.356511: Encoding finished.\n",
      "2022-01-27 19:20:19.443617: Completed hyperparameter setting kmer_frequency_logistic_regression.\n",
      "\n",
      "2022-01-27 19:20:19.444550: Evaluating hyperparameter setting: kmer_frequency_logistic_regression...\n",
      "2022-01-27 19:20:19.445012: Encoding started...\n",
      "2022-01-27 19:20:21.249681: Encoding finished.\n",
      "2022-01-27 19:20:21.249816: ML model training started...\n",
      "2022-01-27 19:21:20.756818: ML model training finished.\n",
      "2022-01-27 19:21:24.942379: Encoding started...\n",
      "2022-01-27 19:21:26.228646: Encoding finished.\n",
      "2022-01-27 19:21:29.348278: Completed hyperparameter setting kmer_frequency_logistic_regression.\n",
      "\n",
      "2022-01-27 19:21:29.349032: Hyperparameter optimization: running the inner loop of nested CV: completed selection for label immune_state (label 1 / 1).\n",
      "\n",
      "2022-01-27 19:21:29.349265: Training ML model: running the inner loop of nested CV: retrain models for label immune_state (label 1 / 1).\n",
      "\n",
      "2022-01-27 19:21:29.350189: Evaluating hyperparameter setting: kmer_frequency_logistic_regression...\n",
      "2022-01-27 19:21:29.350911: Encoding started...\n",
      "2022-01-27 19:21:32.001927: Encoding finished.\n",
      "2022-01-27 19:21:32.002066: ML model training started...\n",
      "2022-01-27 19:22:56.526351: ML model training finished.\n",
      "2022-01-27 19:23:01.725322: Encoding started...\n",
      "2022-01-27 19:23:03.559703: Encoding finished.\n",
      "2022-01-27 19:23:06.514575: Completed hyperparameter setting kmer_frequency_logistic_regression.\n",
      "\n",
      "2022-01-27 19:23:06.515020: Training ML model: running the inner loop of nested CV: completed retraining models for label immune_state (label 1 / 1).\n",
      "\n",
      "2022-01-27 19:23:06.515349: Training ML model: running outer CV loop: finished split 1/1.\n",
      "\n",
      "Performances (balanced_accuracy) -----------------------------------------------\n",
      "\n",
      "\n",
      "Label: immune_state\n",
      "Performance (balanced_accuracy) per assessment split:\n",
      "Split 1: 0.5443349753694582\n",
      "Average performance (balanced_accuracy): 0.5443349753694582\n",
      "------------------------------\n",
      "2022-01-27 19:23:06.725630: Instruction 1/1 has finished.\n",
      "2022-01-27 19:23:06.729352: Generating HTML reports...\n",
      "2022-01-27 19:23:06.981622: HTML reports are generated.\n",
      "2022-01-27 19:23:06.999190: ImmuneML: finished analysis.\n",
      "\n",
      "The results are located under ./experiment2/scenario1/\n"
     ]
    }
   ],
   "source": [
    "# run immuneML with the specs file\n",
    "\n",
    "from immuneML.app.ImmuneMLApp import ImmuneMLApp\n",
    "\n",
    "scenario1_output_path = scenario1_ml_result_path / \"result/\"\n",
    "\n",
    "app = ImmuneMLApp(specification_path = scenario1_specs_path, result_path = scenario1_output_path)\n",
    "result = app.run()\n",
    "\n",
    "print(\"The results are located under ./experiment2/scenario1/\")"
   ]
  },
  {
   "cell_type": "code",
   "execution_count": 77,
   "metadata": {},
   "outputs": [
    {
     "data": {
      "application/vnd.plotly.v1+json": {
       "config": {
        "plotlyServerURL": "https://plot.ly"
       },
       "data": [
        {
         "error_y": {
          "array": [
           0.056964987861805004
          ],
          "type": "data"
         },
         "marker": {
          "color": "rgb(0, 147, 146)"
         },
         "name": "validation",
         "type": "bar",
         "x": [
          "balanced error rate"
         ],
         "y": [
          0.23867957476133225
         ]
        },
        {
         "marker": {
          "color": "rgb(114, 170, 161)"
         },
         "name": "test",
         "type": "bar",
         "x": [
          "balanced error rate"
         ],
         "y": [
          0.4556650246305418
         ]
        }
       ],
       "layout": {
        "barmode": "group",
        "template": {
         "data": {
          "bar": [
           {
            "error_x": {
             "color": "#2a3f5f"
            },
            "error_y": {
             "color": "#2a3f5f"
            },
            "marker": {
             "line": {
              "color": "white",
              "width": 0.5
             },
             "pattern": {
              "fillmode": "overlay",
              "size": 10,
              "solidity": 0.2
             }
            },
            "type": "bar"
           }
          ],
          "barpolar": [
           {
            "marker": {
             "line": {
              "color": "white",
              "width": 0.5
             },
             "pattern": {
              "fillmode": "overlay",
              "size": 10,
              "solidity": 0.2
             }
            },
            "type": "barpolar"
           }
          ],
          "carpet": [
           {
            "aaxis": {
             "endlinecolor": "#2a3f5f",
             "gridcolor": "#C8D4E3",
             "linecolor": "#C8D4E3",
             "minorgridcolor": "#C8D4E3",
             "startlinecolor": "#2a3f5f"
            },
            "baxis": {
             "endlinecolor": "#2a3f5f",
             "gridcolor": "#C8D4E3",
             "linecolor": "#C8D4E3",
             "minorgridcolor": "#C8D4E3",
             "startlinecolor": "#2a3f5f"
            },
            "type": "carpet"
           }
          ],
          "choropleth": [
           {
            "colorbar": {
             "outlinewidth": 0,
             "ticks": ""
            },
            "type": "choropleth"
           }
          ],
          "contour": [
           {
            "colorbar": {
             "outlinewidth": 0,
             "ticks": ""
            },
            "colorscale": [
             [
              0,
              "#0d0887"
             ],
             [
              0.1111111111111111,
              "#46039f"
             ],
             [
              0.2222222222222222,
              "#7201a8"
             ],
             [
              0.3333333333333333,
              "#9c179e"
             ],
             [
              0.4444444444444444,
              "#bd3786"
             ],
             [
              0.5555555555555556,
              "#d8576b"
             ],
             [
              0.6666666666666666,
              "#ed7953"
             ],
             [
              0.7777777777777778,
              "#fb9f3a"
             ],
             [
              0.8888888888888888,
              "#fdca26"
             ],
             [
              1,
              "#f0f921"
             ]
            ],
            "type": "contour"
           }
          ],
          "contourcarpet": [
           {
            "colorbar": {
             "outlinewidth": 0,
             "ticks": ""
            },
            "type": "contourcarpet"
           }
          ],
          "heatmap": [
           {
            "colorbar": {
             "outlinewidth": 0,
             "ticks": ""
            },
            "colorscale": [
             [
              0,
              "#0d0887"
             ],
             [
              0.1111111111111111,
              "#46039f"
             ],
             [
              0.2222222222222222,
              "#7201a8"
             ],
             [
              0.3333333333333333,
              "#9c179e"
             ],
             [
              0.4444444444444444,
              "#bd3786"
             ],
             [
              0.5555555555555556,
              "#d8576b"
             ],
             [
              0.6666666666666666,
              "#ed7953"
             ],
             [
              0.7777777777777778,
              "#fb9f3a"
             ],
             [
              0.8888888888888888,
              "#fdca26"
             ],
             [
              1,
              "#f0f921"
             ]
            ],
            "type": "heatmap"
           }
          ],
          "heatmapgl": [
           {
            "colorbar": {
             "outlinewidth": 0,
             "ticks": ""
            },
            "colorscale": [
             [
              0,
              "#0d0887"
             ],
             [
              0.1111111111111111,
              "#46039f"
             ],
             [
              0.2222222222222222,
              "#7201a8"
             ],
             [
              0.3333333333333333,
              "#9c179e"
             ],
             [
              0.4444444444444444,
              "#bd3786"
             ],
             [
              0.5555555555555556,
              "#d8576b"
             ],
             [
              0.6666666666666666,
              "#ed7953"
             ],
             [
              0.7777777777777778,
              "#fb9f3a"
             ],
             [
              0.8888888888888888,
              "#fdca26"
             ],
             [
              1,
              "#f0f921"
             ]
            ],
            "type": "heatmapgl"
           }
          ],
          "histogram": [
           {
            "marker": {
             "pattern": {
              "fillmode": "overlay",
              "size": 10,
              "solidity": 0.2
             }
            },
            "type": "histogram"
           }
          ],
          "histogram2d": [
           {
            "colorbar": {
             "outlinewidth": 0,
             "ticks": ""
            },
            "colorscale": [
             [
              0,
              "#0d0887"
             ],
             [
              0.1111111111111111,
              "#46039f"
             ],
             [
              0.2222222222222222,
              "#7201a8"
             ],
             [
              0.3333333333333333,
              "#9c179e"
             ],
             [
              0.4444444444444444,
              "#bd3786"
             ],
             [
              0.5555555555555556,
              "#d8576b"
             ],
             [
              0.6666666666666666,
              "#ed7953"
             ],
             [
              0.7777777777777778,
              "#fb9f3a"
             ],
             [
              0.8888888888888888,
              "#fdca26"
             ],
             [
              1,
              "#f0f921"
             ]
            ],
            "type": "histogram2d"
           }
          ],
          "histogram2dcontour": [
           {
            "colorbar": {
             "outlinewidth": 0,
             "ticks": ""
            },
            "colorscale": [
             [
              0,
              "#0d0887"
             ],
             [
              0.1111111111111111,
              "#46039f"
             ],
             [
              0.2222222222222222,
              "#7201a8"
             ],
             [
              0.3333333333333333,
              "#9c179e"
             ],
             [
              0.4444444444444444,
              "#bd3786"
             ],
             [
              0.5555555555555556,
              "#d8576b"
             ],
             [
              0.6666666666666666,
              "#ed7953"
             ],
             [
              0.7777777777777778,
              "#fb9f3a"
             ],
             [
              0.8888888888888888,
              "#fdca26"
             ],
             [
              1,
              "#f0f921"
             ]
            ],
            "type": "histogram2dcontour"
           }
          ],
          "mesh3d": [
           {
            "colorbar": {
             "outlinewidth": 0,
             "ticks": ""
            },
            "type": "mesh3d"
           }
          ],
          "parcoords": [
           {
            "line": {
             "colorbar": {
              "outlinewidth": 0,
              "ticks": ""
             }
            },
            "type": "parcoords"
           }
          ],
          "pie": [
           {
            "automargin": true,
            "type": "pie"
           }
          ],
          "scatter": [
           {
            "marker": {
             "colorbar": {
              "outlinewidth": 0,
              "ticks": ""
             }
            },
            "type": "scatter"
           }
          ],
          "scatter3d": [
           {
            "line": {
             "colorbar": {
              "outlinewidth": 0,
              "ticks": ""
             }
            },
            "marker": {
             "colorbar": {
              "outlinewidth": 0,
              "ticks": ""
             }
            },
            "type": "scatter3d"
           }
          ],
          "scattercarpet": [
           {
            "marker": {
             "colorbar": {
              "outlinewidth": 0,
              "ticks": ""
             }
            },
            "type": "scattercarpet"
           }
          ],
          "scattergeo": [
           {
            "marker": {
             "colorbar": {
              "outlinewidth": 0,
              "ticks": ""
             }
            },
            "type": "scattergeo"
           }
          ],
          "scattergl": [
           {
            "marker": {
             "colorbar": {
              "outlinewidth": 0,
              "ticks": ""
             }
            },
            "type": "scattergl"
           }
          ],
          "scattermapbox": [
           {
            "marker": {
             "colorbar": {
              "outlinewidth": 0,
              "ticks": ""
             }
            },
            "type": "scattermapbox"
           }
          ],
          "scatterpolar": [
           {
            "marker": {
             "colorbar": {
              "outlinewidth": 0,
              "ticks": ""
             }
            },
            "type": "scatterpolar"
           }
          ],
          "scatterpolargl": [
           {
            "marker": {
             "colorbar": {
              "outlinewidth": 0,
              "ticks": ""
             }
            },
            "type": "scatterpolargl"
           }
          ],
          "scatterternary": [
           {
            "marker": {
             "colorbar": {
              "outlinewidth": 0,
              "ticks": ""
             }
            },
            "type": "scatterternary"
           }
          ],
          "surface": [
           {
            "colorbar": {
             "outlinewidth": 0,
             "ticks": ""
            },
            "colorscale": [
             [
              0,
              "#0d0887"
             ],
             [
              0.1111111111111111,
              "#46039f"
             ],
             [
              0.2222222222222222,
              "#7201a8"
             ],
             [
              0.3333333333333333,
              "#9c179e"
             ],
             [
              0.4444444444444444,
              "#bd3786"
             ],
             [
              0.5555555555555556,
              "#d8576b"
             ],
             [
              0.6666666666666666,
              "#ed7953"
             ],
             [
              0.7777777777777778,
              "#fb9f3a"
             ],
             [
              0.8888888888888888,
              "#fdca26"
             ],
             [
              1,
              "#f0f921"
             ]
            ],
            "type": "surface"
           }
          ],
          "table": [
           {
            "cells": {
             "fill": {
              "color": "#EBF0F8"
             },
             "line": {
              "color": "white"
             }
            },
            "header": {
             "fill": {
              "color": "#C8D4E3"
             },
             "line": {
              "color": "white"
             }
            },
            "type": "table"
           }
          ]
         },
         "layout": {
          "annotationdefaults": {
           "arrowcolor": "#2a3f5f",
           "arrowhead": 0,
           "arrowwidth": 1
          },
          "autotypenumbers": "strict",
          "coloraxis": {
           "colorbar": {
            "outlinewidth": 0,
            "ticks": ""
           }
          },
          "colorscale": {
           "diverging": [
            [
             0,
             "#8e0152"
            ],
            [
             0.1,
             "#c51b7d"
            ],
            [
             0.2,
             "#de77ae"
            ],
            [
             0.3,
             "#f1b6da"
            ],
            [
             0.4,
             "#fde0ef"
            ],
            [
             0.5,
             "#f7f7f7"
            ],
            [
             0.6,
             "#e6f5d0"
            ],
            [
             0.7,
             "#b8e186"
            ],
            [
             0.8,
             "#7fbc41"
            ],
            [
             0.9,
             "#4d9221"
            ],
            [
             1,
             "#276419"
            ]
           ],
           "sequential": [
            [
             0,
             "#0d0887"
            ],
            [
             0.1111111111111111,
             "#46039f"
            ],
            [
             0.2222222222222222,
             "#7201a8"
            ],
            [
             0.3333333333333333,
             "#9c179e"
            ],
            [
             0.4444444444444444,
             "#bd3786"
            ],
            [
             0.5555555555555556,
             "#d8576b"
            ],
            [
             0.6666666666666666,
             "#ed7953"
            ],
            [
             0.7777777777777778,
             "#fb9f3a"
            ],
            [
             0.8888888888888888,
             "#fdca26"
            ],
            [
             1,
             "#f0f921"
            ]
           ],
           "sequentialminus": [
            [
             0,
             "#0d0887"
            ],
            [
             0.1111111111111111,
             "#46039f"
            ],
            [
             0.2222222222222222,
             "#7201a8"
            ],
            [
             0.3333333333333333,
             "#9c179e"
            ],
            [
             0.4444444444444444,
             "#bd3786"
            ],
            [
             0.5555555555555556,
             "#d8576b"
            ],
            [
             0.6666666666666666,
             "#ed7953"
            ],
            [
             0.7777777777777778,
             "#fb9f3a"
            ],
            [
             0.8888888888888888,
             "#fdca26"
            ],
            [
             1,
             "#f0f921"
            ]
           ]
          },
          "colorway": [
           "#636efa",
           "#EF553B",
           "#00cc96",
           "#ab63fa",
           "#FFA15A",
           "#19d3f3",
           "#FF6692",
           "#B6E880",
           "#FF97FF",
           "#FECB52"
          ],
          "font": {
           "color": "#2a3f5f"
          },
          "geo": {
           "bgcolor": "white",
           "lakecolor": "white",
           "landcolor": "white",
           "showlakes": true,
           "showland": true,
           "subunitcolor": "#C8D4E3"
          },
          "hoverlabel": {
           "align": "left"
          },
          "hovermode": "closest",
          "mapbox": {
           "style": "light"
          },
          "paper_bgcolor": "white",
          "plot_bgcolor": "white",
          "polar": {
           "angularaxis": {
            "gridcolor": "#EBF0F8",
            "linecolor": "#EBF0F8",
            "ticks": ""
           },
           "bgcolor": "white",
           "radialaxis": {
            "gridcolor": "#EBF0F8",
            "linecolor": "#EBF0F8",
            "ticks": ""
           }
          },
          "scene": {
           "xaxis": {
            "backgroundcolor": "white",
            "gridcolor": "#DFE8F3",
            "gridwidth": 2,
            "linecolor": "#EBF0F8",
            "showbackground": true,
            "ticks": "",
            "zerolinecolor": "#EBF0F8"
           },
           "yaxis": {
            "backgroundcolor": "white",
            "gridcolor": "#DFE8F3",
            "gridwidth": 2,
            "linecolor": "#EBF0F8",
            "showbackground": true,
            "ticks": "",
            "zerolinecolor": "#EBF0F8"
           },
           "zaxis": {
            "backgroundcolor": "white",
            "gridcolor": "#DFE8F3",
            "gridwidth": 2,
            "linecolor": "#EBF0F8",
            "showbackground": true,
            "ticks": "",
            "zerolinecolor": "#EBF0F8"
           }
          },
          "shapedefaults": {
           "line": {
            "color": "#2a3f5f"
           }
          },
          "ternary": {
           "aaxis": {
            "gridcolor": "#DFE8F3",
            "linecolor": "#A2B1C6",
            "ticks": ""
           },
           "baxis": {
            "gridcolor": "#DFE8F3",
            "linecolor": "#A2B1C6",
            "ticks": ""
           },
           "bgcolor": "white",
           "caxis": {
            "gridcolor": "#DFE8F3",
            "linecolor": "#A2B1C6",
            "ticks": ""
           }
          },
          "title": {
           "x": 0.05
          },
          "xaxis": {
           "automargin": true,
           "gridcolor": "#EBF0F8",
           "linecolor": "#EBF0F8",
           "ticks": "",
           "title": {
            "standoff": 15
           },
           "zerolinecolor": "#EBF0F8",
           "zerolinewidth": 2
          },
          "yaxis": {
           "automargin": true,
           "gridcolor": "#EBF0F8",
           "linecolor": "#EBF0F8",
           "ticks": "",
           "title": {
            "standoff": 15
           },
           "zerolinecolor": "#EBF0F8",
           "zerolinewidth": 2
          }
         }
        },
        "xaxis": {
         "linecolor": "black",
         "linewidth": 1,
         "showline": true
        },
        "yaxis": {
         "linecolor": "black",
         "linewidth": 1,
         "showline": true
        }
       }
      },
      "text/html": [
       "<div>                            <div id=\"2f8e7437-e023-4fb0-93e9-d9a555dea26a\" class=\"plotly-graph-div\" style=\"height:525px; width:100%;\"></div>            <script type=\"text/javascript\">                require([\"plotly\"], function(Plotly) {                    window.PLOTLYENV=window.PLOTLYENV || {};                                    if (document.getElementById(\"2f8e7437-e023-4fb0-93e9-d9a555dea26a\")) {                    Plotly.newPlot(                        \"2f8e7437-e023-4fb0-93e9-d9a555dea26a\",                        [{\"error_y\":{\"array\":[0.056964987861805004],\"type\":\"data\"},\"marker\":{\"color\":\"rgb(0, 147, 146)\"},\"name\":\"validation\",\"x\":[\"balanced error rate\"],\"y\":[0.23867957476133225],\"type\":\"bar\"},{\"marker\":{\"color\":\"rgb(114, 170, 161)\"},\"name\":\"test\",\"x\":[\"balanced error rate\"],\"y\":[0.4556650246305418],\"type\":\"bar\"}],                        {\"template\":{\"data\":{\"barpolar\":[{\"marker\":{\"line\":{\"color\":\"white\",\"width\":0.5},\"pattern\":{\"fillmode\":\"overlay\",\"size\":10,\"solidity\":0.2}},\"type\":\"barpolar\"}],\"bar\":[{\"error_x\":{\"color\":\"#2a3f5f\"},\"error_y\":{\"color\":\"#2a3f5f\"},\"marker\":{\"line\":{\"color\":\"white\",\"width\":0.5},\"pattern\":{\"fillmode\":\"overlay\",\"size\":10,\"solidity\":0.2}},\"type\":\"bar\"}],\"carpet\":[{\"aaxis\":{\"endlinecolor\":\"#2a3f5f\",\"gridcolor\":\"#C8D4E3\",\"linecolor\":\"#C8D4E3\",\"minorgridcolor\":\"#C8D4E3\",\"startlinecolor\":\"#2a3f5f\"},\"baxis\":{\"endlinecolor\":\"#2a3f5f\",\"gridcolor\":\"#C8D4E3\",\"linecolor\":\"#C8D4E3\",\"minorgridcolor\":\"#C8D4E3\",\"startlinecolor\":\"#2a3f5f\"},\"type\":\"carpet\"}],\"choropleth\":[{\"colorbar\":{\"outlinewidth\":0,\"ticks\":\"\"},\"type\":\"choropleth\"}],\"contourcarpet\":[{\"colorbar\":{\"outlinewidth\":0,\"ticks\":\"\"},\"type\":\"contourcarpet\"}],\"contour\":[{\"colorbar\":{\"outlinewidth\":0,\"ticks\":\"\"},\"colorscale\":[[0.0,\"#0d0887\"],[0.1111111111111111,\"#46039f\"],[0.2222222222222222,\"#7201a8\"],[0.3333333333333333,\"#9c179e\"],[0.4444444444444444,\"#bd3786\"],[0.5555555555555556,\"#d8576b\"],[0.6666666666666666,\"#ed7953\"],[0.7777777777777778,\"#fb9f3a\"],[0.8888888888888888,\"#fdca26\"],[1.0,\"#f0f921\"]],\"type\":\"contour\"}],\"heatmapgl\":[{\"colorbar\":{\"outlinewidth\":0,\"ticks\":\"\"},\"colorscale\":[[0.0,\"#0d0887\"],[0.1111111111111111,\"#46039f\"],[0.2222222222222222,\"#7201a8\"],[0.3333333333333333,\"#9c179e\"],[0.4444444444444444,\"#bd3786\"],[0.5555555555555556,\"#d8576b\"],[0.6666666666666666,\"#ed7953\"],[0.7777777777777778,\"#fb9f3a\"],[0.8888888888888888,\"#fdca26\"],[1.0,\"#f0f921\"]],\"type\":\"heatmapgl\"}],\"heatmap\":[{\"colorbar\":{\"outlinewidth\":0,\"ticks\":\"\"},\"colorscale\":[[0.0,\"#0d0887\"],[0.1111111111111111,\"#46039f\"],[0.2222222222222222,\"#7201a8\"],[0.3333333333333333,\"#9c179e\"],[0.4444444444444444,\"#bd3786\"],[0.5555555555555556,\"#d8576b\"],[0.6666666666666666,\"#ed7953\"],[0.7777777777777778,\"#fb9f3a\"],[0.8888888888888888,\"#fdca26\"],[1.0,\"#f0f921\"]],\"type\":\"heatmap\"}],\"histogram2dcontour\":[{\"colorbar\":{\"outlinewidth\":0,\"ticks\":\"\"},\"colorscale\":[[0.0,\"#0d0887\"],[0.1111111111111111,\"#46039f\"],[0.2222222222222222,\"#7201a8\"],[0.3333333333333333,\"#9c179e\"],[0.4444444444444444,\"#bd3786\"],[0.5555555555555556,\"#d8576b\"],[0.6666666666666666,\"#ed7953\"],[0.7777777777777778,\"#fb9f3a\"],[0.8888888888888888,\"#fdca26\"],[1.0,\"#f0f921\"]],\"type\":\"histogram2dcontour\"}],\"histogram2d\":[{\"colorbar\":{\"outlinewidth\":0,\"ticks\":\"\"},\"colorscale\":[[0.0,\"#0d0887\"],[0.1111111111111111,\"#46039f\"],[0.2222222222222222,\"#7201a8\"],[0.3333333333333333,\"#9c179e\"],[0.4444444444444444,\"#bd3786\"],[0.5555555555555556,\"#d8576b\"],[0.6666666666666666,\"#ed7953\"],[0.7777777777777778,\"#fb9f3a\"],[0.8888888888888888,\"#fdca26\"],[1.0,\"#f0f921\"]],\"type\":\"histogram2d\"}],\"histogram\":[{\"marker\":{\"pattern\":{\"fillmode\":\"overlay\",\"size\":10,\"solidity\":0.2}},\"type\":\"histogram\"}],\"mesh3d\":[{\"colorbar\":{\"outlinewidth\":0,\"ticks\":\"\"},\"type\":\"mesh3d\"}],\"parcoords\":[{\"line\":{\"colorbar\":{\"outlinewidth\":0,\"ticks\":\"\"}},\"type\":\"parcoords\"}],\"pie\":[{\"automargin\":true,\"type\":\"pie\"}],\"scatter3d\":[{\"line\":{\"colorbar\":{\"outlinewidth\":0,\"ticks\":\"\"}},\"marker\":{\"colorbar\":{\"outlinewidth\":0,\"ticks\":\"\"}},\"type\":\"scatter3d\"}],\"scattercarpet\":[{\"marker\":{\"colorbar\":{\"outlinewidth\":0,\"ticks\":\"\"}},\"type\":\"scattercarpet\"}],\"scattergeo\":[{\"marker\":{\"colorbar\":{\"outlinewidth\":0,\"ticks\":\"\"}},\"type\":\"scattergeo\"}],\"scattergl\":[{\"marker\":{\"colorbar\":{\"outlinewidth\":0,\"ticks\":\"\"}},\"type\":\"scattergl\"}],\"scattermapbox\":[{\"marker\":{\"colorbar\":{\"outlinewidth\":0,\"ticks\":\"\"}},\"type\":\"scattermapbox\"}],\"scatterpolargl\":[{\"marker\":{\"colorbar\":{\"outlinewidth\":0,\"ticks\":\"\"}},\"type\":\"scatterpolargl\"}],\"scatterpolar\":[{\"marker\":{\"colorbar\":{\"outlinewidth\":0,\"ticks\":\"\"}},\"type\":\"scatterpolar\"}],\"scatter\":[{\"marker\":{\"colorbar\":{\"outlinewidth\":0,\"ticks\":\"\"}},\"type\":\"scatter\"}],\"scatterternary\":[{\"marker\":{\"colorbar\":{\"outlinewidth\":0,\"ticks\":\"\"}},\"type\":\"scatterternary\"}],\"surface\":[{\"colorbar\":{\"outlinewidth\":0,\"ticks\":\"\"},\"colorscale\":[[0.0,\"#0d0887\"],[0.1111111111111111,\"#46039f\"],[0.2222222222222222,\"#7201a8\"],[0.3333333333333333,\"#9c179e\"],[0.4444444444444444,\"#bd3786\"],[0.5555555555555556,\"#d8576b\"],[0.6666666666666666,\"#ed7953\"],[0.7777777777777778,\"#fb9f3a\"],[0.8888888888888888,\"#fdca26\"],[1.0,\"#f0f921\"]],\"type\":\"surface\"}],\"table\":[{\"cells\":{\"fill\":{\"color\":\"#EBF0F8\"},\"line\":{\"color\":\"white\"}},\"header\":{\"fill\":{\"color\":\"#C8D4E3\"},\"line\":{\"color\":\"white\"}},\"type\":\"table\"}]},\"layout\":{\"annotationdefaults\":{\"arrowcolor\":\"#2a3f5f\",\"arrowhead\":0,\"arrowwidth\":1},\"autotypenumbers\":\"strict\",\"coloraxis\":{\"colorbar\":{\"outlinewidth\":0,\"ticks\":\"\"}},\"colorscale\":{\"diverging\":[[0,\"#8e0152\"],[0.1,\"#c51b7d\"],[0.2,\"#de77ae\"],[0.3,\"#f1b6da\"],[0.4,\"#fde0ef\"],[0.5,\"#f7f7f7\"],[0.6,\"#e6f5d0\"],[0.7,\"#b8e186\"],[0.8,\"#7fbc41\"],[0.9,\"#4d9221\"],[1,\"#276419\"]],\"sequential\":[[0.0,\"#0d0887\"],[0.1111111111111111,\"#46039f\"],[0.2222222222222222,\"#7201a8\"],[0.3333333333333333,\"#9c179e\"],[0.4444444444444444,\"#bd3786\"],[0.5555555555555556,\"#d8576b\"],[0.6666666666666666,\"#ed7953\"],[0.7777777777777778,\"#fb9f3a\"],[0.8888888888888888,\"#fdca26\"],[1.0,\"#f0f921\"]],\"sequentialminus\":[[0.0,\"#0d0887\"],[0.1111111111111111,\"#46039f\"],[0.2222222222222222,\"#7201a8\"],[0.3333333333333333,\"#9c179e\"],[0.4444444444444444,\"#bd3786\"],[0.5555555555555556,\"#d8576b\"],[0.6666666666666666,\"#ed7953\"],[0.7777777777777778,\"#fb9f3a\"],[0.8888888888888888,\"#fdca26\"],[1.0,\"#f0f921\"]]},\"colorway\":[\"#636efa\",\"#EF553B\",\"#00cc96\",\"#ab63fa\",\"#FFA15A\",\"#19d3f3\",\"#FF6692\",\"#B6E880\",\"#FF97FF\",\"#FECB52\"],\"font\":{\"color\":\"#2a3f5f\"},\"geo\":{\"bgcolor\":\"white\",\"lakecolor\":\"white\",\"landcolor\":\"white\",\"showlakes\":true,\"showland\":true,\"subunitcolor\":\"#C8D4E3\"},\"hoverlabel\":{\"align\":\"left\"},\"hovermode\":\"closest\",\"mapbox\":{\"style\":\"light\"},\"paper_bgcolor\":\"white\",\"plot_bgcolor\":\"white\",\"polar\":{\"angularaxis\":{\"gridcolor\":\"#EBF0F8\",\"linecolor\":\"#EBF0F8\",\"ticks\":\"\"},\"bgcolor\":\"white\",\"radialaxis\":{\"gridcolor\":\"#EBF0F8\",\"linecolor\":\"#EBF0F8\",\"ticks\":\"\"}},\"scene\":{\"xaxis\":{\"backgroundcolor\":\"white\",\"gridcolor\":\"#DFE8F3\",\"gridwidth\":2,\"linecolor\":\"#EBF0F8\",\"showbackground\":true,\"ticks\":\"\",\"zerolinecolor\":\"#EBF0F8\"},\"yaxis\":{\"backgroundcolor\":\"white\",\"gridcolor\":\"#DFE8F3\",\"gridwidth\":2,\"linecolor\":\"#EBF0F8\",\"showbackground\":true,\"ticks\":\"\",\"zerolinecolor\":\"#EBF0F8\"},\"zaxis\":{\"backgroundcolor\":\"white\",\"gridcolor\":\"#DFE8F3\",\"gridwidth\":2,\"linecolor\":\"#EBF0F8\",\"showbackground\":true,\"ticks\":\"\",\"zerolinecolor\":\"#EBF0F8\"}},\"shapedefaults\":{\"line\":{\"color\":\"#2a3f5f\"}},\"ternary\":{\"aaxis\":{\"gridcolor\":\"#DFE8F3\",\"linecolor\":\"#A2B1C6\",\"ticks\":\"\"},\"baxis\":{\"gridcolor\":\"#DFE8F3\",\"linecolor\":\"#A2B1C6\",\"ticks\":\"\"},\"bgcolor\":\"white\",\"caxis\":{\"gridcolor\":\"#DFE8F3\",\"linecolor\":\"#A2B1C6\",\"ticks\":\"\"}},\"title\":{\"x\":0.05},\"xaxis\":{\"automargin\":true,\"gridcolor\":\"#EBF0F8\",\"linecolor\":\"#EBF0F8\",\"ticks\":\"\",\"title\":{\"standoff\":15},\"zerolinecolor\":\"#EBF0F8\",\"zerolinewidth\":2},\"yaxis\":{\"automargin\":true,\"gridcolor\":\"#EBF0F8\",\"linecolor\":\"#EBF0F8\",\"ticks\":\"\",\"title\":{\"standoff\":15},\"zerolinecolor\":\"#EBF0F8\",\"zerolinewidth\":2}}},\"barmode\":\"group\",\"xaxis\":{\"showline\":true,\"linewidth\":1,\"linecolor\":\"black\"},\"yaxis\":{\"showline\":true,\"linewidth\":1,\"linecolor\":\"black\"}},                        {\"responsive\": true}                    ).then(function(){\n",
       "                            \n",
       "var gd = document.getElementById('2f8e7437-e023-4fb0-93e9-d9a555dea26a');\n",
       "var x = new MutationObserver(function (mutations, observer) {{\n",
       "        var display = window.getComputedStyle(gd).display;\n",
       "        if (!display || display === 'none') {{\n",
       "            console.log([gd, 'removed!']);\n",
       "            Plotly.purge(gd);\n",
       "            observer.disconnect();\n",
       "        }}\n",
       "}});\n",
       "\n",
       "// Listen for the removal of the full notebook cells\n",
       "var notebookContainer = gd.closest('#notebook-container');\n",
       "if (notebookContainer) {{\n",
       "    x.observe(notebookContainer, {childList: true});\n",
       "}}\n",
       "\n",
       "// Listen for the clearing of the current output cell\n",
       "var outputEl = gd.closest('.output');\n",
       "if (outputEl) {{\n",
       "    x.observe(outputEl, {childList: true});\n",
       "}}\n",
       "\n",
       "                        })                };                });            </script>        </div>"
      ]
     },
     "metadata": {},
     "output_type": "display_data"
    }
   ],
   "source": [
    "from util.plotting import plot_balanced_error_rate\n",
    "    \n",
    "plot_balanced_error_rate(iml_result=result, result_path=scenario1_ml_result_path)"
   ]
  },
  {
   "cell_type": "code",
   "execution_count": 78,
   "metadata": {
    "pycharm": {
     "name": "#%%\n"
    }
   },
   "outputs": [
    {
     "data": {
      "text/html": [
       "\n",
       "        <iframe\n",
       "            width=\"700\"\n",
       "            height=\"600\"\n",
       "            src=\"experiment2/scenario1/ml_result/result/HTML_output/train_ml_split_1_immune_state_kmer_frequency_logistic_regression_optimal_reports_ml_method_coefficients_largest_25_coefficients.html\"\n",
       "            frameborder=\"0\"\n",
       "            allowfullscreen\n",
       "            \n",
       "        ></iframe>\n",
       "        "
      ],
      "text/plain": [
       "<IPython.lib.display.IFrame at 0x7f6496e68cd0>"
      ]
     },
     "execution_count": 78,
     "metadata": {},
     "output_type": "execute_result"
    }
   ],
   "source": [
    "# show what the model has learned\n",
    "\n",
    "from IPython.display import IFrame\n",
    "\n",
    "\n",
    "IFrame(src=str(scenario1_ml_result_path / \"result/HTML_output/train_ml_split_1_immune_state_kmer_frequency_logistic_regression_optimal_reports_ml_method_coefficients_largest_25_coefficients.html\"),  width=700, height=600)"
   ]
  },
  {
   "cell_type": "markdown",
   "metadata": {},
   "source": [
    "## Scenario 2: immune state does not influence the AIRR: learning spurious correlations"
   ]
  },
  {
   "cell_type": "code",
   "execution_count": 10,
   "metadata": {},
   "outputs": [],
   "source": [
    "# define and build path, remove content if not empty\n",
    "\n",
    "scenario2_path = setup_path(\"./experiment2/scenario2/\")\n",
    "scenario2_data_path = setup_path(scenario2_path / \"data\")\n",
    "\n",
    "# define constants for the simulation\n",
    "\n",
    "p_immune_state = 0.5 # parameter of binomial distribution for the immune state\n",
    "p_hospital = 0.5 # parameter of binomial distribution for selecting between hospitals 1 and 2\n",
    "\n",
    "sequence_count = 2000\n",
    "immune_state_implanting_rate = 0.0\n",
    "protocol_implanting_rate = 0.04\n",
    "\n",
    "immune_state_signal = make_immune_state_signal()"
   ]
  },
  {
   "cell_type": "code",
   "execution_count": 11,
   "metadata": {},
   "outputs": [
    {
     "name": "stderr",
     "output_type": "stream",
     "text": [
      "/home/ghadi/miniconda3/envs/CausalAIRR/lib/python3.8/subprocess.py:946: ResourceWarning:\n",
      "\n",
      "subprocess 73987 is still running\n",
      "\n"
     ]
    }
   ],
   "source": [
    "immune_state_node = ds.Node(name=\"immune_state\", function=get_immune_state, kwargs={\"p\": p_immune_state})\n",
    "\n",
    "hospital_node = ds.Node(name=\"hospital\", function=get_hospital, kwargs={\"p\": p_hospital})\n",
    "\n",
    "experimental_protocol_node = ds.Node(name=\"exp_protocol\", function=get_exp_protocol, kwargs={\"hospital\": hospital_node})\n",
    "\n",
    "selection_node = ds.Selection(name=\"S\", function=get_selection,\n",
    "                              kwargs={\"hospital\": hospital_node, \"immune_state\": immune_state_node})\n",
    "\n",
    "repertoire_node = ds.Node(name=\"repertoire\", function=get_repertoire,\n",
    "                             kwargs={\"immune_state\": immune_state_node, \"experimental_protocol_id\": experimental_protocol_node,\n",
    "                                        \"path\": scenario2_data_path / \"train\", \"sequence_count\": sequence_count, \n",
    "                                        \"immune_state_signal\": immune_state_signal,\n",
    "                                        'immune_state_implanting_rate': immune_state_implanting_rate,\n",
    "                                        \"protocol_implanting_rate\": protocol_implanting_rate})\n",
    "\n",
    "# make a causal graph using DagSim and show it graphically\n",
    "\n",
    "graph = ds.Graph(name=\"graph_experiment_2_2\", \n",
    "                 list_nodes=[immune_state_node, hospital_node, experimental_protocol_node,\n",
    "                             repertoire_node, selection_node])\n",
    "graph.draw()"
   ]
  },
  {
   "cell_type": "code",
   "execution_count": 12,
   "metadata": {
    "pycharm": {
     "name": "#%%\n"
    }
   },
   "outputs": [
    {
     "name": "stdout",
     "output_type": "stream",
     "text": [
      "Simulation started\n"
     ]
    },
    {
     "name": "stderr",
     "output_type": "stream",
     "text": [
      "WARNING:root:HealthySequenceImplanting: there are 2000 sequences in repertoire fb816d81aa894bcfbb213d435951f0b0 for the given repertoire implanting rate of 0.0; no motif will be implanted. To implant motifs, increase 'repertoire_implanting_rate' in the specification.\n",
      "WARNING:root:HealthySequenceImplanting: there are 2000 sequences in repertoire aa2f44a8444742eaaa17e5664a6ec1d4 for the given repertoire implanting rate of 0.0; no motif will be implanted. To implant motifs, increase 'repertoire_implanting_rate' in the specification.\n",
      "WARNING:root:HealthySequenceImplanting: there are 2000 sequences in repertoire 37553315a3c741c1bcc407acf8eecc86 for the given repertoire implanting rate of 0.0; no motif will be implanted. To implant motifs, increase 'repertoire_implanting_rate' in the specification.\n",
      "WARNING:root:HealthySequenceImplanting: there are 2000 sequences in repertoire d5861455861540549b94233b2ed1b3df for the given repertoire implanting rate of 0.0; no motif will be implanted. To implant motifs, increase 'repertoire_implanting_rate' in the specification.\n",
      "WARNING:root:HealthySequenceImplanting: there are 2000 sequences in repertoire 8395ca32b1b44edbb57ea7cd6d499194 for the given repertoire implanting rate of 0.0; no motif will be implanted. To implant motifs, increase 'repertoire_implanting_rate' in the specification.\n",
      "WARNING:root:HealthySequenceImplanting: there are 2000 sequences in repertoire 1f4c5ada346e40b88a5b19c4946316b5 for the given repertoire implanting rate of 0.0; no motif will be implanted. To implant motifs, increase 'repertoire_implanting_rate' in the specification.\n",
      "WARNING:root:HealthySequenceImplanting: there are 2000 sequences in repertoire bc2da756809d4f8cb52ffdc8a992454f for the given repertoire implanting rate of 0.0; no motif will be implanted. To implant motifs, increase 'repertoire_implanting_rate' in the specification.\n",
      "WARNING:root:HealthySequenceImplanting: there are 2000 sequences in repertoire f84ee8722ede49298a3ad03c464fb409 for the given repertoire implanting rate of 0.0; no motif will be implanted. To implant motifs, increase 'repertoire_implanting_rate' in the specification.\n",
      "WARNING:root:HealthySequenceImplanting: there are 2000 sequences in repertoire e08c7347470d44d987092a330523041c for the given repertoire implanting rate of 0.0; no motif will be implanted. To implant motifs, increase 'repertoire_implanting_rate' in the specification.\n",
      "WARNING:root:HealthySequenceImplanting: there are 2000 sequences in repertoire 3ffa95751e924a02863f9148b091507d for the given repertoire implanting rate of 0.0; no motif will be implanted. To implant motifs, increase 'repertoire_implanting_rate' in the specification.\n",
      "WARNING:root:HealthySequenceImplanting: there are 2000 sequences in repertoire f6e63f573ef34d5b914d25e921fbc4c7 for the given repertoire implanting rate of 0.0; no motif will be implanted. To implant motifs, increase 'repertoire_implanting_rate' in the specification.\n",
      "WARNING:root:HealthySequenceImplanting: there are 2000 sequences in repertoire 47bc8d04d4c248ec9fd463fe963f73d2 for the given repertoire implanting rate of 0.0; no motif will be implanted. To implant motifs, increase 'repertoire_implanting_rate' in the specification.\n",
      "WARNING:root:HealthySequenceImplanting: there are 2000 sequences in repertoire 0cf1656f9fb34cce882fb19778795287 for the given repertoire implanting rate of 0.0; no motif will be implanted. To implant motifs, increase 'repertoire_implanting_rate' in the specification.\n",
      "WARNING:root:HealthySequenceImplanting: there are 2000 sequences in repertoire 0ed017850b87468291f478df8f8508a4 for the given repertoire implanting rate of 0.0; no motif will be implanted. To implant motifs, increase 'repertoire_implanting_rate' in the specification.\n",
      "WARNING:root:HealthySequenceImplanting: there are 2000 sequences in repertoire a1a89273674240da9f30c630eacd00bf for the given repertoire implanting rate of 0.0; no motif will be implanted. To implant motifs, increase 'repertoire_implanting_rate' in the specification.\n",
      "WARNING:root:HealthySequenceImplanting: there are 2000 sequences in repertoire 0817cfbd05b348308bed824c2401b24e for the given repertoire implanting rate of 0.0; no motif will be implanted. To implant motifs, increase 'repertoire_implanting_rate' in the specification.\n",
      "WARNING:root:HealthySequenceImplanting: there are 2000 sequences in repertoire 8d49f8cacd5b49f287e51cc0607c83f8 for the given repertoire implanting rate of 0.0; no motif will be implanted. To implant motifs, increase 'repertoire_implanting_rate' in the specification.\n",
      "WARNING:root:HealthySequenceImplanting: there are 2000 sequences in repertoire a3bf1a48b74949e68512e83f0a017645 for the given repertoire implanting rate of 0.0; no motif will be implanted. To implant motifs, increase 'repertoire_implanting_rate' in the specification.\n",
      "WARNING:root:HealthySequenceImplanting: there are 2000 sequences in repertoire 984e0941646741d6a5131b90a2cc5c62 for the given repertoire implanting rate of 0.0; no motif will be implanted. To implant motifs, increase 'repertoire_implanting_rate' in the specification.\n",
      "WARNING:root:HealthySequenceImplanting: there are 2000 sequences in repertoire 0f09aa6872b24adf8c8700840bbadf7a for the given repertoire implanting rate of 0.0; no motif will be implanted. To implant motifs, increase 'repertoire_implanting_rate' in the specification.\n",
      "WARNING:root:HealthySequenceImplanting: there are 2000 sequences in repertoire 05c1250a6f8e457282ca17e7a7d0379f for the given repertoire implanting rate of 0.0; no motif will be implanted. To implant motifs, increase 'repertoire_implanting_rate' in the specification.\n",
      "WARNING:root:HealthySequenceImplanting: there are 2000 sequences in repertoire d8a97779e5644490a9e90dfd0cd4b8cf for the given repertoire implanting rate of 0.0; no motif will be implanted. To implant motifs, increase 'repertoire_implanting_rate' in the specification.\n",
      "WARNING:root:HealthySequenceImplanting: there are 2000 sequences in repertoire f06021a33e8c4e66ad412180619943be for the given repertoire implanting rate of 0.0; no motif will be implanted. To implant motifs, increase 'repertoire_implanting_rate' in the specification.\n",
      "WARNING:root:HealthySequenceImplanting: there are 2000 sequences in repertoire b923d70ec87248f1b222b4bbb74a5653 for the given repertoire implanting rate of 0.0; no motif will be implanted. To implant motifs, increase 'repertoire_implanting_rate' in the specification.\n",
      "WARNING:root:HealthySequenceImplanting: there are 2000 sequences in repertoire 50f6e1362dc34e4c825c3488850cd654 for the given repertoire implanting rate of 0.0; no motif will be implanted. To implant motifs, increase 'repertoire_implanting_rate' in the specification.\n",
      "WARNING:root:HealthySequenceImplanting: there are 2000 sequences in repertoire 2108b848ad004e849f2b31605a5ad21b for the given repertoire implanting rate of 0.0; no motif will be implanted. To implant motifs, increase 'repertoire_implanting_rate' in the specification.\n",
      "WARNING:root:HealthySequenceImplanting: there are 2000 sequences in repertoire d0defebfea2243ef912bd52bdeb17ed1 for the given repertoire implanting rate of 0.0; no motif will be implanted. To implant motifs, increase 'repertoire_implanting_rate' in the specification.\n",
      "WARNING:root:HealthySequenceImplanting: there are 2000 sequences in repertoire 818956ac3a404f3e883f721d83794c0b for the given repertoire implanting rate of 0.0; no motif will be implanted. To implant motifs, increase 'repertoire_implanting_rate' in the specification.\n",
      "WARNING:root:HealthySequenceImplanting: there are 2000 sequences in repertoire d5aab5600bef48988060cbb4847d4743 for the given repertoire implanting rate of 0.0; no motif will be implanted. To implant motifs, increase 'repertoire_implanting_rate' in the specification.\n",
      "WARNING:root:HealthySequenceImplanting: there are 2000 sequences in repertoire 44350118b66c4477affda3785c48cf2d for the given repertoire implanting rate of 0.0; no motif will be implanted. To implant motifs, increase 'repertoire_implanting_rate' in the specification.\n",
      "WARNING:root:HealthySequenceImplanting: there are 2000 sequences in repertoire cfed0fad6828459da064c6f5a4e78613 for the given repertoire implanting rate of 0.0; no motif will be implanted. To implant motifs, increase 'repertoire_implanting_rate' in the specification.\n",
      "WARNING:root:HealthySequenceImplanting: there are 2000 sequences in repertoire 12bb364175614d0e926c1339abc4b5f5 for the given repertoire implanting rate of 0.0; no motif will be implanted. To implant motifs, increase 'repertoire_implanting_rate' in the specification.\n",
      "WARNING:root:HealthySequenceImplanting: there are 2000 sequences in repertoire 00836b1db60b4f1cacc8da9b1bea5ff6 for the given repertoire implanting rate of 0.0; no motif will be implanted. To implant motifs, increase 'repertoire_implanting_rate' in the specification.\n",
      "WARNING:root:HealthySequenceImplanting: there are 2000 sequences in repertoire 44b44ef2851e4a9baf653aa42c2dab14 for the given repertoire implanting rate of 0.0; no motif will be implanted. To implant motifs, increase 'repertoire_implanting_rate' in the specification.\n",
      "WARNING:root:HealthySequenceImplanting: there are 2000 sequences in repertoire b51fdd96dc284ca59c727f648368751d for the given repertoire implanting rate of 0.0; no motif will be implanted. To implant motifs, increase 'repertoire_implanting_rate' in the specification.\n",
      "WARNING:root:HealthySequenceImplanting: there are 2000 sequences in repertoire bcdbc76f3e934be58dd8b9756c6bb861 for the given repertoire implanting rate of 0.0; no motif will be implanted. To implant motifs, increase 'repertoire_implanting_rate' in the specification.\n",
      "WARNING:root:HealthySequenceImplanting: there are 2000 sequences in repertoire 3aec6da6824348c4bb59f036088019b5 for the given repertoire implanting rate of 0.0; no motif will be implanted. To implant motifs, increase 'repertoire_implanting_rate' in the specification.\n",
      "WARNING:root:HealthySequenceImplanting: there are 2000 sequences in repertoire c754651e3bd44e95a9643ba12caaa8a7 for the given repertoire implanting rate of 0.0; no motif will be implanted. To implant motifs, increase 'repertoire_implanting_rate' in the specification.\n",
      "WARNING:root:HealthySequenceImplanting: there are 2000 sequences in repertoire c5f92ffbc8d94a3b9a2edf7224e52275 for the given repertoire implanting rate of 0.0; no motif will be implanted. To implant motifs, increase 'repertoire_implanting_rate' in the specification.\n",
      "WARNING:root:HealthySequenceImplanting: there are 2000 sequences in repertoire 44ee1bdcc2664d1cbdcf7c1e2d91d410 for the given repertoire implanting rate of 0.0; no motif will be implanted. To implant motifs, increase 'repertoire_implanting_rate' in the specification.\n",
      "WARNING:root:HealthySequenceImplanting: there are 2000 sequences in repertoire a981f51897444d13908530026fc5837a for the given repertoire implanting rate of 0.0; no motif will be implanted. To implant motifs, increase 'repertoire_implanting_rate' in the specification.\n",
      "WARNING:root:HealthySequenceImplanting: there are 2000 sequences in repertoire 7089a90278cc4a83a5df16c25e4c0c28 for the given repertoire implanting rate of 0.0; no motif will be implanted. To implant motifs, increase 'repertoire_implanting_rate' in the specification.\n",
      "WARNING:root:HealthySequenceImplanting: there are 2000 sequences in repertoire 7295c445bb5e41f7bd4045f4b7dcc542 for the given repertoire implanting rate of 0.0; no motif will be implanted. To implant motifs, increase 'repertoire_implanting_rate' in the specification.\n",
      "WARNING:root:HealthySequenceImplanting: there are 2000 sequences in repertoire fad68f1408c64e32b97221c7a7fbeb5c for the given repertoire implanting rate of 0.0; no motif will be implanted. To implant motifs, increase 'repertoire_implanting_rate' in the specification.\n",
      "WARNING:root:HealthySequenceImplanting: there are 2000 sequences in repertoire ef75f1b73576460ebbcd5aab1122621c for the given repertoire implanting rate of 0.0; no motif will be implanted. To implant motifs, increase 'repertoire_implanting_rate' in the specification.\n",
      "WARNING:root:HealthySequenceImplanting: there are 2000 sequences in repertoire 1edd62ab967e41c3a145e4ebb529ccf2 for the given repertoire implanting rate of 0.0; no motif will be implanted. To implant motifs, increase 'repertoire_implanting_rate' in the specification.\n",
      "WARNING:root:HealthySequenceImplanting: there are 2000 sequences in repertoire c4df1dae89244e90b1a7f6a9138b9679 for the given repertoire implanting rate of 0.0; no motif will be implanted. To implant motifs, increase 'repertoire_implanting_rate' in the specification.\n",
      "WARNING:root:HealthySequenceImplanting: there are 2000 sequences in repertoire 27506cf837344fbd9dc89e9c1083b8e5 for the given repertoire implanting rate of 0.0; no motif will be implanted. To implant motifs, increase 'repertoire_implanting_rate' in the specification.\n",
      "WARNING:root:HealthySequenceImplanting: there are 2000 sequences in repertoire 17f9ee0e2787433dac957a2d91f29f7c for the given repertoire implanting rate of 0.0; no motif will be implanted. To implant motifs, increase 'repertoire_implanting_rate' in the specification.\n",
      "WARNING:root:HealthySequenceImplanting: there are 2000 sequences in repertoire 1926bdbf8a97421393672e4625261ed3 for the given repertoire implanting rate of 0.0; no motif will be implanted. To implant motifs, increase 'repertoire_implanting_rate' in the specification.\n",
      "WARNING:root:HealthySequenceImplanting: there are 2000 sequences in repertoire 4b800892cb894f12958927df7a465f1c for the given repertoire implanting rate of 0.0; no motif will be implanted. To implant motifs, increase 'repertoire_implanting_rate' in the specification.\n",
      "WARNING:root:HealthySequenceImplanting: there are 2000 sequences in repertoire b3674890a47d45b29aded2707280c1a8 for the given repertoire implanting rate of 0.0; no motif will be implanted. To implant motifs, increase 'repertoire_implanting_rate' in the specification.\n",
      "WARNING:root:HealthySequenceImplanting: there are 2000 sequences in repertoire 3c4fb16ec2c14e6192ad4c9e6fbac998 for the given repertoire implanting rate of 0.0; no motif will be implanted. To implant motifs, increase 'repertoire_implanting_rate' in the specification.\n",
      "WARNING:root:HealthySequenceImplanting: there are 2000 sequences in repertoire 2861a783fda24b359009309fb2e85af5 for the given repertoire implanting rate of 0.0; no motif will be implanted. To implant motifs, increase 'repertoire_implanting_rate' in the specification.\n",
      "WARNING:root:HealthySequenceImplanting: there are 2000 sequences in repertoire 7a916cff922f4fc2bd19bdf4e3c78515 for the given repertoire implanting rate of 0.0; no motif will be implanted. To implant motifs, increase 'repertoire_implanting_rate' in the specification.\n",
      "WARNING:root:HealthySequenceImplanting: there are 2000 sequences in repertoire afa191a0ec1143b0bab4a52b5f367aba for the given repertoire implanting rate of 0.0; no motif will be implanted. To implant motifs, increase 'repertoire_implanting_rate' in the specification.\n",
      "WARNING:root:HealthySequenceImplanting: there are 2000 sequences in repertoire 6c1751594494448dbc445af8a98f9274 for the given repertoire implanting rate of 0.0; no motif will be implanted. To implant motifs, increase 'repertoire_implanting_rate' in the specification.\n",
      "WARNING:root:HealthySequenceImplanting: there are 2000 sequences in repertoire c316ba2c079a4bbdbb14c0b002d0df72 for the given repertoire implanting rate of 0.0; no motif will be implanted. To implant motifs, increase 'repertoire_implanting_rate' in the specification.\n",
      "WARNING:root:HealthySequenceImplanting: there are 2000 sequences in repertoire dd98b65fb9ce4df28cbf974eb90b1ef8 for the given repertoire implanting rate of 0.0; no motif will be implanted. To implant motifs, increase 'repertoire_implanting_rate' in the specification.\n",
      "WARNING:root:HealthySequenceImplanting: there are 2000 sequences in repertoire 24dbdf81886841a59ecafb33d281f5d6 for the given repertoire implanting rate of 0.0; no motif will be implanted. To implant motifs, increase 'repertoire_implanting_rate' in the specification.\n",
      "WARNING:root:HealthySequenceImplanting: there are 2000 sequences in repertoire 8144d538a69b48a18405630744262e83 for the given repertoire implanting rate of 0.0; no motif will be implanted. To implant motifs, increase 'repertoire_implanting_rate' in the specification.\n",
      "WARNING:root:HealthySequenceImplanting: there are 2000 sequences in repertoire a5f3cd079a25448988fa7a69b13d35ce for the given repertoire implanting rate of 0.0; no motif will be implanted. To implant motifs, increase 'repertoire_implanting_rate' in the specification.\n",
      "WARNING:root:HealthySequenceImplanting: there are 2000 sequences in repertoire 841772c986b445ebb8789c82ff5ff2f2 for the given repertoire implanting rate of 0.0; no motif will be implanted. To implant motifs, increase 'repertoire_implanting_rate' in the specification.\n",
      "WARNING:root:HealthySequenceImplanting: there are 2000 sequences in repertoire 9d4371cbf07e4dacb0e5d92f4cb16242 for the given repertoire implanting rate of 0.0; no motif will be implanted. To implant motifs, increase 'repertoire_implanting_rate' in the specification.\n",
      "WARNING:root:HealthySequenceImplanting: there are 2000 sequences in repertoire c53883a73318480882b1bc424f6d3476 for the given repertoire implanting rate of 0.0; no motif will be implanted. To implant motifs, increase 'repertoire_implanting_rate' in the specification.\n",
      "WARNING:root:HealthySequenceImplanting: there are 2000 sequences in repertoire 0e9248a6d5ed496ab4b0cbe0acbb1f56 for the given repertoire implanting rate of 0.0; no motif will be implanted. To implant motifs, increase 'repertoire_implanting_rate' in the specification.\n",
      "WARNING:root:HealthySequenceImplanting: there are 2000 sequences in repertoire ee03fe128576476ca1d8f41e425c9a57 for the given repertoire implanting rate of 0.0; no motif will be implanted. To implant motifs, increase 'repertoire_implanting_rate' in the specification.\n",
      "WARNING:root:HealthySequenceImplanting: there are 2000 sequences in repertoire ddc655c236b64067b1164039864ebb01 for the given repertoire implanting rate of 0.0; no motif will be implanted. To implant motifs, increase 'repertoire_implanting_rate' in the specification.\n",
      "WARNING:root:HealthySequenceImplanting: there are 2000 sequences in repertoire be487167d4c449b9bce01301ccb3c311 for the given repertoire implanting rate of 0.0; no motif will be implanted. To implant motifs, increase 'repertoire_implanting_rate' in the specification.\n",
      "WARNING:root:HealthySequenceImplanting: there are 2000 sequences in repertoire 36b0b09118c244e8971664a17f1fb11b for the given repertoire implanting rate of 0.0; no motif will be implanted. To implant motifs, increase 'repertoire_implanting_rate' in the specification.\n",
      "WARNING:root:HealthySequenceImplanting: there are 2000 sequences in repertoire 2a901e937d3d45509dba74be722b9dbf for the given repertoire implanting rate of 0.0; no motif will be implanted. To implant motifs, increase 'repertoire_implanting_rate' in the specification.\n",
      "WARNING:root:HealthySequenceImplanting: there are 2000 sequences in repertoire 90230d41f8d649d6aef03763998d21b8 for the given repertoire implanting rate of 0.0; no motif will be implanted. To implant motifs, increase 'repertoire_implanting_rate' in the specification.\n",
      "WARNING:root:HealthySequenceImplanting: there are 2000 sequences in repertoire 517cb493d95e491e95bb26006902395e for the given repertoire implanting rate of 0.0; no motif will be implanted. To implant motifs, increase 'repertoire_implanting_rate' in the specification.\n",
      "WARNING:root:HealthySequenceImplanting: there are 2000 sequences in repertoire f7ed8d6676394ab38744ea794a8098b2 for the given repertoire implanting rate of 0.0; no motif will be implanted. To implant motifs, increase 'repertoire_implanting_rate' in the specification.\n",
      "WARNING:root:HealthySequenceImplanting: there are 2000 sequences in repertoire dcb4a8a520a64152ab99c790ee526b56 for the given repertoire implanting rate of 0.0; no motif will be implanted. To implant motifs, increase 'repertoire_implanting_rate' in the specification.\n",
      "WARNING:root:HealthySequenceImplanting: there are 2000 sequences in repertoire 88837fe71a8a4083b35bfb70bd9e19fd for the given repertoire implanting rate of 0.0; no motif will be implanted. To implant motifs, increase 'repertoire_implanting_rate' in the specification.\n",
      "WARNING:root:HealthySequenceImplanting: there are 2000 sequences in repertoire 7d61fed6065b4258b9bcb6f079fdfa2b for the given repertoire implanting rate of 0.0; no motif will be implanted. To implant motifs, increase 'repertoire_implanting_rate' in the specification.\n",
      "WARNING:root:HealthySequenceImplanting: there are 2000 sequences in repertoire b40ca88cef3641e4b6cf00a7d05c5cac for the given repertoire implanting rate of 0.0; no motif will be implanted. To implant motifs, increase 'repertoire_implanting_rate' in the specification.\n",
      "WARNING:root:HealthySequenceImplanting: there are 2000 sequences in repertoire 0a72d34988e34f0c9eaa62c409b633e1 for the given repertoire implanting rate of 0.0; no motif will be implanted. To implant motifs, increase 'repertoire_implanting_rate' in the specification.\n",
      "WARNING:root:HealthySequenceImplanting: there are 2000 sequences in repertoire ba5b14b8e2444efb81b0b5968a150f2d for the given repertoire implanting rate of 0.0; no motif will be implanted. To implant motifs, increase 'repertoire_implanting_rate' in the specification.\n",
      "WARNING:root:HealthySequenceImplanting: there are 2000 sequences in repertoire 5dcfb60e24604408a77d7cddb098f9c1 for the given repertoire implanting rate of 0.0; no motif will be implanted. To implant motifs, increase 'repertoire_implanting_rate' in the specification.\n",
      "WARNING:root:HealthySequenceImplanting: there are 2000 sequences in repertoire c61517e708da443e82edafca9809c9dd for the given repertoire implanting rate of 0.0; no motif will be implanted. To implant motifs, increase 'repertoire_implanting_rate' in the specification.\n",
      "WARNING:root:HealthySequenceImplanting: there are 2000 sequences in repertoire 40aec93c955d41dcba7b56d1de1e3a26 for the given repertoire implanting rate of 0.0; no motif will be implanted. To implant motifs, increase 'repertoire_implanting_rate' in the specification.\n",
      "WARNING:root:HealthySequenceImplanting: there are 2000 sequences in repertoire 7cbdfa8ba1604dc68690f72844db7b89 for the given repertoire implanting rate of 0.0; no motif will be implanted. To implant motifs, increase 'repertoire_implanting_rate' in the specification.\n",
      "WARNING:root:HealthySequenceImplanting: there are 2000 sequences in repertoire e5b08f19fd1444bca78b7d995348394b for the given repertoire implanting rate of 0.0; no motif will be implanted. To implant motifs, increase 'repertoire_implanting_rate' in the specification.\n",
      "WARNING:root:HealthySequenceImplanting: there are 2000 sequences in repertoire 96941e5395d34e3280f2735ee26dd257 for the given repertoire implanting rate of 0.0; no motif will be implanted. To implant motifs, increase 'repertoire_implanting_rate' in the specification.\n",
      "WARNING:root:HealthySequenceImplanting: there are 2000 sequences in repertoire 578c3998bd4b4daca9d9fc2a76dd4db7 for the given repertoire implanting rate of 0.0; no motif will be implanted. To implant motifs, increase 'repertoire_implanting_rate' in the specification.\n",
      "WARNING:root:HealthySequenceImplanting: there are 2000 sequences in repertoire d64927c59d334f41b65a3fa150b58bc0 for the given repertoire implanting rate of 0.0; no motif will be implanted. To implant motifs, increase 'repertoire_implanting_rate' in the specification.\n",
      "WARNING:root:HealthySequenceImplanting: there are 2000 sequences in repertoire 82060939ea49496d83a511c8038c2748 for the given repertoire implanting rate of 0.0; no motif will be implanted. To implant motifs, increase 'repertoire_implanting_rate' in the specification.\n",
      "WARNING:root:HealthySequenceImplanting: there are 2000 sequences in repertoire 14db9aac5256493a80c7f07f27d51440 for the given repertoire implanting rate of 0.0; no motif will be implanted. To implant motifs, increase 'repertoire_implanting_rate' in the specification.\n",
      "WARNING:root:HealthySequenceImplanting: there are 2000 sequences in repertoire ec6d01b34e244c0981e2cd5c90c3a09c for the given repertoire implanting rate of 0.0; no motif will be implanted. To implant motifs, increase 'repertoire_implanting_rate' in the specification.\n",
      "WARNING:root:HealthySequenceImplanting: there are 2000 sequences in repertoire 15147d64b745437588c69f019b83e16c for the given repertoire implanting rate of 0.0; no motif will be implanted. To implant motifs, increase 'repertoire_implanting_rate' in the specification.\n",
      "WARNING:root:HealthySequenceImplanting: there are 2000 sequences in repertoire 820aa3c4efad4b5a9e23e9aa6f3b6a8b for the given repertoire implanting rate of 0.0; no motif will be implanted. To implant motifs, increase 'repertoire_implanting_rate' in the specification.\n",
      "WARNING:root:HealthySequenceImplanting: there are 2000 sequences in repertoire 84a21bec42084207882866c448a8fa07 for the given repertoire implanting rate of 0.0; no motif will be implanted. To implant motifs, increase 'repertoire_implanting_rate' in the specification.\n",
      "WARNING:root:HealthySequenceImplanting: there are 2000 sequences in repertoire b2cf43c4a9e74977a70b1ebbca94a310 for the given repertoire implanting rate of 0.0; no motif will be implanted. To implant motifs, increase 'repertoire_implanting_rate' in the specification.\n",
      "WARNING:root:HealthySequenceImplanting: there are 2000 sequences in repertoire 5464d661225f4cbda33ba878e8c8db42 for the given repertoire implanting rate of 0.0; no motif will be implanted. To implant motifs, increase 'repertoire_implanting_rate' in the specification.\n",
      "WARNING:root:HealthySequenceImplanting: there are 2000 sequences in repertoire 691505d7ce184b7eafabdfba2dc3bb3b for the given repertoire implanting rate of 0.0; no motif will be implanted. To implant motifs, increase 'repertoire_implanting_rate' in the specification.\n",
      "WARNING:root:HealthySequenceImplanting: there are 2000 sequences in repertoire 4c64d4007c3443fdbb850bcbdc35ce59 for the given repertoire implanting rate of 0.0; no motif will be implanted. To implant motifs, increase 'repertoire_implanting_rate' in the specification.\n",
      "WARNING:root:HealthySequenceImplanting: there are 2000 sequences in repertoire 813d507f0f7040819cb4bba8a196ca7a for the given repertoire implanting rate of 0.0; no motif will be implanted. To implant motifs, increase 'repertoire_implanting_rate' in the specification.\n",
      "WARNING:root:HealthySequenceImplanting: there are 2000 sequences in repertoire 86a4e0044303416dac4a5b7b0dfa6e59 for the given repertoire implanting rate of 0.0; no motif will be implanted. To implant motifs, increase 'repertoire_implanting_rate' in the specification.\n",
      "WARNING:root:HealthySequenceImplanting: there are 2000 sequences in repertoire 491f5ad54ab5457d90fc4d9eae6f2017 for the given repertoire implanting rate of 0.0; no motif will be implanted. To implant motifs, increase 'repertoire_implanting_rate' in the specification.\n",
      "WARNING:root:HealthySequenceImplanting: there are 2000 sequences in repertoire a34eb97de4f248b7a9f81726473bc7d9 for the given repertoire implanting rate of 0.0; no motif will be implanted. To implant motifs, increase 'repertoire_implanting_rate' in the specification.\n",
      "WARNING:root:HealthySequenceImplanting: there are 2000 sequences in repertoire 2e4d81263e744c75b4d0f11381aa6c0f for the given repertoire implanting rate of 0.0; no motif will be implanted. To implant motifs, increase 'repertoire_implanting_rate' in the specification.\n",
      "WARNING:root:HealthySequenceImplanting: there are 2000 sequences in repertoire 10b14e94cfb94332b1cea9a05a47a54d for the given repertoire implanting rate of 0.0; no motif will be implanted. To implant motifs, increase 'repertoire_implanting_rate' in the specification.\n",
      "WARNING:root:HealthySequenceImplanting: there are 2000 sequences in repertoire bedaf6220e0b4fd998e5af3cd0855c3c for the given repertoire implanting rate of 0.0; no motif will be implanted. To implant motifs, increase 'repertoire_implanting_rate' in the specification.\n",
      "WARNING:root:HealthySequenceImplanting: there are 2000 sequences in repertoire e8247ed6b7f64337aa91903c2e027c73 for the given repertoire implanting rate of 0.0; no motif will be implanted. To implant motifs, increase 'repertoire_implanting_rate' in the specification.\n",
      "WARNING:root:HealthySequenceImplanting: there are 2000 sequences in repertoire a4a4e7235c5f4189b2c36839b782da44 for the given repertoire implanting rate of 0.0; no motif will be implanted. To implant motifs, increase 'repertoire_implanting_rate' in the specification.\n",
      "WARNING:root:HealthySequenceImplanting: there are 2000 sequences in repertoire 40863c208461499ea144db61265a864c for the given repertoire implanting rate of 0.0; no motif will be implanted. To implant motifs, increase 'repertoire_implanting_rate' in the specification.\n",
      "WARNING:root:HealthySequenceImplanting: there are 2000 sequences in repertoire 7a888ce198f74149a23067b07e41d20c for the given repertoire implanting rate of 0.0; no motif will be implanted. To implant motifs, increase 'repertoire_implanting_rate' in the specification.\n",
      "WARNING:root:HealthySequenceImplanting: there are 2000 sequences in repertoire 47ffcfd27c0d4cf3ae7b80f1261993e3 for the given repertoire implanting rate of 0.0; no motif will be implanted. To implant motifs, increase 'repertoire_implanting_rate' in the specification.\n",
      "WARNING:root:HealthySequenceImplanting: there are 2000 sequences in repertoire 23c8384a9199457d9f81218d6134a1ac for the given repertoire implanting rate of 0.0; no motif will be implanted. To implant motifs, increase 'repertoire_implanting_rate' in the specification.\n",
      "WARNING:root:HealthySequenceImplanting: there are 2000 sequences in repertoire bb5b0a31d06749fc9f4ebea9e75f4d16 for the given repertoire implanting rate of 0.0; no motif will be implanted. To implant motifs, increase 'repertoire_implanting_rate' in the specification.\n",
      "WARNING:root:HealthySequenceImplanting: there are 2000 sequences in repertoire d6465bfb8cc14a5aa266141e5a495bd4 for the given repertoire implanting rate of 0.0; no motif will be implanted. To implant motifs, increase 'repertoire_implanting_rate' in the specification.\n",
      "WARNING:root:HealthySequenceImplanting: there are 2000 sequences in repertoire 4439629347bc4a08b218af6f9ade6518 for the given repertoire implanting rate of 0.0; no motif will be implanted. To implant motifs, increase 'repertoire_implanting_rate' in the specification.\n",
      "WARNING:root:HealthySequenceImplanting: there are 2000 sequences in repertoire 05d079cc9854436a8745ba8089a23f4d for the given repertoire implanting rate of 0.0; no motif will be implanted. To implant motifs, increase 'repertoire_implanting_rate' in the specification.\n",
      "WARNING:root:HealthySequenceImplanting: there are 2000 sequences in repertoire 0b7865b335ac4529b30789093e66043c for the given repertoire implanting rate of 0.0; no motif will be implanted. To implant motifs, increase 'repertoire_implanting_rate' in the specification.\n",
      "WARNING:root:HealthySequenceImplanting: there are 2000 sequences in repertoire 65b41d66da11427081c9b43a9d70aa02 for the given repertoire implanting rate of 0.0; no motif will be implanted. To implant motifs, increase 'repertoire_implanting_rate' in the specification.\n",
      "WARNING:root:HealthySequenceImplanting: there are 2000 sequences in repertoire 2148a8a3bdaa489ab813318d62440789 for the given repertoire implanting rate of 0.0; no motif will be implanted. To implant motifs, increase 'repertoire_implanting_rate' in the specification.\n",
      "WARNING:root:HealthySequenceImplanting: there are 2000 sequences in repertoire 12b7b0a191b54ba4a2c621941fde3315 for the given repertoire implanting rate of 0.0; no motif will be implanted. To implant motifs, increase 'repertoire_implanting_rate' in the specification.\n",
      "WARNING:root:HealthySequenceImplanting: there are 2000 sequences in repertoire cac085bc2d3d4850a5d03aedc7e58f06 for the given repertoire implanting rate of 0.0; no motif will be implanted. To implant motifs, increase 'repertoire_implanting_rate' in the specification.\n",
      "WARNING:root:HealthySequenceImplanting: there are 2000 sequences in repertoire 958c595bb9a54506b4bbff3977d2fa32 for the given repertoire implanting rate of 0.0; no motif will be implanted. To implant motifs, increase 'repertoire_implanting_rate' in the specification.\n",
      "WARNING:root:HealthySequenceImplanting: there are 2000 sequences in repertoire 1afb0d901dae45a782545d70aebfc847 for the given repertoire implanting rate of 0.0; no motif will be implanted. To implant motifs, increase 'repertoire_implanting_rate' in the specification.\n",
      "WARNING:root:HealthySequenceImplanting: there are 2000 sequences in repertoire 840d71f3b49a45b5aa7a0cf4f4876b4d for the given repertoire implanting rate of 0.0; no motif will be implanted. To implant motifs, increase 'repertoire_implanting_rate' in the specification.\n",
      "WARNING:root:HealthySequenceImplanting: there are 2000 sequences in repertoire 613dc89513874637ac2002833857d1fe for the given repertoire implanting rate of 0.0; no motif will be implanted. To implant motifs, increase 'repertoire_implanting_rate' in the specification.\n",
      "WARNING:root:HealthySequenceImplanting: there are 2000 sequences in repertoire 416108e1046b4314b7b18f312b4d1016 for the given repertoire implanting rate of 0.0; no motif will be implanted. To implant motifs, increase 'repertoire_implanting_rate' in the specification.\n",
      "WARNING:root:HealthySequenceImplanting: there are 2000 sequences in repertoire 3984011ebe9443919162b3c07d47a17a for the given repertoire implanting rate of 0.0; no motif will be implanted. To implant motifs, increase 'repertoire_implanting_rate' in the specification.\n",
      "WARNING:root:HealthySequenceImplanting: there are 2000 sequences in repertoire e688d874e8a54b209efb0e2fe73577f6 for the given repertoire implanting rate of 0.0; no motif will be implanted. To implant motifs, increase 'repertoire_implanting_rate' in the specification.\n",
      "WARNING:root:HealthySequenceImplanting: there are 2000 sequences in repertoire d65f508427754ac19cef19522b0ef12e for the given repertoire implanting rate of 0.0; no motif will be implanted. To implant motifs, increase 'repertoire_implanting_rate' in the specification.\n",
      "WARNING:root:HealthySequenceImplanting: there are 2000 sequences in repertoire ddd820f533c04f499767d953e8678b2e for the given repertoire implanting rate of 0.0; no motif will be implanted. To implant motifs, increase 'repertoire_implanting_rate' in the specification.\n",
      "WARNING:root:HealthySequenceImplanting: there are 2000 sequences in repertoire 34d4dc9c9599461aafdeca4fd4497858 for the given repertoire implanting rate of 0.0; no motif will be implanted. To implant motifs, increase 'repertoire_implanting_rate' in the specification.\n",
      "WARNING:root:HealthySequenceImplanting: there are 2000 sequences in repertoire b60595ae35b546658c607e3c1b705e5f for the given repertoire implanting rate of 0.0; no motif will be implanted. To implant motifs, increase 'repertoire_implanting_rate' in the specification.\n",
      "WARNING:root:HealthySequenceImplanting: there are 2000 sequences in repertoire fbfb44b94929459db71e6dc80d837256 for the given repertoire implanting rate of 0.0; no motif will be implanted. To implant motifs, increase 'repertoire_implanting_rate' in the specification.\n",
      "WARNING:root:HealthySequenceImplanting: there are 2000 sequences in repertoire 6b5990ea882544e0a97aea8c1b60d517 for the given repertoire implanting rate of 0.0; no motif will be implanted. To implant motifs, increase 'repertoire_implanting_rate' in the specification.\n",
      "WARNING:root:HealthySequenceImplanting: there are 2000 sequences in repertoire 059651f6ab0b4973aa69a72efe8070e1 for the given repertoire implanting rate of 0.0; no motif will be implanted. To implant motifs, increase 'repertoire_implanting_rate' in the specification.\n",
      "WARNING:root:HealthySequenceImplanting: there are 2000 sequences in repertoire 730de20fb5284c3aa63858fafc451975 for the given repertoire implanting rate of 0.0; no motif will be implanted. To implant motifs, increase 'repertoire_implanting_rate' in the specification.\n",
      "WARNING:root:HealthySequenceImplanting: there are 2000 sequences in repertoire cd6fe21b4e8d44338afc088b8880b16e for the given repertoire implanting rate of 0.0; no motif will be implanted. To implant motifs, increase 'repertoire_implanting_rate' in the specification.\n",
      "WARNING:root:HealthySequenceImplanting: there are 2000 sequences in repertoire d5c9cc7e4c944366bca232c0edc6e02a for the given repertoire implanting rate of 0.0; no motif will be implanted. To implant motifs, increase 'repertoire_implanting_rate' in the specification.\n",
      "WARNING:root:HealthySequenceImplanting: there are 2000 sequences in repertoire 2173083274804ce5920a0d9399e2457f for the given repertoire implanting rate of 0.0; no motif will be implanted. To implant motifs, increase 'repertoire_implanting_rate' in the specification.\n",
      "WARNING:root:HealthySequenceImplanting: there are 2000 sequences in repertoire 3fe8e4e1feef4ffb90a2344a84ba7e8f for the given repertoire implanting rate of 0.0; no motif will be implanted. To implant motifs, increase 'repertoire_implanting_rate' in the specification.\n",
      "WARNING:root:HealthySequenceImplanting: there are 2000 sequences in repertoire 8735f95f45ed410390936e96a599c742 for the given repertoire implanting rate of 0.0; no motif will be implanted. To implant motifs, increase 'repertoire_implanting_rate' in the specification.\n",
      "WARNING:root:HealthySequenceImplanting: there are 2000 sequences in repertoire f33deb0370aa46a5b6a72efa778e17e4 for the given repertoire implanting rate of 0.0; no motif will be implanted. To implant motifs, increase 'repertoire_implanting_rate' in the specification.\n",
      "WARNING:root:HealthySequenceImplanting: there are 2000 sequences in repertoire 5fb7da8814bf4682ab47a43bbbf7dc7f for the given repertoire implanting rate of 0.0; no motif will be implanted. To implant motifs, increase 'repertoire_implanting_rate' in the specification.\n",
      "WARNING:root:HealthySequenceImplanting: there are 2000 sequences in repertoire b60a7bfc2e544298aac20bf5abdb66a5 for the given repertoire implanting rate of 0.0; no motif will be implanted. To implant motifs, increase 'repertoire_implanting_rate' in the specification.\n",
      "WARNING:root:HealthySequenceImplanting: there are 2000 sequences in repertoire 23be3f17705745019ff225f9a0dd2af0 for the given repertoire implanting rate of 0.0; no motif will be implanted. To implant motifs, increase 'repertoire_implanting_rate' in the specification.\n",
      "WARNING:root:HealthySequenceImplanting: there are 2000 sequences in repertoire e05e66e3d4944ea7b11a883c623989e3 for the given repertoire implanting rate of 0.0; no motif will be implanted. To implant motifs, increase 'repertoire_implanting_rate' in the specification.\n",
      "WARNING:root:HealthySequenceImplanting: there are 2000 sequences in repertoire 87f9970e14a846fe9c2748f8c608ab47 for the given repertoire implanting rate of 0.0; no motif will be implanted. To implant motifs, increase 'repertoire_implanting_rate' in the specification.\n",
      "WARNING:root:HealthySequenceImplanting: there are 2000 sequences in repertoire 9536169a103e428aa9d2a5b046e433fd for the given repertoire implanting rate of 0.0; no motif will be implanted. To implant motifs, increase 'repertoire_implanting_rate' in the specification.\n",
      "WARNING:root:HealthySequenceImplanting: there are 2000 sequences in repertoire a7a585342291439c8cfec5aa94d8519a for the given repertoire implanting rate of 0.0; no motif will be implanted. To implant motifs, increase 'repertoire_implanting_rate' in the specification.\n",
      "WARNING:root:HealthySequenceImplanting: there are 2000 sequences in repertoire 5d68d80b41db4140a460dbfabbbc5e26 for the given repertoire implanting rate of 0.0; no motif will be implanted. To implant motifs, increase 'repertoire_implanting_rate' in the specification.\n",
      "WARNING:root:HealthySequenceImplanting: there are 2000 sequences in repertoire b0227230c3574e5ca58a25a00cf05b43 for the given repertoire implanting rate of 0.0; no motif will be implanted. To implant motifs, increase 'repertoire_implanting_rate' in the specification.\n",
      "WARNING:root:HealthySequenceImplanting: there are 2000 sequences in repertoire 655b2c2e53764296a4a3441f720e4439 for the given repertoire implanting rate of 0.0; no motif will be implanted. To implant motifs, increase 'repertoire_implanting_rate' in the specification.\n",
      "WARNING:root:HealthySequenceImplanting: there are 2000 sequences in repertoire 8de3d9ef0323470692f1381abbfa2c7b for the given repertoire implanting rate of 0.0; no motif will be implanted. To implant motifs, increase 'repertoire_implanting_rate' in the specification.\n",
      "WARNING:root:HealthySequenceImplanting: there are 2000 sequences in repertoire 9672361195e64dabbffd4b6f65ba540a for the given repertoire implanting rate of 0.0; no motif will be implanted. To implant motifs, increase 'repertoire_implanting_rate' in the specification.\n",
      "WARNING:root:HealthySequenceImplanting: there are 2000 sequences in repertoire 7e45341dabb74ef79ec692ba59796193 for the given repertoire implanting rate of 0.0; no motif will be implanted. To implant motifs, increase 'repertoire_implanting_rate' in the specification.\n",
      "WARNING:root:HealthySequenceImplanting: there are 2000 sequences in repertoire 0d6d914d08c24fb6b9d1fa9128ba0235 for the given repertoire implanting rate of 0.0; no motif will be implanted. To implant motifs, increase 'repertoire_implanting_rate' in the specification.\n",
      "WARNING:root:HealthySequenceImplanting: there are 2000 sequences in repertoire f8b63b87b87244b3acf17bbccd4c348d for the given repertoire implanting rate of 0.0; no motif will be implanted. To implant motifs, increase 'repertoire_implanting_rate' in the specification.\n",
      "WARNING:root:HealthySequenceImplanting: there are 2000 sequences in repertoire 231b34aeae3f42c99dff4056b796758f for the given repertoire implanting rate of 0.0; no motif will be implanted. To implant motifs, increase 'repertoire_implanting_rate' in the specification.\n",
      "WARNING:root:HealthySequenceImplanting: there are 2000 sequences in repertoire 43c7efdbc4524618ba0b1a7245cb5533 for the given repertoire implanting rate of 0.0; no motif will be implanted. To implant motifs, increase 'repertoire_implanting_rate' in the specification.\n",
      "WARNING:root:HealthySequenceImplanting: there are 2000 sequences in repertoire aa06655e01b84835a12972c09736e9cb for the given repertoire implanting rate of 0.0; no motif will be implanted. To implant motifs, increase 'repertoire_implanting_rate' in the specification.\n",
      "WARNING:root:HealthySequenceImplanting: there are 2000 sequences in repertoire 5ce631d63e6f468a937aa6fc9167170b for the given repertoire implanting rate of 0.0; no motif will be implanted. To implant motifs, increase 'repertoire_implanting_rate' in the specification.\n",
      "WARNING:root:HealthySequenceImplanting: there are 2000 sequences in repertoire a803c9a0b3834befa4436b19ce23f6b8 for the given repertoire implanting rate of 0.0; no motif will be implanted. To implant motifs, increase 'repertoire_implanting_rate' in the specification.\n",
      "WARNING:root:HealthySequenceImplanting: there are 2000 sequences in repertoire b7e02842438c4d72b5a61e236c179636 for the given repertoire implanting rate of 0.0; no motif will be implanted. To implant motifs, increase 'repertoire_implanting_rate' in the specification.\n",
      "WARNING:root:HealthySequenceImplanting: there are 2000 sequences in repertoire 5acbf04581e748be9fbb33eb67c7c034 for the given repertoire implanting rate of 0.0; no motif will be implanted. To implant motifs, increase 'repertoire_implanting_rate' in the specification.\n",
      "WARNING:root:HealthySequenceImplanting: there are 2000 sequences in repertoire 241330c5d2014592bc363702190be70a for the given repertoire implanting rate of 0.0; no motif will be implanted. To implant motifs, increase 'repertoire_implanting_rate' in the specification.\n",
      "WARNING:root:HealthySequenceImplanting: there are 2000 sequences in repertoire 7c22fc1008e146ba993b15d59a1d1f73 for the given repertoire implanting rate of 0.0; no motif will be implanted. To implant motifs, increase 'repertoire_implanting_rate' in the specification.\n",
      "WARNING:root:HealthySequenceImplanting: there are 2000 sequences in repertoire 2f113bcb220740c1931f4fc1c400962d for the given repertoire implanting rate of 0.0; no motif will be implanted. To implant motifs, increase 'repertoire_implanting_rate' in the specification.\n",
      "WARNING:root:HealthySequenceImplanting: there are 2000 sequences in repertoire caf20f0f0d9f40e2bbf2f024210e1af8 for the given repertoire implanting rate of 0.0; no motif will be implanted. To implant motifs, increase 'repertoire_implanting_rate' in the specification.\n",
      "WARNING:root:HealthySequenceImplanting: there are 2000 sequences in repertoire 5321422beaa74322b52502fc0f4c055a for the given repertoire implanting rate of 0.0; no motif will be implanted. To implant motifs, increase 'repertoire_implanting_rate' in the specification.\n",
      "WARNING:root:HealthySequenceImplanting: there are 2000 sequences in repertoire b9824b637c404bada8e6df2766f1f99e for the given repertoire implanting rate of 0.0; no motif will be implanted. To implant motifs, increase 'repertoire_implanting_rate' in the specification.\n",
      "WARNING:root:HealthySequenceImplanting: there are 2000 sequences in repertoire ff57885f7e7b458cbc8b2f5ce748a3f3 for the given repertoire implanting rate of 0.0; no motif will be implanted. To implant motifs, increase 'repertoire_implanting_rate' in the specification.\n",
      "WARNING:root:HealthySequenceImplanting: there are 2000 sequences in repertoire f81fc2c2740a44b792219a8b7d1715d2 for the given repertoire implanting rate of 0.0; no motif will be implanted. To implant motifs, increase 'repertoire_implanting_rate' in the specification.\n",
      "WARNING:root:HealthySequenceImplanting: there are 2000 sequences in repertoire b3fccf95dfae402e83d8c7da3ff27c0b for the given repertoire implanting rate of 0.0; no motif will be implanted. To implant motifs, increase 'repertoire_implanting_rate' in the specification.\n",
      "WARNING:root:HealthySequenceImplanting: there are 2000 sequences in repertoire 01e0251fbf824f9db0c2554ab1cbb85d for the given repertoire implanting rate of 0.0; no motif will be implanted. To implant motifs, increase 'repertoire_implanting_rate' in the specification.\n",
      "WARNING:root:HealthySequenceImplanting: there are 2000 sequences in repertoire 723627d46b2d4ed3987fc8add4997ff3 for the given repertoire implanting rate of 0.0; no motif will be implanted. To implant motifs, increase 'repertoire_implanting_rate' in the specification.\n",
      "WARNING:root:HealthySequenceImplanting: there are 2000 sequences in repertoire cdd91bdb72274505bc8645a1eb72c155 for the given repertoire implanting rate of 0.0; no motif will be implanted. To implant motifs, increase 'repertoire_implanting_rate' in the specification.\n",
      "WARNING:root:HealthySequenceImplanting: there are 2000 sequences in repertoire 1750739897304b2ba1bd504625b7ef70 for the given repertoire implanting rate of 0.0; no motif will be implanted. To implant motifs, increase 'repertoire_implanting_rate' in the specification.\n",
      "WARNING:root:HealthySequenceImplanting: there are 2000 sequences in repertoire 9e7b8fc834d84a288ace150e1f5934ac for the given repertoire implanting rate of 0.0; no motif will be implanted. To implant motifs, increase 'repertoire_implanting_rate' in the specification.\n",
      "WARNING:root:HealthySequenceImplanting: there are 2000 sequences in repertoire f50681c09b6f4c71aaa3ca82cf2402f8 for the given repertoire implanting rate of 0.0; no motif will be implanted. To implant motifs, increase 'repertoire_implanting_rate' in the specification.\n",
      "WARNING:root:HealthySequenceImplanting: there are 2000 sequences in repertoire af4c4a69c41440c2a61e342a12521d77 for the given repertoire implanting rate of 0.0; no motif will be implanted. To implant motifs, increase 'repertoire_implanting_rate' in the specification.\n",
      "WARNING:root:HealthySequenceImplanting: there are 2000 sequences in repertoire 24e627c094194f749a93ea33db6bb1fe for the given repertoire implanting rate of 0.0; no motif will be implanted. To implant motifs, increase 'repertoire_implanting_rate' in the specification.\n",
      "WARNING:root:HealthySequenceImplanting: there are 2000 sequences in repertoire 1ba5a2de8e9d4735a9930ecbfd3771b5 for the given repertoire implanting rate of 0.0; no motif will be implanted. To implant motifs, increase 'repertoire_implanting_rate' in the specification.\n",
      "WARNING:root:HealthySequenceImplanting: there are 2000 sequences in repertoire cededbddbb844dc1a76e63e2d5ba8119 for the given repertoire implanting rate of 0.0; no motif will be implanted. To implant motifs, increase 'repertoire_implanting_rate' in the specification.\n",
      "WARNING:root:HealthySequenceImplanting: there are 2000 sequences in repertoire 4ef16bc4396843ed8ff9f66e4b95ac89 for the given repertoire implanting rate of 0.0; no motif will be implanted. To implant motifs, increase 'repertoire_implanting_rate' in the specification.\n",
      "WARNING:root:HealthySequenceImplanting: there are 2000 sequences in repertoire 9c016e9b916948389067c29a3452e97a for the given repertoire implanting rate of 0.0; no motif will be implanted. To implant motifs, increase 'repertoire_implanting_rate' in the specification.\n",
      "WARNING:root:HealthySequenceImplanting: there are 2000 sequences in repertoire b65d96f022334ab0a5cf52becf6615e6 for the given repertoire implanting rate of 0.0; no motif will be implanted. To implant motifs, increase 'repertoire_implanting_rate' in the specification.\n",
      "WARNING:root:HealthySequenceImplanting: there are 2000 sequences in repertoire 196f8d3dfceb42c48d3d21539e160b3d for the given repertoire implanting rate of 0.0; no motif will be implanted. To implant motifs, increase 'repertoire_implanting_rate' in the specification.\n",
      "WARNING:root:HealthySequenceImplanting: there are 2000 sequences in repertoire ae293c29deb94f9891fe78d42014cb60 for the given repertoire implanting rate of 0.0; no motif will be implanted. To implant motifs, increase 'repertoire_implanting_rate' in the specification.\n",
      "WARNING:root:HealthySequenceImplanting: there are 2000 sequences in repertoire ae6b7bb8e01840bb8dda08b860b0baa9 for the given repertoire implanting rate of 0.0; no motif will be implanted. To implant motifs, increase 'repertoire_implanting_rate' in the specification.\n",
      "WARNING:root:HealthySequenceImplanting: there are 2000 sequences in repertoire f1ce40f75f5c413c8252748e855fef0b for the given repertoire implanting rate of 0.0; no motif will be implanted. To implant motifs, increase 'repertoire_implanting_rate' in the specification.\n",
      "WARNING:root:HealthySequenceImplanting: there are 2000 sequences in repertoire 8e7afad1a9e94792917d987cbebe34c9 for the given repertoire implanting rate of 0.0; no motif will be implanted. To implant motifs, increase 'repertoire_implanting_rate' in the specification.\n",
      "WARNING:root:HealthySequenceImplanting: there are 2000 sequences in repertoire 96d4121e99fc4654b750761d4eb09c69 for the given repertoire implanting rate of 0.0; no motif will be implanted. To implant motifs, increase 'repertoire_implanting_rate' in the specification.\n",
      "WARNING:root:HealthySequenceImplanting: there are 2000 sequences in repertoire 6fec89f79210463cacabb9854d952a44 for the given repertoire implanting rate of 0.0; no motif will be implanted. To implant motifs, increase 'repertoire_implanting_rate' in the specification.\n",
      "WARNING:root:HealthySequenceImplanting: there are 2000 sequences in repertoire 5430a13a35c143baac3c810e857845dd for the given repertoire implanting rate of 0.0; no motif will be implanted. To implant motifs, increase 'repertoire_implanting_rate' in the specification.\n",
      "WARNING:root:HealthySequenceImplanting: there are 2000 sequences in repertoire ce4a524fa7c24e839780358c5bea9f4f for the given repertoire implanting rate of 0.0; no motif will be implanted. To implant motifs, increase 'repertoire_implanting_rate' in the specification.\n",
      "WARNING:root:HealthySequenceImplanting: there are 2000 sequences in repertoire 93599d0ee1d94181836b901ad83b8977 for the given repertoire implanting rate of 0.0; no motif will be implanted. To implant motifs, increase 'repertoire_implanting_rate' in the specification.\n",
      "WARNING:root:HealthySequenceImplanting: there are 2000 sequences in repertoire b57916f834144408a0f47df68ecfe1ae for the given repertoire implanting rate of 0.0; no motif will be implanted. To implant motifs, increase 'repertoire_implanting_rate' in the specification.\n",
      "WARNING:root:HealthySequenceImplanting: there are 2000 sequences in repertoire 7e187a2a6ade4527b291b613d6378f36 for the given repertoire implanting rate of 0.0; no motif will be implanted. To implant motifs, increase 'repertoire_implanting_rate' in the specification.\n",
      "WARNING:root:HealthySequenceImplanting: there are 2000 sequences in repertoire 457e7c6050fd41f9813044547d7e8841 for the given repertoire implanting rate of 0.0; no motif will be implanted. To implant motifs, increase 'repertoire_implanting_rate' in the specification.\n",
      "WARNING:root:HealthySequenceImplanting: there are 2000 sequences in repertoire b4233ec9dd8d46b695ca65c9cc7ac294 for the given repertoire implanting rate of 0.0; no motif will be implanted. To implant motifs, increase 'repertoire_implanting_rate' in the specification.\n",
      "WARNING:root:HealthySequenceImplanting: there are 2000 sequences in repertoire 6b1ecfa8273e432eb0e57dea9f9a3c07 for the given repertoire implanting rate of 0.0; no motif will be implanted. To implant motifs, increase 'repertoire_implanting_rate' in the specification.\n",
      "WARNING:root:HealthySequenceImplanting: there are 2000 sequences in repertoire 1272c448b5b84a8e997785ed1b8238ff for the given repertoire implanting rate of 0.0; no motif will be implanted. To implant motifs, increase 'repertoire_implanting_rate' in the specification.\n",
      "WARNING:root:HealthySequenceImplanting: there are 2000 sequences in repertoire 118ef3bc5eee4941b7f46535f86db61d for the given repertoire implanting rate of 0.0; no motif will be implanted. To implant motifs, increase 'repertoire_implanting_rate' in the specification.\n",
      "WARNING:root:HealthySequenceImplanting: there are 2000 sequences in repertoire 8b76a4800231475c8cc2b98572f4552a for the given repertoire implanting rate of 0.0; no motif will be implanted. To implant motifs, increase 'repertoire_implanting_rate' in the specification.\n",
      "WARNING:root:HealthySequenceImplanting: there are 2000 sequences in repertoire 98c0df4b793548d98ffc0738775cefd9 for the given repertoire implanting rate of 0.0; no motif will be implanted. To implant motifs, increase 'repertoire_implanting_rate' in the specification.\n",
      "WARNING:root:HealthySequenceImplanting: there are 2000 sequences in repertoire 09b11d5571d24998b9aae0494a9713f4 for the given repertoire implanting rate of 0.0; no motif will be implanted. To implant motifs, increase 'repertoire_implanting_rate' in the specification.\n",
      "WARNING:root:HealthySequenceImplanting: there are 2000 sequences in repertoire 1d802d2a9e81466db923873ab6a947a1 for the given repertoire implanting rate of 0.0; no motif will be implanted. To implant motifs, increase 'repertoire_implanting_rate' in the specification.\n",
      "WARNING:root:HealthySequenceImplanting: there are 2000 sequences in repertoire f08251faafac47d7b09844c04b9c5a9e for the given repertoire implanting rate of 0.0; no motif will be implanted. To implant motifs, increase 'repertoire_implanting_rate' in the specification.\n",
      "WARNING:root:HealthySequenceImplanting: there are 2000 sequences in repertoire 8f9a37a343e64e549543e90580555236 for the given repertoire implanting rate of 0.0; no motif will be implanted. To implant motifs, increase 'repertoire_implanting_rate' in the specification.\n",
      "WARNING:root:HealthySequenceImplanting: there are 2000 sequences in repertoire 3e18801bc5354b1d8a3b1bda48db2d53 for the given repertoire implanting rate of 0.0; no motif will be implanted. To implant motifs, increase 'repertoire_implanting_rate' in the specification.\n",
      "WARNING:root:HealthySequenceImplanting: there are 2000 sequences in repertoire a88c30c881314cf79cff33ba92e68313 for the given repertoire implanting rate of 0.0; no motif will be implanted. To implant motifs, increase 'repertoire_implanting_rate' in the specification.\n",
      "WARNING:root:HealthySequenceImplanting: there are 2000 sequences in repertoire 6d53aebe9cc449e39a04046144cb9f20 for the given repertoire implanting rate of 0.0; no motif will be implanted. To implant motifs, increase 'repertoire_implanting_rate' in the specification.\n",
      "WARNING:root:HealthySequenceImplanting: there are 2000 sequences in repertoire 4d428081c8884eb1aa9d9bcc6cfe0c65 for the given repertoire implanting rate of 0.0; no motif will be implanted. To implant motifs, increase 'repertoire_implanting_rate' in the specification.\n",
      "WARNING:root:HealthySequenceImplanting: there are 2000 sequences in repertoire 8e6d3f4076e44b07870e5b9c118cd037 for the given repertoire implanting rate of 0.0; no motif will be implanted. To implant motifs, increase 'repertoire_implanting_rate' in the specification.\n",
      "WARNING:root:HealthySequenceImplanting: there are 2000 sequences in repertoire 7be9b2abb41846639248ab67628344e5 for the given repertoire implanting rate of 0.0; no motif will be implanted. To implant motifs, increase 'repertoire_implanting_rate' in the specification.\n",
      "WARNING:root:HealthySequenceImplanting: there are 2000 sequences in repertoire da4f1f8778284c749d9a5205711157ed for the given repertoire implanting rate of 0.0; no motif will be implanted. To implant motifs, increase 'repertoire_implanting_rate' in the specification.\n",
      "WARNING:root:HealthySequenceImplanting: there are 2000 sequences in repertoire 73ff02cc387b4bf38a2454b1139bb16d for the given repertoire implanting rate of 0.0; no motif will be implanted. To implant motifs, increase 'repertoire_implanting_rate' in the specification.\n",
      "WARNING:root:HealthySequenceImplanting: there are 2000 sequences in repertoire f6b2e155d77f41b7a1da0ba632b70c1e for the given repertoire implanting rate of 0.0; no motif will be implanted. To implant motifs, increase 'repertoire_implanting_rate' in the specification.\n",
      "WARNING:root:HealthySequenceImplanting: there are 2000 sequences in repertoire 9377acf11193455886bcae70daf93bb7 for the given repertoire implanting rate of 0.0; no motif will be implanted. To implant motifs, increase 'repertoire_implanting_rate' in the specification.\n",
      "WARNING:root:HealthySequenceImplanting: there are 2000 sequences in repertoire 3d232e8556d64b2b8cdfd8985f01b5da for the given repertoire implanting rate of 0.0; no motif will be implanted. To implant motifs, increase 'repertoire_implanting_rate' in the specification.\n",
      "WARNING:root:HealthySequenceImplanting: there are 2000 sequences in repertoire a2c1ca3c1b7b49448bd0ac62cb6994cf for the given repertoire implanting rate of 0.0; no motif will be implanted. To implant motifs, increase 'repertoire_implanting_rate' in the specification.\n",
      "WARNING:root:HealthySequenceImplanting: there are 2000 sequences in repertoire 737a53f3c6fd4e8d95b1084fc0a71daa for the given repertoire implanting rate of 0.0; no motif will be implanted. To implant motifs, increase 'repertoire_implanting_rate' in the specification.\n",
      "WARNING:root:HealthySequenceImplanting: there are 2000 sequences in repertoire 458f8e6b1b5b4197892cda5871b5a398 for the given repertoire implanting rate of 0.0; no motif will be implanted. To implant motifs, increase 'repertoire_implanting_rate' in the specification.\n",
      "WARNING:root:HealthySequenceImplanting: there are 2000 sequences in repertoire 09822ce601a04c0eac0dcd0537afd962 for the given repertoire implanting rate of 0.0; no motif will be implanted. To implant motifs, increase 'repertoire_implanting_rate' in the specification.\n",
      "WARNING:root:HealthySequenceImplanting: there are 2000 sequences in repertoire f2e0550037c340cfb3914a2ffd7d6785 for the given repertoire implanting rate of 0.0; no motif will be implanted. To implant motifs, increase 'repertoire_implanting_rate' in the specification.\n",
      "WARNING:root:HealthySequenceImplanting: there are 2000 sequences in repertoire eb85724b9cb24a88a5280894979be93d for the given repertoire implanting rate of 0.0; no motif will be implanted. To implant motifs, increase 'repertoire_implanting_rate' in the specification.\n",
      "WARNING:root:HealthySequenceImplanting: there are 2000 sequences in repertoire 7dedde4137984e62b6e8b58609ec978b for the given repertoire implanting rate of 0.0; no motif will be implanted. To implant motifs, increase 'repertoire_implanting_rate' in the specification.\n"
     ]
    },
    {
     "name": "stdout",
     "output_type": "stream",
     "text": [
      "Simulation finished in 435.3755 seconds\n",
      "Simulation started\n"
     ]
    },
    {
     "name": "stderr",
     "output_type": "stream",
     "text": [
      "WARNING:root:HealthySequenceImplanting: there are 2000 sequences in repertoire 896af60f61f14f8982b739d87a69df5c for the given repertoire implanting rate of 0.0; no motif will be implanted. To implant motifs, increase 'repertoire_implanting_rate' in the specification.\n",
      "WARNING:root:HealthySequenceImplanting: there are 2000 sequences in repertoire d6252b4c0da64487ae57e6f89d0e7e2e for the given repertoire implanting rate of 0.0; no motif will be implanted. To implant motifs, increase 'repertoire_implanting_rate' in the specification.\n",
      "WARNING:root:HealthySequenceImplanting: there are 2000 sequences in repertoire 7745a9fac3dd4984b289e99dc2dcc401 for the given repertoire implanting rate of 0.0; no motif will be implanted. To implant motifs, increase 'repertoire_implanting_rate' in the specification.\n",
      "WARNING:root:HealthySequenceImplanting: there are 2000 sequences in repertoire 7cc0698bbe57482dac4ab3ea652daa72 for the given repertoire implanting rate of 0.0; no motif will be implanted. To implant motifs, increase 'repertoire_implanting_rate' in the specification.\n",
      "WARNING:root:HealthySequenceImplanting: there are 2000 sequences in repertoire ff5a3a0037e94fbbb31425873be61fdb for the given repertoire implanting rate of 0.0; no motif will be implanted. To implant motifs, increase 'repertoire_implanting_rate' in the specification.\n",
      "WARNING:root:HealthySequenceImplanting: there are 2000 sequences in repertoire d512347003654c6e93d404125f04693c for the given repertoire implanting rate of 0.0; no motif will be implanted. To implant motifs, increase 'repertoire_implanting_rate' in the specification.\n",
      "WARNING:root:HealthySequenceImplanting: there are 2000 sequences in repertoire 9fe4c9945e5949e29e56d749f2c9c67c for the given repertoire implanting rate of 0.0; no motif will be implanted. To implant motifs, increase 'repertoire_implanting_rate' in the specification.\n",
      "WARNING:root:HealthySequenceImplanting: there are 2000 sequences in repertoire 2338694c7a9d4b50aceaa62f40d8c5e0 for the given repertoire implanting rate of 0.0; no motif will be implanted. To implant motifs, increase 'repertoire_implanting_rate' in the specification.\n",
      "WARNING:root:HealthySequenceImplanting: there are 2000 sequences in repertoire 85665d7557554a8084e84f1e17d93fdd for the given repertoire implanting rate of 0.0; no motif will be implanted. To implant motifs, increase 'repertoire_implanting_rate' in the specification.\n",
      "WARNING:root:HealthySequenceImplanting: there are 2000 sequences in repertoire d3b24ba39adf4c8fb10f51a6411f40a5 for the given repertoire implanting rate of 0.0; no motif will be implanted. To implant motifs, increase 'repertoire_implanting_rate' in the specification.\n",
      "WARNING:root:HealthySequenceImplanting: there are 2000 sequences in repertoire 8f620dd95f444b60aaee9abdab67b2f7 for the given repertoire implanting rate of 0.0; no motif will be implanted. To implant motifs, increase 'repertoire_implanting_rate' in the specification.\n",
      "WARNING:root:HealthySequenceImplanting: there are 2000 sequences in repertoire 99bd4e06f7824345901cbb8443af2491 for the given repertoire implanting rate of 0.0; no motif will be implanted. To implant motifs, increase 'repertoire_implanting_rate' in the specification.\n",
      "WARNING:root:HealthySequenceImplanting: there are 2000 sequences in repertoire ca988b1748a54248b6c71b81acae63f6 for the given repertoire implanting rate of 0.0; no motif will be implanted. To implant motifs, increase 'repertoire_implanting_rate' in the specification.\n",
      "WARNING:root:HealthySequenceImplanting: there are 2000 sequences in repertoire b921178fd6804804b3fe46d8676ee244 for the given repertoire implanting rate of 0.0; no motif will be implanted. To implant motifs, increase 'repertoire_implanting_rate' in the specification.\n",
      "WARNING:root:HealthySequenceImplanting: there are 2000 sequences in repertoire 4b49c4391fd74fb6ab58647ba1c54ade for the given repertoire implanting rate of 0.0; no motif will be implanted. To implant motifs, increase 'repertoire_implanting_rate' in the specification.\n",
      "WARNING:root:HealthySequenceImplanting: there are 2000 sequences in repertoire e5f060a2af8845148a16ceb112db154f for the given repertoire implanting rate of 0.0; no motif will be implanted. To implant motifs, increase 'repertoire_implanting_rate' in the specification.\n",
      "WARNING:root:HealthySequenceImplanting: there are 2000 sequences in repertoire 7518dbb186cc49628b546024610d8add for the given repertoire implanting rate of 0.0; no motif will be implanted. To implant motifs, increase 'repertoire_implanting_rate' in the specification.\n",
      "WARNING:root:HealthySequenceImplanting: there are 2000 sequences in repertoire dea25a47b692413bba13cb55c245412b for the given repertoire implanting rate of 0.0; no motif will be implanted. To implant motifs, increase 'repertoire_implanting_rate' in the specification.\n",
      "WARNING:root:HealthySequenceImplanting: there are 2000 sequences in repertoire 30a48d04fa56415c986420f3eb693350 for the given repertoire implanting rate of 0.0; no motif will be implanted. To implant motifs, increase 'repertoire_implanting_rate' in the specification.\n",
      "WARNING:root:HealthySequenceImplanting: there are 2000 sequences in repertoire 119b33cb6af24d0db56c2587f7e514e6 for the given repertoire implanting rate of 0.0; no motif will be implanted. To implant motifs, increase 'repertoire_implanting_rate' in the specification.\n",
      "WARNING:root:HealthySequenceImplanting: there are 2000 sequences in repertoire 45fc5b9cba5f442e9d897c02ea6c1dc3 for the given repertoire implanting rate of 0.0; no motif will be implanted. To implant motifs, increase 'repertoire_implanting_rate' in the specification.\n",
      "WARNING:root:HealthySequenceImplanting: there are 2000 sequences in repertoire 0a0bb0d27b614aff8dcebd6d8fd469b2 for the given repertoire implanting rate of 0.0; no motif will be implanted. To implant motifs, increase 'repertoire_implanting_rate' in the specification.\n",
      "WARNING:root:HealthySequenceImplanting: there are 2000 sequences in repertoire 1cca06d047024359b3312092cae7da87 for the given repertoire implanting rate of 0.0; no motif will be implanted. To implant motifs, increase 'repertoire_implanting_rate' in the specification.\n",
      "WARNING:root:HealthySequenceImplanting: there are 2000 sequences in repertoire 2c90a9a066c048598a2bdf5b6040323c for the given repertoire implanting rate of 0.0; no motif will be implanted. To implant motifs, increase 'repertoire_implanting_rate' in the specification.\n",
      "WARNING:root:HealthySequenceImplanting: there are 2000 sequences in repertoire 18b67553eb054437ba7d861439abc661 for the given repertoire implanting rate of 0.0; no motif will be implanted. To implant motifs, increase 'repertoire_implanting_rate' in the specification.\n",
      "WARNING:root:HealthySequenceImplanting: there are 2000 sequences in repertoire 028be870b72145d68abcbdc667cba335 for the given repertoire implanting rate of 0.0; no motif will be implanted. To implant motifs, increase 'repertoire_implanting_rate' in the specification.\n"
     ]
    },
    {
     "name": "stdout",
     "output_type": "stream",
     "text": [
      "Simulation finished in 54.7418 seconds\n"
     ]
    }
   ],
   "source": [
    "# make a train dataset\n",
    "\n",
    "training_data_sc2 = graph.simulate(num_samples=train_example_count, \n",
    "                                   csv_name=str(scenario2_data_path / \"train/study_cohort\"))\n",
    "\n",
    "train_dataset = make_dataset(repertoire_paths=training_data_sc2[\"repertoire\"], path=scenario2_data_path / 'train',\n",
    "                             dataset_name=\"experiment2_sc2_train\",\n",
    "                             signal_names=[immune_state_signal.id, experimental_protocol_node.name])\n",
    "\n",
    "# make a test dataset\n",
    "\n",
    "repertoire_node = ds.Node(name=\"repertoire\", function=get_repertoire,\n",
    "                             kwargs={\"immune_state\": immune_state_node, \"experimental_protocol_id\": experimental_protocol_node,\n",
    "                                        \"path\": scenario2_data_path / \"test\", \"sequence_count\": sequence_count,\n",
    "                                        \"immune_state_signal\": immune_state_signal,\n",
    "                                        'immune_state_implanting_rate': immune_state_implanting_rate,\n",
    "                                        \"protocol_implanting_rate\": protocol_implanting_rate})\n",
    "\n",
    "graph = ds.Graph(name=\"graph_experiment_2_2\",\n",
    "                 list_nodes=[immune_state_node, hospital_node, experimental_protocol_node,\n",
    "                             repertoire_node, selection_node])\n",
    "\n",
    "test_data = graph.simulate(num_samples=test_example_count, csv_name=str(scenario2_data_path / \"test/test_cohort\"),\n",
    "                           selection=False)\n",
    "\n",
    "test_dataset = make_dataset(repertoire_paths=test_data[\"repertoire\"], path=scenario2_data_path / 'test',\n",
    "                            dataset_name=\"experiment2_sc2_test\",\n",
    "                            signal_names=[immune_state_signal.id, experimental_protocol_node.name])\n",
    "\n",
    "# merge datasets (but the distinction between train and test will be kept in the ML analysis part)\n",
    "\n",
    "dataset = make_AIRR_dataset(train_dataset, test_dataset, scenario2_data_path / 'full_dataset')"
   ]
  },
  {
   "cell_type": "markdown",
   "metadata": {
    "pycharm": {
     "name": "#%% md\n"
    }
   },
   "source": [
    "### Step 2: Training an ML model"
   ]
  },
  {
   "cell_type": "code",
   "execution_count": 13,
   "metadata": {},
   "outputs": [],
   "source": [
    "specs = {\n",
    "    \"definitions\": {\n",
    "        \"datasets\": {\n",
    "            \"dataset1\": {\n",
    "                \"format\": 'AIRR',\n",
    "                \"params\": {\n",
    "                    \"path\": str(scenario2_data_path / 'full_dataset'),\n",
    "                    \"metadata_file\": str(scenario2_data_path / 'full_dataset/metadata.csv')\n",
    "                }\n",
    "            }\n",
    "        },\n",
    "        \"encodings\": {\n",
    "            \"kmer_frequency\": {\n",
    "                \"KmerFrequency\": {\"k\": 3}\n",
    "            }\n",
    "        },\n",
    "        \"ml_methods\": {\n",
    "            \"logistic_regression\": {\n",
    "                \"LogisticRegression\": {\n",
    "                    \"penalty\": \"l1\",\n",
    "                    \"C\": [0.01, 0.1, 1, 10, 100],\n",
    "                    \"max_iter\": 1500,\n",
    "                    \"show_warnings\": False\n",
    "                },\n",
    "                \"model_selection_cv\": True,\n",
    "                \"model_selection_n_folds\": 5\n",
    "            }\n",
    "        },\n",
    "        \"reports\": {\n",
    "            \"coefficients\": {\n",
    "                \"Coefficients\": { # show top 25 logistic regression coefficients and what k-mers they correspond to\n",
    "                    \"coefs_to_plot\": ['n_largest'],\n",
    "                    \"n_largest\": [25]\n",
    "                }\n",
    "            },\n",
    "            \"feature_comparison\": {\n",
    "                \"FeatureComparison\": {\n",
    "                    \"comparison_label\": \"immune_state\",\n",
    "                    \"color_grouping_label\": \"experimental_protocol\",\n",
    "                    \"show_error_bar\": False,\n",
    "                    \"keep_fraction\": 0.1\n",
    "                }\n",
    "            }\n",
    "        }\n",
    "    },\n",
    "    \"instructions\": {\n",
    "        'train_ml': {\n",
    "            \"type\": \"TrainMLModel\",\n",
    "            \"assessment\": { # ensure here that train and test dataset are fixed, as per simulation\n",
    "                \"split_strategy\": \"manual\",\n",
    "                \"split_count\": 1,\n",
    "                \"manual_config\": {\n",
    "                    \"train_metadata_path\": str(scenario2_data_path / \"train/experiment2_sc2_train_metadata.csv\"),\n",
    "                    \"test_metadata_path\": str(scenario2_data_path / \"test/experiment2_sc2_test_metadata.csv\")\n",
    "                },\n",
    "                \"reports\": {\n",
    "                    \"models\": [\"coefficients\"],\n",
    "                    \"encoding\": [\"feature_comparison\"]\n",
    "                }\n",
    "            },\n",
    "            \"selection\": {\n",
    "                \"split_strategy\": \"k_fold\",\n",
    "                \"split_count\": 5,\n",
    "                \"reports\": {\n",
    "                    \"models\": [\"coefficients\"],\n",
    "                    \"encoding\": [\"feature_comparison\"]\n",
    "                }\n",
    "            },\n",
    "            \"settings\": [\n",
    "                {\"encoding\": \"kmer_frequency\", \"ml_method\": \"logistic_regression\"}\n",
    "            ],\n",
    "            \"dataset\": \"dataset1\",\n",
    "            \"refit_optimal_model\": False,\n",
    "            \"labels\": [\"immune_state\"],\n",
    "            \"optimization_metric\": \"balanced_accuracy\",\n",
    "            \"metrics\": ['log_loss', 'auc']\n",
    "        }\n",
    "    }\n",
    "}\n",
    "\n",
    "scenario2_ml_result_path = setup_path(\"./experiment2/scenario2/ml_result/\")\n",
    "scenario2_specs_path = scenario2_ml_result_path / \"specs.yaml\"\n",
    "\n",
    "with open(scenario2_specs_path, \"w\") as file:\n",
    "    yaml.dump(specs, file)"
   ]
  },
  {
   "cell_type": "code",
   "execution_count": 14,
   "metadata": {},
   "outputs": [
    {
     "name": "stdout",
     "output_type": "stream",
     "text": [
      "2022-01-27 11:01:08.140290: Setting temporary cache path to experiment2/scenario2/ml_result/result/cache\n",
      "2022-01-27 11:01:08.140737: ImmuneML: parsing the specification...\n",
      "\n",
      "2022-01-27 11:01:32.486896: Full specification is available at experiment2/scenario2/ml_result/result/full_specs.yaml.\n",
      "\n",
      "2022-01-27 11:01:32.487772: ImmuneML: starting the analysis...\n",
      "\n",
      "2022-01-27 11:01:32.488321: Instruction 1/1 has started.\n",
      "2022-01-27 11:01:32.555398: Training ML model: running outer CV loop: started split 1/1.\n",
      "\n",
      "2022-01-27 11:01:32.599803: Hyperparameter optimization: running the inner loop of nested CV: selection for label immune_state (label 1 / 1).\n",
      "\n",
      "2022-01-27 11:01:32.601086: Evaluating hyperparameter setting: kmer_frequency_logistic_regression...\n",
      "2022-01-27 11:01:32.601840: Encoding started...\n",
      "2022-01-27 11:01:41.402139: Encoding finished.\n",
      "2022-01-27 11:01:41.402323: ML model training started...\n",
      "2022-01-27 11:03:07.996020: ML model training finished.\n",
      "2022-01-27 11:03:13.836352: Encoding started...\n",
      "2022-01-27 11:03:17.054352: Encoding finished.\n",
      "2022-01-27 11:03:21.398517: Completed hyperparameter setting kmer_frequency_logistic_regression.\n",
      "\n",
      "2022-01-27 11:03:21.399190: Hyperparameter optimization: running the inner loop of nested CV: completed selection for label immune_state (label 1 / 1).\n",
      "\n",
      "2022-01-27 11:03:21.399515: Training ML model: running the inner loop of nested CV: retrain models for label immune_state (label 1 / 1).\n",
      "\n",
      "2022-01-27 11:03:21.400597: Evaluating hyperparameter setting: kmer_frequency_logistic_regression...\n",
      "2022-01-27 11:03:21.401139: Encoding started...\n",
      "2022-01-27 11:03:27.350448: Encoding finished.\n",
      "2022-01-27 11:03:27.350747: ML model training started...\n",
      "2022-01-27 11:05:34.382039: ML model training finished.\n",
      "2022-01-27 11:05:42.650414: Encoding started...\n",
      "2022-01-27 11:05:45.345040: Encoding finished.\n",
      "2022-01-27 11:05:49.979339: Completed hyperparameter setting kmer_frequency_logistic_regression.\n",
      "\n",
      "2022-01-27 11:05:49.980161: Training ML model: running the inner loop of nested CV: completed retraining models for label immune_state (label 1 / 1).\n",
      "\n",
      "2022-01-27 11:05:49.980683: Training ML model: running outer CV loop: finished split 1/1.\n",
      "\n",
      "Performances (balanced_accuracy) -----------------------------------------------\n",
      "\n",
      "\n",
      "Label: immune_state\n",
      "Performance (balanced_accuracy) per assessment split:\n",
      "Split 1: 0.5993589743589745\n",
      "Average performance (balanced_accuracy): 0.5993589743589745\n",
      "------------------------------\n",
      "2022-01-27 11:05:50.314998: Instruction 1/1 has finished.\n",
      "2022-01-27 11:05:50.319894: Generating HTML reports...\n",
      "2022-01-27 11:05:50.471344: HTML reports are generated.\n",
      "2022-01-27 11:05:50.483854: ImmuneML: finished analysis.\n",
      "\n",
      "The results are located under ./experiment2/scenario2/\n"
     ]
    }
   ],
   "source": [
    "# run immuneML with the specs file\n",
    "\n",
    "from immuneML.app.ImmuneMLApp import ImmuneMLApp\n",
    "\n",
    "scenario2_output_path = scenario2_ml_result_path / \"result/\"\n",
    "\n",
    "app = ImmuneMLApp(specification_path = scenario2_specs_path, result_path = scenario2_output_path)\n",
    "result = app.run()\n",
    "\n",
    "print(\"The results are located under ./experiment2/scenario2/\")"
   ]
  },
  {
   "cell_type": "code",
   "execution_count": 20,
   "metadata": {},
   "outputs": [
    {
     "data": {
      "application/vnd.plotly.v1+json": {
       "config": {
        "plotlyServerURL": "https://plot.ly"
       },
       "data": [
        {
         "marker": {
          "color": "rgb(0, 147, 146)"
         },
         "name": "validation",
         "type": "bar",
         "x": [
          "balanced error rate"
         ],
         "y": [
          0.14479638009049767
         ]
        },
        {
         "marker": {
          "color": "rgb(114, 170, 161)"
         },
         "name": "test",
         "type": "bar",
         "x": [
          "balanced error rate"
         ],
         "y": [
          0.40064102564102555
         ]
        }
       ],
       "layout": {
        "barmode": "group",
        "template": {
         "data": {
          "bar": [
           {
            "error_x": {
             "color": "#2a3f5f"
            },
            "error_y": {
             "color": "#2a3f5f"
            },
            "marker": {
             "line": {
              "color": "white",
              "width": 0.5
             },
             "pattern": {
              "fillmode": "overlay",
              "size": 10,
              "solidity": 0.2
             }
            },
            "type": "bar"
           }
          ],
          "barpolar": [
           {
            "marker": {
             "line": {
              "color": "white",
              "width": 0.5
             },
             "pattern": {
              "fillmode": "overlay",
              "size": 10,
              "solidity": 0.2
             }
            },
            "type": "barpolar"
           }
          ],
          "carpet": [
           {
            "aaxis": {
             "endlinecolor": "#2a3f5f",
             "gridcolor": "#C8D4E3",
             "linecolor": "#C8D4E3",
             "minorgridcolor": "#C8D4E3",
             "startlinecolor": "#2a3f5f"
            },
            "baxis": {
             "endlinecolor": "#2a3f5f",
             "gridcolor": "#C8D4E3",
             "linecolor": "#C8D4E3",
             "minorgridcolor": "#C8D4E3",
             "startlinecolor": "#2a3f5f"
            },
            "type": "carpet"
           }
          ],
          "choropleth": [
           {
            "colorbar": {
             "outlinewidth": 0,
             "ticks": ""
            },
            "type": "choropleth"
           }
          ],
          "contour": [
           {
            "colorbar": {
             "outlinewidth": 0,
             "ticks": ""
            },
            "colorscale": [
             [
              0,
              "#0d0887"
             ],
             [
              0.1111111111111111,
              "#46039f"
             ],
             [
              0.2222222222222222,
              "#7201a8"
             ],
             [
              0.3333333333333333,
              "#9c179e"
             ],
             [
              0.4444444444444444,
              "#bd3786"
             ],
             [
              0.5555555555555556,
              "#d8576b"
             ],
             [
              0.6666666666666666,
              "#ed7953"
             ],
             [
              0.7777777777777778,
              "#fb9f3a"
             ],
             [
              0.8888888888888888,
              "#fdca26"
             ],
             [
              1,
              "#f0f921"
             ]
            ],
            "type": "contour"
           }
          ],
          "contourcarpet": [
           {
            "colorbar": {
             "outlinewidth": 0,
             "ticks": ""
            },
            "type": "contourcarpet"
           }
          ],
          "heatmap": [
           {
            "colorbar": {
             "outlinewidth": 0,
             "ticks": ""
            },
            "colorscale": [
             [
              0,
              "#0d0887"
             ],
             [
              0.1111111111111111,
              "#46039f"
             ],
             [
              0.2222222222222222,
              "#7201a8"
             ],
             [
              0.3333333333333333,
              "#9c179e"
             ],
             [
              0.4444444444444444,
              "#bd3786"
             ],
             [
              0.5555555555555556,
              "#d8576b"
             ],
             [
              0.6666666666666666,
              "#ed7953"
             ],
             [
              0.7777777777777778,
              "#fb9f3a"
             ],
             [
              0.8888888888888888,
              "#fdca26"
             ],
             [
              1,
              "#f0f921"
             ]
            ],
            "type": "heatmap"
           }
          ],
          "heatmapgl": [
           {
            "colorbar": {
             "outlinewidth": 0,
             "ticks": ""
            },
            "colorscale": [
             [
              0,
              "#0d0887"
             ],
             [
              0.1111111111111111,
              "#46039f"
             ],
             [
              0.2222222222222222,
              "#7201a8"
             ],
             [
              0.3333333333333333,
              "#9c179e"
             ],
             [
              0.4444444444444444,
              "#bd3786"
             ],
             [
              0.5555555555555556,
              "#d8576b"
             ],
             [
              0.6666666666666666,
              "#ed7953"
             ],
             [
              0.7777777777777778,
              "#fb9f3a"
             ],
             [
              0.8888888888888888,
              "#fdca26"
             ],
             [
              1,
              "#f0f921"
             ]
            ],
            "type": "heatmapgl"
           }
          ],
          "histogram": [
           {
            "marker": {
             "pattern": {
              "fillmode": "overlay",
              "size": 10,
              "solidity": 0.2
             }
            },
            "type": "histogram"
           }
          ],
          "histogram2d": [
           {
            "colorbar": {
             "outlinewidth": 0,
             "ticks": ""
            },
            "colorscale": [
             [
              0,
              "#0d0887"
             ],
             [
              0.1111111111111111,
              "#46039f"
             ],
             [
              0.2222222222222222,
              "#7201a8"
             ],
             [
              0.3333333333333333,
              "#9c179e"
             ],
             [
              0.4444444444444444,
              "#bd3786"
             ],
             [
              0.5555555555555556,
              "#d8576b"
             ],
             [
              0.6666666666666666,
              "#ed7953"
             ],
             [
              0.7777777777777778,
              "#fb9f3a"
             ],
             [
              0.8888888888888888,
              "#fdca26"
             ],
             [
              1,
              "#f0f921"
             ]
            ],
            "type": "histogram2d"
           }
          ],
          "histogram2dcontour": [
           {
            "colorbar": {
             "outlinewidth": 0,
             "ticks": ""
            },
            "colorscale": [
             [
              0,
              "#0d0887"
             ],
             [
              0.1111111111111111,
              "#46039f"
             ],
             [
              0.2222222222222222,
              "#7201a8"
             ],
             [
              0.3333333333333333,
              "#9c179e"
             ],
             [
              0.4444444444444444,
              "#bd3786"
             ],
             [
              0.5555555555555556,
              "#d8576b"
             ],
             [
              0.6666666666666666,
              "#ed7953"
             ],
             [
              0.7777777777777778,
              "#fb9f3a"
             ],
             [
              0.8888888888888888,
              "#fdca26"
             ],
             [
              1,
              "#f0f921"
             ]
            ],
            "type": "histogram2dcontour"
           }
          ],
          "mesh3d": [
           {
            "colorbar": {
             "outlinewidth": 0,
             "ticks": ""
            },
            "type": "mesh3d"
           }
          ],
          "parcoords": [
           {
            "line": {
             "colorbar": {
              "outlinewidth": 0,
              "ticks": ""
             }
            },
            "type": "parcoords"
           }
          ],
          "pie": [
           {
            "automargin": true,
            "type": "pie"
           }
          ],
          "scatter": [
           {
            "marker": {
             "colorbar": {
              "outlinewidth": 0,
              "ticks": ""
             }
            },
            "type": "scatter"
           }
          ],
          "scatter3d": [
           {
            "line": {
             "colorbar": {
              "outlinewidth": 0,
              "ticks": ""
             }
            },
            "marker": {
             "colorbar": {
              "outlinewidth": 0,
              "ticks": ""
             }
            },
            "type": "scatter3d"
           }
          ],
          "scattercarpet": [
           {
            "marker": {
             "colorbar": {
              "outlinewidth": 0,
              "ticks": ""
             }
            },
            "type": "scattercarpet"
           }
          ],
          "scattergeo": [
           {
            "marker": {
             "colorbar": {
              "outlinewidth": 0,
              "ticks": ""
             }
            },
            "type": "scattergeo"
           }
          ],
          "scattergl": [
           {
            "marker": {
             "colorbar": {
              "outlinewidth": 0,
              "ticks": ""
             }
            },
            "type": "scattergl"
           }
          ],
          "scattermapbox": [
           {
            "marker": {
             "colorbar": {
              "outlinewidth": 0,
              "ticks": ""
             }
            },
            "type": "scattermapbox"
           }
          ],
          "scatterpolar": [
           {
            "marker": {
             "colorbar": {
              "outlinewidth": 0,
              "ticks": ""
             }
            },
            "type": "scatterpolar"
           }
          ],
          "scatterpolargl": [
           {
            "marker": {
             "colorbar": {
              "outlinewidth": 0,
              "ticks": ""
             }
            },
            "type": "scatterpolargl"
           }
          ],
          "scatterternary": [
           {
            "marker": {
             "colorbar": {
              "outlinewidth": 0,
              "ticks": ""
             }
            },
            "type": "scatterternary"
           }
          ],
          "surface": [
           {
            "colorbar": {
             "outlinewidth": 0,
             "ticks": ""
            },
            "colorscale": [
             [
              0,
              "#0d0887"
             ],
             [
              0.1111111111111111,
              "#46039f"
             ],
             [
              0.2222222222222222,
              "#7201a8"
             ],
             [
              0.3333333333333333,
              "#9c179e"
             ],
             [
              0.4444444444444444,
              "#bd3786"
             ],
             [
              0.5555555555555556,
              "#d8576b"
             ],
             [
              0.6666666666666666,
              "#ed7953"
             ],
             [
              0.7777777777777778,
              "#fb9f3a"
             ],
             [
              0.8888888888888888,
              "#fdca26"
             ],
             [
              1,
              "#f0f921"
             ]
            ],
            "type": "surface"
           }
          ],
          "table": [
           {
            "cells": {
             "fill": {
              "color": "#EBF0F8"
             },
             "line": {
              "color": "white"
             }
            },
            "header": {
             "fill": {
              "color": "#C8D4E3"
             },
             "line": {
              "color": "white"
             }
            },
            "type": "table"
           }
          ]
         },
         "layout": {
          "annotationdefaults": {
           "arrowcolor": "#2a3f5f",
           "arrowhead": 0,
           "arrowwidth": 1
          },
          "autotypenumbers": "strict",
          "coloraxis": {
           "colorbar": {
            "outlinewidth": 0,
            "ticks": ""
           }
          },
          "colorscale": {
           "diverging": [
            [
             0,
             "#8e0152"
            ],
            [
             0.1,
             "#c51b7d"
            ],
            [
             0.2,
             "#de77ae"
            ],
            [
             0.3,
             "#f1b6da"
            ],
            [
             0.4,
             "#fde0ef"
            ],
            [
             0.5,
             "#f7f7f7"
            ],
            [
             0.6,
             "#e6f5d0"
            ],
            [
             0.7,
             "#b8e186"
            ],
            [
             0.8,
             "#7fbc41"
            ],
            [
             0.9,
             "#4d9221"
            ],
            [
             1,
             "#276419"
            ]
           ],
           "sequential": [
            [
             0,
             "#0d0887"
            ],
            [
             0.1111111111111111,
             "#46039f"
            ],
            [
             0.2222222222222222,
             "#7201a8"
            ],
            [
             0.3333333333333333,
             "#9c179e"
            ],
            [
             0.4444444444444444,
             "#bd3786"
            ],
            [
             0.5555555555555556,
             "#d8576b"
            ],
            [
             0.6666666666666666,
             "#ed7953"
            ],
            [
             0.7777777777777778,
             "#fb9f3a"
            ],
            [
             0.8888888888888888,
             "#fdca26"
            ],
            [
             1,
             "#f0f921"
            ]
           ],
           "sequentialminus": [
            [
             0,
             "#0d0887"
            ],
            [
             0.1111111111111111,
             "#46039f"
            ],
            [
             0.2222222222222222,
             "#7201a8"
            ],
            [
             0.3333333333333333,
             "#9c179e"
            ],
            [
             0.4444444444444444,
             "#bd3786"
            ],
            [
             0.5555555555555556,
             "#d8576b"
            ],
            [
             0.6666666666666666,
             "#ed7953"
            ],
            [
             0.7777777777777778,
             "#fb9f3a"
            ],
            [
             0.8888888888888888,
             "#fdca26"
            ],
            [
             1,
             "#f0f921"
            ]
           ]
          },
          "colorway": [
           "#636efa",
           "#EF553B",
           "#00cc96",
           "#ab63fa",
           "#FFA15A",
           "#19d3f3",
           "#FF6692",
           "#B6E880",
           "#FF97FF",
           "#FECB52"
          ],
          "font": {
           "color": "#2a3f5f"
          },
          "geo": {
           "bgcolor": "white",
           "lakecolor": "white",
           "landcolor": "white",
           "showlakes": true,
           "showland": true,
           "subunitcolor": "#C8D4E3"
          },
          "hoverlabel": {
           "align": "left"
          },
          "hovermode": "closest",
          "mapbox": {
           "style": "light"
          },
          "paper_bgcolor": "white",
          "plot_bgcolor": "white",
          "polar": {
           "angularaxis": {
            "gridcolor": "#EBF0F8",
            "linecolor": "#EBF0F8",
            "ticks": ""
           },
           "bgcolor": "white",
           "radialaxis": {
            "gridcolor": "#EBF0F8",
            "linecolor": "#EBF0F8",
            "ticks": ""
           }
          },
          "scene": {
           "xaxis": {
            "backgroundcolor": "white",
            "gridcolor": "#DFE8F3",
            "gridwidth": 2,
            "linecolor": "#EBF0F8",
            "showbackground": true,
            "ticks": "",
            "zerolinecolor": "#EBF0F8"
           },
           "yaxis": {
            "backgroundcolor": "white",
            "gridcolor": "#DFE8F3",
            "gridwidth": 2,
            "linecolor": "#EBF0F8",
            "showbackground": true,
            "ticks": "",
            "zerolinecolor": "#EBF0F8"
           },
           "zaxis": {
            "backgroundcolor": "white",
            "gridcolor": "#DFE8F3",
            "gridwidth": 2,
            "linecolor": "#EBF0F8",
            "showbackground": true,
            "ticks": "",
            "zerolinecolor": "#EBF0F8"
           }
          },
          "shapedefaults": {
           "line": {
            "color": "#2a3f5f"
           }
          },
          "ternary": {
           "aaxis": {
            "gridcolor": "#DFE8F3",
            "linecolor": "#A2B1C6",
            "ticks": ""
           },
           "baxis": {
            "gridcolor": "#DFE8F3",
            "linecolor": "#A2B1C6",
            "ticks": ""
           },
           "bgcolor": "white",
           "caxis": {
            "gridcolor": "#DFE8F3",
            "linecolor": "#A2B1C6",
            "ticks": ""
           }
          },
          "title": {
           "x": 0.05
          },
          "xaxis": {
           "automargin": true,
           "gridcolor": "#EBF0F8",
           "linecolor": "#EBF0F8",
           "ticks": "",
           "title": {
            "standoff": 15
           },
           "zerolinecolor": "#EBF0F8",
           "zerolinewidth": 2
          },
          "yaxis": {
           "automargin": true,
           "gridcolor": "#EBF0F8",
           "linecolor": "#EBF0F8",
           "ticks": "",
           "title": {
            "standoff": 15
           },
           "zerolinecolor": "#EBF0F8",
           "zerolinewidth": 2
          }
         }
        },
        "xaxis": {
         "linecolor": "black",
         "linewidth": 1,
         "showline": true
        },
        "yaxis": {
         "linecolor": "black",
         "linewidth": 1,
         "showline": true
        }
       }
      },
      "text/html": [
       "<div>                            <div id=\"84dd8bc8-178b-422b-b8dd-dee703d167db\" class=\"plotly-graph-div\" style=\"height:525px; width:100%;\"></div>            <script type=\"text/javascript\">                require([\"plotly\"], function(Plotly) {                    window.PLOTLYENV=window.PLOTLYENV || {};                                    if (document.getElementById(\"84dd8bc8-178b-422b-b8dd-dee703d167db\")) {                    Plotly.newPlot(                        \"84dd8bc8-178b-422b-b8dd-dee703d167db\",                        [{\"marker\":{\"color\":\"rgb(0, 147, 146)\"},\"name\":\"validation\",\"x\":[\"balanced error rate\"],\"y\":[0.14479638009049767],\"type\":\"bar\"},{\"marker\":{\"color\":\"rgb(114, 170, 161)\"},\"name\":\"test\",\"x\":[\"balanced error rate\"],\"y\":[0.40064102564102555],\"type\":\"bar\"}],                        {\"template\":{\"data\":{\"barpolar\":[{\"marker\":{\"line\":{\"color\":\"white\",\"width\":0.5},\"pattern\":{\"fillmode\":\"overlay\",\"size\":10,\"solidity\":0.2}},\"type\":\"barpolar\"}],\"bar\":[{\"error_x\":{\"color\":\"#2a3f5f\"},\"error_y\":{\"color\":\"#2a3f5f\"},\"marker\":{\"line\":{\"color\":\"white\",\"width\":0.5},\"pattern\":{\"fillmode\":\"overlay\",\"size\":10,\"solidity\":0.2}},\"type\":\"bar\"}],\"carpet\":[{\"aaxis\":{\"endlinecolor\":\"#2a3f5f\",\"gridcolor\":\"#C8D4E3\",\"linecolor\":\"#C8D4E3\",\"minorgridcolor\":\"#C8D4E3\",\"startlinecolor\":\"#2a3f5f\"},\"baxis\":{\"endlinecolor\":\"#2a3f5f\",\"gridcolor\":\"#C8D4E3\",\"linecolor\":\"#C8D4E3\",\"minorgridcolor\":\"#C8D4E3\",\"startlinecolor\":\"#2a3f5f\"},\"type\":\"carpet\"}],\"choropleth\":[{\"colorbar\":{\"outlinewidth\":0,\"ticks\":\"\"},\"type\":\"choropleth\"}],\"contourcarpet\":[{\"colorbar\":{\"outlinewidth\":0,\"ticks\":\"\"},\"type\":\"contourcarpet\"}],\"contour\":[{\"colorbar\":{\"outlinewidth\":0,\"ticks\":\"\"},\"colorscale\":[[0.0,\"#0d0887\"],[0.1111111111111111,\"#46039f\"],[0.2222222222222222,\"#7201a8\"],[0.3333333333333333,\"#9c179e\"],[0.4444444444444444,\"#bd3786\"],[0.5555555555555556,\"#d8576b\"],[0.6666666666666666,\"#ed7953\"],[0.7777777777777778,\"#fb9f3a\"],[0.8888888888888888,\"#fdca26\"],[1.0,\"#f0f921\"]],\"type\":\"contour\"}],\"heatmapgl\":[{\"colorbar\":{\"outlinewidth\":0,\"ticks\":\"\"},\"colorscale\":[[0.0,\"#0d0887\"],[0.1111111111111111,\"#46039f\"],[0.2222222222222222,\"#7201a8\"],[0.3333333333333333,\"#9c179e\"],[0.4444444444444444,\"#bd3786\"],[0.5555555555555556,\"#d8576b\"],[0.6666666666666666,\"#ed7953\"],[0.7777777777777778,\"#fb9f3a\"],[0.8888888888888888,\"#fdca26\"],[1.0,\"#f0f921\"]],\"type\":\"heatmapgl\"}],\"heatmap\":[{\"colorbar\":{\"outlinewidth\":0,\"ticks\":\"\"},\"colorscale\":[[0.0,\"#0d0887\"],[0.1111111111111111,\"#46039f\"],[0.2222222222222222,\"#7201a8\"],[0.3333333333333333,\"#9c179e\"],[0.4444444444444444,\"#bd3786\"],[0.5555555555555556,\"#d8576b\"],[0.6666666666666666,\"#ed7953\"],[0.7777777777777778,\"#fb9f3a\"],[0.8888888888888888,\"#fdca26\"],[1.0,\"#f0f921\"]],\"type\":\"heatmap\"}],\"histogram2dcontour\":[{\"colorbar\":{\"outlinewidth\":0,\"ticks\":\"\"},\"colorscale\":[[0.0,\"#0d0887\"],[0.1111111111111111,\"#46039f\"],[0.2222222222222222,\"#7201a8\"],[0.3333333333333333,\"#9c179e\"],[0.4444444444444444,\"#bd3786\"],[0.5555555555555556,\"#d8576b\"],[0.6666666666666666,\"#ed7953\"],[0.7777777777777778,\"#fb9f3a\"],[0.8888888888888888,\"#fdca26\"],[1.0,\"#f0f921\"]],\"type\":\"histogram2dcontour\"}],\"histogram2d\":[{\"colorbar\":{\"outlinewidth\":0,\"ticks\":\"\"},\"colorscale\":[[0.0,\"#0d0887\"],[0.1111111111111111,\"#46039f\"],[0.2222222222222222,\"#7201a8\"],[0.3333333333333333,\"#9c179e\"],[0.4444444444444444,\"#bd3786\"],[0.5555555555555556,\"#d8576b\"],[0.6666666666666666,\"#ed7953\"],[0.7777777777777778,\"#fb9f3a\"],[0.8888888888888888,\"#fdca26\"],[1.0,\"#f0f921\"]],\"type\":\"histogram2d\"}],\"histogram\":[{\"marker\":{\"pattern\":{\"fillmode\":\"overlay\",\"size\":10,\"solidity\":0.2}},\"type\":\"histogram\"}],\"mesh3d\":[{\"colorbar\":{\"outlinewidth\":0,\"ticks\":\"\"},\"type\":\"mesh3d\"}],\"parcoords\":[{\"line\":{\"colorbar\":{\"outlinewidth\":0,\"ticks\":\"\"}},\"type\":\"parcoords\"}],\"pie\":[{\"automargin\":true,\"type\":\"pie\"}],\"scatter3d\":[{\"line\":{\"colorbar\":{\"outlinewidth\":0,\"ticks\":\"\"}},\"marker\":{\"colorbar\":{\"outlinewidth\":0,\"ticks\":\"\"}},\"type\":\"scatter3d\"}],\"scattercarpet\":[{\"marker\":{\"colorbar\":{\"outlinewidth\":0,\"ticks\":\"\"}},\"type\":\"scattercarpet\"}],\"scattergeo\":[{\"marker\":{\"colorbar\":{\"outlinewidth\":0,\"ticks\":\"\"}},\"type\":\"scattergeo\"}],\"scattergl\":[{\"marker\":{\"colorbar\":{\"outlinewidth\":0,\"ticks\":\"\"}},\"type\":\"scattergl\"}],\"scattermapbox\":[{\"marker\":{\"colorbar\":{\"outlinewidth\":0,\"ticks\":\"\"}},\"type\":\"scattermapbox\"}],\"scatterpolargl\":[{\"marker\":{\"colorbar\":{\"outlinewidth\":0,\"ticks\":\"\"}},\"type\":\"scatterpolargl\"}],\"scatterpolar\":[{\"marker\":{\"colorbar\":{\"outlinewidth\":0,\"ticks\":\"\"}},\"type\":\"scatterpolar\"}],\"scatter\":[{\"marker\":{\"colorbar\":{\"outlinewidth\":0,\"ticks\":\"\"}},\"type\":\"scatter\"}],\"scatterternary\":[{\"marker\":{\"colorbar\":{\"outlinewidth\":0,\"ticks\":\"\"}},\"type\":\"scatterternary\"}],\"surface\":[{\"colorbar\":{\"outlinewidth\":0,\"ticks\":\"\"},\"colorscale\":[[0.0,\"#0d0887\"],[0.1111111111111111,\"#46039f\"],[0.2222222222222222,\"#7201a8\"],[0.3333333333333333,\"#9c179e\"],[0.4444444444444444,\"#bd3786\"],[0.5555555555555556,\"#d8576b\"],[0.6666666666666666,\"#ed7953\"],[0.7777777777777778,\"#fb9f3a\"],[0.8888888888888888,\"#fdca26\"],[1.0,\"#f0f921\"]],\"type\":\"surface\"}],\"table\":[{\"cells\":{\"fill\":{\"color\":\"#EBF0F8\"},\"line\":{\"color\":\"white\"}},\"header\":{\"fill\":{\"color\":\"#C8D4E3\"},\"line\":{\"color\":\"white\"}},\"type\":\"table\"}]},\"layout\":{\"annotationdefaults\":{\"arrowcolor\":\"#2a3f5f\",\"arrowhead\":0,\"arrowwidth\":1},\"autotypenumbers\":\"strict\",\"coloraxis\":{\"colorbar\":{\"outlinewidth\":0,\"ticks\":\"\"}},\"colorscale\":{\"diverging\":[[0,\"#8e0152\"],[0.1,\"#c51b7d\"],[0.2,\"#de77ae\"],[0.3,\"#f1b6da\"],[0.4,\"#fde0ef\"],[0.5,\"#f7f7f7\"],[0.6,\"#e6f5d0\"],[0.7,\"#b8e186\"],[0.8,\"#7fbc41\"],[0.9,\"#4d9221\"],[1,\"#276419\"]],\"sequential\":[[0.0,\"#0d0887\"],[0.1111111111111111,\"#46039f\"],[0.2222222222222222,\"#7201a8\"],[0.3333333333333333,\"#9c179e\"],[0.4444444444444444,\"#bd3786\"],[0.5555555555555556,\"#d8576b\"],[0.6666666666666666,\"#ed7953\"],[0.7777777777777778,\"#fb9f3a\"],[0.8888888888888888,\"#fdca26\"],[1.0,\"#f0f921\"]],\"sequentialminus\":[[0.0,\"#0d0887\"],[0.1111111111111111,\"#46039f\"],[0.2222222222222222,\"#7201a8\"],[0.3333333333333333,\"#9c179e\"],[0.4444444444444444,\"#bd3786\"],[0.5555555555555556,\"#d8576b\"],[0.6666666666666666,\"#ed7953\"],[0.7777777777777778,\"#fb9f3a\"],[0.8888888888888888,\"#fdca26\"],[1.0,\"#f0f921\"]]},\"colorway\":[\"#636efa\",\"#EF553B\",\"#00cc96\",\"#ab63fa\",\"#FFA15A\",\"#19d3f3\",\"#FF6692\",\"#B6E880\",\"#FF97FF\",\"#FECB52\"],\"font\":{\"color\":\"#2a3f5f\"},\"geo\":{\"bgcolor\":\"white\",\"lakecolor\":\"white\",\"landcolor\":\"white\",\"showlakes\":true,\"showland\":true,\"subunitcolor\":\"#C8D4E3\"},\"hoverlabel\":{\"align\":\"left\"},\"hovermode\":\"closest\",\"mapbox\":{\"style\":\"light\"},\"paper_bgcolor\":\"white\",\"plot_bgcolor\":\"white\",\"polar\":{\"angularaxis\":{\"gridcolor\":\"#EBF0F8\",\"linecolor\":\"#EBF0F8\",\"ticks\":\"\"},\"bgcolor\":\"white\",\"radialaxis\":{\"gridcolor\":\"#EBF0F8\",\"linecolor\":\"#EBF0F8\",\"ticks\":\"\"}},\"scene\":{\"xaxis\":{\"backgroundcolor\":\"white\",\"gridcolor\":\"#DFE8F3\",\"gridwidth\":2,\"linecolor\":\"#EBF0F8\",\"showbackground\":true,\"ticks\":\"\",\"zerolinecolor\":\"#EBF0F8\"},\"yaxis\":{\"backgroundcolor\":\"white\",\"gridcolor\":\"#DFE8F3\",\"gridwidth\":2,\"linecolor\":\"#EBF0F8\",\"showbackground\":true,\"ticks\":\"\",\"zerolinecolor\":\"#EBF0F8\"},\"zaxis\":{\"backgroundcolor\":\"white\",\"gridcolor\":\"#DFE8F3\",\"gridwidth\":2,\"linecolor\":\"#EBF0F8\",\"showbackground\":true,\"ticks\":\"\",\"zerolinecolor\":\"#EBF0F8\"}},\"shapedefaults\":{\"line\":{\"color\":\"#2a3f5f\"}},\"ternary\":{\"aaxis\":{\"gridcolor\":\"#DFE8F3\",\"linecolor\":\"#A2B1C6\",\"ticks\":\"\"},\"baxis\":{\"gridcolor\":\"#DFE8F3\",\"linecolor\":\"#A2B1C6\",\"ticks\":\"\"},\"bgcolor\":\"white\",\"caxis\":{\"gridcolor\":\"#DFE8F3\",\"linecolor\":\"#A2B1C6\",\"ticks\":\"\"}},\"title\":{\"x\":0.05},\"xaxis\":{\"automargin\":true,\"gridcolor\":\"#EBF0F8\",\"linecolor\":\"#EBF0F8\",\"ticks\":\"\",\"title\":{\"standoff\":15},\"zerolinecolor\":\"#EBF0F8\",\"zerolinewidth\":2},\"yaxis\":{\"automargin\":true,\"gridcolor\":\"#EBF0F8\",\"linecolor\":\"#EBF0F8\",\"ticks\":\"\",\"title\":{\"standoff\":15},\"zerolinecolor\":\"#EBF0F8\",\"zerolinewidth\":2}}},\"barmode\":\"group\",\"xaxis\":{\"showline\":true,\"linewidth\":1,\"linecolor\":\"black\"},\"yaxis\":{\"showline\":true,\"linewidth\":1,\"linecolor\":\"black\"}},                        {\"responsive\": true}                    ).then(function(){\n",
       "                            \n",
       "var gd = document.getElementById('84dd8bc8-178b-422b-b8dd-dee703d167db');\n",
       "var x = new MutationObserver(function (mutations, observer) {{\n",
       "        var display = window.getComputedStyle(gd).display;\n",
       "        if (!display || display === 'none') {{\n",
       "            console.log([gd, 'removed!']);\n",
       "            Plotly.purge(gd);\n",
       "            observer.disconnect();\n",
       "        }}\n",
       "}});\n",
       "\n",
       "// Listen for the removal of the full notebook cells\n",
       "var notebookContainer = gd.closest('#notebook-container');\n",
       "if (notebookContainer) {{\n",
       "    x.observe(notebookContainer, {childList: true});\n",
       "}}\n",
       "\n",
       "// Listen for the clearing of the current output cell\n",
       "var outputEl = gd.closest('.output');\n",
       "if (outputEl) {{\n",
       "    x.observe(outputEl, {childList: true});\n",
       "}}\n",
       "\n",
       "                        })                };                });            </script>        </div>"
      ]
     },
     "metadata": {},
     "output_type": "display_data"
    }
   ],
   "source": [
    "from util.plotting import plot_balanced_error_rate\n",
    "    \n",
    "plot_balanced_error_rate(iml_result=result, result_path=scenario2_ml_result_path)"
   ]
  },
  {
   "cell_type": "code",
   "execution_count": 18,
   "metadata": {
    "pycharm": {
     "name": "#%%\n"
    }
   },
   "outputs": [
    {
     "data": {
      "text/html": [
       "\n",
       "        <iframe\n",
       "            width=\"700\"\n",
       "            height=\"600\"\n",
       "            src=\"experiment2/scenario2/ml_result/result/HTML_output/train_ml_split_1_immune_state_kmer_frequency_logistic_regression_optimal_reports_ml_method_coefficients_largest_25_coefficients.html\"\n",
       "            frameborder=\"0\"\n",
       "            allowfullscreen\n",
       "            \n",
       "        ></iframe>\n",
       "        "
      ],
      "text/plain": [
       "<IPython.lib.display.IFrame at 0x7f642ebf4e50>"
      ]
     },
     "execution_count": 18,
     "metadata": {},
     "output_type": "execute_result"
    }
   ],
   "source": [
    "# show what the model has learned\n",
    "\n",
    "from IPython.display import IFrame\n",
    "\n",
    "\n",
    "IFrame(src=str(scenario2_ml_result_path / \"result/HTML_output/train_ml_split_1_immune_state_kmer_frequency_logistic_regression_optimal_reports_ml_method_coefficients_largest_25_coefficients.html\"),  width=700, height=600)"
   ]
  },
  {
   "cell_type": "code",
   "execution_count": null,
   "metadata": {
    "pycharm": {
     "name": "#%%\n"
    }
   },
   "outputs": [],
   "source": []
  }
 ],
 "metadata": {
  "kernelspec": {
   "display_name": "Python 3 (ipykernel)",
   "language": "python",
   "name": "python3"
  },
  "language_info": {
   "codemirror_mode": {
    "name": "ipython",
    "version": 3
   },
   "file_extension": ".py",
   "mimetype": "text/x-python",
   "name": "python",
   "nbconvert_exporter": "python",
   "pygments_lexer": "ipython3",
   "version": "3.8.12"
  },
  "varInspector": {
   "cols": {
    "lenName": 16,
    "lenType": 16,
    "lenVar": 40
   },
   "kernels_config": {
    "python": {
     "delete_cmd_postfix": "",
     "delete_cmd_prefix": "del ",
     "library": "var_list.py",
     "varRefreshCmd": "print(var_dic_list())"
    },
    "r": {
     "delete_cmd_postfix": ") ",
     "delete_cmd_prefix": "rm(",
     "library": "var_list.r",
     "varRefreshCmd": "cat(var_dic_list()) "
    }
   },
   "types_to_exclude": [
    "module",
    "function",
    "builtin_function_or_method",
    "instance",
    "_Feature"
   ],
   "window_display": false
  }
 },
 "nbformat": 4,
 "nbformat_minor": 1
}