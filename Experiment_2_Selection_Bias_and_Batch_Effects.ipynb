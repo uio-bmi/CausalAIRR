{
 "cells": [
  {
   "cell_type": "markdown",
   "metadata": {
    "collapsed": true
   },
   "source": [
    "# Experiment 2: Selection Bias and Batch Effects\n",
    "\n",
    "In this experiment, we combine selection bias and batch effects. The AIRR data comes from 2 hospitals: `hospital1` that recruits mostly diseased and `hospital2` that recruits mostly healthy individuals. We explore two possible scenarios here:\n",
    "\n",
    "1. the performance of the ML model when there is a selection bias during training, but not in the test dataset.\n",
    "\n",
    "2. the performance of the ML model when there is no connection between the immune state and AIRR: we will show that ML models will in this case learn only a spurious correlation.\n",
    "\n",
    "Immune state is a binary variable and can have values `True` or `False` to indicate if an individual is diseased or healthy. AIRR is a set of sequences simulated based on the values of the immune state and the confounder for the given individual. Hospital is a binary variable (`hospital1` or `hospital2`). Each hospital has their own experimental protocol that influences the observed AIRR. The influence of the experimental protocol on AIRR is manifested via higher frequency of some k-mers in the sequenced AIRRs.\n",
    "\n",
    "Steps for each scenario:\n",
    "\n",
    "1. Simulate training and test dataset from a causal graph to include the variables as described above.\n",
    "\n",
    "2. Train an ML model (here: logistic regression on repertoires represented by the k-mer frequencies) on the train set which has selection bias and assess its performance on the test set when there is no selection bias.\n",
    "\n",
    "Software used: \n",
    "\n",
    "- DagSim for simulation of the causal graph; \n",
    "- immuneML v2.1 for implanting signal in AIRRs and for training and assessing machine learning classifiers; \n",
    "- OLGA for simulation of naive AIRRs"
   ]
  },
  {
   "cell_type": "code",
   "execution_count": null,
   "metadata": {},
   "outputs": [],
   "source": [
    "import yaml\n",
    "import dagsim.base as ds\n",
    "from util.dataset_util import make_AIRR_dataset, make_dataset, setup_path\n",
    "from util.experiment2 import make_immune_state_signal\n",
    "from util.simulation import get_immune_state, get_hospital, get_exp_protocol, get_repertoire, get_selection\n"
   ]
  },
  {
   "cell_type": "code",
   "execution_count": null,
   "metadata": {},
   "outputs": [],
   "source": [
    "setup_path(\"./experiment2\") # remove results from the previous run\n",
    "\n",
    "train_example_count = 200\n",
    "test_example_count = 50"
   ]
  },
  {
   "cell_type": "markdown",
   "metadata": {},
   "source": [
    "## Scenario 1: immune state signal is stronger than the influence of the experimental protocol"
   ]
  },
  {
   "cell_type": "code",
   "execution_count": null,
   "metadata": {},
   "outputs": [],
   "source": [
    "# define and build path, remove content if not empty\n",
    "\n",
    "scenario1_path = setup_path(\"./experiment2/scenario1/\")\n",
    "scenario1_data_path = setup_path(scenario1_path / \"data\")"
   ]
  },
  {
   "cell_type": "markdown",
   "metadata": {},
   "source": [
    "### Step 1: AIRR simulation from a causal graph"
   ]
  },
  {
   "cell_type": "code",
   "execution_count": null,
   "metadata": {},
   "outputs": [],
   "source": [
    "# define constants for the simulation\n",
    "\n",
    "p_immune_state = 0.5 # parameter of binomial distribution for the immune state\n",
    "p_hospital = 0.5 # parameter of binomial distribution for selecting between hospitals 1 and 2\n",
    "\n",
    "sequence_count = 2000\n",
    "immune_state_implanting_rate = 0.01\n",
    "protocol_implanting_rate = 0.01\n",
    "\n",
    "immune_state_signal = make_immune_state_signal()\n",
    "\n",
    "\n",
    "# define nodes of the causal graph\n",
    "\n",
    "immune_state_node = ds.Node(name=\"immune_state\", function=get_immune_state, kwargs={\"p\": p_immune_state})\n",
    "\n",
    "hospital_node = ds.Node(name=\"hospital\", function=get_hospital, kwargs={\"p\": p_hospital})\n",
    "\n",
    "experimental_protocol_node = ds.Node(name=\"exp_protocol\", function=get_exp_protocol, kwargs={\"hospital\": hospital_node})\n",
    "\n",
    "repertoire_node = ds.Node(name=\"repertoire\", function=get_repertoire,\n",
    "                             kwargs={\"immune_state\": immune_state_node,\n",
    "                                        \"experimental_protocol_id\": experimental_protocol_node,\n",
    "                                        \"path\": scenario1_data_path / \"train\", \"sequence_count\": sequence_count, \n",
    "                                        \"immune_state_signal\": immune_state_signal, \n",
    "                                        'immune_state_implanting_rate': immune_state_implanting_rate, \n",
    "                                        \"protocol_implanting_rate\": protocol_implanting_rate})\n",
    "\n",
    "selection_node = ds.Selection(name=\"S\", function=get_selection,\n",
    "                              kwargs={\"hospital\": hospital_node, \"immune_state\": immune_state_node})\n",
    "\n",
    "# make a causal graph using DagSim and show it graphically\n",
    "\n",
    "graph = ds.Graph(name=\"graph_experiment_2_1\", \n",
    "                 list_nodes=[immune_state_node, hospital_node, experimental_protocol_node, repertoire_node, \n",
    "                             selection_node])\n",
    "graph.draw()"
   ]
  },
  {
   "cell_type": "code",
   "execution_count": null,
   "metadata": {
    "pycharm": {
     "is_executing": true
    }
   },
   "outputs": [],
   "source": [
    "training_data_sc1 = graph.simulate(num_samples=train_example_count, selection=True,\n",
    "                                   csv_name=str(scenario1_data_path / \"train/study_cohort\"))\n",
    "\n",
    "# make an AIRR dataset from the generated repertoires to be used for training\n",
    "\n",
    "train_dataset = make_dataset(repertoire_paths=training_data_sc1[\"repertoire\"], path=scenario1_data_path / 'train', \n",
    "                             dataset_name=\"experiment2_sc1_train\", \n",
    "                             signal_names=[immune_state_signal.id, experimental_protocol_node.name])"
   ]
  },
  {
   "cell_type": "code",
   "execution_count": null,
   "metadata": {
    "pycharm": {
     "name": "#%%\n"
    }
   },
   "outputs": [],
   "source": [
    "# make a test dataset\n",
    "\n",
    "repertoire_node = ds.Node(name=\"repertoire\", function=get_repertoire,\n",
    "                             kwargs={\"immune_state\": immune_state_node,\n",
    "                                        \"experimental_protocol_id\": experimental_protocol_node,\n",
    "                                        \"path\": scenario1_data_path / \"test\", \"sequence_count\": sequence_count,\n",
    "                                        \"immune_state_signal\": immune_state_signal,\n",
    "                                        'immune_state_implanting_rate': immune_state_implanting_rate,\n",
    "                                        \"protocol_implanting_rate\": protocol_implanting_rate})\n",
    "\n",
    "graph = ds.Graph(name=\"graph_experiment_2_1\",\n",
    "                 list_nodes=[immune_state_node, hospital_node, experimental_protocol_node, repertoire_node,\n",
    "                             selection_node])\n",
    "\n",
    "\n",
    "test_data = graph.simulate(num_samples=test_example_count, csv_name=str(scenario1_data_path / \"test/test_cohort\"),\n",
    "                           selection=False)\n",
    "\n",
    "test_dataset = make_dataset(repertoire_paths=test_data[\"repertoire\"], path=scenario1_data_path / 'test',\n",
    "                            dataset_name=\"experiment2_sc1_test\",\n",
    "                            signal_names=[immune_state_signal.id, experimental_protocol_node.name])\n",
    "\n",
    "# merge datasets (but the distinction between train and test will be kept in the ML analysis part)\n",
    "\n",
    "dataset = make_AIRR_dataset(train_dataset, test_dataset, scenario1_data_path / 'full_dataset')"
   ]
  },
  {
   "cell_type": "markdown",
   "metadata": {},
   "source": [
    "### Step 2: Training an ML model"
   ]
  },
  {
   "cell_type": "code",
   "execution_count": null,
   "metadata": {},
   "outputs": [],
   "source": [
    "specs = {\n",
    "    \"definitions\": {\n",
    "        \"datasets\": {\n",
    "            \"dataset1\": {\n",
    "                \"format\": 'AIRR',\n",
    "                \"params\": {\n",
    "                    \"path\": str(scenario1_data_path / 'full_dataset'),\n",
    "                    \"metadata_file\": str(scenario1_data_path / 'full_dataset/metadata.csv')\n",
    "                }\n",
    "            }\n",
    "        },\n",
    "        \"encodings\": {\n",
    "            \"kmer_frequency\": {\n",
    "                \"KmerFrequency\": {\"k\": 3}\n",
    "            }\n",
    "        },\n",
    "        \"ml_methods\": {\n",
    "            \"logistic_regression\": {\n",
    "                \"LogisticRegression\": {\n",
    "                    \"penalty\": \"l1\",\n",
    "                    \"C\": [0.01, 0.1, 1, 10, 100],\n",
    "                    \"max_iter\": 1500,\n",
    "                    \"show_warnings\": False\n",
    "                },\n",
    "                \"model_selection_cv\": True,\n",
    "                \"model_selection_n_folds\": 5\n",
    "            }\n",
    "        },\n",
    "        \"reports\": {\n",
    "            \"coefficients\": {\n",
    "                \"Coefficients\": { # show top 25 logistic regression coefficients and what k-mers they correspond to\n",
    "                    \"coefs_to_plot\": ['n_largest'],\n",
    "                    \"n_largest\": [25]\n",
    "                }\n",
    "            },\n",
    "            \"feature_comparison\": {\n",
    "                \"FeatureComparison\": {\n",
    "                    \"comparison_label\": \"immune_state\",\n",
    "                    \"color_grouping_label\": \"experimental_protocol\",\n",
    "                    \"show_error_bar\": False,\n",
    "                    \"keep_fraction\": 0.1\n",
    "                }\n",
    "            }\n",
    "        }\n",
    "    },\n",
    "    \"instructions\": {\n",
    "        'train_ml': {\n",
    "            \"type\": \"TrainMLModel\",\n",
    "            \"assessment\": { # ensure here that train and test dataset are fixed, as per simulation\n",
    "                \"split_strategy\": \"manual\",\n",
    "                \"split_count\": 1,\n",
    "                \"manual_config\": {\n",
    "                    \"train_metadata_path\": str(scenario1_data_path / \"train/experiment2_sc1_train_metadata.csv\"),\n",
    "                    \"test_metadata_path\": str(scenario1_data_path / \"test/experiment2_sc1_test_metadata.csv\")\n",
    "                },\n",
    "                \"reports\": {\n",
    "                    \"models\": [\"coefficients\"],\n",
    "                    \"encoding\": [\"feature_comparison\"]\n",
    "                }\n",
    "            },\n",
    "            \"selection\": {\n",
    "                \"split_strategy\": \"random\",\n",
    "                \"train_percentage\": 0.7,\n",
    "                \"split_count\": 5,\n",
    "                \"reports\": {\n",
    "                    \"models\": [\"coefficients\"],\n",
    "                    \"encoding\": [\"feature_comparison\"]\n",
    "                }\n",
    "            },\n",
    "            \"settings\": [\n",
    "                {\"encoding\": \"kmer_frequency\", \"ml_method\": \"logistic_regression\"}\n",
    "            ],\n",
    "            \"dataset\": \"dataset1\",\n",
    "            \"refit_optimal_model\": False,\n",
    "            \"labels\": [\"immune_state\"],\n",
    "            \"optimization_metric\": \"balanced_accuracy\",\n",
    "            \"metrics\": ['log_loss', 'auc']\n",
    "        }\n",
    "    }\n",
    "}\n",
    "\n",
    "scenario1_ml_result_path = setup_path(\"./experiment2/scenario1/ml_result/\")\n",
    "scenario1_specs_path = scenario1_ml_result_path / \"specs.yaml\"\n",
    "\n",
    "with open(scenario1_specs_path, \"w\") as file:\n",
    "    yaml.dump(specs, file)"
   ]
  },
  {
   "cell_type": "code",
   "execution_count": null,
   "metadata": {},
   "outputs": [],
   "source": [
    "# run immuneML with the specs file\n",
    "\n",
    "from immuneML.app.ImmuneMLApp import ImmuneMLApp\n",
    "\n",
    "scenario1_output_path = scenario1_ml_result_path / \"result/\"\n",
    "\n",
    "app = ImmuneMLApp(specification_path = scenario1_specs_path, result_path = scenario1_output_path)\n",
    "result = app.run()\n",
    "\n",
    "print(\"The results are located under ./experiment2/scenario1/\")"
   ]
  },
  {
   "cell_type": "code",
   "execution_count": null,
   "metadata": {},
   "outputs": [],
   "source": [
    "from util.plotting import plot_balanced_error_rate\n",
    "    \n",
    "plot_balanced_error_rate(iml_result=result, result_path=scenario1_ml_result_path)"
   ]
  },
  {
   "cell_type": "markdown",
   "metadata": {},
   "source": [
    "## Scenario 2: immune state does not influence the AIRR: learning spurious correlations"
   ]
  },
  {
   "cell_type": "code",
   "execution_count": null,
   "metadata": {},
   "outputs": [],
   "source": [
    "# define and build path, remove content if not empty\n",
    "\n",
    "scenario2_path = setup_path(\"./experiment2/scenario2/\")\n",
    "scenario2_data_path = setup_path(scenario2_path / \"data\")\n",
    "\n",
    "# define constants for the simulation\n",
    "\n",
    "p_immune_state = 0.5 # parameter of binomial distribution for the immune state\n",
    "p_hospital = 0.5 # parameter of binomial distribution for selecting between hospitals 1 and 2\n",
    "\n",
    "sequence_count = 2000\n",
    "immune_state_implanting_rate = 0.0\n",
    "protocol_implanting_rate = 0.04\n",
    "\n",
    "immune_state_signal = make_immune_state_signal()"
   ]
  },
  {
   "cell_type": "code",
   "execution_count": null,
   "metadata": {},
   "outputs": [],
   "source": [
    "immune_state_node = ds.Node(name=\"immune_state\", function=get_immune_state, kwargs={\"p\": p_immune_state})\n",
    "\n",
    "hospital_node = ds.Node(name=\"hospital\", function=get_hospital, kwargs={\"p\": p_hospital})\n",
    "\n",
    "experimental_protocol_node = ds.Node(name=\"exp_protocol\", function=get_exp_protocol, kwargs={\"hospital\": hospital_node})\n",
    "\n",
    "selection_node = ds.Selection(name=\"S\", function=get_selection,\n",
    "                              kwargs={\"hospital\": hospital_node, \"immune_state\": immune_state_node})\n",
    "\n",
    "repertoire_node = ds.Node(name=\"repertoire\", function=get_repertoire,\n",
    "                             kwargs={\"immune_state\": immune_state_node, \"experimental_protocol_id\": experimental_protocol_node,\n",
    "                                        \"path\": scenario2_data_path / \"train\", \"sequence_count\": sequence_count, \n",
    "                                        \"immune_state_signal\": immune_state_signal,\n",
    "                                        'immune_state_implanting_rate': immune_state_implanting_rate,\n",
    "                                        \"protocol_implanting_rate\": protocol_implanting_rate})\n",
    "\n",
    "# make a causal graph using DagSim and show it graphically\n",
    "\n",
    "graph = ds.Graph(name=\"graph_experiment_2_2\", \n",
    "                 list_nodes=[immune_state_node, hospital_node, experimental_protocol_node,\n",
    "                             repertoire_node, selection_node])\n",
    "graph.draw()"
   ]
  },
  {
   "cell_type": "code",
   "execution_count": null,
   "metadata": {
    "pycharm": {
     "name": "#%%\n"
    }
   },
   "outputs": [],
   "source": [
    "# make a train dataset\n",
    "\n",
    "training_data_sc2 = graph.simulate(num_samples=train_example_count, \n",
    "                                   csv_name=str(scenario2_data_path / \"train/study_cohort\"))\n",
    "\n",
    "train_dataset = make_dataset(repertoire_paths=training_data_sc2[\"repertoire\"], path=scenario2_data_path / 'train',\n",
    "                             dataset_name=\"experiment2_sc2_train\",\n",
    "                             signal_names=[immune_state_signal.id, experimental_protocol_node.name])\n",
    "\n",
    "# make a test dataset\n",
    "\n",
    "repertoire_node = ds.Node(name=\"repertoire\", function=get_repertoire,\n",
    "                             kwargs={\"immune_state\": immune_state_node, \"experimental_protocol_id\": experimental_protocol_node,\n",
    "                                        \"path\": scenario2_data_path / \"test\", \"sequence_count\": sequence_count,\n",
    "                                        \"immune_state_signal\": immune_state_signal,\n",
    "                                        'immune_state_implanting_rate': immune_state_implanting_rate,\n",
    "                                        \"protocol_implanting_rate\": protocol_implanting_rate})\n",
    "\n",
    "graph = ds.Graph(name=\"graph_experiment_2_2\",\n",
    "                 list_nodes=[immune_state_node, hospital_node, experimental_protocol_node,\n",
    "                             repertoire_node, selection_node])\n",
    "\n",
    "test_data = graph.simulate(num_samples=test_example_count, csv_name=str(scenario2_data_path / \"test/test_cohort\"),\n",
    "                           selection=False)\n",
    "\n",
    "test_dataset = make_dataset(repertoire_paths=test_data[\"repertoire\"], path=scenario2_data_path / 'test',\n",
    "                            dataset_name=\"experiment2_sc2_test\",\n",
    "                            signal_names=[immune_state_signal.id, experimental_protocol_node.name])\n",
    "\n",
    "# merge datasets (but the distinction between train and test will be kept in the ML analysis part)\n",
    "\n",
    "dataset = make_AIRR_dataset(train_dataset, test_dataset, scenario2_data_path / 'full_dataset')"
   ]
  },
  {
   "cell_type": "markdown",
   "metadata": {
    "pycharm": {
     "name": "#%% md\n"
    }
   },
   "source": [
    "### Step 2: Training an ML model"
   ]
  },
  {
   "cell_type": "code",
   "execution_count": null,
   "metadata": {},
   "outputs": [],
   "source": [
    "specs = {\n",
    "    \"definitions\": {\n",
    "        \"datasets\": {\n",
    "            \"dataset1\": {\n",
    "                \"format\": 'AIRR',\n",
    "                \"params\": {\n",
    "                    \"path\": str(scenario2_data_path / 'full_dataset'),\n",
    "                    \"metadata_file\": str(scenario2_data_path / 'full_dataset/metadata.csv')\n",
    "                }\n",
    "            }\n",
    "        },\n",
    "        \"encodings\": {\n",
    "            \"kmer_frequency\": {\n",
    "                \"KmerFrequency\": {\"k\": 3}\n",
    "            }\n",
    "        },\n",
    "        \"ml_methods\": {\n",
    "            \"logistic_regression\": {\n",
    "                \"LogisticRegression\": {\n",
    "                    \"penalty\": \"l1\",\n",
    "                    \"C\": [0.01, 0.1, 1, 10, 100],\n",
    "                    \"max_iter\": 1500,\n",
    "                    \"show_warnings\": False\n",
    "                },\n",
    "                \"model_selection_cv\": True,\n",
    "                \"model_selection_n_folds\": 5\n",
    "            }\n",
    "        },\n",
    "        \"reports\": {\n",
    "            \"coefficients\": {\n",
    "                \"Coefficients\": { # show top 25 logistic regression coefficients and what k-mers they correspond to\n",
    "                    \"coefs_to_plot\": ['n_largest'],\n",
    "                    \"n_largest\": [25]\n",
    "                }\n",
    "            },\n",
    "            \"feature_comparison\": {\n",
    "                \"FeatureComparison\": {\n",
    "                    \"comparison_label\": \"immune_state\",\n",
    "                    \"color_grouping_label\": \"experimental_protocol\",\n",
    "                    \"show_error_bar\": False,\n",
    "                    \"keep_fraction\": 0.1\n",
    "                }\n",
    "            }\n",
    "        }\n",
    "    },\n",
    "    \"instructions\": {\n",
    "        'train_ml': {\n",
    "            \"type\": \"TrainMLModel\",\n",
    "            \"assessment\": { # ensure here that train and test dataset are fixed, as per simulation\n",
    "                \"split_strategy\": \"manual\",\n",
    "                \"split_count\": 1,\n",
    "                \"manual_config\": {\n",
    "                    \"train_metadata_path\": str(scenario2_data_path / \"train/experiment2_sc2_train_metadata.csv\"),\n",
    "                    \"test_metadata_path\": str(scenario2_data_path / \"test/experiment2_sc2_test_metadata.csv\")\n",
    "                },\n",
    "                \"reports\": {\n",
    "                    \"models\": [\"coefficients\"],\n",
    "                    \"encoding\": [\"feature_comparison\"]\n",
    "                }\n",
    "            },\n",
    "            \"selection\": {\n",
    "                \"split_strategy\": \"random\",\n",
    "                \"train_percentage\": 0.7,\n",
    "                \"split_count\": 1,\n",
    "                \"reports\": {\n",
    "                    \"models\": [\"coefficients\"],\n",
    "                    \"encoding\": [\"feature_comparison\"]\n",
    "                }\n",
    "            },\n",
    "            \"settings\": [\n",
    "                {\"encoding\": \"kmer_frequency\", \"ml_method\": \"logistic_regression\"}\n",
    "            ],\n",
    "            \"dataset\": \"dataset1\",\n",
    "            \"refit_optimal_model\": False,\n",
    "            \"labels\": [\"immune_state\"],\n",
    "            \"optimization_metric\": \"balanced_accuracy\",\n",
    "            \"metrics\": ['log_loss', 'auc']\n",
    "        }\n",
    "    }\n",
    "}\n",
    "\n",
    "scenario2_ml_result_path = setup_path(\"./experiment2/scenario2/ml_result/\")\n",
    "scenario2_specs_path = scenario2_ml_result_path / \"specs.yaml\"\n",
    "\n",
    "with open(scenario2_specs_path, \"w\") as file:\n",
    "    yaml.dump(specs, file)"
   ]
  },
  {
   "cell_type": "code",
   "execution_count": null,
   "metadata": {
    "pycharm": {
     "is_executing": true
    }
   },
   "outputs": [],
   "source": [
    "# run immuneML with the specs file\n",
    "\n",
    "from immuneML.app.ImmuneMLApp import ImmuneMLApp\n",
    "\n",
    "scenario2_output_path = scenario2_ml_result_path / \"result/\"\n",
    "\n",
    "app = ImmuneMLApp(specification_path = scenario2_specs_path, result_path = scenario2_output_path)\n",
    "result = app.run()\n",
    "\n",
    "print(\"The results are located under ./experiment2/scenario2/\")"
   ]
  },
  {
   "cell_type": "code",
   "execution_count": null,
   "metadata": {},
   "outputs": [],
   "source": [
    "from util.plotting import plot_balanced_error_rate\n",
    "    \n",
    "plot_balanced_error_rate(iml_result=result, result_path=scenario2_ml_result_path)"
   ]
  }
 ],
 "metadata": {
  "kernelspec": {
   "display_name": "Python 3 (ipykernel)",
   "language": "python",
   "name": "python3"
  },
  "language_info": {
   "codemirror_mode": {
    "name": "ipython",
    "version": 3
   },
   "file_extension": ".py",
   "mimetype": "text/x-python",
   "name": "python",
   "nbconvert_exporter": "python",
   "pygments_lexer": "ipython3",
   "version": "3.8.3"
  },
  "varInspector": {
   "cols": {
    "lenName": 16,
    "lenType": 16,
    "lenVar": 40
   },
   "kernels_config": {
    "python": {
     "delete_cmd_postfix": "",
     "delete_cmd_prefix": "del ",
     "library": "var_list.py",
     "varRefreshCmd": "print(var_dic_list())"
    },
    "r": {
     "delete_cmd_postfix": ") ",
     "delete_cmd_prefix": "rm(",
     "library": "var_list.r",
     "varRefreshCmd": "cat(var_dic_list()) "
    }
   },
   "types_to_exclude": [
    "module",
    "function",
    "builtin_function_or_method",
    "instance",
    "_Feature"
   ],
   "window_display": false
  }
 },
 "nbformat": 4,
 "nbformat_minor": 1
}