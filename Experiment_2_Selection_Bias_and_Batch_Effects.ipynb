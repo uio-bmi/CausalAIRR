{
 "cells": [
  {
   "cell_type": "markdown",
   "metadata": {
    "collapsed": true
   },
   "source": [
    "# Experiment 2: Selection Bias and Batch Effects\n",
    "\n",
    "In this experiment, we combine selection bias and batch effects. The AIRR data comes from 2 hospitals: `hospital1` that recruits mostly diseased and `hospital2` that recruits mostly healthy individuals. We explore two possible scenarios here:\n",
    "\n",
    "1. the performance of the ML model when there is a selection bias during training, but not in the test dataset.\n",
    "\n",
    "2. the performance of the ML model when there is no connection between the immune state and AIRR: we will show that ML models will in this case learn only a spurious correlation.\n",
    "\n",
    "Immune state is a binary variable and can have values `True` or `False` to indicate if an individual is diseased or healthy. AIRR is a set of sequences simulated based on the values of the immune state and the confounder for the given individual. Hospital is a binary variable (`hospital1` or `hospital2`). Each hospital has their own experimental protocol that influences the observed AIRR. The influence of the experimental protocol on AIRR is manifested via higher frequency of some k-mers in the sequenced AIRRs.\n",
    "\n",
    "Steps for each scenario:\n",
    "\n",
    "1. Simulate training and test dataset from a causal graph to include the variables as described above.\n",
    "\n",
    "2. Train an ML model (here: logistic regression on repertoires represented by the k-mer frequencies) on the train set which has selection bias and assess its performance on the test set when there is no selection bias.\n",
    "\n",
    "Software used: \n",
    "\n",
    "- DagSim for simulation of the causal graph; \n",
    "- immuneML v2.1 for implanting signal in AIRRs and for training and assessing machine learning classifiers; \n",
    "- OLGA for simulation of naive AIRRs"
   ]
  },
  {
   "cell_type": "code",
   "execution_count": 1,
   "metadata": {},
   "outputs": [],
   "source": [
    "import os\n",
    "import yaml\n",
    "import dagsim.base as ds\n",
    "import numpy as np\n",
    "from pathlib import Path\n",
    "from util.dataset_util import make_olga_repertoire, load_iml_repertoire, make_AIRR_dataset, make_dataset, setup_path\n",
    "from util.experiment2 import make_immune_state_signal\n",
    "from util.simulation import get_immune_state, get_hospital, get_exp_protocol, get_repertoire, get_selection\n",
    "from immuneML.util.PathBuilder import PathBuilder\n",
    "from immuneML.simulation.implants.Signal import Signal"
   ]
  },
  {
   "cell_type": "code",
   "execution_count": 2,
   "metadata": {},
   "outputs": [
    {
     "name": "stdout",
     "output_type": "stream",
     "text": [
      "Removing experiment2...\n"
     ]
    }
   ],
   "source": [
    "setup_path(\"./experiment2\") # remove results from the previous run\n",
    "\n",
    "train_example_count = 200\n",
    "test_example_count = 50"
   ]
  },
  {
   "cell_type": "markdown",
   "metadata": {},
   "source": [
    "## Scenario 1: immune state signal is stronger than the influence of the experimental protocol"
   ]
  },
  {
   "cell_type": "code",
   "execution_count": 3,
   "metadata": {},
   "outputs": [],
   "source": [
    "# define and build path, remove content if not empty\n",
    "\n",
    "scenario1_path = setup_path(\"./experiment2/scenario1/\")\n",
    "scenario1_data_path = setup_path(scenario1_path / \"data\")"
   ]
  },
  {
   "cell_type": "markdown",
   "metadata": {},
   "source": [
    "### Step 1: AIRR simulation from a causal graph"
   ]
  },
  {
   "cell_type": "code",
   "execution_count": 4,
   "metadata": {},
   "outputs": [],
   "source": [
    "# define constants for the simulation\n",
    "\n",
    "p_immune_state = 0.5 # parameter of binomial distribution for the immune state\n",
    "p_hospital = 0.5 # parameter of binomial distribution for selecting between hospitals 1 and 2\n",
    "\n",
    "sequence_count = 2000\n",
    "immune_state_implanting_rate = 0.01\n",
    "protocol_implanting_rate = 0.01\n",
    "\n",
    "immune_state_signal = make_immune_state_signal()\n",
    "\n",
    "\n",
    "# define nodes of ]the causal graph\n",
    "\n",
    "immune_state_node = ds.Generic(name=\"immune_state\", function=get_immune_state, arguments={\"p\": p_immune_state})\n",
    "\n",
    "hospital_node = ds.Generic(name=\"hospital\", function=get_hospital, arguments={\"p\": p_hospital})\n",
    "\n",
    "experimental_protocol_node = ds.Generic(name=\"exp_protocol\", function=get_exp_protocol, arguments={\"hospital\": hospital_node})\n",
    "\n",
    "repertoire_node = ds.Generic(name=\"repertoire\", function=get_repertoire, \n",
    "                             arguments={\"immune_state\": immune_state_node, \n",
    "                                        \"experimental_protocol\": experimental_protocol_node,\n",
    "                                        \"path\": scenario1_data_path / \"train\", \"sequence_count\": sequence_count, \n",
    "                                        \"immune_state_signal\": immune_state_signal, \n",
    "                                        'immune_state_implanting_rate': immune_state_implanting_rate, \n",
    "                                        \"protocol_implanting_rate\": protocol_implanting_rate})\n",
    "\n",
    "selection_node = ds.Selection(name=\"S\", function=get_selection,\n",
    "                              arguments={\"hospital\": hospital_node, \"immune_state\": immune_state_node})\n",
    "\n",
    "# make a causal graph using DagSim and show it graphically\n",
    "\n",
    "graph = ds.Graph(name=\"graph_experiment_2_1\", \n",
    "                 list_nodes=[immune_state_node, hospital_node, experimental_protocol_node, repertoire_node, \n",
    "                             selection_node])\n",
    "graph.draw()"
   ]
  },
  {
   "cell_type": "code",
   "execution_count": 5,
   "metadata": {},
   "outputs": [
    {
     "name": "stdout",
     "output_type": "stream",
     "text": [
      "Simulation started\n",
      "Simulation finished in 638.6343 seconds\n",
      "Simulation started\n",
      "Simulation finished in 75.3197 seconds\n"
     ]
    }
   ],
   "source": [
    "training_data_sc1 = graph.simulate(num_samples=train_example_count, selection=True,\n",
    "                                   csv_name=str(scenario1_data_path / \"train/study_cohort\"))\n",
    "\n",
    "# make an AIRR dataset from the generated repertoires to be used for training\n",
    "\n",
    "train_dataset = make_dataset(repertoire_paths=training_data_sc1[\"repertoire\"], path=scenario1_data_path / 'train', \n",
    "                             dataset_name=\"experiment2_sc1_train\", \n",
    "                             signal_names=[immune_state_signal.id, experimental_protocol_node.name])\n",
    "\n",
    "# make a test dataset\n",
    "\n",
    "repertoire_node.additional_parameters['path'] = scenario1_data_path / 'test' \n",
    "\n",
    "test_data = graph.simulate(num_samples=test_example_count, csv_name=str(scenario1_data_path / \"test/test_cohort\"), \n",
    "                           selection=False)\n",
    "\n",
    "test_dataset = make_dataset(repertoire_paths=test_data[\"repertoire\"], path=scenario1_data_path / 'test',\n",
    "                            dataset_name=\"experiment2_sc1_test\", \n",
    "                            signal_names=[immune_state_signal.id, experimental_protocol_node.name])\n",
    "\n",
    "# merge datasets (but the distinction between train and test will be kept in the ML analysis part)\n",
    "\n",
    "dataset = make_AIRR_dataset(train_dataset, test_dataset, scenario1_data_path / 'full_dataset')"
   ]
  },
  {
   "cell_type": "markdown",
   "metadata": {},
   "source": [
    "### Step 2: Training an ML model"
   ]
  },
  {
   "cell_type": "code",
   "execution_count": 23,
   "metadata": {},
   "outputs": [
    {
     "name": "stdout",
     "output_type": "stream",
     "text": [
      "Removing experiment2/scenario1/ml_result...\n"
     ]
    }
   ],
   "source": [
    "specs = {\n",
    "    \"definitions\": {\n",
    "        \"datasets\": {\n",
    "            \"dataset1\": {\n",
    "                \"format\": 'AIRR',\n",
    "                \"params\": {\n",
    "                    \"path\": str(scenario1_data_path / 'full_dataset'),\n",
    "                    \"metadata_file\": str(scenario1_data_path / 'full_dataset/metadata.csv')\n",
    "                }\n",
    "            }\n",
    "        },\n",
    "        \"encodings\": {\n",
    "            \"kmer_frequency\": {\n",
    "                \"KmerFrequency\": {\"k\": 3}\n",
    "            }\n",
    "        },\n",
    "        \"ml_methods\": {\n",
    "            \"logistic_regression\": {\n",
    "                \"LogisticRegression\": {\n",
    "                    \"penalty\": \"l1\",\n",
    "                    \"C\": [0.01, 0.1, 1, 10, 100],\n",
    "                    \"max_iter\": 1500,\n",
    "                    \"show_warnings\": False\n",
    "                },\n",
    "                \"model_selection_cv\": True,\n",
    "                \"model_selection_n_folds\": 5\n",
    "            }\n",
    "        },\n",
    "        \"reports\": {\n",
    "            \"coefficients\": {\n",
    "                \"Coefficients\": { # show top 25 logistic regression coefficients and what k-mers they correspond to\n",
    "                    \"coefs_to_plot\": ['n_largest'],\n",
    "                    \"n_largest\": [25]\n",
    "                }\n",
    "            },\n",
    "            \"feature_comparison\": {\n",
    "                \"FeatureComparison\": {\n",
    "                    \"comparison_label\": \"immune_state\",\n",
    "                    \"color_grouping_label\": \"experimental_protocol\",\n",
    "                    \"show_error_bar\": False,\n",
    "                    \"keep_fraction\": 0.1\n",
    "                }\n",
    "            }\n",
    "        }\n",
    "    },\n",
    "    \"instructions\": {\n",
    "        'train_ml': {\n",
    "            \"type\": \"TrainMLModel\",\n",
    "            \"assessment\": { # ensure here that train and test dataset are fixed, as per simulation\n",
    "                \"split_strategy\": \"manual\",\n",
    "                \"split_count\": 1,\n",
    "                \"manual_config\": {\n",
    "                    \"train_metadata_path\": str(scenario1_data_path / \"train/experiment2_sc1_train_metadata.csv\"),\n",
    "                    \"test_metadata_path\": str(scenario1_data_path / \"test/experiment2_sc1_test_metadata.csv\")\n",
    "                },\n",
    "                \"reports\": {\n",
    "                    \"models\": [\"coefficients\"],\n",
    "                    \"encoding\": [\"feature_comparison\"]\n",
    "                }\n",
    "            },\n",
    "            \"selection\": {\n",
    "                \"split_strategy\": \"random\",\n",
    "                \"train_percentage\": 0.7,\n",
    "                \"split_count\": 5,\n",
    "                \"reports\": {\n",
    "                    \"models\": [\"coefficients\"],\n",
    "                    \"encoding\": [\"feature_comparison\"]\n",
    "                }\n",
    "            },\n",
    "            \"settings\": [\n",
    "                {\"encoding\": \"kmer_frequency\", \"ml_method\": \"logistic_regression\"}\n",
    "            ],\n",
    "            \"dataset\": \"dataset1\",\n",
    "            \"refit_optimal_model\": False,\n",
    "            \"labels\": [\"immune_state\"],\n",
    "            \"optimization_metric\": \"balanced_accuracy\",\n",
    "            \"metrics\": ['log_loss', 'auc']\n",
    "        }\n",
    "    }\n",
    "}\n",
    "\n",
    "scenario1_ml_result_path = setup_path(\"./experiment2/scenario1/ml_result/\")\n",
    "scenario1_specs_path = scenario1_ml_result_path / \"specs.yaml\"\n",
    "\n",
    "with open(scenario1_specs_path, \"w\") as file:\n",
    "    yaml.dump(specs, file)"
   ]
  },
  {
   "cell_type": "code",
   "execution_count": 24,
   "metadata": {},
   "outputs": [
    {
     "name": "stdout",
     "output_type": "stream",
     "text": [
      "2022-01-17 15:29:45.813923: Setting temporary cache path to experiment2/scenario1/ml_result/result/cache\n",
      "2022-01-17 15:29:45.814991: ImmuneML: parsing the specification...\n",
      "\n",
      "2022-01-17 15:30:30.456961: Full specification is available at experiment2/scenario1/ml_result/result/full_specs.yaml.\n",
      "\n",
      "2022-01-17 15:30:30.458089: ImmuneML: starting the analysis...\n",
      "\n",
      "2022-01-17 15:30:30.458611: Instruction 1/1 has started.\n",
      "2022-01-17 15:30:30.549570: Training ML model: running outer CV loop: started split 1/1.\n",
      "\n",
      "2022-01-17 15:30:30.656400: Hyperparameter optimization: running the inner loop of nested CV: selection for label immune_state (label 1 / 1).\n",
      "\n",
      "2022-01-17 15:30:30.658570: Evaluating hyperparameter setting: kmer_frequency_logistic_regression...\n",
      "2022-01-17 15:30:30.659897: Encoding started...\n",
      "2022-01-17 15:30:42.311634: Encoding finished.\n",
      "2022-01-17 15:30:42.312068: ML model training started...\n",
      "2022-01-17 15:31:55.672430: ML model training finished.\n",
      "     feature  immune_state_x  experimental_protocol  valuemean_x  valuestd_x  \\\n",
      "5430     QPR           False                   True     0.416930    0.326279   \n",
      "5561     QYG           False                   True     0.619742    0.622341   \n",
      "5300     QHF           False                   True     0.513067    0.849197   \n",
      "2476     HFF           False                   True     0.394550    0.719439   \n",
      "99       AFY           False                   True     1.652425    1.033897   \n",
      "...      ...             ...                    ...          ...         ...   \n",
      "4493     NGT           False                   True     1.580830    0.827735   \n",
      "3658     LEM           False                   True     0.384299    0.866223   \n",
      "141      AIC           False                   True     0.633058    1.084609   \n",
      "154      AIR           False                   True     2.479391    1.034086   \n",
      "1991     FYY           False                   True     0.476327    0.947355   \n",
      "\n",
      "      immune_state_y  valuemean_y  valuestd_y  \n",
      "5430            True     2.268532    0.532216  \n",
      "5561            True     1.672952    1.119592  \n",
      "5300            True     1.538764    0.887167  \n",
      "2476            True     1.318601    1.100587  \n",
      "99              True     0.732242    0.623331  \n",
      "...              ...          ...         ...  \n",
      "4493            True     1.874317    1.191890  \n",
      "3658            True     0.677748    1.150139  \n",
      "141             True     0.339704    0.826923  \n",
      "154             True     2.772615    0.918919  \n",
      "1991            True     0.769254    1.049902  \n",
      "\n",
      "[797 rows x 8 columns]\n",
      "2022-01-17 15:32:01.477673: Encoding started...\n"
     ]
    },
    {
     "name": "stderr",
     "output_type": "stream",
     "text": [
      "WARNING:root:KmerSequenceEncoder: Sequence length 2 is less than 3. Ignoring sequence...\n",
      "WARNING:root:KmerSequenceEncoder: Sequence length 2 is less than 3. Ignoring sequence...\n"
     ]
    },
    {
     "name": "stdout",
     "output_type": "stream",
     "text": [
      "2022-01-17 15:32:06.224491: Encoding finished.\n",
      "     feature  immune_state_x  experimental_protocol  valuemean_x  valuestd_x  \\\n",
      "5430     QPR           False                   True     0.380952    0.275040   \n",
      "2777     HYI           False                   True     0.642163    2.686461   \n",
      "2768     HWW           False                   True     0.327783    1.966701   \n",
      "5300     QHF           False                   True     0.261024    0.681701   \n",
      "2491     HFY           False                   True     0.318331    0.603925   \n",
      "...      ...             ...                    ...          ...         ...   \n",
      "645      CPK           False                   True     0.674929    1.253957   \n",
      "5213     QCV           False                   True     0.457539    1.229521   \n",
      "1059     DQE           False                   True     2.243256    1.308209   \n",
      "4491     NGR           False                   True     1.731784    1.102255   \n",
      "7766     YLQ           False                   True     0.563871    0.983978   \n",
      "\n",
      "      immune_state_y  valuemean_y  valuestd_y  \n",
      "5430            True     2.368260    0.588313  \n",
      "2777            True     2.540716    4.820954  \n",
      "2768            True     2.110469    4.599782  \n",
      "5300            True     1.861733    0.678799  \n",
      "2491            True     1.808053    1.131794  \n",
      "...              ...          ...         ...  \n",
      "645             True     0.217337    0.704346  \n",
      "5213            True     0.000000    0.000000  \n",
      "1059            True     1.785722    1.150073  \n",
      "4491            True     1.274328    0.893724  \n",
      "7766            True     1.021305    0.942140  \n",
      "\n",
      "[797 rows x 8 columns]\n",
      "2022-01-17 15:32:09.667385: Completed hyperparameter setting kmer_frequency_logistic_regression.\n",
      "\n",
      "2022-01-17 15:32:09.669475: Evaluating hyperparameter setting: kmer_frequency_logistic_regression...\n",
      "2022-01-17 15:32:09.670780: Encoding started...\n"
     ]
    },
    {
     "name": "stderr",
     "output_type": "stream",
     "text": [
      "WARNING:root:KmerSequenceEncoder: Sequence length 2 is less than 3. Ignoring sequence...\n"
     ]
    },
    {
     "name": "stdout",
     "output_type": "stream",
     "text": [
      "2022-01-17 15:32:15.789269: Encoding finished.\n",
      "2022-01-17 15:32:15.789689: ML model training started...\n",
      "2022-01-17 15:33:28.336661: ML model training finished.\n",
      "     feature  immune_state_x  experimental_protocol  valuemean_x  valuestd_x  \\\n",
      "5432     QPR           False                   True     0.374521    0.266289   \n",
      "5302     QHF           False                   True     0.506314    0.843868   \n",
      "2475     HFF           False                   True     0.379817    0.701466   \n",
      "99       AFY           False                   True     1.550439    1.050458   \n",
      "84       AFF           False                   True     1.290208    0.977024   \n",
      "...      ...             ...                    ...          ...         ...   \n",
      "3533     KVG           False                   True     1.436309    0.997422   \n",
      "532      CHP           False                   True     0.261728    0.845271   \n",
      "965      DKP           False                   True     0.951370    1.094204   \n",
      "6080     SGD           False                   True     3.577502    0.985731   \n",
      "3529     KVC           False                   True     0.236958    0.832237   \n",
      "\n",
      "      immune_state_y  valuemean_y  valuestd_y  \n",
      "5432            True     2.222612    0.535823  \n",
      "5302            True     1.674192    0.777468  \n",
      "2475            True     1.424149    1.026666  \n",
      "99              True     0.534348    0.521616  \n",
      "84              True     0.340782    0.738563  \n",
      "...              ...          ...         ...  \n",
      "3533            True     1.150798    0.979941  \n",
      "532             True     0.547234    1.155037  \n",
      "965             True     0.665886    0.830894  \n",
      "6080            True     3.292297    0.995639  \n",
      "3529            True     0.522147    1.167633  \n",
      "\n",
      "[797 rows x 8 columns]\n",
      "2022-01-17 15:33:33.864910: Encoding started...\n",
      "2022-01-17 15:33:37.474419: Encoding finished.\n",
      "     feature  immune_state_x  experimental_protocol  valuemean_x  valuestd_x  \\\n",
      "3313     KHF           False                   True     0.000000    0.000000   \n",
      "5432     QPR           False                   True     0.408161    0.347080   \n",
      "4984     PMH           False                   True     0.405778    1.791867   \n",
      "2480     HFL           False                   True     1.365695    2.066808   \n",
      "764      CWN           False                   True     0.111864    0.707492   \n",
      "...      ...             ...                    ...          ...         ...   \n",
      "599      CLY           False                   True     0.600441    1.136453   \n",
      "2606     HMS           False                   True     0.476090    1.149938   \n",
      "5176     PYW           False                   True     0.821715    1.469264   \n",
      "6947     VKL           False                   True     0.741909    0.884657   \n",
      "7680     YGG           False                   True     1.662190    0.770198   \n",
      "\n",
      "      immune_state_y  valuemean_y  valuestd_y  \n",
      "3313            True     1.800885    3.488057  \n",
      "5432            True     2.063382    0.463765  \n",
      "4984            True     1.798336    3.482556  \n",
      "2480            True     0.000000    0.000000  \n",
      "764             True     1.449346    2.133702  \n",
      "...              ...          ...         ...  \n",
      "599             True     1.076788    1.683048  \n",
      "2606            True     0.000000    0.000000  \n",
      "5176            True     0.346081    1.068561  \n",
      "6947            True     1.217249    0.962876  \n",
      "7680            True     2.137431    0.894296  \n",
      "\n",
      "[797 rows x 8 columns]\n",
      "2022-01-17 15:33:40.730905: Completed hyperparameter setting kmer_frequency_logistic_regression.\n",
      "\n",
      "2022-01-17 15:33:40.733853: Evaluating hyperparameter setting: kmer_frequency_logistic_regression...\n",
      "2022-01-17 15:33:40.734906: Encoding started...\n",
      "2022-01-17 15:33:45.229661: Encoding finished.\n",
      "2022-01-17 15:33:45.230386: ML model training started...\n",
      "2022-01-17 15:34:50.552586: ML model training finished.\n",
      "     feature  immune_state_x  experimental_protocol  valuemean_x  valuestd_x  \\\n",
      "5425     QPR           False                   True     0.388186    0.321349   \n",
      "5295     QHF           False                   True     0.407205    0.771451   \n",
      "2478     HFF           False                   True     0.320545    0.644986   \n",
      "4637     NQH           False                   True     0.330183    0.765934   \n",
      "99       AFY           False                   True     1.584198    1.005766   \n",
      "...      ...             ...                    ...          ...         ...   \n",
      "1020     DNE           False                   True     4.209367    1.027558   \n",
      "3250     KDW           False                   True     0.222223    0.776737   \n",
      "4001     MAN           False                   True     0.342504    0.992869   \n",
      "1784     FLI           False                   True     0.603808    1.068812   \n",
      "2755     HWD           False                   True     0.719817    1.110438   \n",
      "\n",
      "      immune_state_y  valuemean_y  valuestd_y  \n",
      "5425            True     2.241186    0.548792  \n",
      "5295            True     1.702921    0.778702  \n",
      "2478            True     1.454636    1.059079  \n",
      "4637            True     1.424759    0.954668  \n",
      "99              True     0.545724    0.572160  \n",
      "...              ...          ...         ...  \n",
      "1020            True     3.915516    0.928019  \n",
      "3250            True     0.515973    1.249264  \n",
      "4001            True     0.635916    0.984729  \n",
      "1784            True     0.310425    0.853072  \n",
      "2755            True     0.426435    0.766511  \n",
      "\n",
      "[796 rows x 8 columns]\n",
      "2022-01-17 15:34:56.482556: Encoding started...\n",
      "2022-01-17 15:35:00.517328: Encoding finished.\n",
      "     feature  immune_state_x  experimental_protocol  valuemean_x  valuestd_x  \\\n",
      "5425     QPR           False                   True     0.445027    0.282218   \n",
      "3408     KMW           False                   True     0.000000    0.000000   \n",
      "4202     MNF           False                   True     0.000000    0.000000   \n",
      "437      CCV           False                   True     0.000000    0.000000   \n",
      "5130     PVY           False                   True     1.066394    0.869663   \n",
      "...      ...             ...                    ...          ...         ...   \n",
      "3254     KED           False                   True     1.015646    1.127812   \n",
      "4152     MKL           False                   True     0.577999    1.370607   \n",
      "5491     QTA           False                   True     1.198231    0.968657   \n",
      "6681     TSM           False                   True     0.814980    1.318362   \n",
      "7604     YCT           False                   True     0.691982    1.119654   \n",
      "\n",
      "      immune_state_y  valuemean_y  valuestd_y  \n",
      "5425            True     2.411288    0.533811  \n",
      "3408            True     1.758343    3.427709  \n",
      "4202            True     1.509961    3.995017  \n",
      "437             True     1.488292    3.937925  \n",
      "5130            True     2.303226    1.113620  \n",
      "...              ...          ...         ...  \n",
      "3254            True     0.561634    0.772048  \n",
      "4152            True     0.124018    0.594770  \n",
      "5491            True     0.744413    0.882150  \n",
      "6681            True     0.361216    0.862587  \n",
      "7604            True     0.238457    0.631035  \n",
      "\n",
      "[796 rows x 8 columns]\n",
      "2022-01-17 15:35:04.187026: Completed hyperparameter setting kmer_frequency_logistic_regression.\n",
      "\n",
      "2022-01-17 15:35:04.189326: Evaluating hyperparameter setting: kmer_frequency_logistic_regression...\n",
      "2022-01-17 15:35:04.191315: Encoding started...\n"
     ]
    },
    {
     "name": "stderr",
     "output_type": "stream",
     "text": [
      "WARNING:root:KmerSequenceEncoder: Sequence length 2 is less than 3. Ignoring sequence...\n"
     ]
    },
    {
     "name": "stdout",
     "output_type": "stream",
     "text": [
      "2022-01-17 15:35:09.156850: Encoding finished.\n",
      "2022-01-17 15:35:09.157305: ML model training started...\n",
      "2022-01-17 15:36:20.655051: ML model training finished.\n",
      "     feature  immune_state_x  experimental_protocol  valuemean_x  valuestd_x  \\\n",
      "5432     QPR           False                   True     0.366350    0.315127   \n",
      "5302     QHF           False                   True     0.421277    0.795944   \n",
      "99       AFY           False                   True     1.679206    0.992079   \n",
      "2477     HFF           False                   True     0.350969    0.711340   \n",
      "4644     NQH           False                   True     0.370658    0.778922   \n",
      "...      ...             ...                    ...          ...         ...   \n",
      "1834     FPA           False                   True     0.904152    0.929721   \n",
      "1791     FLT           False                   True     0.933119    0.929788   \n",
      "3648     LEA           False                   True     1.990087    1.079934   \n",
      "1741     FIH           False                   True     0.423053    1.204073   \n",
      "2149     GIS           False                   True     2.018740    1.062280   \n",
      "\n",
      "      immune_state_y  valuemean_y  valuestd_y  \n",
      "5432            True     2.209665    0.520262  \n",
      "5302            True     1.550784    0.874638  \n",
      "99              True     0.608368    0.598515  \n",
      "2477            True     1.341623    1.053751  \n",
      "4644            True     1.349544    0.992739  \n",
      "...              ...          ...         ...  \n",
      "1834            True     1.193600    1.066637  \n",
      "1791            True     1.222555    1.066559  \n",
      "3648            True     1.700657    0.850460  \n",
      "1741            True     0.133779    0.577991  \n",
      "2149            True     2.307989    0.880490  \n",
      "\n",
      "[797 rows x 8 columns]\n",
      "2022-01-17 15:36:26.304691: Encoding started...\n",
      "2022-01-17 15:36:29.937196: Encoding finished.\n",
      "     feature  immune_state_x  experimental_protocol  valuemean_x  valuestd_x  \\\n",
      "5432     QPR           False                   True     0.438788    0.259860   \n",
      "84       AFF           False                   True     1.620474    1.082083   \n",
      "2492     HFY           False                   True     0.391418    0.622138   \n",
      "5302     QHF           False                   True     0.443264    0.796594   \n",
      "1461     EQH           False                   True     0.321317    0.639358   \n",
      "...      ...             ...                    ...          ...         ...   \n",
      "1959     FWG           False                   True     1.003316    0.900238   \n",
      "6157     SKY           False                   True     1.079603    0.819791   \n",
      "1679     FFF           False                   True     0.660630    1.861586   \n",
      "4918     PIA           False                   True     0.967011    1.085698   \n",
      "7858     YRH           False                   True     0.384237    0.812384   \n",
      "\n",
      "      immune_state_y  valuemean_y  valuestd_y  \n",
      "5432            True     2.207395    0.556935  \n",
      "84              True     0.267696    0.741266  \n",
      "2492            True     1.713425    1.048900  \n",
      "5302            True     1.764509    0.657533  \n",
      "1461            True     1.586324    1.269108  \n",
      "...              ...          ...         ...  \n",
      "1959            True     1.473001    1.140228  \n",
      "6157            True     1.549132    1.255549  \n",
      "1679            True     0.191178    0.833328  \n",
      "4918            True     0.497659    0.739119  \n",
      "7858            True     0.853542    0.853771  \n",
      "\n",
      "[797 rows x 8 columns]\n",
      "2022-01-17 15:36:33.483208: Completed hyperparameter setting kmer_frequency_logistic_regression.\n",
      "\n",
      "2022-01-17 15:36:33.485839: Evaluating hyperparameter setting: kmer_frequency_logistic_regression...\n",
      "2022-01-17 15:36:33.487284: Encoding started...\n",
      "2022-01-17 15:36:37.824987: Encoding finished.\n",
      "2022-01-17 15:36:37.825660: ML model training started...\n",
      "2022-01-17 15:37:42.647952: ML model training finished.\n",
      "     feature  immune_state_x  experimental_protocol  valuemean_x  valuestd_x  \\\n",
      "5428     QPR           False                   True     0.401097    0.303618   \n",
      "5298     QHF           False                   True     0.456696    0.841699   \n",
      "2475     HFF           False                   True     0.350957    0.747432   \n",
      "5559     QYG           False                   True     0.739908    0.648711   \n",
      "99       AFY           False                   True     1.640692    1.008298   \n",
      "...      ...             ...                    ...          ...         ...   \n",
      "7542     WWN           False                   True     0.423816    1.186063   \n",
      "6421     TDI           False                   True     0.545879    0.876753   \n",
      "5745     RKN           False                   True     1.573153    0.982328   \n",
      "7281     WGK           False                   True     1.141640    1.004824   \n",
      "6292     SSW           False                   True     4.987994    0.974015   \n",
      "\n",
      "      immune_state_y  valuemean_y  valuestd_y  \n",
      "5428            True     2.263102    0.562151  \n",
      "5298            True     1.527629    0.871657  \n",
      "2475            True     1.305524    1.069180  \n",
      "5559            True     1.672387    1.178243  \n",
      "99              True     0.726513    0.678297  \n",
      "...              ...          ...         ...  \n",
      "7542            True     0.132889    0.547931  \n",
      "6421            True     0.836623    1.147365  \n",
      "5745            True     1.282623    1.001969  \n",
      "7281            True     0.851136    0.965793  \n",
      "6292            True     5.278369    1.014838  \n",
      "\n",
      "[797 rows x 8 columns]\n",
      "2022-01-17 15:37:48.275656: Encoding started...\n",
      "2022-01-17 15:37:51.746083: Encoding finished.\n",
      "     feature  immune_state_x  experimental_protocol  valuemean_x  valuestd_x  \\\n",
      "5428     QPR           False                   True     0.437126    0.343974   \n",
      "5298     QHF           False                   True     0.410646    0.777033   \n",
      "99       AFY           False                   True     2.041541    1.253471   \n",
      "2475     HFF           False                   True     0.377462    0.663145   \n",
      "3317     KHI           False                   True     0.246489    1.437263   \n",
      "...      ...             ...                    ...          ...         ...   \n",
      "525      CHH           False                   True     0.140817    0.821098   \n",
      "3003     IMQ           False                   True     0.137587    0.802266   \n",
      "6534     TKA           False                   True     1.137020    1.103332   \n",
      "1923     FTN           False                   True     0.364725    0.652788   \n",
      "5162     PYK           False                   True     0.907979    1.352033   \n",
      "\n",
      "      immune_state_y  valuemean_y  valuestd_y  \n",
      "5428            True     2.471995    0.523056  \n",
      "5298            True     1.947286    0.755267  \n",
      "99              True     0.530398    0.507322  \n",
      "2475            True     1.865515    1.178226  \n",
      "3317            True     1.689398    3.379181  \n",
      "...              ...          ...         ...  \n",
      "525             True     0.593619    1.607613  \n",
      "3003            True     0.590284    1.598536  \n",
      "6534            True     1.589674    1.133731  \n",
      "1923            True     0.817326    1.190081  \n",
      "5162            True     0.455470    0.910979  \n",
      "\n",
      "[797 rows x 8 columns]\n",
      "2022-01-17 15:37:55.180219: Completed hyperparameter setting kmer_frequency_logistic_regression.\n",
      "\n",
      "2022-01-17 15:37:55.181725: Hyperparameter optimization: running the inner loop of nested CV: completed selection for label immune_state (label 1 / 1).\n",
      "\n",
      "2022-01-17 15:37:55.182435: Training ML model: running the inner loop of nested CV: retrain models for label immune_state (label 1 / 1).\n",
      "\n",
      "2022-01-17 15:37:55.183585: Evaluating hyperparameter setting: kmer_frequency_logistic_regression...\n",
      "2022-01-17 15:37:55.184816: Encoding started...\n",
      "2022-01-17 15:38:01.094848: Encoding finished.\n",
      "2022-01-17 15:38:01.095365: ML model training started...\n",
      "2022-01-17 15:39:34.064045: ML model training finished.\n",
      "     feature  immune_state_x  experimental_protocol  valuemean_x  valuestd_x  \\\n",
      "5442     QPR           False                   True     0.399214    0.306788   \n",
      "5312     QHF           False                   True     0.431453    0.801629   \n",
      "2480     HFF           False                   True     0.337632    0.681772   \n",
      "99       AFY           False                   True     1.619275    1.014024   \n",
      "2495     HFY           False                   True     0.481994    0.762945   \n",
      "...      ...             ...                    ...          ...         ...   \n",
      "2864     IEK           False                   True     0.957533    0.905180   \n",
      "6313     STG           False                   True     5.272687    1.033161   \n",
      "5509     QTC           False                   True     0.294764    0.892659   \n",
      "1614     FAV           False                   True     0.540008    1.112788   \n",
      "1452     EPS           False                   True     1.415974    1.061854   \n",
      "\n",
      "      immune_state_y  valuemean_y  valuestd_y  \n",
      "5442            True     2.259563    0.541891  \n",
      "5312            True     1.615782    0.835944  \n",
      "2480            True     1.395945    1.068691  \n",
      "99              True     0.612492    0.586093  \n",
      "2495            True     1.436448    1.043530  \n",
      "...              ...          ...         ...  \n",
      "2864            True     1.203413    1.113604  \n",
      "6313            True     5.027012    0.927480  \n",
      "5509            True     0.540291    1.129025  \n",
      "1614            True     0.294508    0.773661  \n",
      "1452            True     1.170537    0.876480  \n",
      "\n",
      "[798 rows x 8 columns]\n",
      "2022-01-17 15:39:41.430535: Encoding started...\n"
     ]
    },
    {
     "name": "stdout",
     "output_type": "stream",
     "text": [
      "2022-01-17 15:39:45.844467: Encoding finished.\n",
      "     feature  immune_state_x  experimental_protocol  valuemean_x  valuestd_x  \\\n",
      "5442     QPR           False                   True     0.432263    0.319628   \n",
      "4030     MCV           False                   True     0.000000    0.000000   \n",
      "4372     MYF           False                   True     0.000000    0.000000   \n",
      "2760     HWF           False                   True     1.281224    2.748080   \n",
      "6766     TWW           False                   True     1.210196    2.466957   \n",
      "...      ...             ...                    ...          ...         ...   \n",
      "5570     QYD           False                   True     0.318413    0.682939   \n",
      "2134     GHW           False                   True     0.953795    1.208022   \n",
      "463      CEE           False                   True     0.395127    0.967864   \n",
      "2312     GST           False                   True     3.682583    0.973940   \n",
      "6637     TPL           False                   True     1.936029    0.965223   \n",
      "\n",
      "      immune_state_y  valuemean_y  valuestd_y  \n",
      "5442            True     2.501172    0.582334  \n",
      "4030            True     1.295441    4.096559  \n",
      "4372            True     1.289099    4.076512  \n",
      "2760            True     0.000000    0.000000  \n",
      "6766            True     0.000000    0.000000  \n",
      "...              ...          ...         ...  \n",
      "5570            True     0.804032    1.029151  \n",
      "2134            True     0.468223    0.813884  \n",
      "463             True     0.880654    1.536429  \n",
      "2312            True     3.197214    1.039578  \n",
      "6637            True     1.450692    0.922436  \n",
      "\n",
      "[798 rows x 8 columns]\n",
      "2022-01-17 15:39:49.011628: Completed hyperparameter setting kmer_frequency_logistic_regression.\n",
      "\n",
      "2022-01-17 15:39:49.013046: Training ML model: running the inner loop of nested CV: completed retraining models for label immune_state (label 1 / 1).\n",
      "\n",
      "2022-01-17 15:39:49.013868: Training ML model: running outer CV loop: finished split 1/1.\n",
      "\n",
      "Performances (balanced_accuracy) -----------------------------------------------\n",
      "\n",
      "\n",
      "Label: immune_state\n",
      "Performance (balanced_accuracy) per assessment split:\n",
      "Split 1: 0.9594155844155845\n",
      "Average performance (balanced_accuracy): 0.9594155844155845\n",
      "------------------------------\n",
      "2022-01-17 15:39:49.392419: Instruction 1/1 has finished.\n",
      "2022-01-17 15:39:49.408956: Generating HTML reports...\n",
      "2022-01-17 15:39:50.341683: HTML reports are generated.\n",
      "2022-01-17 15:39:50.391802: ImmuneML: finished analysis.\n",
      "\n",
      "The results are located under ./experiment2/scenario1/\n"
     ]
    }
   ],
   "source": [
    "# run immuneML with the specs file\n",
    "\n",
    "from immuneML.app.ImmuneMLApp import ImmuneMLApp\n",
    "\n",
    "scenario1_output_path = scenario1_ml_result_path / \"result/\"\n",
    "\n",
    "app = ImmuneMLApp(specification_path = scenario1_specs_path, result_path = scenario1_output_path)\n",
    "result = app.run()\n",
    "\n",
    "print(\"The results are located under ./experiment2/scenario1/\")"
   ]
  },
  {
   "cell_type": "code",
   "execution_count": 33,
   "metadata": {},
   "outputs": [
    {
     "data": {
      "application/vnd.plotly.v1+json": {
       "config": {
        "plotlyServerURL": "https://plot.ly"
       },
       "data": [
        {
         "error_y": {
          "array": [
           0.011323859481200379
          ],
          "type": "data"
         },
         "marker": {
          "color": "rgb(0, 147, 146)"
         },
         "name": "validation",
         "type": "bar",
         "x": [
          "balanced error rate"
         ],
         "y": [
          0.02777765064836004
         ]
        },
        {
         "marker": {
          "color": "rgb(114, 170, 161)"
         },
         "name": "test",
         "type": "bar",
         "x": [
          "balanced error rate"
         ],
         "y": [
          0.0405844155844155
         ]
        }
       ],
       "layout": {
        "barmode": "group",
        "template": {
         "data": {
          "bar": [
           {
            "error_x": {
             "color": "#2a3f5f"
            },
            "error_y": {
             "color": "#2a3f5f"
            },
            "marker": {
             "line": {
              "color": "white",
              "width": 0.5
             },
             "pattern": {
              "fillmode": "overlay",
              "size": 10,
              "solidity": 0.2
             }
            },
            "type": "bar"
           }
          ],
          "barpolar": [
           {
            "marker": {
             "line": {
              "color": "white",
              "width": 0.5
             },
             "pattern": {
              "fillmode": "overlay",
              "size": 10,
              "solidity": 0.2
             }
            },
            "type": "barpolar"
           }
          ],
          "carpet": [
           {
            "aaxis": {
             "endlinecolor": "#2a3f5f",
             "gridcolor": "#C8D4E3",
             "linecolor": "#C8D4E3",
             "minorgridcolor": "#C8D4E3",
             "startlinecolor": "#2a3f5f"
            },
            "baxis": {
             "endlinecolor": "#2a3f5f",
             "gridcolor": "#C8D4E3",
             "linecolor": "#C8D4E3",
             "minorgridcolor": "#C8D4E3",
             "startlinecolor": "#2a3f5f"
            },
            "type": "carpet"
           }
          ],
          "choropleth": [
           {
            "colorbar": {
             "outlinewidth": 0,
             "ticks": ""
            },
            "type": "choropleth"
           }
          ],
          "contour": [
           {
            "colorbar": {
             "outlinewidth": 0,
             "ticks": ""
            },
            "colorscale": [
             [
              0,
              "#0d0887"
             ],
             [
              0.1111111111111111,
              "#46039f"
             ],
             [
              0.2222222222222222,
              "#7201a8"
             ],
             [
              0.3333333333333333,
              "#9c179e"
             ],
             [
              0.4444444444444444,
              "#bd3786"
             ],
             [
              0.5555555555555556,
              "#d8576b"
             ],
             [
              0.6666666666666666,
              "#ed7953"
             ],
             [
              0.7777777777777778,
              "#fb9f3a"
             ],
             [
              0.8888888888888888,
              "#fdca26"
             ],
             [
              1,
              "#f0f921"
             ]
            ],
            "type": "contour"
           }
          ],
          "contourcarpet": [
           {
            "colorbar": {
             "outlinewidth": 0,
             "ticks": ""
            },
            "type": "contourcarpet"
           }
          ],
          "heatmap": [
           {
            "colorbar": {
             "outlinewidth": 0,
             "ticks": ""
            },
            "colorscale": [
             [
              0,
              "#0d0887"
             ],
             [
              0.1111111111111111,
              "#46039f"
             ],
             [
              0.2222222222222222,
              "#7201a8"
             ],
             [
              0.3333333333333333,
              "#9c179e"
             ],
             [
              0.4444444444444444,
              "#bd3786"
             ],
             [
              0.5555555555555556,
              "#d8576b"
             ],
             [
              0.6666666666666666,
              "#ed7953"
             ],
             [
              0.7777777777777778,
              "#fb9f3a"
             ],
             [
              0.8888888888888888,
              "#fdca26"
             ],
             [
              1,
              "#f0f921"
             ]
            ],
            "type": "heatmap"
           }
          ],
          "heatmapgl": [
           {
            "colorbar": {
             "outlinewidth": 0,
             "ticks": ""
            },
            "colorscale": [
             [
              0,
              "#0d0887"
             ],
             [
              0.1111111111111111,
              "#46039f"
             ],
             [
              0.2222222222222222,
              "#7201a8"
             ],
             [
              0.3333333333333333,
              "#9c179e"
             ],
             [
              0.4444444444444444,
              "#bd3786"
             ],
             [
              0.5555555555555556,
              "#d8576b"
             ],
             [
              0.6666666666666666,
              "#ed7953"
             ],
             [
              0.7777777777777778,
              "#fb9f3a"
             ],
             [
              0.8888888888888888,
              "#fdca26"
             ],
             [
              1,
              "#f0f921"
             ]
            ],
            "type": "heatmapgl"
           }
          ],
          "histogram": [
           {
            "marker": {
             "pattern": {
              "fillmode": "overlay",
              "size": 10,
              "solidity": 0.2
             }
            },
            "type": "histogram"
           }
          ],
          "histogram2d": [
           {
            "colorbar": {
             "outlinewidth": 0,
             "ticks": ""
            },
            "colorscale": [
             [
              0,
              "#0d0887"
             ],
             [
              0.1111111111111111,
              "#46039f"
             ],
             [
              0.2222222222222222,
              "#7201a8"
             ],
             [
              0.3333333333333333,
              "#9c179e"
             ],
             [
              0.4444444444444444,
              "#bd3786"
             ],
             [
              0.5555555555555556,
              "#d8576b"
             ],
             [
              0.6666666666666666,
              "#ed7953"
             ],
             [
              0.7777777777777778,
              "#fb9f3a"
             ],
             [
              0.8888888888888888,
              "#fdca26"
             ],
             [
              1,
              "#f0f921"
             ]
            ],
            "type": "histogram2d"
           }
          ],
          "histogram2dcontour": [
           {
            "colorbar": {
             "outlinewidth": 0,
             "ticks": ""
            },
            "colorscale": [
             [
              0,
              "#0d0887"
             ],
             [
              0.1111111111111111,
              "#46039f"
             ],
             [
              0.2222222222222222,
              "#7201a8"
             ],
             [
              0.3333333333333333,
              "#9c179e"
             ],
             [
              0.4444444444444444,
              "#bd3786"
             ],
             [
              0.5555555555555556,
              "#d8576b"
             ],
             [
              0.6666666666666666,
              "#ed7953"
             ],
             [
              0.7777777777777778,
              "#fb9f3a"
             ],
             [
              0.8888888888888888,
              "#fdca26"
             ],
             [
              1,
              "#f0f921"
             ]
            ],
            "type": "histogram2dcontour"
           }
          ],
          "mesh3d": [
           {
            "colorbar": {
             "outlinewidth": 0,
             "ticks": ""
            },
            "type": "mesh3d"
           }
          ],
          "parcoords": [
           {
            "line": {
             "colorbar": {
              "outlinewidth": 0,
              "ticks": ""
             }
            },
            "type": "parcoords"
           }
          ],
          "pie": [
           {
            "automargin": true,
            "type": "pie"
           }
          ],
          "scatter": [
           {
            "marker": {
             "colorbar": {
              "outlinewidth": 0,
              "ticks": ""
             }
            },
            "type": "scatter"
           }
          ],
          "scatter3d": [
           {
            "line": {
             "colorbar": {
              "outlinewidth": 0,
              "ticks": ""
             }
            },
            "marker": {
             "colorbar": {
              "outlinewidth": 0,
              "ticks": ""
             }
            },
            "type": "scatter3d"
           }
          ],
          "scattercarpet": [
           {
            "marker": {
             "colorbar": {
              "outlinewidth": 0,
              "ticks": ""
             }
            },
            "type": "scattercarpet"
           }
          ],
          "scattergeo": [
           {
            "marker": {
             "colorbar": {
              "outlinewidth": 0,
              "ticks": ""
             }
            },
            "type": "scattergeo"
           }
          ],
          "scattergl": [
           {
            "marker": {
             "colorbar": {
              "outlinewidth": 0,
              "ticks": ""
             }
            },
            "type": "scattergl"
           }
          ],
          "scattermapbox": [
           {
            "marker": {
             "colorbar": {
              "outlinewidth": 0,
              "ticks": ""
             }
            },
            "type": "scattermapbox"
           }
          ],
          "scatterpolar": [
           {
            "marker": {
             "colorbar": {
              "outlinewidth": 0,
              "ticks": ""
             }
            },
            "type": "scatterpolar"
           }
          ],
          "scatterpolargl": [
           {
            "marker": {
             "colorbar": {
              "outlinewidth": 0,
              "ticks": ""
             }
            },
            "type": "scatterpolargl"
           }
          ],
          "scatterternary": [
           {
            "marker": {
             "colorbar": {
              "outlinewidth": 0,
              "ticks": ""
             }
            },
            "type": "scatterternary"
           }
          ],
          "surface": [
           {
            "colorbar": {
             "outlinewidth": 0,
             "ticks": ""
            },
            "colorscale": [
             [
              0,
              "#0d0887"
             ],
             [
              0.1111111111111111,
              "#46039f"
             ],
             [
              0.2222222222222222,
              "#7201a8"
             ],
             [
              0.3333333333333333,
              "#9c179e"
             ],
             [
              0.4444444444444444,
              "#bd3786"
             ],
             [
              0.5555555555555556,
              "#d8576b"
             ],
             [
              0.6666666666666666,
              "#ed7953"
             ],
             [
              0.7777777777777778,
              "#fb9f3a"
             ],
             [
              0.8888888888888888,
              "#fdca26"
             ],
             [
              1,
              "#f0f921"
             ]
            ],
            "type": "surface"
           }
          ],
          "table": [
           {
            "cells": {
             "fill": {
              "color": "#EBF0F8"
             },
             "line": {
              "color": "white"
             }
            },
            "header": {
             "fill": {
              "color": "#C8D4E3"
             },
             "line": {
              "color": "white"
             }
            },
            "type": "table"
           }
          ]
         },
         "layout": {
          "annotationdefaults": {
           "arrowcolor": "#2a3f5f",
           "arrowhead": 0,
           "arrowwidth": 1
          },
          "autotypenumbers": "strict",
          "coloraxis": {
           "colorbar": {
            "outlinewidth": 0,
            "ticks": ""
           }
          },
          "colorscale": {
           "diverging": [
            [
             0,
             "#8e0152"
            ],
            [
             0.1,
             "#c51b7d"
            ],
            [
             0.2,
             "#de77ae"
            ],
            [
             0.3,
             "#f1b6da"
            ],
            [
             0.4,
             "#fde0ef"
            ],
            [
             0.5,
             "#f7f7f7"
            ],
            [
             0.6,
             "#e6f5d0"
            ],
            [
             0.7,
             "#b8e186"
            ],
            [
             0.8,
             "#7fbc41"
            ],
            [
             0.9,
             "#4d9221"
            ],
            [
             1,
             "#276419"
            ]
           ],
           "sequential": [
            [
             0,
             "#0d0887"
            ],
            [
             0.1111111111111111,
             "#46039f"
            ],
            [
             0.2222222222222222,
             "#7201a8"
            ],
            [
             0.3333333333333333,
             "#9c179e"
            ],
            [
             0.4444444444444444,
             "#bd3786"
            ],
            [
             0.5555555555555556,
             "#d8576b"
            ],
            [
             0.6666666666666666,
             "#ed7953"
            ],
            [
             0.7777777777777778,
             "#fb9f3a"
            ],
            [
             0.8888888888888888,
             "#fdca26"
            ],
            [
             1,
             "#f0f921"
            ]
           ],
           "sequentialminus": [
            [
             0,
             "#0d0887"
            ],
            [
             0.1111111111111111,
             "#46039f"
            ],
            [
             0.2222222222222222,
             "#7201a8"
            ],
            [
             0.3333333333333333,
             "#9c179e"
            ],
            [
             0.4444444444444444,
             "#bd3786"
            ],
            [
             0.5555555555555556,
             "#d8576b"
            ],
            [
             0.6666666666666666,
             "#ed7953"
            ],
            [
             0.7777777777777778,
             "#fb9f3a"
            ],
            [
             0.8888888888888888,
             "#fdca26"
            ],
            [
             1,
             "#f0f921"
            ]
           ]
          },
          "colorway": [
           "#636efa",
           "#EF553B",
           "#00cc96",
           "#ab63fa",
           "#FFA15A",
           "#19d3f3",
           "#FF6692",
           "#B6E880",
           "#FF97FF",
           "#FECB52"
          ],
          "font": {
           "color": "#2a3f5f"
          },
          "geo": {
           "bgcolor": "white",
           "lakecolor": "white",
           "landcolor": "white",
           "showlakes": true,
           "showland": true,
           "subunitcolor": "#C8D4E3"
          },
          "hoverlabel": {
           "align": "left"
          },
          "hovermode": "closest",
          "mapbox": {
           "style": "light"
          },
          "paper_bgcolor": "white",
          "plot_bgcolor": "white",
          "polar": {
           "angularaxis": {
            "gridcolor": "#EBF0F8",
            "linecolor": "#EBF0F8",
            "ticks": ""
           },
           "bgcolor": "white",
           "radialaxis": {
            "gridcolor": "#EBF0F8",
            "linecolor": "#EBF0F8",
            "ticks": ""
           }
          },
          "scene": {
           "xaxis": {
            "backgroundcolor": "white",
            "gridcolor": "#DFE8F3",
            "gridwidth": 2,
            "linecolor": "#EBF0F8",
            "showbackground": true,
            "ticks": "",
            "zerolinecolor": "#EBF0F8"
           },
           "yaxis": {
            "backgroundcolor": "white",
            "gridcolor": "#DFE8F3",
            "gridwidth": 2,
            "linecolor": "#EBF0F8",
            "showbackground": true,
            "ticks": "",
            "zerolinecolor": "#EBF0F8"
           },
           "zaxis": {
            "backgroundcolor": "white",
            "gridcolor": "#DFE8F3",
            "gridwidth": 2,
            "linecolor": "#EBF0F8",
            "showbackground": true,
            "ticks": "",
            "zerolinecolor": "#EBF0F8"
           }
          },
          "shapedefaults": {
           "line": {
            "color": "#2a3f5f"
           }
          },
          "ternary": {
           "aaxis": {
            "gridcolor": "#DFE8F3",
            "linecolor": "#A2B1C6",
            "ticks": ""
           },
           "baxis": {
            "gridcolor": "#DFE8F3",
            "linecolor": "#A2B1C6",
            "ticks": ""
           },
           "bgcolor": "white",
           "caxis": {
            "gridcolor": "#DFE8F3",
            "linecolor": "#A2B1C6",
            "ticks": ""
           }
          },
          "title": {
           "x": 0.05
          },
          "xaxis": {
           "automargin": true,
           "gridcolor": "#EBF0F8",
           "linecolor": "#EBF0F8",
           "ticks": "",
           "title": {
            "standoff": 15
           },
           "zerolinecolor": "#EBF0F8",
           "zerolinewidth": 2
          },
          "yaxis": {
           "automargin": true,
           "gridcolor": "#EBF0F8",
           "linecolor": "#EBF0F8",
           "ticks": "",
           "title": {
            "standoff": 15
           },
           "zerolinecolor": "#EBF0F8",
           "zerolinewidth": 2
          }
         }
        },
        "xaxis": {
         "linecolor": "black",
         "linewidth": 1,
         "showline": true
        },
        "yaxis": {
         "linecolor": "black",
         "linewidth": 1,
         "showline": true
        }
       }
      },
      "text/html": [
       "<div>                            <div id=\"abac335c-8075-456d-b9c3-dbf9ca8dae5a\" class=\"plotly-graph-div\" style=\"height:525px; width:100%;\"></div>            <script type=\"text/javascript\">                require([\"plotly\"], function(Plotly) {                    window.PLOTLYENV=window.PLOTLYENV || {};                                    if (document.getElementById(\"abac335c-8075-456d-b9c3-dbf9ca8dae5a\")) {                    Plotly.newPlot(                        \"abac335c-8075-456d-b9c3-dbf9ca8dae5a\",                        [{\"error_y\":{\"array\":[0.011323859481200379],\"type\":\"data\"},\"marker\":{\"color\":\"rgb(0, 147, 146)\"},\"name\":\"validation\",\"type\":\"bar\",\"x\":[\"balanced error rate\"],\"y\":[0.02777765064836004]},{\"marker\":{\"color\":\"rgb(114, 170, 161)\"},\"name\":\"test\",\"type\":\"bar\",\"x\":[\"balanced error rate\"],\"y\":[0.0405844155844155]}],                        {\"barmode\":\"group\",\"template\":{\"data\":{\"bar\":[{\"error_x\":{\"color\":\"#2a3f5f\"},\"error_y\":{\"color\":\"#2a3f5f\"},\"marker\":{\"line\":{\"color\":\"white\",\"width\":0.5},\"pattern\":{\"fillmode\":\"overlay\",\"size\":10,\"solidity\":0.2}},\"type\":\"bar\"}],\"barpolar\":[{\"marker\":{\"line\":{\"color\":\"white\",\"width\":0.5},\"pattern\":{\"fillmode\":\"overlay\",\"size\":10,\"solidity\":0.2}},\"type\":\"barpolar\"}],\"carpet\":[{\"aaxis\":{\"endlinecolor\":\"#2a3f5f\",\"gridcolor\":\"#C8D4E3\",\"linecolor\":\"#C8D4E3\",\"minorgridcolor\":\"#C8D4E3\",\"startlinecolor\":\"#2a3f5f\"},\"baxis\":{\"endlinecolor\":\"#2a3f5f\",\"gridcolor\":\"#C8D4E3\",\"linecolor\":\"#C8D4E3\",\"minorgridcolor\":\"#C8D4E3\",\"startlinecolor\":\"#2a3f5f\"},\"type\":\"carpet\"}],\"choropleth\":[{\"colorbar\":{\"outlinewidth\":0,\"ticks\":\"\"},\"type\":\"choropleth\"}],\"contour\":[{\"colorbar\":{\"outlinewidth\":0,\"ticks\":\"\"},\"colorscale\":[[0.0,\"#0d0887\"],[0.1111111111111111,\"#46039f\"],[0.2222222222222222,\"#7201a8\"],[0.3333333333333333,\"#9c179e\"],[0.4444444444444444,\"#bd3786\"],[0.5555555555555556,\"#d8576b\"],[0.6666666666666666,\"#ed7953\"],[0.7777777777777778,\"#fb9f3a\"],[0.8888888888888888,\"#fdca26\"],[1.0,\"#f0f921\"]],\"type\":\"contour\"}],\"contourcarpet\":[{\"colorbar\":{\"outlinewidth\":0,\"ticks\":\"\"},\"type\":\"contourcarpet\"}],\"heatmap\":[{\"colorbar\":{\"outlinewidth\":0,\"ticks\":\"\"},\"colorscale\":[[0.0,\"#0d0887\"],[0.1111111111111111,\"#46039f\"],[0.2222222222222222,\"#7201a8\"],[0.3333333333333333,\"#9c179e\"],[0.4444444444444444,\"#bd3786\"],[0.5555555555555556,\"#d8576b\"],[0.6666666666666666,\"#ed7953\"],[0.7777777777777778,\"#fb9f3a\"],[0.8888888888888888,\"#fdca26\"],[1.0,\"#f0f921\"]],\"type\":\"heatmap\"}],\"heatmapgl\":[{\"colorbar\":{\"outlinewidth\":0,\"ticks\":\"\"},\"colorscale\":[[0.0,\"#0d0887\"],[0.1111111111111111,\"#46039f\"],[0.2222222222222222,\"#7201a8\"],[0.3333333333333333,\"#9c179e\"],[0.4444444444444444,\"#bd3786\"],[0.5555555555555556,\"#d8576b\"],[0.6666666666666666,\"#ed7953\"],[0.7777777777777778,\"#fb9f3a\"],[0.8888888888888888,\"#fdca26\"],[1.0,\"#f0f921\"]],\"type\":\"heatmapgl\"}],\"histogram\":[{\"marker\":{\"pattern\":{\"fillmode\":\"overlay\",\"size\":10,\"solidity\":0.2}},\"type\":\"histogram\"}],\"histogram2d\":[{\"colorbar\":{\"outlinewidth\":0,\"ticks\":\"\"},\"colorscale\":[[0.0,\"#0d0887\"],[0.1111111111111111,\"#46039f\"],[0.2222222222222222,\"#7201a8\"],[0.3333333333333333,\"#9c179e\"],[0.4444444444444444,\"#bd3786\"],[0.5555555555555556,\"#d8576b\"],[0.6666666666666666,\"#ed7953\"],[0.7777777777777778,\"#fb9f3a\"],[0.8888888888888888,\"#fdca26\"],[1.0,\"#f0f921\"]],\"type\":\"histogram2d\"}],\"histogram2dcontour\":[{\"colorbar\":{\"outlinewidth\":0,\"ticks\":\"\"},\"colorscale\":[[0.0,\"#0d0887\"],[0.1111111111111111,\"#46039f\"],[0.2222222222222222,\"#7201a8\"],[0.3333333333333333,\"#9c179e\"],[0.4444444444444444,\"#bd3786\"],[0.5555555555555556,\"#d8576b\"],[0.6666666666666666,\"#ed7953\"],[0.7777777777777778,\"#fb9f3a\"],[0.8888888888888888,\"#fdca26\"],[1.0,\"#f0f921\"]],\"type\":\"histogram2dcontour\"}],\"mesh3d\":[{\"colorbar\":{\"outlinewidth\":0,\"ticks\":\"\"},\"type\":\"mesh3d\"}],\"parcoords\":[{\"line\":{\"colorbar\":{\"outlinewidth\":0,\"ticks\":\"\"}},\"type\":\"parcoords\"}],\"pie\":[{\"automargin\":true,\"type\":\"pie\"}],\"scatter\":[{\"marker\":{\"colorbar\":{\"outlinewidth\":0,\"ticks\":\"\"}},\"type\":\"scatter\"}],\"scatter3d\":[{\"line\":{\"colorbar\":{\"outlinewidth\":0,\"ticks\":\"\"}},\"marker\":{\"colorbar\":{\"outlinewidth\":0,\"ticks\":\"\"}},\"type\":\"scatter3d\"}],\"scattercarpet\":[{\"marker\":{\"colorbar\":{\"outlinewidth\":0,\"ticks\":\"\"}},\"type\":\"scattercarpet\"}],\"scattergeo\":[{\"marker\":{\"colorbar\":{\"outlinewidth\":0,\"ticks\":\"\"}},\"type\":\"scattergeo\"}],\"scattergl\":[{\"marker\":{\"colorbar\":{\"outlinewidth\":0,\"ticks\":\"\"}},\"type\":\"scattergl\"}],\"scattermapbox\":[{\"marker\":{\"colorbar\":{\"outlinewidth\":0,\"ticks\":\"\"}},\"type\":\"scattermapbox\"}],\"scatterpolar\":[{\"marker\":{\"colorbar\":{\"outlinewidth\":0,\"ticks\":\"\"}},\"type\":\"scatterpolar\"}],\"scatterpolargl\":[{\"marker\":{\"colorbar\":{\"outlinewidth\":0,\"ticks\":\"\"}},\"type\":\"scatterpolargl\"}],\"scatterternary\":[{\"marker\":{\"colorbar\":{\"outlinewidth\":0,\"ticks\":\"\"}},\"type\":\"scatterternary\"}],\"surface\":[{\"colorbar\":{\"outlinewidth\":0,\"ticks\":\"\"},\"colorscale\":[[0.0,\"#0d0887\"],[0.1111111111111111,\"#46039f\"],[0.2222222222222222,\"#7201a8\"],[0.3333333333333333,\"#9c179e\"],[0.4444444444444444,\"#bd3786\"],[0.5555555555555556,\"#d8576b\"],[0.6666666666666666,\"#ed7953\"],[0.7777777777777778,\"#fb9f3a\"],[0.8888888888888888,\"#fdca26\"],[1.0,\"#f0f921\"]],\"type\":\"surface\"}],\"table\":[{\"cells\":{\"fill\":{\"color\":\"#EBF0F8\"},\"line\":{\"color\":\"white\"}},\"header\":{\"fill\":{\"color\":\"#C8D4E3\"},\"line\":{\"color\":\"white\"}},\"type\":\"table\"}]},\"layout\":{\"annotationdefaults\":{\"arrowcolor\":\"#2a3f5f\",\"arrowhead\":0,\"arrowwidth\":1},\"autotypenumbers\":\"strict\",\"coloraxis\":{\"colorbar\":{\"outlinewidth\":0,\"ticks\":\"\"}},\"colorscale\":{\"diverging\":[[0,\"#8e0152\"],[0.1,\"#c51b7d\"],[0.2,\"#de77ae\"],[0.3,\"#f1b6da\"],[0.4,\"#fde0ef\"],[0.5,\"#f7f7f7\"],[0.6,\"#e6f5d0\"],[0.7,\"#b8e186\"],[0.8,\"#7fbc41\"],[0.9,\"#4d9221\"],[1,\"#276419\"]],\"sequential\":[[0.0,\"#0d0887\"],[0.1111111111111111,\"#46039f\"],[0.2222222222222222,\"#7201a8\"],[0.3333333333333333,\"#9c179e\"],[0.4444444444444444,\"#bd3786\"],[0.5555555555555556,\"#d8576b\"],[0.6666666666666666,\"#ed7953\"],[0.7777777777777778,\"#fb9f3a\"],[0.8888888888888888,\"#fdca26\"],[1.0,\"#f0f921\"]],\"sequentialminus\":[[0.0,\"#0d0887\"],[0.1111111111111111,\"#46039f\"],[0.2222222222222222,\"#7201a8\"],[0.3333333333333333,\"#9c179e\"],[0.4444444444444444,\"#bd3786\"],[0.5555555555555556,\"#d8576b\"],[0.6666666666666666,\"#ed7953\"],[0.7777777777777778,\"#fb9f3a\"],[0.8888888888888888,\"#fdca26\"],[1.0,\"#f0f921\"]]},\"colorway\":[\"#636efa\",\"#EF553B\",\"#00cc96\",\"#ab63fa\",\"#FFA15A\",\"#19d3f3\",\"#FF6692\",\"#B6E880\",\"#FF97FF\",\"#FECB52\"],\"font\":{\"color\":\"#2a3f5f\"},\"geo\":{\"bgcolor\":\"white\",\"lakecolor\":\"white\",\"landcolor\":\"white\",\"showlakes\":true,\"showland\":true,\"subunitcolor\":\"#C8D4E3\"},\"hoverlabel\":{\"align\":\"left\"},\"hovermode\":\"closest\",\"mapbox\":{\"style\":\"light\"},\"paper_bgcolor\":\"white\",\"plot_bgcolor\":\"white\",\"polar\":{\"angularaxis\":{\"gridcolor\":\"#EBF0F8\",\"linecolor\":\"#EBF0F8\",\"ticks\":\"\"},\"bgcolor\":\"white\",\"radialaxis\":{\"gridcolor\":\"#EBF0F8\",\"linecolor\":\"#EBF0F8\",\"ticks\":\"\"}},\"scene\":{\"xaxis\":{\"backgroundcolor\":\"white\",\"gridcolor\":\"#DFE8F3\",\"gridwidth\":2,\"linecolor\":\"#EBF0F8\",\"showbackground\":true,\"ticks\":\"\",\"zerolinecolor\":\"#EBF0F8\"},\"yaxis\":{\"backgroundcolor\":\"white\",\"gridcolor\":\"#DFE8F3\",\"gridwidth\":2,\"linecolor\":\"#EBF0F8\",\"showbackground\":true,\"ticks\":\"\",\"zerolinecolor\":\"#EBF0F8\"},\"zaxis\":{\"backgroundcolor\":\"white\",\"gridcolor\":\"#DFE8F3\",\"gridwidth\":2,\"linecolor\":\"#EBF0F8\",\"showbackground\":true,\"ticks\":\"\",\"zerolinecolor\":\"#EBF0F8\"}},\"shapedefaults\":{\"line\":{\"color\":\"#2a3f5f\"}},\"ternary\":{\"aaxis\":{\"gridcolor\":\"#DFE8F3\",\"linecolor\":\"#A2B1C6\",\"ticks\":\"\"},\"baxis\":{\"gridcolor\":\"#DFE8F3\",\"linecolor\":\"#A2B1C6\",\"ticks\":\"\"},\"bgcolor\":\"white\",\"caxis\":{\"gridcolor\":\"#DFE8F3\",\"linecolor\":\"#A2B1C6\",\"ticks\":\"\"}},\"title\":{\"x\":0.05},\"xaxis\":{\"automargin\":true,\"gridcolor\":\"#EBF0F8\",\"linecolor\":\"#EBF0F8\",\"ticks\":\"\",\"title\":{\"standoff\":15},\"zerolinecolor\":\"#EBF0F8\",\"zerolinewidth\":2},\"yaxis\":{\"automargin\":true,\"gridcolor\":\"#EBF0F8\",\"linecolor\":\"#EBF0F8\",\"ticks\":\"\",\"title\":{\"standoff\":15},\"zerolinecolor\":\"#EBF0F8\",\"zerolinewidth\":2}}},\"xaxis\":{\"linecolor\":\"black\",\"linewidth\":1,\"showline\":true},\"yaxis\":{\"linecolor\":\"black\",\"linewidth\":1,\"showline\":true}},                        {\"responsive\": true}                    ).then(function(){\n",
       "                            \n",
       "var gd = document.getElementById('abac335c-8075-456d-b9c3-dbf9ca8dae5a');\n",
       "var x = new MutationObserver(function (mutations, observer) {{\n",
       "        var display = window.getComputedStyle(gd).display;\n",
       "        if (!display || display === 'none') {{\n",
       "            console.log([gd, 'removed!']);\n",
       "            Plotly.purge(gd);\n",
       "            observer.disconnect();\n",
       "        }}\n",
       "}});\n",
       "\n",
       "// Listen for the removal of the full notebook cells\n",
       "var notebookContainer = gd.closest('#notebook-container');\n",
       "if (notebookContainer) {{\n",
       "    x.observe(notebookContainer, {childList: true});\n",
       "}}\n",
       "\n",
       "// Listen for the clearing of the current output cell\n",
       "var outputEl = gd.closest('.output');\n",
       "if (outputEl) {{\n",
       "    x.observe(outputEl, {childList: true});\n",
       "}}\n",
       "\n",
       "                        })                };                });            </script>        </div>"
      ]
     },
     "metadata": {},
     "output_type": "display_data"
    }
   ],
   "source": [
    "from util.plotting import plot_balanced_error_rate\n",
    "    \n",
    "plot_balanced_error_rate(iml_result=result, result_path=scenario1_ml_result_path)"
   ]
  },
  {
   "cell_type": "markdown",
   "metadata": {},
   "source": [
    "## Scenario 2: immune state does not influence the AIRR: learning spurious correlations"
   ]
  },
  {
   "cell_type": "code",
   "execution_count": null,
   "metadata": {},
   "outputs": [],
   "source": [
    "# define and build path, remove content if not empty\n",
    "\n",
    "scenario2_path = setup_path(\"./experiment2/scenario2/\")\n",
    "scenario2_data_path = setup_path(scenario2_path / \"data\")\n",
    "\n",
    "# define constants for the simulation\n",
    "\n",
    "p_immune_state = 0.5 # parameter of binomial distribution for the immune state\n",
    "p_hospital = 0.5 # parameter of binomial distribution for selecting between hospitals 1 and 2\n",
    "\n",
    "sequence_count = 2000\n",
    "immune_state_implanting_rate = 0.0\n",
    "protocol_implanting_rate = 0.04\n",
    "\n",
    "immune_state_signal = make_immune_signal()"
   ]
  },
  {
   "cell_type": "code",
   "execution_count": null,
   "metadata": {},
   "outputs": [],
   "source": [
    "repertoire_node = ds.Generic(name=\"repertoire\", function=get_repertoire,\n",
    "                             arguments={\"immune_state\": False, \"experimental_protocol\": experimental_protocol_node,\n",
    "                                        \"path\": scenario2_data_path / \"train\", \"sequence_count\": sequence_count, \n",
    "                                        \"immune_state_signal\": immune_state_signal,\n",
    "                                        'repertoire_implanting_rate': repertoire_implanting_rate})\n",
    "\n",
    "# make a causal graph using DagSim and show it graphically\n",
    "\n",
    "graph = ds.Graph(name=\"graph_experiment_2_2\", \n",
    "                 list_nodes=[index_node, immune_state_node, hospital_node, experimental_protocol_node, \n",
    "                             repertoire_node, selection_node])\n",
    "graph.draw()"
   ]
  },
  {
   "cell_type": "code",
   "execution_count": null,
   "metadata": {
    "pycharm": {
     "name": "#%%\n"
    }
   },
   "outputs": [],
   "source": [
    "# make a train dataset\n",
    "\n",
    "training_data_sc2 = graph.simulate(num_samples=train_example_count, \n",
    "                                   csv_name=str(scenario3_data_path / \"train/study_cohort\"))\n",
    "\n",
    "train_dataset = make_dataset(repertoires=training_data_sc2[\"repertoire\"], path=scenario2_data_path / 'train', \n",
    "                             dataset_name=\"experiment2_sc2_train\",\n",
    "                             signal_names=[immune_state_signal.id, experimental_protocol_node.name])\n",
    "\n",
    "# make a test dataset\n",
    "\n",
    "repertoire_node.additional_parameters['path'] = scenario3_data_path / 'test' # update result_path: to be removed with DagSim update\n",
    "\n",
    "test_data = graph.simulate(num_samples=test_example_count, csv_name=str(scenario2_data_path / \"test/test_cohort\"), \n",
    "                           selection=False)\n",
    "\n",
    "test_dataset = make_dataset(repertoires=test_data[\"repertoire\"], path=scenario2_data_path / 'test',\n",
    "                            dataset_name=\"experiment2_sc2_test\", \n",
    "                            signal_names=[immune_state_signal.id, experimental_protocol_node.name])\n",
    "\n",
    "# merge datasets (but the distinction between train and test will be kept in the ML analysis part)\n",
    "\n",
    "dataset = make_AIRR_dataset(train_dataset, test_dataset, scenario2_data_path / 'full_dataset')"
   ]
  },
  {
   "cell_type": "markdown",
   "metadata": {
    "pycharm": {
     "name": "#%%\n"
    }
   },
   "source": [
    "### Step 2: Training an ML model"
   ]
  },
  {
   "cell_type": "code",
   "execution_count": null,
   "metadata": {},
   "outputs": [],
   "source": [
    "specs = {\n",
    "    \"definitions\": {\n",
    "        \"datasets\": {\n",
    "            \"dataset1\": {\n",
    "                \"format\": 'AIRR',\n",
    "                \"params\": {\n",
    "                    \"path\": str(scenario2_data_path / 'full_dataset'),\n",
    "                    \"metadata_file\": str(scenario2_data_path / 'full_dataset/metadata.csv')\n",
    "                }\n",
    "            }\n",
    "        },\n",
    "        \"encodings\": {\n",
    "            \"kmer_frequency\": {\n",
    "                \"KmerFrequency\": {\"k\": 3}\n",
    "            }\n",
    "        },\n",
    "        \"ml_methods\": {\n",
    "            \"logistic_regression\": {\n",
    "                \"LogisticRegression\": {\n",
    "                    \"penalty\": \"l1\",\n",
    "                    \"C\": [0.01, 0.1, 1, 10, 100],\n",
    "                    \"max_iter\": 1500,\n",
    "                    \"show_warnings\": False\n",
    "                },\n",
    "                \"model_selection_cv\": True,\n",
    "                \"model_selection_n_folds\": 5\n",
    "            }\n",
    "        },\n",
    "        \"reports\": {\n",
    "            \"coefficients\": {\n",
    "                \"Coefficients\": { # show top 25 logistic regression coefficients and what k-mers they correspond to\n",
    "                    \"coefs_to_plot\": ['n_largest'],\n",
    "                    \"n_largest\": [25]\n",
    "                }\n",
    "            },\n",
    "            \"feature_comparison\": {\n",
    "                \"FeatureComparison\": {\n",
    "                    \"comparison_label\": \"immune_state\",\n",
    "                    \"color_grouping_label\": \"experimental_protocol\",\n",
    "                    \"show_error_bar\": False,\n",
    "                    \"keep_fraction\": 0.1\n",
    "                }\n",
    "            }\n",
    "        }\n",
    "    },\n",
    "    \"instructions\": {\n",
    "        'train_ml': {\n",
    "            \"type\": \"TrainMLModel\",\n",
    "            \"assessment\": { # ensure here that train and test dataset are fixed, as per simulation\n",
    "                \"split_strategy\": \"manual\",\n",
    "                \"split_count\": 1,\n",
    "                \"manual_config\": {\n",
    "                    \"train_metadata_path\": str(scenario2_data_path / \"train/experiment2_sc2_train_metadata.csv\"),\n",
    "                    \"test_metadata_path\": str(scenario2_data_path / \"test/experiment2_sc2_test_metadata.csv\")\n",
    "                },\n",
    "                \"reports\": {\n",
    "                    \"models\": [\"coefficients\"],\n",
    "                    \"encoding\": [\"feature_comparison\"]\n",
    "                }\n",
    "            },\n",
    "            \"selection\": {\n",
    "                \"split_strategy\": \"random\",\n",
    "                \"train_percentage\": 0.7,\n",
    "                \"split_count\": 1,\n",
    "                \"reports\": {\n",
    "                    \"models\": [\"coefficients\"],\n",
    "                    \"encoding\": [\"feature_comparison\"]\n",
    "                }\n",
    "            },\n",
    "            \"settings\": [\n",
    "                {\"encoding\": \"kmer_frequency\", \"ml_method\": \"logistic_regression\"}\n",
    "            ],\n",
    "            \"dataset\": \"dataset1\",\n",
    "            \"refit_optimal_model\": False,\n",
    "            \"labels\": [\"immune_state\"],\n",
    "            \"optimization_metric\": \"balanced_accuracy\",\n",
    "            \"metrics\": ['log_loss', 'auc']\n",
    "        }\n",
    "    }\n",
    "}\n",
    "\n",
    "scenario2_ml_result_path = setup_path(\"./experiment2/scenario2/ml_result/\")\n",
    "scenario2_specs_path = scenario2_ml_result_path / \"specs.yaml\"\n",
    "\n",
    "with open(scenario1_specs_path, \"w\") as file:\n",
    "    yaml.dump(specs, file)"
   ]
  },
  {
   "cell_type": "code",
   "execution_count": null,
   "metadata": {},
   "outputs": [],
   "source": [
    "# run immuneML with the specs file\n",
    "\n",
    "from immuneML.app.ImmuneMLApp import ImmuneMLApp\n",
    "\n",
    "scenario2_output_path = scenario2_ml_result_path / \"result/\"\n",
    "\n",
    "app = ImmuneMLApp(specification_path = scenario2_specs_path, result_path = scenario2_output_path)\n",
    "result = app.run()\n",
    "\n",
    "print(\"The results are located under ./experiment2/scenario2/\")"
   ]
  },
  {
   "cell_type": "code",
   "execution_count": null,
   "metadata": {},
   "outputs": [],
   "source": [
    "from util.plotting import plot_balanced_error_rate\n",
    "    \n",
    "plot_balanced_error_rate(iml_result=result, result_path=scenario2_ml_result_path)"
   ]
  }
 ],
 "metadata": {
  "kernelspec": {
   "display_name": "Python 3 (ipykernel)",
   "language": "python",
   "name": "python3"
  },
  "language_info": {
   "codemirror_mode": {
    "name": "ipython",
    "version": 3
   },
   "file_extension": ".py",
   "mimetype": "text/x-python",
   "name": "python",
   "nbconvert_exporter": "python",
   "pygments_lexer": "ipython3",
   "version": "3.8.3"
  },
  "varInspector": {
   "cols": {
    "lenName": 16,
    "lenType": 16,
    "lenVar": 40
   },
   "kernels_config": {
    "python": {
     "delete_cmd_postfix": "",
     "delete_cmd_prefix": "del ",
     "library": "var_list.py",
     "varRefreshCmd": "print(var_dic_list())"
    },
    "r": {
     "delete_cmd_postfix": ") ",
     "delete_cmd_prefix": "rm(",
     "library": "var_list.r",
     "varRefreshCmd": "cat(var_dic_list()) "
    }
   },
   "types_to_exclude": [
    "module",
    "function",
    "builtin_function_or_method",
    "instance",
    "_Feature"
   ],
   "window_display": false
  }
 },
 "nbformat": 4,
 "nbformat_minor": 1
}
