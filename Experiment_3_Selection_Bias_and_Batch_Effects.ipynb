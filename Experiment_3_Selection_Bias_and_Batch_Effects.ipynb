{
 "cells": [
  {
   "cell_type": "markdown",
   "metadata": {
    "collapsed": true
   },
   "source": [
    "# Experiment 3: Selection Bias and Batch Effects\n",
    "\n",
    "In this experiment, we combine selection bias and batch effects. The AIRR data comes from 2 hospitals: `hospital1` that recruits mostly diseased and `hospital2` that recruits mostly healthy individuals. We explore three possible scenarios here:\n",
    "\n",
    "1. the immune state signal is stronger than the influence of the experimental protocol used for AIRR-sequencing,\n",
    "\n",
    "2. the immune state signal is weaker than the influence of the experimental protocol,\n",
    "\n",
    "3. there is no connection between the immune state and AIRR: we will show that ML models will in this case learn only a spurious correlation.\n",
    "\n",
    "Immune state is a binary variable and can have values `True` or `False` to indicate if an individual is diseased or healthy. AIRR is a set of sequences simulated based on the values of the immune state and the confounder for the given individual. Hospital is a binary variable (`hospital1` or `hospital2`). Each hospital has their own experimental protocol that influences the observed AIRR. The influence of the experimental protocol on AIRR is manifested via higher frequency of some k-mers in the sequenced AIRRs.\n",
    "\n",
    "Steps for each scenario:\n",
    "\n",
    "1. Simulate training and test dataset from a causal graph to include the variables as described above.\n",
    "\n",
    "2. Train an ML model (here: logistic regression on repertoires represented by the k-mer frequencies) on the train set which has selection bias and assess its performance on the test set when there is no selection bias.\n",
    "\n",
    "Software used: \n",
    "\n",
    "- DagSim for simulation of the causal graph; \n",
    "- immuneML v2.1 for implanting signal in AIRRs and for training and assessing machine learning classifiers; \n",
    "- OLGA for simulation of naive AIRRs"
   ]
  },
  {
   "cell_type": "code",
   "execution_count": null,
   "metadata": {},
   "outputs": [],
   "source": [
    "import os\n",
    "import yaml\n",
    "import dagsim.baseDS as ds\n",
    "import numpy as np\n",
    "from pathlib import Path\n",
    "from util.repertoire_util import make_olga_repertoire, load_iml_repertoire, make_AIRR_dataset, make_dataset\n",
    "from util.implanting import make_immune_signal, make_repertoire_without_signal, make_repertoire_with_signal, make_exp_protocol_signal\n",
    "from util.simulation import get_immune_state, get_hospital, get_exp_protocol, get_repertoire, get_selection\n",
    "from immuneML.util.PathBuilder import PathBuilder\n",
    "from immuneML.simulation.implants.Signal import Signal"
   ]
  },
  {
   "cell_type": "code",
   "execution_count": null,
   "metadata": {},
   "outputs": [],
   "source": [
    "# remove results from the previous run\n",
    "\n",
    "import shutil\n",
    "\n",
    "if Path(\"./experiment3/\").is_dir():\n",
    "    shutil.rmtree(\"./experiment3/\")\n",
    "\n",
    "train_example_count = 10\n",
    "test_example_count = 2\n",
    "\n",
    "# immune state: two binomial distributions depending on the confounder value with probability of success p\n",
    "immune_state_p_conf0 = 0.3 # for confounder = 0\n",
    "immune_state_p_conf1 = 0.5 # for confounder = 1\n",
    "\n",
    "# confounder: binomial distribution with probability of success p\n",
    "confounder_p = 0.5\n",
    "\n",
    "# other parameters\n",
    "repertoire_implanting_rate = 0.01 # percentage of repertoire sequences to include immune state signal\n",
    "sequence_count = 2000 # number of sequences in one repertoire"
   ]
  },
  {
   "cell_type": "markdown",
   "metadata": {},
   "source": [
    "## Scenario 1: immune state signal is stronger than the influence of experimental protocol"
   ]
  },
  {
   "cell_type": "code",
   "execution_count": null,
   "metadata": {},
   "outputs": [],
   "source": [
    "# define and build path, remove content if not empty\n",
    "\n",
    "scenario1_path = Path(\"./experiment3/scenario1/\")\n",
    "\n",
    "if scenario1_path.is_dir():\n",
    "    shutil.rmtree()\n",
    "    \n",
    "PathBuilder.build(scenario1_path)\n",
    "\n",
    "data_path = PathBuilder.build(scenario1_path / \"data\")"
   ]
  },
  {
   "cell_type": "markdown",
   "metadata": {},
   "source": [
    "### Step 1: AIRR simulation from a causal graph"
   ]
  },
  {
   "cell_type": "code",
   "execution_count": null,
   "metadata": {},
   "outputs": [],
   "source": [
    "# define constants for the simulation\n",
    "\n",
    "p_immune_state = 0.5 # parameter of binomial distribution for the immune state\n",
    "p_hospital = 0.5 # parameter of binomial distribution for selecting between hospitals 1 and 2\n",
    "\n",
    "sequence_count = 2000\n",
    "repertoire_implanting_rate = 0.01\n",
    "\n",
    "immune_state_signal = make_immune_signal()"
   ]
  },
  {
   "cell_type": "code",
   "execution_count": null,
   "metadata": {},
   "outputs": [],
   "source": [
    "index_node = ds.Generic(name=\"index\", function=np.arange, size_field=\"stop\")\n",
    "\n",
    "immune_state_node = ds.Generic(name=\"immune_state\", function=get_immune_state, arguments={\"p\": p_immune_state})\n",
    "\n",
    "hospital_node = ds.Generic(name=\"hospital\", function=get_hospital, arguments={\"p\": p_hospital})\n",
    "\n",
    "experimental_protocol_node = ds.Generic(name=\"exp_protocol\", function=get_exp_protocol, \n",
    "                                        arguments={\"hospital\": hospital_node})\n",
    "\n",
    "repertoire_node = ds.Generic(name=\"repertoire\", function=get_repertoire, \n",
    "                             arguments={\"immune_state\": immune_state_node, \"experimental_protocol\": experimental_protocol_node,\n",
    "                                        \"path\": data_path / \"train\", \"sequence_count\": sequence_count, \"immune_state_signal\": immune_state_signal, \n",
    "                                        \"seed\": index_node, 'repertoire_implanting_rate': repertoire_implanting_rate})\n",
    "\n",
    "selection_node = ds.Selection(name=\"S\", function=get_selection, arguments={\"hospital\": hospital_node, \"state\": immune_state_node})"
   ]
  },
  {
   "cell_type": "code",
   "execution_count": null,
   "metadata": {},
   "outputs": [],
   "source": [
    "# make a causal graph using DagSim and show it graphically\n",
    "\n",
    "graph = ds.Graph(name=\"graph_experiment_3_1\", list_nodes=[index_node, immune_state_node, hospital_node, experimental_protocol_node, repertoire_node, selection_node])\n",
    "graph.draw()"
   ]
  },
  {
   "cell_type": "code",
   "execution_count": null,
   "metadata": {},
   "outputs": [],
   "source": [
    "training_data_sc1 = graph.simulate(num_samples=train_example_count, csv_name=str(data_path / \"train/study_cohort\"))\n"
   ]
  },
  {
   "cell_type": "code",
   "execution_count": null,
   "metadata": {
    "pycharm": {
     "name": "#%%\n"
    }
   },
   "outputs": [],
   "source": [
    "# make an AIRR dataset from the generated repertoires to be used for training\n",
    "\n",
    "repertoires = [load_iml_repertoire(filepath=filepath) for filepath in training_data_sc1[\"repertoire\"]]\n",
    "\n",
    "train_dataset = make_dataset(repertoires=repertoires, path=data_path / 'train', dataset_name=\"experiment3_sc1_train\",\n",
    "                             signal_names=[immune_state_signal.id, experimental_protocol_node.name])"
   ]
  },
  {
   "cell_type": "code",
   "execution_count": null,
   "metadata": {
    "pycharm": {
     "name": "#%%\n"
    }
   },
   "outputs": [],
   "source": [
    "# make a test dataset\n",
    "\n",
    "repertoire_node.additional_parameters['path'] = data_path / 'test' # update result_path: to be removed with DagSim update\n",
    "\n",
    "test_data = graph.simulate(num_samples=test_example_count, csv_name=str(data_path / \"test/test_cohort\"), selection=False)\n",
    "\n",
    "test_repertoires = [load_iml_repertoire(filepath=filepath) for filepath in test_data[\"repertoire\"]]\n",
    "\n",
    "test_dataset = make_dataset(repertoires=test_repertoires, path=data_path / 'test',\n",
    "                            dataset_name=\"experiment3_sc1_test\", signal_names=[immune_state_signal.id, experimental_protocol_node.name])\n"
   ]
  },
  {
   "cell_type": "code",
   "execution_count": null,
   "metadata": {
    "pycharm": {
     "name": "#%%\n"
    }
   },
   "outputs": [],
   "source": [
    "# merge datasets (but the distinction between train and test will be kept in the ML analysis part)\n",
    "\n",
    "dataset = make_AIRR_dataset(train_dataset, test_dataset, data_path / 'full_dataset')"
   ]
  },
  {
   "cell_type": "markdown",
   "metadata": {},
   "source": [
    "## Scenario 3: immune state doesn't influence the repertoire"
   ]
  },
  {
   "cell_type": "code",
   "execution_count": null,
   "metadata": {},
   "outputs": [],
   "source": [
    "# define and build path, remove content if not empty\n",
    "\n",
    "scenario3_path = Path(\"./experiment3/scenario3/\")\n",
    "\n",
    "if scenario3_path.is_dir():\n",
    "    shutil.rmtree(\"./experiment3/scenario3/\")\n",
    "\n",
    "PathBuilder.build(scenario3_path)\n",
    "\n",
    "data_path = PathBuilder.build(scenario3_path / \"data\")\n",
    "\n",
    "repertoire_node.additional_parameters[\"path\"] = data_path / \"train\"\n",
    "repertoire_node.additional_parameters[\"immune_state\"] = 0\n",
    "# repertoire_node.parents.pop(repertoire_node.parents.index(\"immune_state\"))\n",
    "\n",
    "print(repertoire_node.parents)"
   ]
  },
  {
   "cell_type": "code",
   "execution_count": null,
   "metadata": {
    "pycharm": {
     "name": "#%%\n"
    }
   },
   "outputs": [],
   "source": [
    "\n",
    "# make a causal graph using DagSim and show it graphically\n",
    "\n",
    "graph = ds.Graph(name=\"graph_experiment_3_3\", list_nodes=[index_node, immune_state_node, hospital_node, experimental_protocol_node, repertoire_node, selection_node])\n",
    "graph.draw()"
   ]
  },
  {
   "cell_type": "code",
   "execution_count": null,
   "metadata": {
    "pycharm": {
     "name": "#%%\n"
    }
   },
   "outputs": [],
   "source": [
    "training_data_sc1 = graph.simulate(num_samples=train_example_count, csv_name=str(data_path / \"train/study_cohort\"))\n"
   ]
  },
  {
   "cell_type": "code",
   "execution_count": null,
   "metadata": {
    "pycharm": {
     "name": "#%%\n"
    }
   },
   "outputs": [],
   "source": [
    "# make an AIRR dataset from the generated repertoires to be used for training\n",
    "\n",
    "repertoires = [load_iml_repertoire(filepath=filepath) for filepath in training_data_sc1[\"repertoire\"]]\n",
    "\n",
    "train_dataset = make_dataset(repertoires=repertoires, path=data_path / 'train', dataset_name=\"experiment3_sc3_train\",\n",
    "                             signal_names=[immune_state_signal.id, experimental_protocol_node.name])"
   ]
  },
  {
   "cell_type": "code",
   "execution_count": null,
   "metadata": {
    "pycharm": {
     "name": "#%%\n"
    }
   },
   "outputs": [],
   "source": [
    "# make a test dataset\n",
    "\n",
    "repertoire_node.additional_parameters['path'] = data_path / 'test' # update result_path: to be removed with DagSim update\n",
    "\n",
    "test_data = graph.simulate(num_samples=test_example_count, csv_name=str(data_path / \"test/test_cohort\"), selection=False)\n",
    "\n",
    "test_repertoires = [load_iml_repertoire(filepath=filepath) for filepath in test_data[\"repertoire\"]]\n",
    "\n",
    "test_dataset = make_dataset(repertoires=test_repertoires, path=data_path / 'test',\n",
    "                            dataset_name=\"experiment3_sc3_test\", signal_names=[immune_state_signal.id, experimental_protocol_node.name])\n"
   ]
  },
  {
   "cell_type": "code",
   "execution_count": null,
   "metadata": {
    "pycharm": {
     "name": "#%%\n"
    }
   },
   "outputs": [],
   "source": [
    "# merge datasets (but the distinction between train and test will be kept in the ML analysis part)\n",
    "\n",
    "dataset = make_AIRR_dataset(train_dataset, test_dataset, data_path / 'full_dataset')"
   ]
  }
 ],
 "metadata": {
  "kernelspec": {
   "display_name": "Python 3 (ipykernel)",
   "language": "python",
   "name": "python3"
  },
  "language_info": {
   "codemirror_mode": {
    "name": "ipython",
    "version": 3
   },
   "file_extension": ".py",
   "mimetype": "text/x-python",
   "name": "python",
   "nbconvert_exporter": "python",
   "pygments_lexer": "ipython3",
   "version": "3.8.10"
  },
  "varInspector": {
   "cols": {
    "lenName": 16,
    "lenType": 16,
    "lenVar": 40
   },
   "kernels_config": {
    "python": {
     "delete_cmd_postfix": "",
     "delete_cmd_prefix": "del ",
     "library": "var_list.py",
     "varRefreshCmd": "print(var_dic_list())"
    },
    "r": {
     "delete_cmd_postfix": ") ",
     "delete_cmd_prefix": "rm(",
     "library": "var_list.r",
     "varRefreshCmd": "cat(var_dic_list()) "
    }
   },
   "types_to_exclude": [
    "module",
    "function",
    "builtin_function_or_method",
    "instance",
    "_Feature"
   ],
   "window_display": false
  }
 },
 "nbformat": 4,
 "nbformat_minor": 1
}