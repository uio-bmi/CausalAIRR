{
 "cells": [
  {
   "cell_type": "markdown",
   "metadata": {
    "collapsed": true
   },
   "source": [
    "# Experiment 3: Selection Bias and Batch Effects\n",
    "\n",
    "In this experiment, we combine selection bias and batch effects. The AIRR data comes from 2 hospitals: `hospital1` that recruits mostly diseased and `hospital2` that recruits mostly healthy individuals. We explore three possible scenarios here:\n",
    "\n",
    "1. the immune state signal is stronger than the influence of the experimental protocol used for AIRR-sequencing,\n",
    "\n",
    "2. the immune state signal is weaker than the influence of the experimental protocol,\n",
    "\n",
    "3. there is no connection between the immune state and AIRR: we will show that ML models will in this case learn only a spurious correlation.\n",
    "\n",
    "Immune state is a binary variable and can have values `True` or `False` to indicate if an individual is diseased or healthy. AIRR is a set of sequences simulated based on the values of the immune state and the confounder for the given individual. Hospital is a binary variable (`hospital1` or `hospital2`). Each hospital has their own experimental protocol that influences the observed AIRR. The influence of the experimental protocol on AIRR is manifested via higher frequency of some k-mers in the sequenced AIRRs.\n",
    "\n",
    "Steps for each scenario:\n",
    "\n",
    "1. Simulate training and test dataset from a causal graph to include the variables as described above.\n",
    "\n",
    "2. Train an ML model (here: logistic regression on repertoires represented by the k-mer frequencies) on the train set which has selection bias and assess its performance on the test set when there is no selection bias.\n",
    "\n",
    "Software used: \n",
    "\n",
    "- DagSim for simulation of the causal graph; \n",
    "- immuneML v2.1 for implanting signal in AIRRs and for training and assessing machine learning classifiers; \n",
    "- OLGA for simulation of naive AIRRs"
   ]
  },
  {
   "cell_type": "code",
   "execution_count": 1,
   "metadata": {
    "pycharm": {
     "is_executing": true
    }
   },
   "outputs": [],
   "source": [
    "import os\n",
    "import yaml\n",
    "import dagsim.baseDS as ds\n",
    "import numpy as np\n",
    "from pathlib import Path\n",
    "from util.repertoire_util import make_olga_repertoire, load_iml_repertoire, make_AIRR_dataset, make_dataset\n",
    "from util.implanting import make_immune_signal, make_repertoire_without_signal, make_repertoire_with_signal, make_exp_protocol_signal\n",
    "from util.simulation import get_immune_state, get_hospital, get_exp_protocol, get_repertoire, get_selection\n",
    "from immuneML.util.PathBuilder import PathBuilder\n",
    "from immuneML.simulation.implants.Signal import Signal"
   ]
  },
  {
   "cell_type": "code",
   "execution_count": 2,
   "metadata": {},
   "outputs": [],
   "source": [
    "# remove results from the previous run\n",
    "\n",
    "import shutil\n",
    "\n",
    "if Path(\"./experiment3/\").is_dir():\n",
    "    shutil.rmtree(\"./experiment3/\")\n",
    "    \n",
    "# define number of examples (AIRRs)\n",
    "\n",
    "train_example_count = 10\n",
    "test_example_count = 2\n",
    "\n",
    "# immune state: two binomial distributions depending on the confounder value with probability of success p\n",
    "immune_state_p_conf0 = 0.3 # for confounder = 0\n",
    "immune_state_p_conf1 = 0.5 # for confounder = 1\n",
    "\n",
    "# confounder: binomial distribution with probability of success p\n",
    "confounder_p = 0.5\n",
    "\n",
    "# other parameters\n",
    "repertoire_implanting_rate = 0.01 # percentage of repertoire sequences to include immune state signal\n",
    "sequence_count = 2000 # number of sequences in one repertoire"
   ]
  },
  {
   "cell_type": "markdown",
   "metadata": {},
   "source": [
    "## Scenario 1: immune state signal is stronger than the influence of experimental protocol"
   ]
  },
  {
   "cell_type": "code",
   "execution_count": 3,
   "metadata": {},
   "outputs": [],
   "source": [
    "# define and build path, remove content if not empty\n",
    "\n",
    "scenario1_path = Path(\"./experiment3/scenario1/\")\n",
    "\n",
    "if scenario1_path.is_dir():\n",
    "    shutil.rmtree(scenario1_path)\n",
    "    \n",
    "PathBuilder.build(scenario1_path)\n",
    "\n",
    "data_path = PathBuilder.build(scenario1_path / \"data\")"
   ]
  },
  {
   "cell_type": "markdown",
   "metadata": {},
   "source": [
    "### Step 1: AIRR simulation from a causal graph"
   ]
  },
  {
   "cell_type": "code",
   "execution_count": 4,
   "metadata": {},
   "outputs": [],
   "source": [
    "# define constants for the simulation\n",
    "\n",
    "p_immune_state = 0.5 # parameter of binomial distribution for the immune state\n",
    "p_hospital = 0.5 # parameter of binomial distribution for selecting between hospitals 1 and 2\n",
    "\n",
    "sequence_count = 2000\n",
    "repertoire_implanting_rate = 0.01\n",
    "\n",
    "immune_state_signal = make_immune_signal()"
   ]
  },
  {
   "cell_type": "code",
   "execution_count": 5,
   "metadata": {},
   "outputs": [],
   "source": [
    "immune_state_node = ds.Generic(name=\"immune_state\", function=get_immune_state, arguments={\"p\": p_immune_state})\n",
    "\n",
    "hospital_node = ds.Generic(name=\"hospital\", function=get_hospital, arguments={\"p\": p_hospital})\n",
    "\n",
    "experimental_protocol_node = ds.Generic(name=\"exp_protocol\", function=get_exp_protocol, arguments={\"hospital\": hospital_node})\n",
    "\n",
    "repertoire_node = ds.Generic(name=\"repertoire\", function=get_repertoire, \n",
    "                             arguments={\"immune_state\": immune_state_node, \"experimental_protocol\": experimental_protocol_node,\n",
    "                                        \"path\": data_path / \"train\", \"sequence_count\": sequence_count, \"immune_state_signal\": immune_state_signal, \n",
    "                                        'repertoire_implanting_rate': repertoire_implanting_rate})\n",
    "\n",
    "selection_node = ds.Selection(name=\"S\", function=get_selection, arguments={\"hospital\": hospital_node, \"immune_state\": immune_state_node})"
   ]
  },
  {
   "cell_type": "code",
   "execution_count": 6,
   "metadata": {},
   "outputs": [
    {
     "data": {
      "image/svg+xml": [
       "<?xml version=\"1.0\" encoding=\"UTF-8\" standalone=\"no\"?>\n",
       "<!DOCTYPE svg PUBLIC \"-//W3C//DTD SVG 1.1//EN\"\n",
       " \"http://www.w3.org/Graphics/SVG/1.1/DTD/svg11.dtd\">\n",
       "<!-- Generated by graphviz version 2.48.0 (0)\n",
       " -->\n",
       "<!-- Title: G Pages: 1 -->\n",
       "<svg width=\"262pt\" height=\"196pt\"\n",
       " viewBox=\"0.00 0.00 262.24 196.00\" xmlns=\"http://www.w3.org/2000/svg\" xmlns:xlink=\"http://www.w3.org/1999/xlink\">\n",
       "<g id=\"graph0\" class=\"graph\" transform=\"scale(1 1) rotate(0) translate(4 192)\">\n",
       "<title>G</title>\n",
       "<polygon fill=\"white\" stroke=\"transparent\" points=\"-4,4 -4,-192 258.24,-192 258.24,4 -4,4\"/>\n",
       "<!-- immune_state -->\n",
       "<g id=\"node1\" class=\"node\">\n",
       "<title>immune_state</title>\n",
       "<ellipse fill=\"none\" stroke=\"black\" cx=\"61.74\" cy=\"-170\" rx=\"61.99\" ry=\"18\"/>\n",
       "<text text-anchor=\"middle\" x=\"61.74\" y=\"-166.3\" font-family=\"Times,serif\" font-size=\"14.00\">immune_state</text>\n",
       "</g>\n",
       "<!-- repertoire -->\n",
       "<g id=\"node4\" class=\"node\">\n",
       "<title>repertoire</title>\n",
       "<ellipse fill=\"none\" stroke=\"black\" cx=\"121.74\" cy=\"-18\" rx=\"46.29\" ry=\"18\"/>\n",
       "<text text-anchor=\"middle\" x=\"121.74\" y=\"-14.3\" font-family=\"Times,serif\" font-size=\"14.00\">repertoire</text>\n",
       "</g>\n",
       "<!-- immune_state&#45;&gt;repertoire -->\n",
       "<g id=\"edge1\" class=\"edge\">\n",
       "<title>immune_state&#45;&gt;repertoire</title>\n",
       "<path fill=\"none\" stroke=\"black\" d=\"M58.99,-151.99C56.53,-131.9 54.92,-97.93 66.74,-72 72.3,-59.81 82.03,-48.99 91.78,-40.36\"/>\n",
       "<polygon fill=\"black\" stroke=\"black\" points=\"94.08,-43 99.52,-33.92 89.6,-37.62 94.08,-43\"/>\n",
       "</g>\n",
       "<!-- S -->\n",
       "<g id=\"node5\" class=\"node\">\n",
       "<title>S</title>\n",
       "<ellipse fill=\"none\" stroke=\"black\" cx=\"97.74\" cy=\"-94\" rx=\"18\" ry=\"18\"/>\n",
       "<ellipse fill=\"none\" stroke=\"black\" cx=\"97.74\" cy=\"-94\" rx=\"22\" ry=\"22\"/>\n",
       "<text text-anchor=\"middle\" x=\"97.74\" y=\"-90.3\" font-family=\"Times,serif\" font-size=\"14.00\">S</text>\n",
       "</g>\n",
       "<!-- immune_state&#45;&gt;S -->\n",
       "<g id=\"edge2\" class=\"edge\">\n",
       "<title>immune_state&#45;&gt;S</title>\n",
       "<path fill=\"none\" stroke=\"black\" d=\"M70.09,-151.84C74.21,-143.38 79.27,-132.97 83.94,-123.37\"/>\n",
       "<polygon fill=\"black\" stroke=\"black\" points=\"87.2,-124.68 88.43,-114.15 80.9,-121.61 87.2,-124.68\"/>\n",
       "</g>\n",
       "<!-- hospital -->\n",
       "<g id=\"node2\" class=\"node\">\n",
       "<title>hospital</title>\n",
       "<ellipse fill=\"none\" stroke=\"black\" cx=\"187.74\" cy=\"-170\" rx=\"39.79\" ry=\"18\"/>\n",
       "<text text-anchor=\"middle\" x=\"187.74\" y=\"-166.3\" font-family=\"Times,serif\" font-size=\"14.00\">hospital</text>\n",
       "</g>\n",
       "<!-- exp_protocol -->\n",
       "<g id=\"node3\" class=\"node\">\n",
       "<title>exp_protocol</title>\n",
       "<ellipse fill=\"none\" stroke=\"black\" cx=\"195.74\" cy=\"-94\" rx=\"58.49\" ry=\"18\"/>\n",
       "<text text-anchor=\"middle\" x=\"195.74\" y=\"-90.3\" font-family=\"Times,serif\" font-size=\"14.00\">exp_protocol</text>\n",
       "</g>\n",
       "<!-- hospital&#45;&gt;exp_protocol -->\n",
       "<g id=\"edge3\" class=\"edge\">\n",
       "<title>hospital&#45;&gt;exp_protocol</title>\n",
       "<path fill=\"none\" stroke=\"black\" d=\"M189.6,-151.84C190.55,-143.06 191.73,-132.16 192.8,-122.27\"/>\n",
       "<polygon fill=\"black\" stroke=\"black\" points=\"196.3,-122.39 193.9,-112.07 189.34,-121.64 196.3,-122.39\"/>\n",
       "</g>\n",
       "<!-- hospital&#45;&gt;S -->\n",
       "<g id=\"edge4\" class=\"edge\">\n",
       "<title>hospital&#45;&gt;S</title>\n",
       "<path fill=\"none\" stroke=\"black\" d=\"M169.1,-153.67C155.46,-142.45 136.83,-127.13 122.02,-114.96\"/>\n",
       "<polygon fill=\"black\" stroke=\"black\" points=\"124.2,-112.22 114.25,-108.57 119.75,-117.63 124.2,-112.22\"/>\n",
       "</g>\n",
       "<!-- exp_protocol&#45;&gt;repertoire -->\n",
       "<g id=\"edge5\" class=\"edge\">\n",
       "<title>exp_protocol&#45;&gt;repertoire</title>\n",
       "<path fill=\"none\" stroke=\"black\" d=\"M179.32,-76.58C169.29,-66.54 156.3,-53.55 145.19,-42.45\"/>\n",
       "<polygon fill=\"black\" stroke=\"black\" points=\"147.41,-39.72 137.87,-35.12 142.46,-44.67 147.41,-39.72\"/>\n",
       "</g>\n",
       "</g>\n",
       "</svg>\n"
      ],
      "text/plain": [
       "<graphviz.files.Source at 0x7fb35ed24c70>"
      ]
     },
     "execution_count": 6,
     "metadata": {},
     "output_type": "execute_result"
    }
   ],
   "source": [
    "# make a causal graph using DagSim and show it graphically\n",
    "\n",
    "graph = ds.Graph(name=\"graph_experiment_3_1\", list_nodes=[immune_state_node, hospital_node, experimental_protocol_node, repertoire_node, selection_node])\n",
    "graph.draw()"
   ]
  },
  {
   "cell_type": "code",
   "execution_count": 7,
   "metadata": {},
   "outputs": [],
   "source": [
    "training_data_sc1 = graph.simulate(num_samples=train_example_count, csv_name=str(data_path / \"train/study_cohort\"))\n"
   ]
  },
  {
   "cell_type": "code",
   "execution_count": 8,
   "metadata": {
    "pycharm": {
     "name": "#%%\n"
    }
   },
   "outputs": [],
   "source": [
    "# make an AIRR dataset from the generated repertoires to be used for training\n",
    "\n",
    "repertoires = [load_iml_repertoire(filepath=filepath) for filepath in training_data_sc1[\"repertoire\"]]\n",
    "\n",
    "train_dataset = make_dataset(repertoires=repertoires, path=data_path / 'train', dataset_name=\"experiment3_sc1_train\",\n",
    "                             signal_names=[immune_state_signal.id, experimental_protocol_node.name])"
   ]
  },
  {
   "cell_type": "code",
   "execution_count": 9,
   "metadata": {
    "pycharm": {
     "name": "#%%\n"
    }
   },
   "outputs": [],
   "source": [
    "# make a test dataset\n",
    "\n",
    "repertoire_node.additional_parameters['path'] = data_path / 'test' # update result_path: to be removed with DagSim update\n",
    "\n",
    "test_data = graph.simulate(num_samples=test_example_count, csv_name=str(data_path / \"test/test_cohort\"), selection=False)\n",
    "\n",
    "test_repertoires = [load_iml_repertoire(filepath=filepath) for filepath in test_data[\"repertoire\"]]\n",
    "\n",
    "test_dataset = make_dataset(repertoires=test_repertoires, path=data_path / 'test',\n",
    "                            dataset_name=\"experiment3_sc1_test\", signal_names=[immune_state_signal.id, experimental_protocol_node.name])\n"
   ]
  },
  {
   "cell_type": "code",
   "execution_count": 10,
   "metadata": {
    "pycharm": {
     "name": "#%%\n"
    }
   },
   "outputs": [],
   "source": [
    "# merge datasets (but the distinction between train and test will be kept in the ML analysis part)\n",
    "\n",
    "dataset = make_AIRR_dataset(train_dataset, test_dataset, data_path / 'full_dataset')"
   ]
  },
  {
   "cell_type": "markdown",
   "metadata": {},
   "source": [
    "### Step 2: Training an ML model"
   ]
  },
  {
   "cell_type": "code",
   "execution_count": null,
   "metadata": {},
   "outputs": [],
   "source": []
  },
  {
   "cell_type": "markdown",
   "metadata": {},
   "source": [
    "## Scenario 3: immune state does not influence the repertoire"
   ]
  },
  {
   "cell_type": "code",
   "execution_count": null,
   "metadata": {},
   "outputs": [],
   "source": [
    "# define and build path, remove content if not empty\n",
    "\n",
    "scenario3_path = Path(\"./experiment3/scenario3/\")\n",
    "\n",
    "if scenario3_path.is_dir():\n",
    "    shutil.rmtree(\"./experiment3/scenario3/\")\n",
    "\n",
    "PathBuilder.build(scenario3_path)\n",
    "\n",
    "data_path = PathBuilder.build(scenario3_path / \"data\")\n",
    "\n",
    "# repertoire_node.additional_parameters[\"path\"] = data_path / \"train\"\n",
    "# repertoire_node.additional_parameters[\"immune_state\"] = 0\n",
    "# repertoire_node.parents.pop(repertoire_node.parents.index(\"immune_state\"))\n",
    "repertoire_node = ds.Generic(name=\"repertoire\", function=get_repertoire,\n",
    "                             arguments={\"immune_state\": False, \"experimental_protocol\": experimental_protocol_node,\n",
    "                                        \"path\": data_path / \"train\", \"sequence_count\": sequence_count, \"immune_state_signal\": immune_state_signal,\n",
    "                                        'repertoire_implanting_rate': repertoire_implanting_rate})"
   ]
  },
  {
   "cell_type": "code",
   "execution_count": null,
   "metadata": {
    "pycharm": {
     "name": "#%%\n"
    }
   },
   "outputs": [],
   "source": [
    "\n",
    "# make a causal graph using DagSim and show it graphically\n",
    "\n",
    "graph = ds.Graph(name=\"graph_experiment_3_3\", list_nodes=[index_node, immune_state_node, hospital_node, experimental_protocol_node, repertoire_node, selection_node])\n",
    "graph.draw()"
   ]
  },
  {
   "cell_type": "code",
   "execution_count": null,
   "metadata": {
    "pycharm": {
     "name": "#%%\n"
    }
   },
   "outputs": [],
   "source": [
    "training_data_sc1 = graph.simulate(num_samples=train_example_count, csv_name=str(data_path / \"train/study_cohort\"))\n"
   ]
  },
  {
   "cell_type": "code",
   "execution_count": null,
   "metadata": {
    "pycharm": {
     "name": "#%%\n"
    }
   },
   "outputs": [],
   "source": [
    "# make an AIRR dataset from the generated repertoires to be used for training\n",
    "\n",
    "repertoires = [load_iml_repertoire(filepath=filepath) for filepath in training_data_sc1[\"repertoire\"]]\n",
    "\n",
    "train_dataset = make_dataset(repertoires=repertoires, path=data_path / 'train', dataset_name=\"experiment3_sc3_train\",\n",
    "                             signal_names=[immune_state_signal.id, experimental_protocol_node.name])"
   ]
  },
  {
   "cell_type": "code",
   "execution_count": null,
   "metadata": {
    "pycharm": {
     "name": "#%%\n"
    }
   },
   "outputs": [],
   "source": [
    "# make a test dataset\n",
    "\n",
    "repertoire_node.additional_parameters['path'] = data_path / 'test' # update result_path: to be removed with DagSim update\n",
    "\n",
    "test_data = graph.simulate(num_samples=test_example_count, csv_name=str(data_path / \"test/test_cohort\"), selection=False)\n",
    "\n",
    "test_repertoires = [load_iml_repertoire(filepath=filepath) for filepath in test_data[\"repertoire\"]]\n",
    "\n",
    "test_dataset = make_dataset(repertoires=test_repertoires, path=data_path / 'test',\n",
    "                            dataset_name=\"experiment3_sc3_test\", signal_names=[immune_state_signal.id, experimental_protocol_node.name])\n"
   ]
  },
  {
   "cell_type": "code",
   "execution_count": null,
   "metadata": {
    "pycharm": {
     "name": "#%%\n"
    }
   },
   "outputs": [],
   "source": [
    "# merge datasets (but the distinction between train and test will be kept in the ML analysis part)\n",
    "\n",
    "dataset = make_AIRR_dataset(train_dataset, test_dataset, data_path / 'full_dataset')"
   ]
  },
  {
   "cell_type": "code",
   "execution_count": null,
   "metadata": {},
   "outputs": [],
   "source": []
  }
 ],
 "metadata": {
  "kernelspec": {
   "display_name": "Python 3 (ipykernel)",
   "language": "python",
   "name": "python3"
  },
  "language_info": {
   "codemirror_mode": {
    "name": "ipython",
    "version": 3
   },
   "file_extension": ".py",
   "mimetype": "text/x-python",
   "name": "python",
   "nbconvert_exporter": "python",
   "pygments_lexer": "ipython3",
   "version": "3.8.3"
  },
  "varInspector": {
   "cols": {
    "lenName": 16,
    "lenType": 16,
    "lenVar": 40
   },
   "kernels_config": {
    "python": {
     "delete_cmd_postfix": "",
     "delete_cmd_prefix": "del ",
     "library": "var_list.py",
     "varRefreshCmd": "print(var_dic_list())"
    },
    "r": {
     "delete_cmd_postfix": ") ",
     "delete_cmd_prefix": "rm(",
     "library": "var_list.r",
     "varRefreshCmd": "cat(var_dic_list()) "
    }
   },
   "types_to_exclude": [
    "module",
    "function",
    "builtin_function_or_method",
    "instance",
    "_Feature"
   ],
   "window_display": false
  }
 },
 "nbformat": 4,
 "nbformat_minor": 1
}
