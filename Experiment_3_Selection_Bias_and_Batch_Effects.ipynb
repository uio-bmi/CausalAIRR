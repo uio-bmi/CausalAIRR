{
 "cells": [
  {
   "cell_type": "markdown",
   "metadata": {
    "collapsed": true
   },
   "source": [
    "# Experiment 3: Selection Bias and Batch Effects\n",
    "\n",
    "In this experiment, we combine selection bias and batch effects. The AIRR data comes from 2 hospitals: `hospital1` that recruits mostly diseased and `hospital2` that recruits mostly healthy individuals. We explore three possible scenarios here:\n",
    "\n",
    "1. the immune state signal is stronger than the influence of the experimental protocol used for AIRR-sequencing,\n",
    "\n",
    "2. the immune state signal is weaker than the influence of the experimental protocol,\n",
    "\n",
    "3. there is no connection between the immune state and AIRR: we will show that ML models will in this case learn only a spurious correlation.\n",
    "\n",
    "Immune state is a binary variable and can have values `True` or `False` to indicate if an individual is diseased or healthy. AIRR is a set of sequences simulated based on the values of the immune state and the confounder for the given individual. Hospital is a binary variable (`hospital1` or `hospital2`). Each hospital has their own experimental protocol that influences the observed AIRR. The influence of the experimental protocol on AIRR is manifested via higher frequency of some k-mers in the sequenced AIRRs.\n",
    "\n",
    "Steps for each scenario:\n",
    "\n",
    "1. Simulate training and test dataset from a causal graph to include the variables as described above.\n",
    "\n",
    "2. Train an ML model (here: logistic regression on repertoires represented by the k-mer frequencies) on the train set which has selection bias and assess its performance on the test set when there is no selection bias.\n",
    "\n",
    "Software used: \n",
    "\n",
    "- DagSim for simulation of the causal graph; \n",
    "- immuneML v2.1 for implanting signal in AIRRs and for training and assessing machine learning classifiers; \n",
    "- OLGA for simulation of naive AIRRs"
   ]
  },
  {
   "cell_type": "code",
   "execution_count": null,
   "metadata": {},
   "outputs": [],
   "source": [
    "import os\n",
    "import yaml\n",
    "import dagsim.baseDS as ds\n",
    "import numpy as np\n",
    "from pathlib import Path\n",
    "from util.repertoire_util import make_olga_repertoire, load_iml_repertoire, make_AIRR_dataset, make_dataset\n",
    "from util.implanting import make_immune_signal, make_repertoire_without_signal, make_repertoire_with_signal\n",
    "from immuneML.util.PathBuilder import PathBuilder\n",
    "from immuneML.simulation.implants.Signal import Signal"
   ]
  },
  {
   "cell_type": "code",
   "execution_count": null,
   "metadata": {},
   "outputs": [],
   "source": [
    "# remove results from the previous run\n",
    "\n",
    "import shutil\n",
    "\n",
    "if Path(\"./experiment3/\").is_dir():\n",
    "    shutil.rmtree(\"./experiment3/\")"
   ]
  },
  {
   "cell_type": "markdown",
   "metadata": {},
   "source": [
    "## Scenario 1: immune state signal is stronger than the influence of experimental protocol\n",
    "\n",
    "### Step 1: AIRR simulation from a causal graph"
   ]
  },
  {
   "cell_type": "code",
   "execution_count": null,
   "metadata": {},
   "outputs": [],
   "source": [
    "# define functions to create immune state, hospital, experimental protocol, and AIRR\n",
    "\n",
    "def get_immune_state(p_immune_state: float) -> bool:\n",
    "    return np.random.binomial(n=1, p=p_immune_state)\n",
    "    \n",
    "def get_hospital(p) -> bool:\n",
    "    return \"hospital1\" if np.random.binomial(n=1, p=p) > 0.5 else \"hospital2\"\n",
    "\n",
    "def get_repertoire(immune_state: bool, experimental_protocol: int, path: Path, sequence_count: int, signal: Signal, seed: int, repertoire_implanting_rate: float) -> str:\n",
    "        \n",
    "    PathBuilder.build(path)    \n",
    "\n",
    "    # make OLGA repertoire from the default OLGA TCRB model\n",
    "    naive_repertoire = make_olga_repertoire(path=path, sequence_count=sequence_count, seed=seed)\n",
    "    \n",
    "    # implant a signal in the repertoire based on the immune state\n",
    "    if immune_state:\n",
    "        repertoire = make_repertoire_with_signal(repertoire=naive_repertoire, signal=signal, result_path=path / \"immuneML_with_signal/\", repertoire_implanting_rate=repertoire_implanting_rate)\n",
    "    else:\n",
    "        repertoire = make_repertoire_without_signal(repertoire=naive_repertoire, signal_name=signal.id, result_path=path / \"immuneML_with_signal/\")\n",
    "\n",
    "    if experimental_protocol == 1:\n",
    "        \n",
    "        \n",
    "    return repertoire.data_filename"
   ]
  }
 ],
 "metadata": {
  "kernelspec": {
   "display_name": "Python 3 (ipykernel)",
   "language": "python",
   "name": "python3"
  },
  "language_info": {
   "codemirror_mode": {
    "name": "ipython",
    "version": 3
   },
   "file_extension": ".py",
   "mimetype": "text/x-python",
   "name": "python",
   "nbconvert_exporter": "python",
   "pygments_lexer": "ipython3",
   "version": "3.8.3"
  },
  "varInspector": {
   "cols": {
    "lenName": 16,
    "lenType": 16,
    "lenVar": 40
   },
   "kernels_config": {
    "python": {
     "delete_cmd_postfix": "",
     "delete_cmd_prefix": "del ",
     "library": "var_list.py",
     "varRefreshCmd": "print(var_dic_list())"
    },
    "r": {
     "delete_cmd_postfix": ") ",
     "delete_cmd_prefix": "rm(",
     "library": "var_list.r",
     "varRefreshCmd": "cat(var_dic_list()) "
    }
   },
   "types_to_exclude": [
    "module",
    "function",
    "builtin_function_or_method",
    "instance",
    "_Feature"
   ],
   "window_display": false
  }
 },
 "nbformat": 4,
 "nbformat_minor": 1
}
