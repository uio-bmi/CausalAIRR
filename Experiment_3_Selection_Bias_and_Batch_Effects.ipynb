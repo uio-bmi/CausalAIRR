{
 "cells": [
  {
   "cell_type": "markdown",
   "metadata": {
    "collapsed": true
   },
   "source": [
    "# Experiment 3: Selection Bias and Batch Effects\n",
    "\n",
    "In this experiment, we combine selection bias and batch effects. The AIRR data comes from 2 hospitals: `hospital1` that recruits mostly diseased and `hospital2` that recruits mostly healthy individuals. We explore three possible scenarios here:\n",
    "\n",
    "1. the immune state signal is stronger than the influence of the experimental protocol used for AIRR-sequencing,\n",
    "\n",
    "2. the immune state signal is weaker than the influence of the experimental protocol,\n",
    "\n",
    "3. there is no connection between the immune state and AIRR: we will show that ML models will in this case learn only a spurious correlation.\n",
    "\n",
    "Immune state is a binary variable and can have values `True` or `False` to indicate if an individual is diseased or healthy. AIRR is a set of sequences simulated based on the values of the immune state and the confounder for the given individual. Hospital is a binary variable (`hospital1` or `hospital2`). Each hospital has their own experimental protocol that influences the observed AIRR. The influence of the experimental protocol on AIRR is manifested via higher frequency of some k-mers in the sequenced AIRRs.\n",
    "\n",
    "Steps for each scenario:\n",
    "\n",
    "1. Simulate training and test dataset from a causal graph to include the variables as described above.\n",
    "\n",
    "2. Train an ML model (here: logistic regression on repertoires represented by the k-mer frequencies) on the train set which has selection bias and assess its performance on the test set when there is no selection bias.\n",
    "\n",
    "Software used: \n",
    "\n",
    "- DagSim for simulation of the causal graph; \n",
    "- immuneML v2.1 for implanting signal in AIRRs and for training and assessing machine learning classifiers; \n",
    "- OLGA for simulation of naive AIRRs"
   ]
  },
  {
   "cell_type": "code",
   "execution_count": 1,
   "metadata": {
    "pycharm": {
     "is_executing": true
    }
   },
   "outputs": [],
   "source": [
    "import os\n",
    "import yaml\n",
    "import dagsim.baseDS as ds\n",
    "import numpy as np\n",
    "from pathlib import Path\n",
    "from util.repertoire_util import make_olga_repertoire, load_iml_repertoire, make_AIRR_dataset, make_dataset, setup_path\n",
    "from util.implanting import make_immune_signal, make_repertoire_without_signal, make_repertoire_with_signal, make_exp_protocol_signal\n",
    "from util.simulation import get_immune_state, get_hospital, get_exp_protocol, get_repertoire, get_selection\n",
    "from immuneML.util.PathBuilder import PathBuilder\n",
    "from immuneML.simulation.implants.Signal import Signal"
   ]
  },
  {
   "cell_type": "code",
   "execution_count": 2,
   "metadata": {},
   "outputs": [
    {
     "name": "stdout",
     "output_type": "stream",
     "text": [
      "Removing experiment3...\n"
     ]
    }
   ],
   "source": [
    "setup_path(\"./experiment3\") # remove results from the previous run\n",
    "\n",
    "train_example_count = 200\n",
    "test_example_count = 50"
   ]
  },
  {
   "cell_type": "markdown",
   "metadata": {},
   "source": [
    "## Scenario 1: immune state signal is stronger than the influence of experimental protocol"
   ]
  },
  {
   "cell_type": "code",
   "execution_count": 3,
   "metadata": {},
   "outputs": [],
   "source": [
    "# define and build path, remove content if not empty\n",
    "\n",
    "scenario1_path = setup_path(\"./experiment3/scenario1/\")\n",
    "scenario1_data_path = setup_path(scenario1_path / \"data\")"
   ]
  },
  {
   "cell_type": "markdown",
   "metadata": {},
   "source": [
    "### Step 1: AIRR simulation from a causal graph"
   ]
  },
  {
   "cell_type": "code",
   "execution_count": 4,
   "metadata": {},
   "outputs": [],
   "source": [
    "# define constants for the simulation\n",
    "\n",
    "p_immune_state = 0.5 # parameter of binomial distribution for the immune state\n",
    "p_hospital = 0.5 # parameter of binomial distribution for selecting between hospitals 1 and 2\n",
    "\n",
    "sequence_count = 2000\n",
    "immune_state_implanting_rate = 0.02\n",
    "protocol_implanting_rate = 0.01\n",
    "\n",
    "immune_state_signal = make_immune_signal()"
   ]
  },
  {
   "cell_type": "code",
   "execution_count": 5,
   "metadata": {},
   "outputs": [],
   "source": [
    "immune_state_node = ds.Generic(name=\"immune_state\", function=get_immune_state, arguments={\"p\": p_immune_state})\n",
    "\n",
    "hospital_node = ds.Generic(name=\"hospital\", function=get_hospital, arguments={\"p\": p_hospital})\n",
    "\n",
    "experimental_protocol_node = ds.Generic(name=\"exp_protocol\", function=get_exp_protocol, arguments={\"hospital\": hospital_node})\n",
    "\n",
    "repertoire_node = ds.Generic(name=\"repertoire\", function=get_repertoire, \n",
    "                             arguments={\"immune_state\": immune_state_node, \"experimental_protocol\": experimental_protocol_node,\n",
    "                                        \"path\": scenario1_data_path / \"train\", \"sequence_count\": sequence_count, \"immune_state_signal\": immune_state_signal, \n",
    "                                        'immune_state_implanting_rate': immune_state_implanting_rate, \"protocol_implanting_rate\": protocol_implanting_rate})\n",
    "\n",
    "selection_node = ds.Selection(name=\"S\", function=get_selection, arguments={\"hospital\": hospital_node, \"immune_state\": immune_state_node})"
   ]
  },
  {
   "cell_type": "code",
   "execution_count": 6,
   "metadata": {},
   "outputs": [
    {
     "data": {
      "image/svg+xml": [
       "<?xml version=\"1.0\" encoding=\"UTF-8\" standalone=\"no\"?>\n",
       "<!DOCTYPE svg PUBLIC \"-//W3C//DTD SVG 1.1//EN\"\n",
       " \"http://www.w3.org/Graphics/SVG/1.1/DTD/svg11.dtd\">\n",
       "<!-- Generated by graphviz version 2.48.0 (0)\n",
       " -->\n",
       "<!-- Title: G Pages: 1 -->\n",
       "<svg width=\"262pt\" height=\"196pt\"\n",
       " viewBox=\"0.00 0.00 262.24 196.00\" xmlns=\"http://www.w3.org/2000/svg\" xmlns:xlink=\"http://www.w3.org/1999/xlink\">\n",
       "<g id=\"graph0\" class=\"graph\" transform=\"scale(1 1) rotate(0) translate(4 192)\">\n",
       "<title>G</title>\n",
       "<polygon fill=\"white\" stroke=\"transparent\" points=\"-4,4 -4,-192 258.24,-192 258.24,4 -4,4\"/>\n",
       "<!-- immune_state -->\n",
       "<g id=\"node1\" class=\"node\">\n",
       "<title>immune_state</title>\n",
       "<ellipse fill=\"none\" stroke=\"black\" cx=\"61.74\" cy=\"-170\" rx=\"61.99\" ry=\"18\"/>\n",
       "<text text-anchor=\"middle\" x=\"61.74\" y=\"-166.3\" font-family=\"Times,serif\" font-size=\"14.00\">immune_state</text>\n",
       "</g>\n",
       "<!-- repertoire -->\n",
       "<g id=\"node4\" class=\"node\">\n",
       "<title>repertoire</title>\n",
       "<ellipse fill=\"none\" stroke=\"black\" cx=\"121.74\" cy=\"-18\" rx=\"46.29\" ry=\"18\"/>\n",
       "<text text-anchor=\"middle\" x=\"121.74\" y=\"-14.3\" font-family=\"Times,serif\" font-size=\"14.00\">repertoire</text>\n",
       "</g>\n",
       "<!-- immune_state&#45;&gt;repertoire -->\n",
       "<g id=\"edge1\" class=\"edge\">\n",
       "<title>immune_state&#45;&gt;repertoire</title>\n",
       "<path fill=\"none\" stroke=\"black\" d=\"M58.99,-151.99C56.53,-131.9 54.92,-97.93 66.74,-72 72.3,-59.81 82.03,-48.99 91.78,-40.36\"/>\n",
       "<polygon fill=\"black\" stroke=\"black\" points=\"94.08,-43 99.52,-33.92 89.6,-37.62 94.08,-43\"/>\n",
       "</g>\n",
       "<!-- S -->\n",
       "<g id=\"node5\" class=\"node\">\n",
       "<title>S</title>\n",
       "<ellipse fill=\"none\" stroke=\"black\" cx=\"97.74\" cy=\"-94\" rx=\"18\" ry=\"18\"/>\n",
       "<ellipse fill=\"none\" stroke=\"black\" cx=\"97.74\" cy=\"-94\" rx=\"22\" ry=\"22\"/>\n",
       "<text text-anchor=\"middle\" x=\"97.74\" y=\"-90.3\" font-family=\"Times,serif\" font-size=\"14.00\">S</text>\n",
       "</g>\n",
       "<!-- immune_state&#45;&gt;S -->\n",
       "<g id=\"edge2\" class=\"edge\">\n",
       "<title>immune_state&#45;&gt;S</title>\n",
       "<path fill=\"none\" stroke=\"black\" d=\"M70.09,-151.84C74.21,-143.38 79.27,-132.97 83.94,-123.37\"/>\n",
       "<polygon fill=\"black\" stroke=\"black\" points=\"87.2,-124.68 88.43,-114.15 80.9,-121.61 87.2,-124.68\"/>\n",
       "</g>\n",
       "<!-- hospital -->\n",
       "<g id=\"node2\" class=\"node\">\n",
       "<title>hospital</title>\n",
       "<ellipse fill=\"none\" stroke=\"black\" cx=\"187.74\" cy=\"-170\" rx=\"39.79\" ry=\"18\"/>\n",
       "<text text-anchor=\"middle\" x=\"187.74\" y=\"-166.3\" font-family=\"Times,serif\" font-size=\"14.00\">hospital</text>\n",
       "</g>\n",
       "<!-- exp_protocol -->\n",
       "<g id=\"node3\" class=\"node\">\n",
       "<title>exp_protocol</title>\n",
       "<ellipse fill=\"none\" stroke=\"black\" cx=\"195.74\" cy=\"-94\" rx=\"58.49\" ry=\"18\"/>\n",
       "<text text-anchor=\"middle\" x=\"195.74\" y=\"-90.3\" font-family=\"Times,serif\" font-size=\"14.00\">exp_protocol</text>\n",
       "</g>\n",
       "<!-- hospital&#45;&gt;exp_protocol -->\n",
       "<g id=\"edge3\" class=\"edge\">\n",
       "<title>hospital&#45;&gt;exp_protocol</title>\n",
       "<path fill=\"none\" stroke=\"black\" d=\"M189.6,-151.84C190.55,-143.06 191.73,-132.16 192.8,-122.27\"/>\n",
       "<polygon fill=\"black\" stroke=\"black\" points=\"196.3,-122.39 193.9,-112.07 189.34,-121.64 196.3,-122.39\"/>\n",
       "</g>\n",
       "<!-- hospital&#45;&gt;S -->\n",
       "<g id=\"edge4\" class=\"edge\">\n",
       "<title>hospital&#45;&gt;S</title>\n",
       "<path fill=\"none\" stroke=\"black\" d=\"M169.1,-153.67C155.46,-142.45 136.83,-127.13 122.02,-114.96\"/>\n",
       "<polygon fill=\"black\" stroke=\"black\" points=\"124.2,-112.22 114.25,-108.57 119.75,-117.63 124.2,-112.22\"/>\n",
       "</g>\n",
       "<!-- exp_protocol&#45;&gt;repertoire -->\n",
       "<g id=\"edge5\" class=\"edge\">\n",
       "<title>exp_protocol&#45;&gt;repertoire</title>\n",
       "<path fill=\"none\" stroke=\"black\" d=\"M179.32,-76.58C169.29,-66.54 156.3,-53.55 145.19,-42.45\"/>\n",
       "<polygon fill=\"black\" stroke=\"black\" points=\"147.41,-39.72 137.87,-35.12 142.46,-44.67 147.41,-39.72\"/>\n",
       "</g>\n",
       "</g>\n",
       "</svg>\n"
      ],
      "text/plain": [
       "<graphviz.files.Source at 0x7fd25873b340>"
      ]
     },
     "execution_count": 6,
     "metadata": {},
     "output_type": "execute_result"
    }
   ],
   "source": [
    "# make a causal graph using DagSim and show it graphically\n",
    "\n",
    "graph = ds.Graph(name=\"graph_experiment_3_1\", list_nodes=[immune_state_node, hospital_node, experimental_protocol_node, repertoire_node, selection_node])\n",
    "graph.draw()"
   ]
  },
  {
   "cell_type": "code",
   "execution_count": 7,
   "metadata": {},
   "outputs": [],
   "source": [
    "training_data_sc1 = graph.simulate(num_samples=train_example_count, \n",
    "                                   csv_name=str(scenario1_data_path / \"train/study_cohort\"))\n",
    "\n",
    "# make an AIRR dataset from the generated repertoires to be used for training\n",
    "\n",
    "train_dataset = make_dataset(repertoire_paths=training_data_sc1[\"repertoire\"], path=scenario1_data_path / 'train', \n",
    "                             dataset_name=\"experiment3_sc1_train\", \n",
    "                             signal_names=[immune_state_signal.id, experimental_protocol_node.name])"
   ]
  },
  {
   "cell_type": "code",
   "execution_count": 9,
   "metadata": {
    "pycharm": {
     "name": "#%%\n"
    }
   },
   "outputs": [],
   "source": [
    "# make a test dataset\n",
    "\n",
    "repertoire_node.additional_parameters['path'] = scenario1_data_path / 'test' # update result_path: to be removed with DagSim update\n",
    "\n",
    "test_data = graph.simulate(num_samples=test_example_count, csv_name=str(scenario1_data_path / \"test/test_cohort\"), selection=False)\n",
    "\n",
    "test_dataset = make_dataset(repertoire_paths=test_data[\"repertoire\"], path=scenario1_data_path / 'test',\n",
    "                            dataset_name=\"experiment3_sc1_test\", signal_names=[immune_state_signal.id, experimental_protocol_node.name])\n"
   ]
  },
  {
   "cell_type": "code",
   "execution_count": 10,
   "metadata": {
    "pycharm": {
     "name": "#%%\n"
    }
   },
   "outputs": [],
   "source": [
    "# merge datasets (but the distinction between train and test will be kept in the ML analysis part)\n",
    "\n",
    "dataset = make_AIRR_dataset(train_dataset, test_dataset, scenario1_data_path / 'full_dataset')"
   ]
  },
  {
   "cell_type": "markdown",
   "metadata": {},
   "source": [
    "### Step 2: Training an ML model"
   ]
  },
  {
   "cell_type": "code",
   "execution_count": 11,
   "metadata": {},
   "outputs": [],
   "source": [
    "specs = {\n",
    "    \"definitions\": {\n",
    "        \"datasets\": {\n",
    "            \"dataset1\": {\n",
    "                \"format\": 'AIRR',\n",
    "                \"params\": {\n",
    "                    \"path\": str(scenario1_data_path / 'full_dataset'),\n",
    "                    \"metadata_file\": str(scenario1_data_path / 'full_dataset/metadata.csv')\n",
    "                }\n",
    "            }\n",
    "        },\n",
    "        \"encodings\": {\n",
    "            \"kmer_frequency\": {\n",
    "                \"KmerFrequency\": {\"k\": 3}\n",
    "            }\n",
    "        },\n",
    "        \"ml_methods\": {\n",
    "            \"logistic_regression\": {\n",
    "                \"LogisticRegression\": {\n",
    "                    \"penalty\": \"l1\",\n",
    "                    \"C\": [0.01, 0.1, 1, 10, 100],\n",
    "                    \"max_iter\": 1500,\n",
    "                    \"show_warnings\": False\n",
    "                },\n",
    "                \"model_selection_cv\": True,\n",
    "                \"model_selection_n_folds\": 5\n",
    "            }\n",
    "        },\n",
    "        \"reports\": {\n",
    "            \"motif_recovery_immune_state\": { # to check how much coefficients overlap with the immune state signal that was implanted\n",
    "                \"MotifSeedRecovery\": {\n",
    "                    \"implanted_motifs_per_label\": {\n",
    "                        \"immune_state\": {\n",
    "                            \"seeds\": [\"ADR\", \"ATS\"],\n",
    "                            \"hamming_distance\": True,\n",
    "                            \"gap_sizes\": [0] # no gaps\n",
    "                        }\n",
    "                    }\n",
    "                }\n",
    "            },\n",
    "            \"motif_recovery_protocol\": { # to check how much coefficients overlap with the immune state signal that was implanted\n",
    "                \"MotifSeedRecovery\": {\n",
    "                    \"implanted_motifs_per_label\": {\n",
    "                        \"immune_state\": {\n",
    "                            \"seeds\": [\"ADR\", \"ATS\"],\n",
    "                            \"hamming_distance\": True,\n",
    "                            \"gap_sizes\": [0] # no gaps\n",
    "                        }\n",
    "                    }\n",
    "                }\n",
    "            },\n",
    "            \"coefficients\": {\n",
    "                \"Coefficients\": { # show top 25 logistic regression coefficients and what k-mers they correspond to\n",
    "                    \"coefs_to_plot\": ['n_largest'],\n",
    "                    \"n_largest\": [25]\n",
    "                }\n",
    "            },\n",
    "            \"feature_comparison\": {\n",
    "                \"FeatureComparison\": {\n",
    "                    \"comparison_label\": \"immune_state\",\n",
    "                    \"color_grouping_label\": \"experimental_protocol\",\n",
    "                    \"show_error_bar\": False,\n",
    "                    \"keep_fraction\": 0.1\n",
    "                }\n",
    "            }\n",
    "        }\n",
    "    },\n",
    "    \"instructions\": {\n",
    "        'train_ml': {\n",
    "            \"type\": \"TrainMLModel\",\n",
    "            \"assessment\": { # ensure here that train and test dataset are fixed, as per simulation\n",
    "                \"split_strategy\": \"manual\",\n",
    "                \"split_count\": 1,\n",
    "                \"manual_config\": {\n",
    "                    \"train_metadata_path\": str(scenario1_data_path / \"train/experiment3_sc1_train_metadata.csv\"),\n",
    "                    \"test_metadata_path\": str(scenario1_data_path / \"test/experiment3_sc1_test_metadata.csv\")\n",
    "                },\n",
    "                \"reports\": {\n",
    "                    \"models\": [\"coefficients\", \"motif_recovery_immune_state\", \"motif_recovery_protocol\"],\n",
    "                    \"encoding\": [\"feature_comparison\"]\n",
    "                }\n",
    "            },\n",
    "            \"selection\": {\n",
    "                \"split_strategy\": \"random\",\n",
    "                \"train_percentage\": 0.7,\n",
    "                \"split_count\": 1,\n",
    "                \"reports\": {\n",
    "                    \"models\": [\"coefficients\", \"motif_recovery_immune_state\", \"motif_recovery_protocol\"],\n",
    "                    \"encoding\": [\"feature_comparison\"]\n",
    "                }\n",
    "            },\n",
    "            \"settings\": [\n",
    "                {\"encoding\": \"kmer_frequency\", \"ml_method\": \"logistic_regression\"}\n",
    "            ],\n",
    "            \"dataset\": \"dataset1\",\n",
    "            \"refit_optimal_model\": False,\n",
    "            \"labels\": [\"immune_state\"],\n",
    "            \"optimization_metric\": \"log_loss\",\n",
    "            \"metrics\": ['balanced_accuracy', 'auc']\n",
    "        }\n",
    "    }\n",
    "}\n",
    "\n",
    "scenario1_ml_result_path = setup_path(\"./experiment3/scenario1/ml_result/\")\n",
    "scenario1_specs_path = scenario1_ml_result_path / \"specs.yaml\"\n",
    "\n",
    "with open(scenario1_specs_path, \"w\") as file:\n",
    "    yaml.dump(specs, file)"
   ]
  },
  {
   "cell_type": "code",
   "execution_count": 12,
   "metadata": {},
   "outputs": [
    {
     "name": "stdout",
     "output_type": "stream",
     "text": [
      "2021-11-14 15:12:53.635161: Setting temporary cache path to experiment3/scenario1/ml_result/result/cache\n",
      "2021-11-14 15:12:53.635759: ImmuneML: parsing the specification...\n",
      "\n"
     ]
    },
    {
     "name": "stderr",
     "output_type": "stream",
     "text": [
      "/Users/milenpa/PycharmProjects/CausalAIRR/venv/lib/python3.8/site-packages/immuneML/util/ImportHelper.py:49: FutureWarning: In a future version of pandas all arguments of read_csv except for the argument 'filepath_or_buffer' will be keyword-only\n",
      "  dataset = ImportHelper.import_repertoire_dataset(import_class, processed_params, dataset_name)\n"
     ]
    },
    {
     "name": "stdout",
     "output_type": "stream",
     "text": [
      "2021-11-14 15:13:36.805616: Full specification is available at experiment3/scenario1/ml_result/result/full_specs.yaml.\n",
      "\n",
      "2021-11-14 15:13:36.806676: ImmuneML: starting the analysis...\n",
      "\n",
      "2021-11-14 15:13:36.807186: Instruction 1/1 has started.\n",
      "2021-11-14 15:13:36.896337: Training ML model: running outer CV loop: started split 1/1.\n",
      "\n",
      "2021-11-14 15:13:36.954335: Hyperparameter optimization: running the inner loop of nested CV: selection for label immune_state (label 1 / 1).\n",
      "\n",
      "2021-11-14 15:13:36.955724: Evaluating hyperparameter setting: kmer_frequency_logistic_regression...\n",
      "2021-11-14 15:13:36.956673: Encoding started...\n"
     ]
    },
    {
     "name": "stderr",
     "output_type": "stream",
     "text": [
      "WARNING:root:KmerSequenceEncoder: Sequence length 2 is less than 3. Ignoring sequence...\n"
     ]
    },
    {
     "name": "stdout",
     "output_type": "stream",
     "text": [
      "2021-11-14 15:13:46.258415: Encoding finished.\n",
      "2021-11-14 15:13:46.258843: ML model training started...\n"
     ]
    },
    {
     "name": "stderr",
     "output_type": "stream",
     "text": [
      "/Users/milenpa/PycharmProjects/CausalAIRR/venv/lib/python3.8/site-packages/sklearn/model_selection/_search.py:292: UserWarning: The total space of parameters 5 is smaller than n_iter=10. Running 5 iterations. For exhaustive searches, use GridSearchCV.\n",
      "  warnings.warn(\n",
      "/Users/milenpa/PycharmProjects/CausalAIRR/venv/lib/python3.8/site-packages/sklearn/linear_model/_sag.py:352: ConvergenceWarning: The max_iter was reached which means the coef_ did not converge\n",
      "  warnings.warn(\n"
     ]
    },
    {
     "name": "stdout",
     "output_type": "stream",
     "text": [
      "2021-11-14 15:14:51.397317: ML model training finished.\n",
      "2021-11-14 15:14:57.997252: Encoding started...\n"
     ]
    },
    {
     "name": "stderr",
     "output_type": "stream",
     "text": [
      "WARNING:root:KmerSequenceEncoder: Sequence length 2 is less than 3. Ignoring sequence...\n"
     ]
    },
    {
     "name": "stdout",
     "output_type": "stream",
     "text": [
      "2021-11-14 15:15:03.031982: Encoding finished.\n",
      "2021-11-14 15:15:07.596062: Completed hyperparameter setting kmer_frequency_logistic_regression.\n",
      "\n",
      "2021-11-14 15:15:07.597620: Hyperparameter optimization: running the inner loop of nested CV: completed selection for label immune_state (label 1 / 1).\n",
      "\n",
      "2021-11-14 15:15:07.598384: Training ML model: running the inner loop of nested CV: retrain models for label immune_state (label 1 / 1).\n",
      "\n",
      "2021-11-14 15:15:07.599845: Evaluating hyperparameter setting: kmer_frequency_logistic_regression...\n",
      "2021-11-14 15:15:07.601752: Encoding started...\n"
     ]
    },
    {
     "name": "stderr",
     "output_type": "stream",
     "text": [
      "WARNING:root:KmerSequenceEncoder: Sequence length 2 is less than 3. Ignoring sequence...\n"
     ]
    },
    {
     "name": "stdout",
     "output_type": "stream",
     "text": [
      "2021-11-14 15:15:15.340894: Encoding finished.\n",
      "2021-11-14 15:15:15.341349: ML model training started...\n"
     ]
    },
    {
     "name": "stderr",
     "output_type": "stream",
     "text": [
      "/Users/milenpa/PycharmProjects/CausalAIRR/venv/lib/python3.8/site-packages/sklearn/model_selection/_search.py:292: UserWarning:\n",
      "\n",
      "The total space of parameters 5 is smaller than n_iter=10. Running 5 iterations. For exhaustive searches, use GridSearchCV.\n",
      "\n",
      "/Users/milenpa/PycharmProjects/CausalAIRR/venv/lib/python3.8/site-packages/sklearn/linear_model/_sag.py:352: ConvergenceWarning:\n",
      "\n",
      "The max_iter was reached which means the coef_ did not converge\n",
      "\n"
     ]
    },
    {
     "name": "stdout",
     "output_type": "stream",
     "text": [
      "2021-11-14 15:16:47.434199: ML model training finished.\n",
      "2021-11-14 15:16:55.372366: Encoding started...\n",
      "2021-11-14 15:17:00.016525: Encoding finished.\n",
      "2021-11-14 15:17:04.239389: Completed hyperparameter setting kmer_frequency_logistic_regression.\n",
      "\n",
      "2021-11-14 15:17:04.241293: Training ML model: running the inner loop of nested CV: completed retraining models for label immune_state (label 1 / 1).\n",
      "\n",
      "2021-11-14 15:17:04.242173: Training ML model: running outer CV loop: finished split 1/1.\n",
      "\n",
      "Performances (log_loss) -----------------------------------------------\n",
      "\n",
      "\n",
      "Label: immune_state\n",
      "Performance (log_loss) per assessment split:\n",
      "Split 1: 0.2829830373641097\n",
      "Average performance (log_loss): 0.2829830373641097\n",
      "------------------------------\n",
      "2021-11-14 15:17:04.611952: Instruction 1/1 has finished.\n",
      "2021-11-14 15:17:04.624968: Generating HTML reports...\n",
      "2021-11-14 15:17:04.987503: HTML reports are generated.\n",
      "2021-11-14 15:17:05.023451: ImmuneML: finished analysis.\n",
      "\n",
      "The results are located under ./experiment3/scenario1/\n"
     ]
    }
   ],
   "source": [
    "# run immuneML with the specs file\n",
    "\n",
    "from immuneML.app.ImmuneMLApp import ImmuneMLApp\n",
    "\n",
    "scenario1_output_path = scenario1_ml_result_path / \"result/\"\n",
    "\n",
    "app = ImmuneMLApp(specification_path = scenario1_specs_path, result_path = scenario1_output_path)\n",
    "result = app.run()\n",
    "\n",
    "print(\"The results are located under ./experiment3/scenario1/\")"
   ]
  },
  {
   "cell_type": "code",
   "execution_count": 35,
   "metadata": {},
   "outputs": [
    {
     "ename": "TypeError",
     "evalue": "unsupported operand type(s) for +: 'set' and 'list'",
     "output_type": "error",
     "traceback": [
      "\u001b[0;31m---------------------------------------------------------------------------\u001b[0m",
      "\u001b[0;31mTypeError\u001b[0m                                 Traceback (most recent call last)",
      "\u001b[0;32m/var/folders/f9/06b542k50w975k3r6p9k3t280000gn/T/ipykernel_94812/1864842505.py\u001b[0m in \u001b[0;36m<module>\u001b[0;34m\u001b[0m\n\u001b[1;32m      1\u001b[0m \u001b[0;32mfrom\u001b[0m \u001b[0mutil\u001b[0m\u001b[0;34m.\u001b[0m\u001b[0mplotting\u001b[0m \u001b[0;32mimport\u001b[0m \u001b[0mplot_validation_vs_test_performance\u001b[0m\u001b[0;34m\u001b[0m\u001b[0;34m\u001b[0m\u001b[0m\n\u001b[1;32m      2\u001b[0m \u001b[0;34m\u001b[0m\u001b[0m\n\u001b[0;32m----> 3\u001b[0;31m \u001b[0mplot_validation_vs_test_performance\u001b[0m\u001b[0;34m(\u001b[0m\u001b[0miml_result\u001b[0m\u001b[0;34m=\u001b[0m\u001b[0mresult\u001b[0m\u001b[0;34m,\u001b[0m \u001b[0mresult_path\u001b[0m\u001b[0;34m=\u001b[0m\u001b[0mscenario1_ml_result_path\u001b[0m\u001b[0;34m)\u001b[0m\u001b[0;34m\u001b[0m\u001b[0;34m\u001b[0m\u001b[0m\n\u001b[0m",
      "\u001b[0;32m~/PycharmProjects/CausalAIRR/util/plotting.py\u001b[0m in \u001b[0;36mplot_validation_vs_test_performance\u001b[0;34m(iml_result, result_path)\u001b[0m\n\u001b[1;32m      7\u001b[0m \u001b[0;32mdef\u001b[0m \u001b[0mplot_validation_vs_test_performance\u001b[0m\u001b[0;34m(\u001b[0m\u001b[0miml_result\u001b[0m\u001b[0;34m:\u001b[0m \u001b[0mlist\u001b[0m\u001b[0;34m,\u001b[0m \u001b[0mresult_path\u001b[0m\u001b[0;34m:\u001b[0m \u001b[0mPath\u001b[0m\u001b[0;34m)\u001b[0m\u001b[0;34m:\u001b[0m\u001b[0;34m\u001b[0m\u001b[0;34m\u001b[0m\u001b[0m\n\u001b[1;32m      8\u001b[0m     \u001b[0mtrain_state\u001b[0m \u001b[0;34m=\u001b[0m \u001b[0miml_result\u001b[0m\u001b[0;34m[\u001b[0m\u001b[0;36m0\u001b[0m\u001b[0;34m]\u001b[0m\u001b[0;34m\u001b[0m\u001b[0;34m\u001b[0m\u001b[0m\n\u001b[0;32m----> 9\u001b[0;31m     \u001b[0mmetrics\u001b[0m \u001b[0;34m=\u001b[0m \u001b[0mlist\u001b[0m\u001b[0;34m(\u001b[0m\u001b[0mtrain_state\u001b[0m\u001b[0;34m.\u001b[0m\u001b[0mmetrics\u001b[0m\u001b[0;34m)\u001b[0m \u001b[0;34m+\u001b[0m \u001b[0;34m[\u001b[0m\u001b[0mtrain_state\u001b[0m\u001b[0;34m.\u001b[0m\u001b[0moptimization_metric\u001b[0m\u001b[0;34m]\u001b[0m\u001b[0;34m\u001b[0m\u001b[0;34m\u001b[0m\u001b[0m\n\u001b[0m\u001b[1;32m     10\u001b[0m \u001b[0;34m\u001b[0m\u001b[0m\n\u001b[1;32m     11\u001b[0m     \u001b[0mperformances_per_metric\u001b[0m \u001b[0;34m=\u001b[0m \u001b[0;34m{\u001b[0m\u001b[0;34m}\u001b[0m\u001b[0;34m\u001b[0m\u001b[0;34m\u001b[0m\u001b[0m\n",
      "\u001b[0;31mTypeError\u001b[0m: unsupported operand type(s) for +: 'set' and 'list'"
     ]
    }
   ],
   "source": [
    "from util.plotting import plot_validation_vs_test_performance\n",
    "\n",
    "plot_validation_vs_test_performance(iml_result=result, result_path=scenario1_ml_result_path)"
   ]
  },
  {
   "cell_type": "markdown",
   "metadata": {},
   "source": [
    "## Scenario 3: immune state does not influence the AIRR: learning spurious correlations"
   ]
  },
  {
   "cell_type": "code",
   "execution_count": null,
   "metadata": {},
   "outputs": [],
   "source": [
    "# define and build path, remove content if not empty\n",
    "\n",
    "scenario3_path = setup_path(\"./experiment3/scenario3/\")\n",
    "\n",
    "data_path = setup_path(scenario3_path / \"data\")\n",
    "\n",
    "repertoire_node = ds.Generic(name=\"repertoire\", function=get_repertoire,\n",
    "                             arguments={\"immune_state\": False, \"experimental_protocol\": experimental_protocol_node,\n",
    "                                        \"path\": data_path / \"train\", \"sequence_count\": sequence_count, \n",
    "                                        \"immune_state_signal\": immune_state_signal,\n",
    "                                        'repertoire_implanting_rate': repertoire_implanting_rate})"
   ]
  },
  {
   "cell_type": "code",
   "execution_count": null,
   "metadata": {
    "pycharm": {
     "name": "#%%\n"
    }
   },
   "outputs": [],
   "source": [
    "# make a causal graph using DagSim and show it graphically\n",
    "\n",
    "graph = ds.Graph(name=\"graph_experiment_3_3\", list_nodes=[index_node, immune_state_node, hospital_node, experimental_protocol_node, repertoire_node, selection_node])\n",
    "graph.draw()"
   ]
  },
  {
   "cell_type": "code",
   "execution_count": null,
   "metadata": {
    "pycharm": {
     "name": "#%%\n"
    }
   },
   "outputs": [],
   "source": [
    "# make a train dataset\n",
    "\n",
    "training_data_sc1 = graph.simulate(num_samples=train_example_count, csv_name=str(data_path / \"train/study_cohort\"))\n",
    "\n",
    "train_dataset = make_dataset(repertoires=training_data_sc1[\"repertoire\"], path=data_path / 'train', \n",
    "                             dataset_name=\"experiment3_sc3_train\",\n",
    "                             signal_names=[immune_state_signal.id, experimental_protocol_node.name])"
   ]
  },
  {
   "cell_type": "code",
   "execution_count": null,
   "metadata": {
    "pycharm": {
     "name": "#%%\n"
    }
   },
   "outputs": [],
   "source": [
    "# make a test dataset\n",
    "\n",
    "repertoire_node.additional_parameters['path'] = data_path / 'test' # update result_path: to be removed with DagSim update\n",
    "\n",
    "test_data = graph.simulate(num_samples=test_example_count, csv_name=str(data_path / \"test/test_cohort\"), selection=False)\n",
    "\n",
    "test_dataset = make_dataset(repertoires=test_data[\"repertoire\"], path=data_path / 'test',\n",
    "                            dataset_name=\"experiment3_sc3_test\", signal_names=[immune_state_signal.id, experimental_protocol_node.name])\n"
   ]
  },
  {
   "cell_type": "code",
   "execution_count": null,
   "metadata": {
    "pycharm": {
     "name": "#%%\n"
    }
   },
   "outputs": [],
   "source": [
    "# merge datasets (but the distinction between train and test will be kept in the ML analysis part)\n",
    "\n",
    "dataset = make_AIRR_dataset(train_dataset, test_dataset, data_path / 'full_dataset')"
   ]
  },
  {
   "cell_type": "code",
   "execution_count": null,
   "metadata": {},
   "outputs": [],
   "source": []
  }
 ],
 "metadata": {
  "kernelspec": {
   "display_name": "Python 3 (ipykernel)",
   "language": "python",
   "name": "python3"
  },
  "language_info": {
   "codemirror_mode": {
    "name": "ipython",
    "version": 3
   },
   "file_extension": ".py",
   "mimetype": "text/x-python",
   "name": "python",
   "nbconvert_exporter": "python",
   "pygments_lexer": "ipython3",
   "version": "3.8.3"
  },
  "varInspector": {
   "cols": {
    "lenName": 16,
    "lenType": 16,
    "lenVar": 40
   },
   "kernels_config": {
    "python": {
     "delete_cmd_postfix": "",
     "delete_cmd_prefix": "del ",
     "library": "var_list.py",
     "varRefreshCmd": "print(var_dic_list())"
    },
    "r": {
     "delete_cmd_postfix": ") ",
     "delete_cmd_prefix": "rm(",
     "library": "var_list.r",
     "varRefreshCmd": "cat(var_dic_list()) "
    }
   },
   "types_to_exclude": [
    "module",
    "function",
    "builtin_function_or_method",
    "instance",
    "_Feature"
   ],
   "window_display": false
  }
 },
 "nbformat": 4,
 "nbformat_minor": 1
}
