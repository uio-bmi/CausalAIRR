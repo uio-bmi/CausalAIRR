{
 "cells": [
  {
   "cell_type": "markdown",
   "metadata": {
    "collapsed": true
   },
   "source": [
    "# Experiment 1: the influence of a confounder on classification performance\n",
    "\n",
    "In this experiment, we use a simplified causal graph consisting of three nodes: immune state, confounder, and AIRR, to show how confounders might influence the prediction task.\n",
    "\n",
    "Immune state is a binary variable and can have values `True` or `False` to indicate if an individual is diseased or healthy. Confounder also in this setting has two values: `C1` and `C2`. AIRR is a set of sequences simulated based on the values of the immune state and the confounder for the given individual.\n",
    "\n",
    "Steps:\n",
    "\n",
    "1. Simulate training and test dataset from a causal graph to include: confounder (implemented by implanting 3-mer `ADR` in the repertoire), immune state (implemented by implanting a signal in the repertoire but the exact 3-mer depends on the value of the confounder; it is either `QPR` or `EQY`)\n",
    "\n",
    "2. Train an ML model (here: logistic regression on repertoires represented by the k-mer frequencies) on the train set and assess its performance on the test set in the presence of confounder with stable distribution across train and test.\n",
    "\n",
    "Software used: \n",
    "\n",
    "- DagSim for simulation of the causal graph; \n",
    "- immuneML v2.1 for implanting signal in AIRRs and for training and assessing machine learning classifiers; \n",
    "- OLGA for simulation of naive AIRRs"
   ]
  },
  {
   "cell_type": "code",
   "execution_count": null,
   "metadata": {},
   "outputs": [],
   "source": [
    "import yaml\n",
    "import numpy as np\n",
    "from util.dataset_util import setup_path\n",
    "from util.implanting import make_immune_state_signals, make_confounder_signal\n",
    "from util.experiment1 import make_graph"
   ]
  },
  {
   "cell_type": "markdown",
   "metadata": {},
   "source": [
    "## Experiment 1a - Stable confounder distribution is not a problem for prediction"
   ]
  },
  {
   "cell_type": "markdown",
   "metadata": {},
   "source": [
    "### Step 1: AIRR simulation from a causal graph"
   ]
  },
  {
   "cell_type": "code",
   "execution_count": null,
   "metadata": {},
   "outputs": [],
   "source": [
    "experiment_name = \"1a\"\n",
    "result_path = setup_path('./experiment1a/')\n",
    "data_path = setup_path(\"./experiment1a/data/\")\n",
    "\n",
    "# how many repertoires to make for training and testing\n",
    "train_example_count = 200\n",
    "test_example_count = 100\n",
    "\n",
    "# immune state: two binomial distributions depending on the confounder value with probability of success p\n",
    "immune_state_p_conf1 = 0.8 # for confounder = C1\n",
    "immune_state_p_conf2 = 0.2 # for confounder = C2\n",
    "\n",
    "# confounder: binomial distribution with probability of success p\n",
    "confounder_p_train = 0.5\n",
    "confounder_p_test = 0.5\n",
    "\n",
    "# other parameters\n",
    "immune_state_implanting_rate = 0.02 # percentage of repertoire sequences to include immune state signal\n",
    "confounder_implanting_rate = 0.2\n",
    "sequence_count = 100 # number of sequences in one repertoire\n",
    "\n",
    "immune_state_signal_name = \"immune_state\"\n",
    "immune_state_signals = make_immune_state_signals(signal_name=immune_state_signal_name)\n",
    "confounder_signal = make_confounder_signal()\n",
    "\n",
    "# define nodes of the causal graph\n",
    "graph = make_graph(confounder_p_train=confounder_p_train, immune_state_p_conf1=immune_state_p_conf1, \n",
    "                   immune_state_p_conf2=immune_state_p_conf2, data_path=data_path, sequence_count=sequence_count,\n",
    "                   immune_state_signals=immune_state_signals, confounder_signal=confounder_signal, \n",
    "                   immune_state_implanting_rate=immune_state_implanting_rate, \n",
    "                   confounder_implanting_rate=confounder_implanting_rate, experiment_name=experiment_name)\n",
    "\n",
    "graph.draw()"
   ]
  },
  {
   "cell_type": "code",
   "execution_count": null,
   "metadata": {
    "scrolled": true
   },
   "outputs": [],
   "source": [
    "# simulate a dataset using the graph\n",
    "\n",
    "from util.experiment1 import simulate_dataset\n",
    "\n",
    "simulate_dataset(train_example_count=train_example_count, test_example_count=test_example_count, data_path=data_path,\n",
    "                 graph=graph, confounder_p_test=confounder_p_test, sequence_count=sequence_count, \n",
    "                 immune_state_signals=immune_state_signals, confounder_signal=confounder_signal, \n",
    "                 immune_state_implanting_rate=immune_state_implanting_rate, \n",
    "                 confounder_implanting_rate=confounder_implanting_rate, experiment_name=experiment_name)\n",
    "\n"
   ]
  },
  {
   "cell_type": "code",
   "execution_count": null,
   "metadata": {},
   "outputs": [],
   "source": [
    "import pandas as pd\n",
    "from glob import glob\n",
    "from sklearn.metrics import matthews_corrcoef\n",
    "from pathlib import Path\n",
    "\n",
    "\n",
    "def print_all_simulation_stats(start_path: Path):\n",
    "    metadata_files = glob(str(start_path / \"**/*metadata.csv\"), recursive=True)\n",
    "\n",
    "    for metadata_file in metadata_files:\n",
    "        print(f\"\\n\\n{Path(metadata_file).name}\\n\")\n",
    "        for k, v in get_simulation_stats(metadata_file).items():\n",
    "            print(k)\n",
    "            print(f\"{v}\\n\")\n",
    "\n",
    "\n",
    "def get_simulation_stats(metadata_path: Path):\n",
    "    df = pd.read_csv(metadata_path)\n",
    "    conf_values, conf_counts = np.unique(df['confounder'], return_counts=True)\n",
    "    immune_values, immune_counts = np.unique(df['immune_state'], return_counts=True)\n",
    "    return {\n",
    "        \"Matthews correlation coefficient between immune state and confounder\": matthews_corrcoef(df['immune_state'], df['confounder']),\n",
    "        \"Confounder stats\": {val: count for val, count in zip(conf_values, conf_counts)},\n",
    "        \"Immune state stats\": {val: count for val, count in zip(immune_values, immune_counts)},\n",
    "        \"Immune state per confounder value\": df[['confounder', 'immune_state']].value_counts()\n",
    "    }\n",
    "\n",
    "print_all_simulation_stats(data_path)"
   ]
  },
  {
   "cell_type": "markdown",
   "metadata": {},
   "source": [
    "# Step 2: train an ML model and assess performance"
   ]
  },
  {
   "cell_type": "code",
   "execution_count": null,
   "metadata": {},
   "outputs": [],
   "source": [
    "from util.experiment1 import define_specs\n",
    "\n",
    "specs = define_specs(data_path, experiment_name=experiment_name)\n",
    "\n",
    "ml_result_path = setup_path(f\"./experiment{experiment_name}/ml_result/\")\n",
    "specification_path = ml_result_path / \"specs.yaml\"\n",
    "\n",
    "with open(specification_path, \"w\") as file:\n",
    "    yaml.dump(specs, file)"
   ]
  },
  {
   "cell_type": "code",
   "execution_count": null,
   "metadata": {},
   "outputs": [],
   "source": [
    "# run immuneML with the specs file\n",
    "\n",
    "from immuneML.app.ImmuneMLApp import ImmuneMLApp\n",
    "\n",
    "output_path = ml_result_path / \"result/\"\n",
    "\n",
    "app = ImmuneMLApp(specification_path = specification_path, result_path = output_path)\n",
    "result = app.run()"
   ]
  },
  {
   "cell_type": "code",
   "execution_count": null,
   "metadata": {
    "pycharm": {
     "name": "#%%\n"
    }
   },
   "outputs": [],
   "source": [
    "from util.plotting import plot_balanced_error_rate\n",
    "\n",
    "plot_balanced_error_rate(iml_result=result, result_path=ml_result_path)"
   ]
  },
  {
   "cell_type": "code",
   "execution_count": null,
   "metadata": {},
   "outputs": [],
   "source": [
    "# show what the model has learned\n",
    "\n",
    "from IPython.display import IFrame\n",
    "\n",
    "\n",
    "IFrame(src=str(ml_result_path / \"result/HTML_output/train_ml_split_1_immune_state_kmer_frequency_logistic_regression_optimal_reports_ml_method_coefficients_largest_25_coefficients.html\"),  width=700, height=600)"
   ]
  },
  {
   "cell_type": "markdown",
   "metadata": {},
   "source": [
    "## Experiment 1b - Minor changes in confounder distribution do not always influence performance"
   ]
  },
  {
   "cell_type": "markdown",
   "metadata": {},
   "source": [
    "### Step 1: AIRR simulation from the causal graph"
   ]
  },
  {
   "cell_type": "code",
   "execution_count": null,
   "metadata": {},
   "outputs": [],
   "source": [
    "experiment_name = \"1b\"\n",
    "result_path = setup_path('./experiment1b/')\n",
    "data_path = setup_path(\"./experiment1b/data/\")\n",
    "\n",
    "# how many repertoires to make for training and testing\n",
    "train_example_count = 200\n",
    "test_example_count = 100\n",
    "\n",
    "# immune state: two binomial distributions depending on the confounder value with probability of success p\n",
    "immune_state_p_conf1 = 0.8 # for confounder = C1\n",
    "immune_state_p_conf2 = 0.2 # for confounder = C2\n",
    "\n",
    "# confounder: binomial distribution with probability of success p\n",
    "confounder_p_train = 0.4\n",
    "confounder_p_test = 0.5\n",
    "\n",
    "# other parameters\n",
    "immune_state_implanting_rate = 0.02 # percentage of repertoire sequences to include immune state signal\n",
    "confounder_implanting_rate = 0.2\n",
    "sequence_count = 500 # number of sequences in one repertoire\n",
    "\n",
    "immune_state_signal_name = \"immune_state\"\n",
    "immune_state_signals = make_immune_state_signals(signal_name=immune_state_signal_name)\n",
    "confounder_signal = make_confounder_signal()\n",
    "\n",
    "# define nodes of the causal graph\n",
    "graph = make_graph(confounder_p_train=confounder_p_train, immune_state_p_conf1=immune_state_p_conf1, \n",
    "                   immune_state_p_conf2=immune_state_p_conf2, data_path=data_path, sequence_count=sequence_count,\n",
    "                   immune_state_signals=immune_state_signals, confounder_signal=confounder_signal, \n",
    "                   immune_state_implanting_rate=immune_state_implanting_rate, \n",
    "                   confounder_implanting_rate=confounder_implanting_rate, experiment_name=experiment_name)\n",
    "\n",
    "graph.draw()"
   ]
  },
  {
   "cell_type": "code",
   "execution_count": null,
   "metadata": {},
   "outputs": [],
   "source": [
    "# simulate a dataset using the graph\n",
    "\n",
    "from util.experiment1 import simulate_dataset\n",
    "\n",
    "simulate_dataset(train_example_count=train_example_count, test_example_count=test_example_count, data_path=data_path,\n",
    "                 graph=graph, confounder_p_test=confounder_p_test, sequence_count=sequence_count, \n",
    "                 immune_state_signals=immune_state_signals, confounder_signal=confounder_signal, \n",
    "                 immune_state_implanting_rate=immune_state_implanting_rate, \n",
    "                 confounder_implanting_rate=confounder_implanting_rate, experiment_name=experiment_name)\n",
    "\n"
   ]
  },
  {
   "cell_type": "markdown",
   "metadata": {},
   "source": [
    "### Step 2: train an ML model and assess performance"
   ]
  },
  {
   "cell_type": "code",
   "execution_count": null,
   "metadata": {},
   "outputs": [],
   "source": [
    "from util.experiment1 import define_specs\n",
    "\n",
    "specs = define_specs(data_path, experiment_name=experiment_name)\n",
    "\n",
    "ml_result_path = setup_path(f\"./experiment{experiment_name}/ml_result/\")\n",
    "specification_path = ml_result_path / \"specs.yaml\"\n",
    "\n",
    "with open(specification_path, \"w\") as file:\n",
    "    yaml.dump(specs, file)"
   ]
  },
  {
   "cell_type": "code",
   "execution_count": null,
   "metadata": {},
   "outputs": [],
   "source": [
    "# run immuneML with the specs file\n",
    "\n",
    "from immuneML.app.ImmuneMLApp import ImmuneMLApp\n",
    "\n",
    "output_path = ml_result_path / \"result/\"\n",
    "\n",
    "app = ImmuneMLApp(specification_path = specification_path, result_path = output_path)\n",
    "result = app.run()"
   ]
  },
  {
   "cell_type": "code",
   "execution_count": null,
   "metadata": {},
   "outputs": [],
   "source": [
    "from util.plotting import plot_balanced_error_rate\n",
    "\n",
    "plot_balanced_error_rate(iml_result=result, result_path=ml_result_path)"
   ]
  },
  {
   "cell_type": "code",
   "execution_count": null,
   "metadata": {},
   "outputs": [],
   "source": [
    "# show what the model has learned\n",
    "\n",
    "from IPython.display import IFrame\n",
    "\n",
    "\n",
    "IFrame(src=str(ml_result_path / \"result/HTML_output/train_ml_split_1_immune_state_kmer_frequency_logistic_regression_optimal_reports_ml_method_coefficients_largest_25_coefficients.html\"),  width=700, height=600)"
   ]
  },
  {
   "cell_type": "markdown",
   "metadata": {},
   "source": [
    "## Experiment 1c - Changes in confounder distribution can degrade performance"
   ]
  },
  {
   "cell_type": "markdown",
   "metadata": {},
   "source": [
    "### Step 1: AIRR simulation from the causal graph"
   ]
  },
  {
   "cell_type": "code",
   "execution_count": null,
   "metadata": {},
   "outputs": [],
   "source": [
    "experiment_name = \"1c\"\n",
    "result_path = setup_path('./experiment1c/')\n",
    "data_path = setup_path(\"./experiment1c/data/\")\n",
    "\n",
    "# how many repertoires to make for training and testing\n",
    "train_example_count = 200\n",
    "test_example_count = 100\n",
    "\n",
    "# immune state: two binomial distributions depending on the confounder value with probability of success p\n",
    "immune_state_p_conf1 = 0.8 # for confounder = C1\n",
    "immune_state_p_conf2 = 0.2 # for confounder = C2\n",
    "\n",
    "# confounder: binomial distribution with probability of success p\n",
    "confounder_p_train = 0.4\n",
    "confounder_p_test = 0.6\n",
    "\n",
    "# other parameters\n",
    "immune_state_implanting_rate = 0.02 # percentage of repertoire sequences to include immune state signal\n",
    "confounder_implanting_rate = 0.2\n",
    "sequence_count = 500 # number of sequences in one repertoire\n",
    "\n",
    "immune_state_signal_name = \"immune_state\"\n",
    "immune_state_signals = make_immune_state_signals(signal_name=immune_state_signal_name)\n",
    "confounder_signal = make_confounder_signal()\n",
    "\n",
    "# define nodes of the causal graph\n",
    "graph = make_graph(confounder_p_train=confounder_p_train, immune_state_p_conf1=immune_state_p_conf1, \n",
    "                   immune_state_p_conf2=immune_state_p_conf2, data_path=data_path, sequence_count=sequence_count,\n",
    "                   immune_state_signals=immune_state_signals, confounder_signal=confounder_signal, \n",
    "                   immune_state_implanting_rate=immune_state_implanting_rate, \n",
    "                   confounder_implanting_rate=confounder_implanting_rate, experiment_name=experiment_name)\n",
    "\n",
    "graph.draw()"
   ]
  },
  {
   "cell_type": "code",
   "execution_count": null,
   "metadata": {},
   "outputs": [],
   "source": [
    "# simulate a dataset using the graph\n",
    "\n",
    "from util.experiment1 import simulate_dataset\n",
    "\n",
    "simulate_dataset(train_example_count=train_example_count, test_example_count=test_example_count, data_path=data_path,\n",
    "                 graph=graph, confounder_p_test=confounder_p_test, sequence_count=sequence_count, \n",
    "                 immune_state_signals=immune_state_signals, confounder_signal=confounder_signal, \n",
    "                 immune_state_implanting_rate=immune_state_implanting_rate, \n",
    "                 confounder_implanting_rate=confounder_implanting_rate, experiment_name=experiment_name)\n"
   ]
  },
  {
   "cell_type": "markdown",
   "metadata": {},
   "source": [
    "### Step 2: train an ML model and assess performance"
   ]
  },
  {
   "cell_type": "code",
   "execution_count": null,
   "metadata": {},
   "outputs": [],
   "source": [
    "from util.experiment1 import define_specs\n",
    "\n",
    "specs = define_specs(data_path, experiment_name=experiment_name)\n",
    "\n",
    "ml_result_path = setup_path(f\"./experiment{experiment_name}/ml_result/\")\n",
    "specification_path = ml_result_path / \"specs.yaml\"\n",
    "\n",
    "with open(specification_path, \"w\") as file:\n",
    "    yaml.dump(specs, file)"
   ]
  },
  {
   "cell_type": "code",
   "execution_count": null,
   "metadata": {},
   "outputs": [],
   "source": [
    "# run immuneML with the specs file\n",
    "\n",
    "from immuneML.app.ImmuneMLApp import ImmuneMLApp\n",
    "\n",
    "output_path = ml_result_path / \"result/\"\n",
    "\n",
    "app = ImmuneMLApp(specification_path = specification_path, result_path = output_path)\n",
    "result = app.run()"
   ]
  },
  {
   "cell_type": "code",
   "execution_count": null,
   "metadata": {},
   "outputs": [],
   "source": [
    "from util.plotting import plot_balanced_error_rate\n",
    "\n",
    "plot_balanced_error_rate(iml_result=result, result_path=ml_result_path)"
   ]
  },
  {
   "cell_type": "code",
   "execution_count": null,
   "metadata": {},
   "outputs": [],
   "source": [
    "# show what the model has learned\n",
    "\n",
    "from IPython.display import IFrame\n",
    "\n",
    "\n",
    "IFrame(src=str(ml_result_path / \"result/HTML_output/train_ml_split_1_immune_state_kmer_frequency_logistic_regression_optimal_reports_ml_method_coefficients_largest_25_coefficients.html\"),  width=700, height=600)"
   ]
  }
 ],
 "metadata": {
  "kernelspec": {
   "display_name": "Python 3 (ipykernel)",
   "language": "python",
   "name": "python3"
  },
  "language_info": {
   "codemirror_mode": {
    "name": "ipython",
    "version": 3
   },
   "file_extension": ".py",
   "mimetype": "text/x-python",
   "name": "python",
   "nbconvert_exporter": "python",
   "pygments_lexer": "ipython3",
   "version": "3.8.3"
  },
  "varInspector": {
   "cols": {
    "lenName": 16,
    "lenType": 16,
    "lenVar": 40
   },
   "kernels_config": {
    "python": {
     "delete_cmd_postfix": "",
     "delete_cmd_prefix": "del ",
     "library": "var_list.py",
     "varRefreshCmd": "print(var_dic_list())"
    },
    "r": {
     "delete_cmd_postfix": ") ",
     "delete_cmd_prefix": "rm(",
     "library": "var_list.r",
     "varRefreshCmd": "cat(var_dic_list()) "
    }
   },
   "types_to_exclude": [
    "module",
    "function",
    "builtin_function_or_method",
    "instance",
    "_Feature"
   ],
   "window_display": false
  }
 },
 "nbformat": 4,
 "nbformat_minor": 1
}
