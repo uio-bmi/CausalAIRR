{
 "cells": [
  {
   "cell_type": "markdown",
   "metadata": {
    "collapsed": true
   },
   "source": [
    "# OLGA\n",
    "\n",
    "OLGA is used to simulate repertoires and confounders. \n",
    "\n",
    "OLGA repository: https://github.com/statbiophys/OLGA/tree/master/olga\n",
    "\n",
    "Running OLGA from the command line with the default model to simulate TCRbeta:\n",
    "\n",
    "```\n",
    "olga-generate_sequences --humanTRB -n 1000 -o rep_1.tsv --seed=1\n",
    "```\n",
    "\n",
    "Running OLGA from the command line with the custom model:\n",
    "\n",
    "```\n",
    "olga-generate_sequences -n 1000 -o rep_1.tsv --seed=1 --set_custom_model_VDJ ./path_to_model_folder/\n",
    "```\n",
    "\n",
    "The custom model is located under ./olga_model_removed_TRBV5_1/.\n",
    "\n",
    "The corresponding metadata that will be used in immuneML has the following format (a csv file with filename, subject_id and confounder field):\n",
    "\n",
    "```\n",
    "filename,subject_id,confounder\n",
    "rep1.tsv,subject1,F\n",
    "```\n",
    "\n",
    "The confounder field can have any name, but the filename and subject_id should stay the same."
   ]
  },
  {
   "cell_type": "markdown",
   "metadata": {},
   "source": [
    "# immuneML \n",
    "\n",
    "immuneML is used to implant signals in the repertoires, to simulate the immune state.\n",
    "\n"
   ]
  },
  {
   "cell_type": "code",
   "execution_count": null,
   "metadata": {},
   "outputs": [],
   "source": [
    "from pathlib import Path\n",
    "from util.load_repertoire import load_olga_repertoire\n",
    "\n",
    "repertoire = load_olga_repertoire(filepath=Path(\"./data/rep1.tsv\"), result_path=Path(\"./data/\"))\n",
    "\n",
    "print(f\"Repertoire id: {repertoire.identifier}, metadata: {repertoire.metadata}\")\n"
   ]
  },
  {
   "cell_type": "markdown",
   "metadata": {},
   "source": [
    "### Implanting a signal"
   ]
  },
  {
   "cell_type": "code",
   "execution_count": null,
   "metadata": {},
   "outputs": [],
   "source": [
    "from util.make_signal import make_default_signal\n",
    "from immuneML.util.PathBuilder import PathBuilder\n",
    "\n",
    "signal = make_default_signal()\n",
    "\n",
    "result_path = PathBuilder.build(\"./implanted_data/\")\n",
    "\n",
    "new_repertoire = signal.implant_to_repertoire(repertoire=repertoire, repertoire_implanting_rate=0.5, path=result_path)\n",
    "\n",
    "print(f\"Repertoire id: {new_repertoire.identifier}, metadata: {new_repertoire.metadata}\")"
   ]
  },
  {
   "cell_type": "code",
   "execution_count": null,
   "metadata": {},
   "outputs": [],
   "source": []
  }
 ],
 "metadata": {
  "kernelspec": {
   "display_name": "Python 3 (ipykernel)",
   "language": "python",
   "name": "python3"
  },
  "language_info": {
   "codemirror_mode": {
    "name": "ipython",
    "version": 3
   },
   "file_extension": ".py",
   "mimetype": "text/x-python",
   "name": "python",
   "nbconvert_exporter": "python",
   "pygments_lexer": "ipython3",
   "version": "3.8.3"
  },
  "varInspector": {
   "cols": {
    "lenName": 16,
    "lenType": 16,
    "lenVar": 40
   },
   "kernels_config": {
    "python": {
     "delete_cmd_postfix": "",
     "delete_cmd_prefix": "del ",
     "library": "var_list.py",
     "varRefreshCmd": "print(var_dic_list())"
    },
    "r": {
     "delete_cmd_postfix": ") ",
     "delete_cmd_prefix": "rm(",
     "library": "var_list.r",
     "varRefreshCmd": "cat(var_dic_list()) "
    }
   },
   "types_to_exclude": [
    "module",
    "function",
    "builtin_function_or_method",
    "instance",
    "_Feature"
   ],
   "window_display": false
  }
 },
 "nbformat": 4,
 "nbformat_minor": 1
}
