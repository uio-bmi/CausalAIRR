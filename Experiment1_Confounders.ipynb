{
 "cells": [
  {
   "cell_type": "markdown",
   "metadata": {
    "collapsed": true
   },
   "source": [
    "# OLGA\n",
    "\n",
    "OLGA is used to simulate repertoires and confounders. \n",
    "\n",
    "OLGA repository: https://github.com/statbiophys/OLGA/tree/master/olga\n",
    "\n",
    "Running OLGA from the command line with the default model to simulate TCRbeta:\n",
    "\n",
    "```\n",
    "olga-generate_sequences --humanTRB -n 1000 -o rep_1.tsv --seed=1\n",
    "```\n",
    "\n",
    "Running OLGA from the command line with the custom model:\n",
    "\n",
    "```\n",
    "olga-generate_sequences -n 1000 -o rep_1.tsv --seed=1 --set_custom_model_VDJ ./path_to_model_folder/\n",
    "```\n",
    "\n",
    "The custom model is located under ./olga_model_removed_TRBV5_1/."
   ]
  },
  {
   "cell_type": "markdown",
   "metadata": {},
   "source": [
    "# immuneML \n",
    "\n",
    "immuneML is used to load the repertoire and implant signals in the repertoires, to simulate the immune state.\n",
    "\n"
   ]
  },
  {
   "cell_type": "code",
   "execution_count": 8,
   "metadata": {},
   "outputs": [
    {
     "name": "stdout",
     "output_type": "stream",
     "text": [
      "Repertoire id: be2c98ff1dcf47df98d35c43804e8ef2\n",
      "Metadata: {'field_list': ['sequence_aas', 'sequences', 'v_genes', 'j_genes', 'v_subgroups', 'j_subgroups', 'v_alleles', 'j_alleles', 'chains', 'counts', 'sequence_identifiers'], 'filename': 'rep1.npy'}\n"
     ]
    }
   ],
   "source": [
    "from pathlib import Path\n",
    "from util.load_repertoire import load_olga_repertoire\n",
    "\n",
    "repertoire = load_olga_repertoire(filepath=Path(\"./data/rep1.tsv\"), result_path=Path(\"./data/immuneML_format/\"))\n",
    "\n",
    "print(f\"Repertoire id: {repertoire.identifier}\\nMetadata: {repertoire.metadata}\")"
   ]
  },
  {
   "cell_type": "markdown",
   "metadata": {},
   "source": [
    "## A new repertoire with a signal"
   ]
  },
  {
   "cell_type": "code",
   "execution_count": 9,
   "metadata": {},
   "outputs": [
    {
     "name": "stdout",
     "output_type": "stream",
     "text": [
      "Repertoire id: 17bdbb68aabf4e899ffab91a1a3749d6\n",
      "Metadata: {'field_list': ['immune_state', 'sequence_aas', 'sequences', 'v_genes', 'j_genes', 'v_subgroups', 'j_subgroups', 'v_alleles', 'j_alleles', 'chains', 'counts', 'frame_types', 'sequence_identifiers'], 'filename': '17bdbb68aabf4e899ffab91a1a3749d6.npy', 'immune_state': True}\n"
     ]
    }
   ],
   "source": [
    "from util.implanting import make_default_signal, make_repertoire_with_signal\n",
    "from immuneML.util.PathBuilder import PathBuilder\n",
    "\n",
    "signal = make_default_signal()\n",
    "\n",
    "result_path = PathBuilder.build(\"./data/implanted/\")\n",
    "\n",
    "new_repertoire = make_repertoire_with_signal(repertoire, signal, result_path)\n",
    "\n",
    "print(f\"Repertoire id: {new_repertoire.identifier}\\nMetadata: {new_repertoire.metadata}\")"
   ]
  },
  {
   "cell_type": "markdown",
   "metadata": {},
   "source": [
    "## A new repertoire with no signal"
   ]
  },
  {
   "cell_type": "code",
   "execution_count": 10,
   "metadata": {},
   "outputs": [
    {
     "name": "stdout",
     "output_type": "stream",
     "text": [
      "Repertoire id: fa51bbefe88b4e6a90dbec63305be0b6\n",
      "Metadata: {'field_list': ['sequence_aas', 'sequences', 'v_genes', 'j_genes', 'v_subgroups', 'j_subgroups', 'v_alleles', 'j_alleles', 'chains', 'counts', 'frame_types', 'sequence_identifiers'], 'filename': 'fa51bbefe88b4e6a90dbec63305be0b6.npy', 'immune_state': False}\n"
     ]
    }
   ],
   "source": [
    "from util.implanting import make_repertoire_without_signal\n",
    "\n",
    "new_repertoire_no_signal = make_repertoire_without_signal(repertoire=repertoire, signal_name=signal.id, path=result_path)\n",
    "\n",
    "print(f\"Repertoire id: {new_repertoire_no_signal.identifier}\\nMetadata: {new_repertoire_no_signal.metadata}\")"
   ]
  },
  {
   "cell_type": "markdown",
   "metadata": {},
   "source": [
    "## Making a dataset"
   ]
  },
  {
   "cell_type": "code",
   "execution_count": 11,
   "metadata": {},
   "outputs": [
    {
     "name": "stdout",
     "output_type": "stream",
     "text": [
      "{'immune_state': [True, False]}\n"
     ]
    }
   ],
   "source": [
    "from util.implanting import make_AIRR_dataset\n",
    "\n",
    "dataset = make_AIRR_dataset(repertoires=[new_repertoire, new_repertoire_no_signal], path=Path(\"./data/exporting\"), \n",
    "                           dataset_name=\"new_dataset\", signal_name=signal.id)\n",
    "\n",
    "print(dataset.labels)"
   ]
  },
  {
   "cell_type": "markdown",
   "metadata": {},
   "source": [
    "Exported "
   ]
  },
  {
   "cell_type": "code",
   "execution_count": 6,
   "metadata": {
    "pycharm": {
     "name": "#%%\n"
    }
   },
   "outputs": [],
   "source": [
    "import os\n",
    "import dagsim.baseDS as ds\n",
    "import numpy as np\n",
    "import uuid\n",
    "from pathlib import Path\n",
    "from util.load_repertoire import load_olga_repertoire, load_iml_repertoire\n",
    "from util.implanting import make_default_signal, make_repertoire_with_signal\n",
    "from immuneML.util.PathBuilder import PathBuilder\n",
    "from util.implanting import make_repertoire_without_signal\n",
    "from util.implanting import make_AIRR_dataset\n",
    "\n",
    "# os.chdir(\"./simData\")\n",
    "result_path = PathBuilder.build(\"./data/implanted/\")\n",
    "signal = make_default_signal()"
   ]
  },
  {
   "cell_type": "code",
   "execution_count": 7,
   "metadata": {
    "pycharm": {
     "name": "#%%\n"
    }
   },
   "outputs": [],
   "source": [
    "def get_state(confounder):\n",
    "    return np.random.binomial(n=1, p=0.5) if confounder==1 else np.random.binomial(n=1, p=0.2)\n",
    "\n",
    "def generate_repertoire(state, confounder):\n",
    "    uid = str(uuid.uuid4())\n",
    "    seed = np.random.randint(0,10e5)\n",
    "    # path = \"healthy\" if state==1 else \"disease\"\n",
    "    if confounder==1:\n",
    "        os.system(\"olga-generate_sequences --humanTRB -n 1000 -o ./data/\" + uid + \".tsv --seed=\" + str(seed))\n",
    "    else:\n",
    "        os.system(\"olga-generate_sequences -n 1000 -o ./data/\" + uid + \".tsv --seed=\" + str(seed) + \" --set_custom_model_VDJ ./olga_model_removed_TRBV5_1\")\n",
    "\n",
    "    rep = load_olga_repertoire(filepath=Path(\"./data/\" + uid + \".tsv\"), result_path=Path(\"./data/immuneML_format/\"))\n",
    "    \n",
    "    if state==0:\n",
    "        make_repertoire_without_signal(repertoire=rep, signal_name=signal.id, path=result_path)\n",
    "    else:\n",
    "        make_repertoire_with_signal(rep, signal, result_path)\n",
    "\n",
    "    return uid"
   ]
  },
  {
   "cell_type": "code",
   "execution_count": 8,
   "metadata": {
    "pycharm": {
     "name": "#%%\n"
    }
   },
   "outputs": [],
   "source": [
    "Confounder = ds.Generic(name=\"sex\", function=np.random.binomial, arguments={\"n\": 1, \"p\":0.5})\n",
    "ImmuneState = ds.Generic(name=\"state\", function=get_state, arguments={\"confounder\": Confounder})\n",
    "Repertoire = ds.Generic(name=\"repertoire\", function=generate_repertoire, arguments={\"state\": ImmuneState, \"confounder\": Confounder})"
   ]
  },
  {
   "cell_type": "code",
   "execution_count": 9,
   "metadata": {
    "pycharm": {
     "name": "#%%\n"
    }
   },
   "outputs": [
    {
     "name": "stdout",
     "output_type": "stream",
     "text": [
      "Starting sequence generation... \n",
      "Completed generating all 1000 sequences in 0.07 seconds.\n",
      "Starting sequence generation... \n",
      "Completed generating all 1000 sequences in 0.06 seconds.\n",
      "Starting sequence generation... \n",
      "Completed generating all 1000 sequences in 0.06 seconds.\n",
      "Starting sequence generation... \n",
      "Completed generating all 1000 sequences in 0.06 seconds.\n",
      "Starting sequence generation... \n",
      "Completed generating all 1000 sequences in 0.07 seconds.\n",
      "Starting sequence generation... \n",
      "Completed generating all 1000 sequences in 0.06 seconds.\n",
      "Starting sequence generation... \n",
      "Completed generating all 1000 sequences in 0.06 seconds.\n",
      "Starting sequence generation... \n",
      "Completed generating all 1000 sequences in 0.06 seconds.\n",
      "Starting sequence generation... \n",
      "Completed generating all 1000 sequences in 0.06 seconds.\n",
      "Starting sequence generation... \n",
      "Completed generating all 1000 sequences in 0.06 seconds.\n"
     ]
    }
   ],
   "source": [
    "CAIRR_graph = ds.Graph(name=\"CAIRR_graph\", list_nodes=[Confounder, ImmuneState, Repertoire])\n",
    "CAIRR_data = CAIRR_graph.simulate(num_samples=10, csv_name=\"CAIRR_data\")"
   ]
  },
  {
   "cell_type": "code",
   "execution_count": 11,
   "metadata": {
    "pycharm": {
     "name": "#%%\n"
    }
   },
   "outputs": [
    {
     "ename": "AssertionError",
     "evalue": "Repertoire: the file representing the repertoire has to be in numpy binary format. Got  instead.",
     "output_type": "error",
     "traceback": [
      "\u001B[0;31m---------------------------------------------------------------------------\u001B[0m",
      "\u001B[0;31mAssertionError\u001B[0m                            Traceback (most recent call last)",
      "\u001B[0;32m/tmp/ipykernel_59784/2672533374.py\u001B[0m in \u001B[0;36m<module>\u001B[0;34m\u001B[0m\n\u001B[0;32m----> 1\u001B[0;31m dataset = make_AIRR_dataset(repertoires=[load_iml_repertoire(filepath=Path(\"./data/immuneML_format/\"), identifier=id+\".npy\") for id in CAIRR_data[\"repertoire\"]], path=Path(\"./data/exporting\"),\n\u001B[0m\u001B[1;32m      2\u001B[0m                            dataset_name=\"new_dataset\", signal_name=signal.id)\n",
      "\u001B[0;32m/tmp/ipykernel_59784/2672533374.py\u001B[0m in \u001B[0;36m<listcomp>\u001B[0;34m(.0)\u001B[0m\n\u001B[0;32m----> 1\u001B[0;31m dataset = make_AIRR_dataset(repertoires=[load_iml_repertoire(filepath=Path(\"./data/immuneML_format/\"), identifier=id+\".npy\") for id in CAIRR_data[\"repertoire\"]], path=Path(\"./data/exporting\"),\n\u001B[0m\u001B[1;32m      2\u001B[0m                            dataset_name=\"new_dataset\", signal_name=signal.id)\n",
      "\u001B[0;32m~/PycharmProjects/CausalAIRR/util/load_repertoire.py\u001B[0m in \u001B[0;36mload_iml_repertoire\u001B[0;34m(filepath, identifier)\u001B[0m\n\u001B[1;32m     24\u001B[0m \u001B[0;34m\u001B[0m\u001B[0m\n\u001B[1;32m     25\u001B[0m \u001B[0;32mdef\u001B[0m \u001B[0mload_iml_repertoire\u001B[0m\u001B[0;34m(\u001B[0m\u001B[0mfilepath\u001B[0m\u001B[0;34m:\u001B[0m \u001B[0mPath\u001B[0m\u001B[0;34m,\u001B[0m \u001B[0midentifier\u001B[0m\u001B[0;34m:\u001B[0m \u001B[0mstr\u001B[0m\u001B[0;34m)\u001B[0m\u001B[0;34m:\u001B[0m\u001B[0;34m\u001B[0m\u001B[0;34m\u001B[0m\u001B[0m\n\u001B[0;32m---> 26\u001B[0;31m     repertoire = Repertoire(data_filename=filepath, metadata_filename=filepath.parent / f'{filepath.stem}_metadata.yaml',\n\u001B[0m\u001B[1;32m     27\u001B[0m                             identifier=identifier)\n\u001B[1;32m     28\u001B[0m \u001B[0;34m\u001B[0m\u001B[0m\n",
      "\u001B[0;32m~/PycharmProjects/CausalAIRR/venv/lib/python3.8/site-packages/immuneML/data_model/repertoire/Repertoire.py\u001B[0m in \u001B[0;36m__init__\u001B[0;34m(self, data_filename, metadata_filename, identifier)\u001B[0m\n\u001B[1;32m    173\u001B[0m         \u001B[0mmetadata_filename\u001B[0m \u001B[0;34m=\u001B[0m \u001B[0mPath\u001B[0m\u001B[0;34m(\u001B[0m\u001B[0mmetadata_filename\u001B[0m\u001B[0;34m)\u001B[0m \u001B[0;32mif\u001B[0m \u001B[0mmetadata_filename\u001B[0m \u001B[0;32mis\u001B[0m \u001B[0;32mnot\u001B[0m \u001B[0;32mNone\u001B[0m \u001B[0;32melse\u001B[0m \u001B[0;32mNone\u001B[0m\u001B[0;34m\u001B[0m\u001B[0;34m\u001B[0m\u001B[0m\n\u001B[1;32m    174\u001B[0m \u001B[0;34m\u001B[0m\u001B[0m\n\u001B[0;32m--> 175\u001B[0;31m         \u001B[0;32massert\u001B[0m \u001B[0mdata_filename\u001B[0m\u001B[0;34m.\u001B[0m\u001B[0msuffix\u001B[0m \u001B[0;34m==\u001B[0m \u001B[0;34m\".npy\"\u001B[0m\u001B[0;34m,\u001B[0m\u001B[0;31m \u001B[0m\u001B[0;31m\\\u001B[0m\u001B[0;34m\u001B[0m\u001B[0;34m\u001B[0m\u001B[0m\n\u001B[0m\u001B[1;32m    176\u001B[0m             \u001B[0;34mf\"Repertoire: the file representing the repertoire has to be in numpy binary format. Got {data_filename.suffix} instead.\"\u001B[0m\u001B[0;34m\u001B[0m\u001B[0;34m\u001B[0m\u001B[0m\n\u001B[1;32m    177\u001B[0m \u001B[0;34m\u001B[0m\u001B[0m\n",
      "\u001B[0;31mAssertionError\u001B[0m: Repertoire: the file representing the repertoire has to be in numpy binary format. Got  instead."
     ]
    }
   ],
   "source": [
    "dataset = make_AIRR_dataset(repertoires=[load_iml_repertoire(filepath=Path(\"./data/immuneML_format/\"), identifier=id) for id in CAIRR_data[\"repertoire\"]], path=Path(\"./data/exporting\"),\n",
    "                           dataset_name=\"new_dataset\", signal_name=signal.id)"
   ]
  },
  {
   "cell_type": "code",
   "execution_count": 12,
   "metadata": {},
   "outputs": [
    {
     "ename": "AssertionError",
     "evalue": "Repertoire: the file representing the repertoire has to be in numpy binary format. Got  instead.",
     "output_type": "error",
     "traceback": [
      "\u001B[0;31m---------------------------------------------------------------------------\u001B[0m",
      "\u001B[0;31mAssertionError\u001B[0m                            Traceback (most recent call last)",
      "\u001B[0;32m/tmp/ipykernel_59784/3278390766.py\u001B[0m in \u001B[0;36m<module>\u001B[0;34m\u001B[0m\n\u001B[0;32m----> 1\u001B[0;31m \u001B[0mrepy\u001B[0m \u001B[0;34m=\u001B[0m \u001B[0mload_iml_repertoire\u001B[0m\u001B[0;34m(\u001B[0m\u001B[0mfilepath\u001B[0m\u001B[0;34m=\u001B[0m\u001B[0mPath\u001B[0m\u001B[0;34m(\u001B[0m\u001B[0;34m\"./data/immuneML_format/\"\u001B[0m\u001B[0;34m)\u001B[0m\u001B[0;34m,\u001B[0m \u001B[0midentifier\u001B[0m\u001B[0;34m=\u001B[0m\u001B[0;34m\"2c9560b5-c778-4c27-b665-500ae048fdec\"\u001B[0m\u001B[0;34m)\u001B[0m\u001B[0;34m\u001B[0m\u001B[0;34m\u001B[0m\u001B[0m\n\u001B[0m",
      "\u001B[0;32m~/PycharmProjects/CausalAIRR/util/load_repertoire.py\u001B[0m in \u001B[0;36mload_iml_repertoire\u001B[0;34m(filepath, identifier)\u001B[0m\n\u001B[1;32m     24\u001B[0m \u001B[0;34m\u001B[0m\u001B[0m\n\u001B[1;32m     25\u001B[0m \u001B[0;32mdef\u001B[0m \u001B[0mload_iml_repertoire\u001B[0m\u001B[0;34m(\u001B[0m\u001B[0mfilepath\u001B[0m\u001B[0;34m:\u001B[0m \u001B[0mPath\u001B[0m\u001B[0;34m,\u001B[0m \u001B[0midentifier\u001B[0m\u001B[0;34m:\u001B[0m \u001B[0mstr\u001B[0m\u001B[0;34m)\u001B[0m\u001B[0;34m:\u001B[0m\u001B[0;34m\u001B[0m\u001B[0;34m\u001B[0m\u001B[0m\n\u001B[0;32m---> 26\u001B[0;31m     repertoire = Repertoire(data_filename=filepath, metadata_filename=filepath.parent / f'{filepath.stem}_metadata.yaml',\n\u001B[0m\u001B[1;32m     27\u001B[0m                             identifier=identifier)\n\u001B[1;32m     28\u001B[0m \u001B[0;34m\u001B[0m\u001B[0m\n",
      "\u001B[0;32m~/PycharmProjects/CausalAIRR/venv/lib/python3.8/site-packages/immuneML/data_model/repertoire/Repertoire.py\u001B[0m in \u001B[0;36m__init__\u001B[0;34m(self, data_filename, metadata_filename, identifier)\u001B[0m\n\u001B[1;32m    173\u001B[0m         \u001B[0mmetadata_filename\u001B[0m \u001B[0;34m=\u001B[0m \u001B[0mPath\u001B[0m\u001B[0;34m(\u001B[0m\u001B[0mmetadata_filename\u001B[0m\u001B[0;34m)\u001B[0m \u001B[0;32mif\u001B[0m \u001B[0mmetadata_filename\u001B[0m \u001B[0;32mis\u001B[0m \u001B[0;32mnot\u001B[0m \u001B[0;32mNone\u001B[0m \u001B[0;32melse\u001B[0m \u001B[0;32mNone\u001B[0m\u001B[0;34m\u001B[0m\u001B[0;34m\u001B[0m\u001B[0m\n\u001B[1;32m    174\u001B[0m \u001B[0;34m\u001B[0m\u001B[0m\n\u001B[0;32m--> 175\u001B[0;31m         \u001B[0;32massert\u001B[0m \u001B[0mdata_filename\u001B[0m\u001B[0;34m.\u001B[0m\u001B[0msuffix\u001B[0m \u001B[0;34m==\u001B[0m \u001B[0;34m\".npy\"\u001B[0m\u001B[0;34m,\u001B[0m\u001B[0;31m \u001B[0m\u001B[0;31m\\\u001B[0m\u001B[0;34m\u001B[0m\u001B[0;34m\u001B[0m\u001B[0m\n\u001B[0m\u001B[1;32m    176\u001B[0m             \u001B[0;34mf\"Repertoire: the file representing the repertoire has to be in numpy binary format. Got {data_filename.suffix} instead.\"\u001B[0m\u001B[0;34m\u001B[0m\u001B[0;34m\u001B[0m\u001B[0m\n\u001B[1;32m    177\u001B[0m \u001B[0;34m\u001B[0m\u001B[0m\n",
      "\u001B[0;31mAssertionError\u001B[0m: Repertoire: the file representing the repertoire has to be in numpy binary format. Got  instead."
     ]
    }
   ],
   "source": []
  }
 ],
 "metadata": {
  "kernelspec": {
   "display_name": "Python 3 (ipykernel)",
   "language": "python",
   "name": "python3"
  },
  "language_info": {
   "codemirror_mode": {
    "name": "ipython",
    "version": 3
   },
   "file_extension": ".py",
   "mimetype": "text/x-python",
   "name": "python",
   "nbconvert_exporter": "python",
   "pygments_lexer": "ipython3",
   "version": "3.8.10"
  },
  "varInspector": {
   "cols": {
    "lenName": 16,
    "lenType": 16,
    "lenVar": 40
   },
   "kernels_config": {
    "python": {
     "delete_cmd_postfix": "",
     "delete_cmd_prefix": "del ",
     "library": "var_list.py",
     "varRefreshCmd": "print(var_dic_list())"
    },
    "r": {
     "delete_cmd_postfix": ") ",
     "delete_cmd_prefix": "rm(",
     "library": "var_list.r",
     "varRefreshCmd": "cat(var_dic_list()) "
    }
   },
   "types_to_exclude": [
    "module",
    "function",
    "builtin_function_or_method",
    "instance",
    "_Feature"
   ],
   "window_display": false
  }
 },
 "nbformat": 4,
 "nbformat_minor": 1
}