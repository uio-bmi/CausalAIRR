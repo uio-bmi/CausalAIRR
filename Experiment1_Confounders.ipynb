{
 "cells": [
  {
   "cell_type": "markdown",
   "metadata": {
    "collapsed": true
   },
   "source": [
    "# OLGA\n",
    "\n",
    "OLGA is used to simulate repertoires and confounders. \n",
    "\n",
    "OLGA repository: https://github.com/statbiophys/OLGA/tree/master/olga\n",
    "\n",
    "Running OLGA from the command line with the default model to simulate TCRbeta:\n",
    "\n",
    "```\n",
    "olga-generate_sequences --humanTRB -n 1000 -o rep_1.tsv --seed=1\n",
    "```\n",
    "\n",
    "Running OLGA from the command line with the custom model:\n",
    "\n",
    "```\n",
    "olga-generate_sequences -n 1000 -o rep_1.tsv --seed=1 --set_custom_model_VDJ ./path_to_model_folder/\n",
    "```\n",
    "\n",
    "The custom model is located under ./olga_model_removed_TRBV5_1/.\n",
    "\n",
    "The corresponding metadata that will be used in immuneML has the following format (a csv file with filename, subject_id and confounder field):\n",
    "\n",
    "```\n",
    "filename,subject_id,confounder\n",
    "rep1.tsv,subject1,F\n",
    "```\n",
    "\n",
    "The confounder field can have any name, but the filename and subject_id should stay the same."
   ]
  },
  {
   "cell_type": "markdown",
   "metadata": {},
   "source": [
    "# immuneML \n",
    "\n",
    "immuneML is used to implant signals in the repertoires, to simulate the immune state.\n",
    "\n"
   ]
  },
  {
   "cell_type": "code",
   "execution_count": 1,
   "metadata": {},
   "outputs": [
    {
     "ename": "ModuleNotFoundError",
     "evalue": "No module named 'scripts'",
     "output_type": "error",
     "traceback": [
      "\u001B[0;31m---------------------------------------------------------------------------\u001B[0m",
      "\u001B[0;31mModuleNotFoundError\u001B[0m                       Traceback (most recent call last)",
      "\u001B[0;32m/var/folders/f9/06b542k50w975k3r6p9k3t280000gn/T/ipykernel_77467/4017011525.py\u001B[0m in \u001B[0;36m<module>\u001B[0;34m\u001B[0m\n\u001B[1;32m      1\u001B[0m \u001B[0;32mfrom\u001B[0m \u001B[0mpathlib\u001B[0m \u001B[0;32mimport\u001B[0m \u001B[0mPath\u001B[0m\u001B[0;34m\u001B[0m\u001B[0;34m\u001B[0m\u001B[0m\n\u001B[0;32m----> 2\u001B[0;31m \u001B[0;32mfrom\u001B[0m \u001B[0mutil\u001B[0m\u001B[0;34m.\u001B[0m\u001B[0mload_repertoire\u001B[0m \u001B[0;32mimport\u001B[0m \u001B[0mload_olga_repertoire\u001B[0m\u001B[0;34m\u001B[0m\u001B[0;34m\u001B[0m\u001B[0m\n\u001B[0m\u001B[1;32m      3\u001B[0m \u001B[0mrepertoire\u001B[0m \u001B[0;34m=\u001B[0m \u001B[0mload_olga_repertoire\u001B[0m\u001B[0;34m(\u001B[0m\u001B[0mfilepath\u001B[0m\u001B[0;34m=\u001B[0m\u001B[0mPath\u001B[0m\u001B[0;34m(\u001B[0m\u001B[0;34m\"./data/rep1.tsv\"\u001B[0m\u001B[0;34m)\u001B[0m\u001B[0;34m,\u001B[0m \u001B[0mresult_path\u001B[0m\u001B[0;34m=\u001B[0m\u001B[0mPath\u001B[0m\u001B[0;34m(\u001B[0m\u001B[0;34m\"./data/iml_rep/\"\u001B[0m\u001B[0;34m)\u001B[0m\u001B[0;34m)\u001B[0m\u001B[0;34m\u001B[0m\u001B[0;34m\u001B[0m\u001B[0m\n\u001B[1;32m      4\u001B[0m \u001B[0;34m\u001B[0m\u001B[0m\n",
      "\u001B[0;32m~/PycharmProjects/CausalAIRR/util/load_repertoire.py\u001B[0m in \u001B[0;36m<module>\u001B[0;34m\u001B[0m\n\u001B[1;32m      1\u001B[0m \u001B[0;32mfrom\u001B[0m \u001B[0mpathlib\u001B[0m \u001B[0;32mimport\u001B[0m \u001B[0mPath\u001B[0m\u001B[0;34m\u001B[0m\u001B[0;34m\u001B[0m\u001B[0m\n\u001B[1;32m      2\u001B[0m \u001B[0;34m\u001B[0m\u001B[0m\n\u001B[0;32m----> 3\u001B[0;31m \u001B[0;32mfrom\u001B[0m \u001B[0mimmuneML\u001B[0m\u001B[0;34m.\u001B[0m\u001B[0mIO\u001B[0m\u001B[0;34m.\u001B[0m\u001B[0mdataset_import\u001B[0m\u001B[0;34m.\u001B[0m\u001B[0mOLGAImport\u001B[0m \u001B[0;32mimport\u001B[0m \u001B[0mOLGAImport\u001B[0m\u001B[0;34m\u001B[0m\u001B[0;34m\u001B[0m\u001B[0m\n\u001B[0m\u001B[1;32m      4\u001B[0m \u001B[0;32mfrom\u001B[0m \u001B[0mimmuneML\u001B[0m\u001B[0;34m.\u001B[0m\u001B[0mdsl\u001B[0m\u001B[0;34m.\u001B[0m\u001B[0mDefaultParamsLoader\u001B[0m \u001B[0;32mimport\u001B[0m \u001B[0mDefaultParamsLoader\u001B[0m\u001B[0;34m\u001B[0m\u001B[0;34m\u001B[0m\u001B[0m\n\u001B[1;32m      5\u001B[0m \u001B[0;32mfrom\u001B[0m \u001B[0mimmuneML\u001B[0m\u001B[0;34m.\u001B[0m\u001B[0mutil\u001B[0m\u001B[0;34m.\u001B[0m\u001B[0mImportHelper\u001B[0m \u001B[0;32mimport\u001B[0m \u001B[0mImportHelper\u001B[0m\u001B[0;34m\u001B[0m\u001B[0;34m\u001B[0m\u001B[0m\n",
      "\u001B[0;32m~/PycharmProjects/CausalAIRR/venv/lib/python3.8/site-packages/immuneML/IO/dataset_import/OLGAImport.py\u001B[0m in \u001B[0;36m<module>\u001B[0;34m\u001B[0m\n\u001B[1;32m      6\u001B[0m \u001B[0;32mfrom\u001B[0m \u001B[0mimmuneML\u001B[0m\u001B[0;34m.\u001B[0m\u001B[0mdata_model\u001B[0m\u001B[0;34m.\u001B[0m\u001B[0mreceptor\u001B[0m\u001B[0;34m.\u001B[0m\u001B[0mRegionType\u001B[0m \u001B[0;32mimport\u001B[0m \u001B[0mRegionType\u001B[0m\u001B[0;34m\u001B[0m\u001B[0;34m\u001B[0m\u001B[0m\n\u001B[1;32m      7\u001B[0m \u001B[0;32mfrom\u001B[0m \u001B[0mimmuneML\u001B[0m\u001B[0;34m.\u001B[0m\u001B[0mutil\u001B[0m\u001B[0;34m.\u001B[0m\u001B[0mImportHelper\u001B[0m \u001B[0;32mimport\u001B[0m \u001B[0mImportHelper\u001B[0m\u001B[0;34m\u001B[0m\u001B[0;34m\u001B[0m\u001B[0m\n\u001B[0;32m----> 8\u001B[0;31m \u001B[0;32mfrom\u001B[0m \u001B[0mscripts\u001B[0m\u001B[0;34m.\u001B[0m\u001B[0mspecification_util\u001B[0m \u001B[0;32mimport\u001B[0m \u001B[0mupdate_docs_per_mapping\u001B[0m\u001B[0;34m\u001B[0m\u001B[0;34m\u001B[0m\u001B[0m\n\u001B[0m\u001B[1;32m      9\u001B[0m \u001B[0;34m\u001B[0m\u001B[0m\n\u001B[1;32m     10\u001B[0m \u001B[0;34m\u001B[0m\u001B[0m\n",
      "\u001B[0;31mModuleNotFoundError\u001B[0m: No module named 'scripts'"
     ]
    }
   ],
   "source": [
    "from pathlib import Path\n",
    "from util.load_repertoire import load_olga_repertoire\n",
    "repertoire = load_olga_repertoire(filepath=Path(\"./data/rep1.tsv\"), result_path=Path(\"./data/\"))\n"
   ]
  }
 ],
 "metadata": {
  "kernelspec": {
   "display_name": "Python 3 (ipykernel)",
   "language": "python",
   "name": "python3"
  },
  "language_info": {
   "codemirror_mode": {
    "name": "ipython",
    "version": 3
   },
   "file_extension": ".py",
   "mimetype": "text/x-python",
   "name": "python",
   "nbconvert_exporter": "python",
   "pygments_lexer": "ipython3",
   "version": "3.8.3"
  }
 },
 "nbformat": 4,
 "nbformat_minor": 1
}