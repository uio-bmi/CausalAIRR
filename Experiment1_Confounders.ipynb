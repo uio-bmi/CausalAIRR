{
 "cells": [
  {
   "cell_type": "markdown",
   "metadata": {
    "collapsed": true
   },
   "source": [
    "# OLGA\n",
    "\n",
    "OLGA repository: https://github.com/statbiophys/OLGA/tree/master/olga\n",
    "\n",
    "Running OLGA from the command line with the default model to simulate TCRbeta:\n",
    "\n",
    "```\n",
    "olga-generate_sequences --humanTRB -n 1000 -o rep_1.tsv --seed=1\n",
    "```\n",
    "\n",
    "Running OLGA from the command line with the custom model:\n",
    "\n",
    "```\n",
    "olga-generate_sequences -n 1000 -o rep_1.tsv --seed=1 --set_custom_model_VDJ ./path_to_model_folder/\n",
    "```\n",
    "\n",
    "The custom model is located under ./olga_model_removed_TRBV5_1/.\n",
    "\n",
    "The corresponding metadata that will be used in immuneML has the following format (a csv file with filename, subject_id and confounder field):\n",
    "\n",
    "```\n",
    "filename,subject_id,confounder\n",
    "rep1.tsv,subject1,F\n",
    "```\n",
    "\n",
    "The confounder field can have any name, but the filename and subject_id should stay the same."
   ]
  },
  {
   "cell_type": "code",
   "execution_count": null,
   "metadata": {},
   "outputs": [],
   "source": []
  }
 ],
 "metadata": {
  "kernelspec": {
   "display_name": "Python 3 (ipykernel)",
   "language": "python",
   "name": "python3"
  },
  "language_info": {
   "codemirror_mode": {
    "name": "ipython",
    "version": 3
   },
   "file_extension": ".py",
   "mimetype": "text/x-python",
   "name": "python",
   "nbconvert_exporter": "python",
   "pygments_lexer": "ipython3",
   "version": "3.8.3"
  }
 },
 "nbformat": 4,
 "nbformat_minor": 1
}