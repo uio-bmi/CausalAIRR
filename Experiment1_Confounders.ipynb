{
 "cells": [
  {
   "cell_type": "markdown",
   "metadata": {
    "collapsed": true
   },
   "source": [
    "# OLGA\n",
    "\n",
    "OLGA is used to simulate repertoires and confounders. \n",
    "\n",
    "OLGA repository: https://github.com/statbiophys/OLGA/tree/master/olga\n",
    "\n",
    "Running OLGA from the command line with the default model to simulate TCRbeta:\n",
    "\n",
    "```\n",
    "olga-generate_sequences --humanTRB -n 1000 -o rep_1.tsv --seed=1\n",
    "```\n",
    "\n",
    "Running OLGA from the command line with the custom model:\n",
    "\n",
    "```\n",
    "olga-generate_sequences -n 1000 -o rep_1.tsv --seed=1 --set_custom_model_VDJ ./path_to_model_folder/\n",
    "```\n",
    "\n",
    "The custom model is located under ./olga_model_removed_TRBV5_1/."
   ]
  },
  {
   "cell_type": "markdown",
   "metadata": {},
   "source": [
    "# immuneML \n",
    "\n",
    "immuneML is used to load the repertoire and implant signals in the repertoires, to simulate the immune state.\n",
    "\n"
   ]
  },
  {
   "cell_type": "code",
   "execution_count": null,
   "metadata": {},
   "outputs": [],
   "source": [
    "from pathlib import Path\n",
    "from util.load_repertoire import load_olga_repertoire\n",
    "\n",
    "repertoire = load_olga_repertoire(filepath=Path(\"./data/rep1.tsv\"), result_path=Path(\"./data/immuneML_format/\"))\n",
    "\n",
    "print(f\"Repertoire id: {repertoire.identifier}\\nMetadata: {repertoire.metadata}\")"
   ]
  },
  {
   "cell_type": "markdown",
   "metadata": {},
   "source": [
    "## A new repertoire with a signal"
   ]
  },
  {
   "cell_type": "code",
   "execution_count": null,
   "metadata": {},
   "outputs": [],
   "source": [
    "from util.implanting import make_default_signal, make_repertoire_with_signal\n",
    "from immuneML.util.PathBuilder import PathBuilder\n",
    "\n",
    "signal = make_default_signal()\n",
    "\n",
    "result_path = PathBuilder.build(\"./data/implanted/\")\n",
    "\n",
    "new_repertoire = make_repertoire_with_signal(repertoire, signal, result_path)\n",
    "\n",
    "print(f\"Repertoire id: {new_repertoire.identifier}\\nMetadata: {new_repertoire.metadata}\")"
   ]
  },
  {
   "cell_type": "markdown",
   "metadata": {},
   "source": [
    "## A new repertoire with no signal"
   ]
  },
  {
   "cell_type": "code",
   "execution_count": null,
   "metadata": {},
   "outputs": [],
   "source": [
    "from util.implanting import make_repertoire_without_signal\n",
    "\n",
    "new_repertoire_no_signal = make_repertoire_without_signal(repertoire=repertoire, signal_name=signal.id, path=result_path)\n",
    "\n",
    "print(f\"Repertoire id: {new_repertoire_no_signal.identifier}\\nMetadata: {new_repertoire_no_signal.metadata}\")"
   ]
  },
  {
   "cell_type": "markdown",
   "metadata": {},
   "source": [
    "## Making a dataset"
   ]
  },
  {
   "cell_type": "code",
   "execution_count": null,
   "metadata": {},
   "outputs": [],
   "source": [
    "from util.implanting import make_AIRR_dataset\n",
    "\n",
    "dataset = make_AIRR_dataset(repertoires=[new_repertoire, new_repertoire_no_signal], path=Path(\"./data/exporting\"), \n",
    "                           dataset_name=\"new_dataset\", signal_name=signal.id)\n",
    "\n",
    "print(dataset.labels)"
   ]
  },
  {
   "cell_type": "markdown",
   "metadata": {},
   "source": [
    "Exported "
   ]
  },
  {
   "cell_type": "code",
   "execution_count": null,
   "metadata": {
    "pycharm": {
     "name": "#%%\n"
    }
   },
   "outputs": [],
   "source": [
    "import os\n",
    "import dagsim.baseDS as ds\n",
    "import numpy as np\n",
    "import uuid\n",
    "from pathlib import Path\n",
    "from util.load_repertoire import load_olga_repertoire, load_iml_repertoire\n",
    "from util.implanting import make_default_signal, make_repertoire_with_signal\n",
    "from immuneML.util.PathBuilder import PathBuilder\n",
    "from util.implanting import make_repertoire_without_signal\n",
    "from util.implanting import make_AIRR_dataset\n",
    "\n",
    "# os.chdir(\"./simData\")\n",
    "result_path = PathBuilder.build(\"./data/implanted/\")\n",
    "signal = make_default_signal()"
   ]
  },
  {
   "cell_type": "code",
   "execution_count": null,
   "metadata": {
    "pycharm": {
     "name": "#%%\n"
    }
   },
   "outputs": [],
   "source": [
    "def get_state(confounder):\n",
    "    return np.random.binomial(n=1, p=0.5) if confounder==1 else np.random.binomial(n=1, p=0.2)\n",
    "\n",
    "def generate_repertoire(state, confounder):\n",
    "    uid = str(uuid.uuid4())\n",
    "    seed = np.random.randint(0,10e5)\n",
    "    # path = \"healthy\" if state==1 else \"disease\"\n",
    "    \n",
    "    PathBuilder.build('./data/olga/')\n",
    "    \n",
    "    if confounder==1:\n",
    "        os.system(\"olga-generate_sequences --humanTRB -n 1000 -o ./data/olga/\" + uid + \".tsv --seed=\" + str(seed))\n",
    "    else:\n",
    "        os.system(\"olga-generate_sequences -n 1000 -o ./data/olga/\" + uid + \".tsv --seed=\" + str(seed) + \" --set_custom_model_VDJ ./olga_model_removed_TRBV5_1\")\n",
    "\n",
    "    rep = load_olga_repertoire(filepath=Path(\"./data/olga/\" + uid + \".tsv\"), result_path=Path(\"./data/immuneML_format/\"))\n",
    "    \n",
    "    if state==0:\n",
    "        make_repertoire_without_signal(repertoire=rep, signal_name=signal.id, path=result_path)\n",
    "    else:\n",
    "        make_repertoire_with_signal(rep, signal, result_path)\n",
    "\n",
    "    return uid"
   ]
  },
  {
   "cell_type": "code",
   "execution_count": null,
   "metadata": {
    "pycharm": {
     "name": "#%%\n"
    }
   },
   "outputs": [],
   "source": [
    "Confounder = ds.Generic(name=\"sex\", function=np.random.binomial, arguments={\"n\": 1, \"p\":0.5})\n",
    "ImmuneState = ds.Generic(name=\"state\", function=get_state, arguments={\"confounder\": Confounder})\n",
    "Repertoire = ds.Generic(name=\"repertoire\", function=generate_repertoire, arguments={\"state\": ImmuneState, \"confounder\": Confounder})"
   ]
  },
  {
   "cell_type": "code",
   "execution_count": null,
   "metadata": {
    "pycharm": {
     "name": "#%%\n"
    }
   },
   "outputs": [],
   "source": [
    "CAIRR_graph = ds.Graph(name=\"CAIRR_graph\", list_nodes=[Confounder, ImmuneState, Repertoire])\n",
    "CAIRR_data = CAIRR_graph.simulate(num_samples=10, csv_name=\"CAIRR_data\")"
   ]
  },
  {
   "cell_type": "code",
   "execution_count": null,
   "metadata": {
    "pycharm": {
     "name": "#%%\n"
    }
   },
   "outputs": [],
   "source": [
    "dataset = make_AIRR_dataset(repertoires=[load_iml_repertoire(filepath=Path(\"./data/immuneML_format/repertoires/\"), identifier=id) for id in CAIRR_data[\"repertoire\"]], \n",
    "                            path=Path(\"./data/exported/\"),\n",
    "                            dataset_name=\"new_dataset\", signal_name=signal.id)\n",
    "\n",
    "print(f\"Dataset id: {dataset.identifier}, dataset name: {dataset.name}, number of repertoires: {dataset.get_example_count()}\")"
   ]
  },
  {
   "cell_type": "code",
   "execution_count": null,
   "metadata": {},
   "outputs": [],
   "source": []
  }
 ],
 "metadata": {
  "kernelspec": {
   "display_name": "Python 3 (ipykernel)",
   "language": "python",
   "name": "python3"
  },
  "language_info": {
   "codemirror_mode": {
    "name": "ipython",
    "version": 3
   },
   "file_extension": ".py",
   "mimetype": "text/x-python",
   "name": "python",
   "nbconvert_exporter": "python",
   "pygments_lexer": "ipython3",
   "version": "3.8.3"
  },
  "varInspector": {
   "cols": {
    "lenName": 16,
    "lenType": 16,
    "lenVar": 40
   },
   "kernels_config": {
    "python": {
     "delete_cmd_postfix": "",
     "delete_cmd_prefix": "del ",
     "library": "var_list.py",
     "varRefreshCmd": "print(var_dic_list())"
    },
    "r": {
     "delete_cmd_postfix": ") ",
     "delete_cmd_prefix": "rm(",
     "library": "var_list.r",
     "varRefreshCmd": "cat(var_dic_list()) "
    }
   },
   "types_to_exclude": [
    "module",
    "function",
    "builtin_function_or_method",
    "instance",
    "_Feature"
   ],
   "window_display": false
  }
 },
 "nbformat": 4,
 "nbformat_minor": 1
}
